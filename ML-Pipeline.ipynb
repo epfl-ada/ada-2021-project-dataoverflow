{
 "cells": [
  {
   "cell_type": "code",
   "execution_count": 2,
   "metadata": {},
   "outputs": [],
   "source": [
    "import bz2\n",
    "import json\n",
    "import numpy as np\n",
    "import pandas as pd\n",
    "import matplotlib.pyplot as plt\n",
    "import seaborn as sns\n",
    "import re\n",
    "from tqdm.notebook import tqdm\n",
    "import pickle\n",
    "import dill"
   ]
  },
  {
   "cell_type": "markdown",
   "metadata": {},
   "source": [
    "## Load data"
   ]
  },
  {
   "cell_type": "code",
   "execution_count": 8,
   "metadata": {},
   "outputs": [],
   "source": [
    "# Data is the result of the data cleaning pipeline\n",
    "path = 'data/western-quotes-2020.json.bz2'\n",
    "quote_df = pd.read_json(path ,lines=True)"
   ]
  },
  {
   "cell_type": "code",
   "execution_count": 9,
   "metadata": {},
   "outputs": [
    {
     "data": {
      "text/plain": [
       "(202831, 29)"
      ]
     },
     "execution_count": 9,
     "metadata": {},
     "output_type": "execute_result"
    }
   ],
   "source": [
    "quote_df.shape"
   ]
  },
  {
   "cell_type": "markdown",
   "metadata": {},
   "source": [
    "## Get unique titles to extract keywords"
   ]
  },
  {
   "cell_type": "code",
   "execution_count": 10,
   "metadata": {},
   "outputs": [],
   "source": [
    "title_df = quote_df.drop_duplicates(subset='title')['title']"
   ]
  },
  {
   "cell_type": "code",
   "execution_count": 11,
   "metadata": {},
   "outputs": [
    {
     "data": {
      "text/plain": [
       "(60110,)"
      ]
     },
     "execution_count": 11,
     "metadata": {},
     "output_type": "execute_result"
    }
   ],
   "source": [
    "title_df.shape"
   ]
  },
  {
   "cell_type": "markdown",
   "metadata": {},
   "source": [
    "## Extract top 5 keywords with KeyBert"
   ]
  },
  {
   "cell_type": "code",
   "execution_count": 12,
   "metadata": {},
   "outputs": [],
   "source": [
    "from keybert import KeyBERT\n",
    "from tqdm.notebook import tqdm\n",
    "kw_model = KeyBERT()"
   ]
  },
  {
   "cell_type": "code",
   "execution_count": 13,
   "metadata": {},
   "outputs": [
    {
     "data": {
      "application/vnd.jupyter.widget-view+json": {
       "model_id": "9e48004ccd1b46008054ecb409f94900",
       "version_major": 2,
       "version_minor": 0
      },
      "text/plain": [
       "  0%|          | 0/60110 [00:00<?, ?it/s]"
      ]
     },
     "metadata": {},
     "output_type": "display_data"
    }
   ],
   "source": [
    "keywords = []\n",
    "for title in tqdm(title_df):\n",
    "    keywords.append(kw_model.extract_keywords(title, stop_words='english'))"
   ]
  },
  {
   "cell_type": "code",
   "execution_count": 14,
   "metadata": {},
   "outputs": [
    {
     "data": {
      "text/html": [
       "<div>\n",
       "<style scoped>\n",
       "    .dataframe tbody tr th:only-of-type {\n",
       "        vertical-align: middle;\n",
       "    }\n",
       "\n",
       "    .dataframe tbody tr th {\n",
       "        vertical-align: top;\n",
       "    }\n",
       "\n",
       "    .dataframe thead th {\n",
       "        text-align: right;\n",
       "    }\n",
       "</style>\n",
       "<table border=\"1\" class=\"dataframe\">\n",
       "  <thead>\n",
       "    <tr style=\"text-align: right;\">\n",
       "      <th></th>\n",
       "      <th>title</th>\n",
       "      <th>keywords</th>\n",
       "    </tr>\n",
       "  </thead>\n",
       "  <tbody>\n",
       "    <tr>\n",
       "      <th>0</th>\n",
       "      <td>Top Obama official : Trump to blame for attack...</td>\n",
       "      <td>[(obama, 0.4678), (bowden, 0.4065), (iraq, 0.3...</td>\n",
       "    </tr>\n",
       "    <tr>\n",
       "      <th>1</th>\n",
       "      <td>Coronavirus LIVE updates : Death toll in China...</td>\n",
       "      <td>[(coronavirus, 0.5915), (china, 0.2787), (dang...</td>\n",
       "    </tr>\n",
       "    <tr>\n",
       "      <th>3</th>\n",
       "      <td>Britons on coronavirus-hit cruise ship face 14...</td>\n",
       "      <td>[(coronavirus, 0.4856), (quarantine, 0.4684), ...</td>\n",
       "    </tr>\n",
       "    <tr>\n",
       "      <th>4</th>\n",
       "      <td>Trump declares an Iranian 's general 's ` reig...</td>\n",
       "      <td>[(terror, 0.4681), (iranian, 0.4573), (general...</td>\n",
       "    </tr>\n",
       "    <tr>\n",
       "      <th>5</th>\n",
       "      <td>AIDS Memorial Quilt returns to San Francisco t...</td>\n",
       "      <td>[(anniversary, 0.3751), (memorial, 0.3625), (q...</td>\n",
       "    </tr>\n",
       "    <tr>\n",
       "      <th>...</th>\n",
       "      <td>...</td>\n",
       "      <td>...</td>\n",
       "    </tr>\n",
       "    <tr>\n",
       "      <th>202813</th>\n",
       "      <td>` Get your priorities straight , ' lawmakers t...</td>\n",
       "      <td>[(duque, 0.5124), (priorities, 0.4186), (coron...</td>\n",
       "    </tr>\n",
       "    <tr>\n",
       "      <th>202821</th>\n",
       "      <td>Paw-some idea : Ohio state troopers create Val...</td>\n",
       "      <td>[(valentine, 0.5086), (cards, 0.4523), (troope...</td>\n",
       "    </tr>\n",
       "    <tr>\n",
       "      <th>202825</th>\n",
       "      <td>Risk of `` economic shock '' from coronavirus ...</td>\n",
       "      <td>[(coronavirus, 0.54), (risk, 0.4352), (pittis,...</td>\n",
       "    </tr>\n",
       "    <tr>\n",
       "      <th>202827</th>\n",
       "      <td>Competition heats up in turboprop market</td>\n",
       "      <td>[(turboprop, 0.6097), (competition, 0.4911), (...</td>\n",
       "    </tr>\n",
       "    <tr>\n",
       "      <th>202828</th>\n",
       "      <td>European Tour postpones two events due to coro...</td>\n",
       "      <td>[(coronavirus, 0.4417), (outbreak, 0.4205), (t...</td>\n",
       "    </tr>\n",
       "  </tbody>\n",
       "</table>\n",
       "<p>60110 rows × 2 columns</p>\n",
       "</div>"
      ],
      "text/plain": [
       "                                                    title  \\\n",
       "0       Top Obama official : Trump to blame for attack...   \n",
       "1       Coronavirus LIVE updates : Death toll in China...   \n",
       "3       Britons on coronavirus-hit cruise ship face 14...   \n",
       "4       Trump declares an Iranian 's general 's ` reig...   \n",
       "5       AIDS Memorial Quilt returns to San Francisco t...   \n",
       "...                                                   ...   \n",
       "202813  ` Get your priorities straight , ' lawmakers t...   \n",
       "202821  Paw-some idea : Ohio state troopers create Val...   \n",
       "202825  Risk of `` economic shock '' from coronavirus ...   \n",
       "202827           Competition heats up in turboprop market   \n",
       "202828  European Tour postpones two events due to coro...   \n",
       "\n",
       "                                                 keywords  \n",
       "0       [(obama, 0.4678), (bowden, 0.4065), (iraq, 0.3...  \n",
       "1       [(coronavirus, 0.5915), (china, 0.2787), (dang...  \n",
       "3       [(coronavirus, 0.4856), (quarantine, 0.4684), ...  \n",
       "4       [(terror, 0.4681), (iranian, 0.4573), (general...  \n",
       "5       [(anniversary, 0.3751), (memorial, 0.3625), (q...  \n",
       "...                                                   ...  \n",
       "202813  [(duque, 0.5124), (priorities, 0.4186), (coron...  \n",
       "202821  [(valentine, 0.5086), (cards, 0.4523), (troope...  \n",
       "202825  [(coronavirus, 0.54), (risk, 0.4352), (pittis,...  \n",
       "202827  [(turboprop, 0.6097), (competition, 0.4911), (...  \n",
       "202828  [(coronavirus, 0.4417), (outbreak, 0.4205), (t...  \n",
       "\n",
       "[60110 rows x 2 columns]"
      ]
     },
     "execution_count": 14,
     "metadata": {},
     "output_type": "execute_result"
    }
   ],
   "source": [
    "title_df = pd.DataFrame(title_df)\n",
    "title_df['keywords'] = keywords\n",
    "title_df"
   ]
  },
  {
   "cell_type": "markdown",
   "metadata": {},
   "source": [
    "#### Merge results into the DataFrame"
   ]
  },
  {
   "cell_type": "code",
   "execution_count": 16,
   "metadata": {},
   "outputs": [],
   "source": [
    "topic_df = quote_df.merge(title_df, on='title', how='left')"
   ]
  },
  {
   "cell_type": "code",
   "execution_count": 17,
   "metadata": {},
   "outputs": [
    {
     "data": {
      "text/html": [
       "<div>\n",
       "<style scoped>\n",
       "    .dataframe tbody tr th:only-of-type {\n",
       "        vertical-align: middle;\n",
       "    }\n",
       "\n",
       "    .dataframe tbody tr th {\n",
       "        vertical-align: top;\n",
       "    }\n",
       "\n",
       "    .dataframe thead th {\n",
       "        text-align: right;\n",
       "    }\n",
       "</style>\n",
       "<table border=\"1\" class=\"dataframe\">\n",
       "  <thead>\n",
       "    <tr style=\"text-align: right;\">\n",
       "      <th></th>\n",
       "      <th>quotationOffset</th>\n",
       "      <th>quoteID</th>\n",
       "      <th>numOccurrences</th>\n",
       "      <th>quotation</th>\n",
       "      <th>leftContext</th>\n",
       "      <th>rightContext</th>\n",
       "      <th>globalTopSpeaker</th>\n",
       "      <th>globalProbas</th>\n",
       "      <th>localTopSpeaker</th>\n",
       "      <th>localProbas</th>\n",
       "      <th>...</th>\n",
       "      <th>US_congress_bio_ID</th>\n",
       "      <th>occupation</th>\n",
       "      <th>party</th>\n",
       "      <th>academic_degree</th>\n",
       "      <th>id</th>\n",
       "      <th>label</th>\n",
       "      <th>candidacy</th>\n",
       "      <th>type</th>\n",
       "      <th>religion</th>\n",
       "      <th>keywords</th>\n",
       "    </tr>\n",
       "  </thead>\n",
       "  <tbody>\n",
       "    <tr>\n",
       "      <th>0</th>\n",
       "      <td>223</td>\n",
       "      <td>2020-01-02-060856</td>\n",
       "      <td>1</td>\n",
       "      <td>Three years into his presidency, Donald Trump ...</td>\n",
       "      <td>[QUOTE] Sherman went on to fault Trump for [QU...</td>\n",
       "      <td>she wrote. Protesters at the U.S. Embassy in B...</td>\n",
       "      <td>Wendy Sherman</td>\n",
       "      <td>[[Wendy Sherman, 0.8968], [None, 0.0674], [Pre...</td>\n",
       "      <td>Wendy Sherman</td>\n",
       "      <td>[[Wendy Sherman, 0.8968], [None, 0.0674], [Pre...</td>\n",
       "      <td>...</td>\n",
       "      <td>None</td>\n",
       "      <td>[Q193391]</td>\n",
       "      <td>[Q29552]</td>\n",
       "      <td>None</td>\n",
       "      <td>Q4169153</td>\n",
       "      <td>Wendy Sherman</td>\n",
       "      <td>None</td>\n",
       "      <td>item</td>\n",
       "      <td>None</td>\n",
       "      <td>[(obama, 0.4678), (bowden, 0.4065), (iraq, 0.3...</td>\n",
       "    </tr>\n",
       "    <tr>\n",
       "      <th>1</th>\n",
       "      <td>140</td>\n",
       "      <td>2020-02-18-006228</td>\n",
       "      <td>44</td>\n",
       "      <td>appears to show a decline in new cases</td>\n",
       "      <td>. However, the death toll crossed 2,000 in mai...</td>\n",
       "      <td>but any apparent trend [QUOTE]</td>\n",
       "      <td>Tedros Adhanom Ghebreyesus</td>\n",
       "      <td>[[Tedros Adhanom Ghebreyesus, 0.9334], [None, ...</td>\n",
       "      <td>Antonio Guterres</td>\n",
       "      <td>[[Antonio Guterres, 0.6763], [None, 0.3237]]</td>\n",
       "      <td>...</td>\n",
       "      <td>None</td>\n",
       "      <td>[Q82955, Q81096, Q5669847]</td>\n",
       "      <td>[Q847263]</td>\n",
       "      <td>None</td>\n",
       "      <td>Q311440</td>\n",
       "      <td>António Guterres</td>\n",
       "      <td>None</td>\n",
       "      <td>item</td>\n",
       "      <td>[Q9592]</td>\n",
       "      <td>[(coronavirus, 0.5915), (china, 0.2787), (dang...</td>\n",
       "    </tr>\n",
       "    <tr>\n",
       "      <th>2</th>\n",
       "      <td>113</td>\n",
       "      <td>2020-02-18-043485</td>\n",
       "      <td>527</td>\n",
       "      <td>is not out of control but it is a very dangero...</td>\n",
       "      <td>new cases of coronavirus in China's Hubei prov...</td>\n",
       "      <td>Meanwhile, the World Health Organization (WHO)...</td>\n",
       "      <td>Antonio Guterres</td>\n",
       "      <td>[[Antonio Guterres, 0.6463], [None, 0.2758], [...</td>\n",
       "      <td>Antonio Guterres</td>\n",
       "      <td>[[Antonio Guterres, 0.9649], [None, 0.0351]]</td>\n",
       "      <td>...</td>\n",
       "      <td>None</td>\n",
       "      <td>[Q82955, Q81096, Q5669847]</td>\n",
       "      <td>[Q847263]</td>\n",
       "      <td>None</td>\n",
       "      <td>Q311440</td>\n",
       "      <td>António Guterres</td>\n",
       "      <td>None</td>\n",
       "      <td>item</td>\n",
       "      <td>[Q9592]</td>\n",
       "      <td>[(coronavirus, 0.5915), (china, 0.2787), (dang...</td>\n",
       "    </tr>\n",
       "    <tr>\n",
       "      <th>3</th>\n",
       "      <td>621</td>\n",
       "      <td>2020-02-19-094132</td>\n",
       "      <td>144</td>\n",
       "      <td>We are going to a hostel because there isn't a...</td>\n",
       "      <td>. I do not know what the next few days are goi...</td>\n",
       "      <td>People wearing protective clothing on board th...</td>\n",
       "      <td>Steve Abel</td>\n",
       "      <td>[[Steve Abel, 0.7253], [None, 0.2747]]</td>\n",
       "      <td>Steve Abel</td>\n",
       "      <td>[[Steve Abel, 0.72], [None, 0.28]]</td>\n",
       "      <td>...</td>\n",
       "      <td>None</td>\n",
       "      <td>[Q177220, Q36834]</td>\n",
       "      <td>[Q1327761]</td>\n",
       "      <td>None</td>\n",
       "      <td>Q7611751</td>\n",
       "      <td>Steve Abel</td>\n",
       "      <td>[Q48771246, Q48771246]</td>\n",
       "      <td>item</td>\n",
       "      <td>None</td>\n",
       "      <td>[(coronavirus, 0.4856), (quarantine, 0.4684), ...</td>\n",
       "    </tr>\n",
       "    <tr>\n",
       "      <th>4</th>\n",
       "      <td>921</td>\n",
       "      <td>2020-01-03-069702</td>\n",
       "      <td>114</td>\n",
       "      <td>underscored the Iranian regime's destabilizing...</td>\n",
       "      <td>. In his calls with the British and German for...</td>\n",
       "      <td>the department said. Trump opted not to play a...</td>\n",
       "      <td>Mike Pompeo</td>\n",
       "      <td>[[Mike Pompeo, 0.7041], [None, 0.2458], [Presi...</td>\n",
       "      <td>Mike Pompeo</td>\n",
       "      <td>[[Mike Pompeo, 0.7419], [None, 0.2101], [Presi...</td>\n",
       "      <td>...</td>\n",
       "      <td>P000602</td>\n",
       "      <td>[Q40348, Q43845, Q2961975, Q189290, Q82955]</td>\n",
       "      <td>[Q29468]</td>\n",
       "      <td>None</td>\n",
       "      <td>Q473239</td>\n",
       "      <td>Mike Pompeo</td>\n",
       "      <td>None</td>\n",
       "      <td>item</td>\n",
       "      <td>[Q178169]</td>\n",
       "      <td>[(terror, 0.4681), (iranian, 0.4573), (general...</td>\n",
       "    </tr>\n",
       "    <tr>\n",
       "      <th>...</th>\n",
       "      <td>...</td>\n",
       "      <td>...</td>\n",
       "      <td>...</td>\n",
       "      <td>...</td>\n",
       "      <td>...</td>\n",
       "      <td>...</td>\n",
       "      <td>...</td>\n",
       "      <td>...</td>\n",
       "      <td>...</td>\n",
       "      <td>...</td>\n",
       "      <td>...</td>\n",
       "      <td>...</td>\n",
       "      <td>...</td>\n",
       "      <td>...</td>\n",
       "      <td>...</td>\n",
       "      <td>...</td>\n",
       "      <td>...</td>\n",
       "      <td>...</td>\n",
       "      <td>...</td>\n",
       "      <td>...</td>\n",
       "      <td>...</td>\n",
       "    </tr>\n",
       "    <tr>\n",
       "      <th>202826</th>\n",
       "      <td>484</td>\n",
       "      <td>2020-02-12-078635</td>\n",
       "      <td>63</td>\n",
       "      <td>so we may see this [ virus ] have increased tr...</td>\n",
       "      <td>[QUOTE] So as China and the rest of the Northe...</td>\n",
       "      <td>in parts of the southern hemisphere, says Adal...</td>\n",
       "      <td>Anthony Fauci</td>\n",
       "      <td>[[Anthony Fauci, 0.788], [None, 0.212]]</td>\n",
       "      <td>Anthony Fauci</td>\n",
       "      <td>[[Anthony Fauci, 0.788], [None, 0.212]]</td>\n",
       "      <td>...</td>\n",
       "      <td>None</td>\n",
       "      <td>[Q15634285, Q39631, Q1650915]</td>\n",
       "      <td>None</td>\n",
       "      <td>[Q913404]</td>\n",
       "      <td>Q573246</td>\n",
       "      <td>Anthony Fauci</td>\n",
       "      <td>None</td>\n",
       "      <td>item</td>\n",
       "      <td>[Q1841]</td>\n",
       "      <td>[(coronavirus, 0.6866), (warmer, 0.3418), (wea...</td>\n",
       "    </tr>\n",
       "    <tr>\n",
       "      <th>202827</th>\n",
       "      <td>452</td>\n",
       "      <td>2020-02-13-109735</td>\n",
       "      <td>2</td>\n",
       "      <td>We believe the market opportunity going forwar...</td>\n",
       "      <td>. The market has been stagnant at about 120 de...</td>\n",
       "      <td>COMPETITION BOOST China has already entered th...</td>\n",
       "      <td>John Slattery</td>\n",
       "      <td>[[John Slattery, 0.9502], [None, 0.0498]]</td>\n",
       "      <td>John Slattery</td>\n",
       "      <td>[[John Slattery, 0.9502], [None, 0.0498]]</td>\n",
       "      <td>...</td>\n",
       "      <td>None</td>\n",
       "      <td>[Q2526255, Q28389, Q2259451, Q10800557, Q10798...</td>\n",
       "      <td>[Q29552]</td>\n",
       "      <td>None</td>\n",
       "      <td>Q374346</td>\n",
       "      <td>John Slattery</td>\n",
       "      <td>None</td>\n",
       "      <td>item</td>\n",
       "      <td>None</td>\n",
       "      <td>[(turboprop, 0.6097), (competition, 0.4911), (...</td>\n",
       "    </tr>\n",
       "    <tr>\n",
       "      <th>202828</th>\n",
       "      <td>223</td>\n",
       "      <td>2020-02-12-122667</td>\n",
       "      <td>111</td>\n",
       "      <td>While it is therefore regrettable that the May...</td>\n",
       "      <td>. The decision to postpone the Volvo China Ope...</td>\n",
       "      <td>The LPGA has cancelled three events in the nex...</td>\n",
       "      <td>Keith Pelley</td>\n",
       "      <td>[[Keith Pelley, 0.9654], [None, 0.0345], [Scot...</td>\n",
       "      <td>Keith Pelley</td>\n",
       "      <td>[[Keith Pelley, 0.8003], [None, 0.1997]]</td>\n",
       "      <td>...</td>\n",
       "      <td>None</td>\n",
       "      <td>[Q484876, Q43845]</td>\n",
       "      <td>None</td>\n",
       "      <td>None</td>\n",
       "      <td>Q16734363</td>\n",
       "      <td>Keith Pelley</td>\n",
       "      <td>None</td>\n",
       "      <td>item</td>\n",
       "      <td>None</td>\n",
       "      <td>[(coronavirus, 0.4417), (outbreak, 0.4205), (t...</td>\n",
       "    </tr>\n",
       "    <tr>\n",
       "      <th>202829</th>\n",
       "      <td>195</td>\n",
       "      <td>2020-02-14-088914</td>\n",
       "      <td>20</td>\n",
       "      <td>The well-being of our players, spectators and ...</td>\n",
       "      <td>. According to the European Tour site, Maybank...</td>\n",
       "      <td>Keith Pelley, Chief Executive of the European ...</td>\n",
       "      <td>Keith Pelley</td>\n",
       "      <td>[[Keith Pelley, 0.9293], [None, 0.0699], [Scot...</td>\n",
       "      <td>Keith Pelley</td>\n",
       "      <td>[[Keith Pelley, 0.8153], [None, 0.1847]]</td>\n",
       "      <td>...</td>\n",
       "      <td>None</td>\n",
       "      <td>[Q484876, Q43845]</td>\n",
       "      <td>None</td>\n",
       "      <td>None</td>\n",
       "      <td>Q16734363</td>\n",
       "      <td>Keith Pelley</td>\n",
       "      <td>None</td>\n",
       "      <td>item</td>\n",
       "      <td>None</td>\n",
       "      <td>[(coronavirus, 0.4417), (outbreak, 0.4205), (t...</td>\n",
       "    </tr>\n",
       "    <tr>\n",
       "      <th>202830</th>\n",
       "      <td>113</td>\n",
       "      <td>2020-02-15-058425</td>\n",
       "      <td>134</td>\n",
       "      <td>When I'm the president, we'll take them on, re...</td>\n",
       "      <td>mass shooting in modern US history. The former...</td>\n",
       "      <td>Mr Biden said on stage at the Tropicana casino...</td>\n",
       "      <td>Joe Biden</td>\n",
       "      <td>[[Joe Biden, 0.6663], [None, 0.3321], [Bernie ...</td>\n",
       "      <td>Joe Biden</td>\n",
       "      <td>[[Joe Biden, 0.7652], [None, 0.2348]]</td>\n",
       "      <td>...</td>\n",
       "      <td>B000444</td>\n",
       "      <td>[Q82955, Q40348, Q1622272]</td>\n",
       "      <td>[Q29552]</td>\n",
       "      <td>[Q1540185, Q1765120]</td>\n",
       "      <td>Q6279</td>\n",
       "      <td>Joe Biden</td>\n",
       "      <td>[Q22923830, Q7891450]</td>\n",
       "      <td>item</td>\n",
       "      <td>[Q1841]</td>\n",
       "      <td>[(sanders, 0.4037), (vegas, 0.3573), (biden, 0...</td>\n",
       "    </tr>\n",
       "  </tbody>\n",
       "</table>\n",
       "<p>202831 rows × 30 columns</p>\n",
       "</div>"
      ],
      "text/plain": [
       "        quotationOffset            quoteID  numOccurrences  \\\n",
       "0                   223  2020-01-02-060856               1   \n",
       "1                   140  2020-02-18-006228              44   \n",
       "2                   113  2020-02-18-043485             527   \n",
       "3                   621  2020-02-19-094132             144   \n",
       "4                   921  2020-01-03-069702             114   \n",
       "...                 ...                ...             ...   \n",
       "202826              484  2020-02-12-078635              63   \n",
       "202827              452  2020-02-13-109735               2   \n",
       "202828              223  2020-02-12-122667             111   \n",
       "202829              195  2020-02-14-088914              20   \n",
       "202830              113  2020-02-15-058425             134   \n",
       "\n",
       "                                                quotation  \\\n",
       "0       Three years into his presidency, Donald Trump ...   \n",
       "1                  appears to show a decline in new cases   \n",
       "2       is not out of control but it is a very dangero...   \n",
       "3       We are going to a hostel because there isn't a...   \n",
       "4       underscored the Iranian regime's destabilizing...   \n",
       "...                                                   ...   \n",
       "202826  so we may see this [ virus ] have increased tr...   \n",
       "202827  We believe the market opportunity going forwar...   \n",
       "202828  While it is therefore regrettable that the May...   \n",
       "202829  The well-being of our players, spectators and ...   \n",
       "202830  When I'm the president, we'll take them on, re...   \n",
       "\n",
       "                                              leftContext  \\\n",
       "0       [QUOTE] Sherman went on to fault Trump for [QU...   \n",
       "1       . However, the death toll crossed 2,000 in mai...   \n",
       "2       new cases of coronavirus in China's Hubei prov...   \n",
       "3       . I do not know what the next few days are goi...   \n",
       "4       . In his calls with the British and German for...   \n",
       "...                                                   ...   \n",
       "202826  [QUOTE] So as China and the rest of the Northe...   \n",
       "202827  . The market has been stagnant at about 120 de...   \n",
       "202828  . The decision to postpone the Volvo China Ope...   \n",
       "202829  . According to the European Tour site, Maybank...   \n",
       "202830  mass shooting in modern US history. The former...   \n",
       "\n",
       "                                             rightContext  \\\n",
       "0       she wrote. Protesters at the U.S. Embassy in B...   \n",
       "1                          but any apparent trend [QUOTE]   \n",
       "2       Meanwhile, the World Health Organization (WHO)...   \n",
       "3       People wearing protective clothing on board th...   \n",
       "4       the department said. Trump opted not to play a...   \n",
       "...                                                   ...   \n",
       "202826  in parts of the southern hemisphere, says Adal...   \n",
       "202827  COMPETITION BOOST China has already entered th...   \n",
       "202828  The LPGA has cancelled three events in the nex...   \n",
       "202829  Keith Pelley, Chief Executive of the European ...   \n",
       "202830  Mr Biden said on stage at the Tropicana casino...   \n",
       "\n",
       "                  globalTopSpeaker  \\\n",
       "0                    Wendy Sherman   \n",
       "1       Tedros Adhanom Ghebreyesus   \n",
       "2                 Antonio Guterres   \n",
       "3                       Steve Abel   \n",
       "4                      Mike Pompeo   \n",
       "...                            ...   \n",
       "202826               Anthony Fauci   \n",
       "202827               John Slattery   \n",
       "202828                Keith Pelley   \n",
       "202829                Keith Pelley   \n",
       "202830                   Joe Biden   \n",
       "\n",
       "                                             globalProbas   localTopSpeaker  \\\n",
       "0       [[Wendy Sherman, 0.8968], [None, 0.0674], [Pre...     Wendy Sherman   \n",
       "1       [[Tedros Adhanom Ghebreyesus, 0.9334], [None, ...  Antonio Guterres   \n",
       "2       [[Antonio Guterres, 0.6463], [None, 0.2758], [...  Antonio Guterres   \n",
       "3                  [[Steve Abel, 0.7253], [None, 0.2747]]        Steve Abel   \n",
       "4       [[Mike Pompeo, 0.7041], [None, 0.2458], [Presi...       Mike Pompeo   \n",
       "...                                                   ...               ...   \n",
       "202826            [[Anthony Fauci, 0.788], [None, 0.212]]     Anthony Fauci   \n",
       "202827          [[John Slattery, 0.9502], [None, 0.0498]]     John Slattery   \n",
       "202828  [[Keith Pelley, 0.9654], [None, 0.0345], [Scot...      Keith Pelley   \n",
       "202829  [[Keith Pelley, 0.9293], [None, 0.0699], [Scot...      Keith Pelley   \n",
       "202830  [[Joe Biden, 0.6663], [None, 0.3321], [Bernie ...         Joe Biden   \n",
       "\n",
       "                                              localProbas  ...  \\\n",
       "0       [[Wendy Sherman, 0.8968], [None, 0.0674], [Pre...  ...   \n",
       "1            [[Antonio Guterres, 0.6763], [None, 0.3237]]  ...   \n",
       "2            [[Antonio Guterres, 0.9649], [None, 0.0351]]  ...   \n",
       "3                      [[Steve Abel, 0.72], [None, 0.28]]  ...   \n",
       "4       [[Mike Pompeo, 0.7419], [None, 0.2101], [Presi...  ...   \n",
       "...                                                   ...  ...   \n",
       "202826            [[Anthony Fauci, 0.788], [None, 0.212]]  ...   \n",
       "202827          [[John Slattery, 0.9502], [None, 0.0498]]  ...   \n",
       "202828           [[Keith Pelley, 0.8003], [None, 0.1997]]  ...   \n",
       "202829           [[Keith Pelley, 0.8153], [None, 0.1847]]  ...   \n",
       "202830              [[Joe Biden, 0.7652], [None, 0.2348]]  ...   \n",
       "\n",
       "       US_congress_bio_ID                                         occupation  \\\n",
       "0                    None                                          [Q193391]   \n",
       "1                    None                         [Q82955, Q81096, Q5669847]   \n",
       "2                    None                         [Q82955, Q81096, Q5669847]   \n",
       "3                    None                                  [Q177220, Q36834]   \n",
       "4                 P000602        [Q40348, Q43845, Q2961975, Q189290, Q82955]   \n",
       "...                   ...                                                ...   \n",
       "202826               None                      [Q15634285, Q39631, Q1650915]   \n",
       "202827               None  [Q2526255, Q28389, Q2259451, Q10800557, Q10798...   \n",
       "202828               None                                  [Q484876, Q43845]   \n",
       "202829               None                                  [Q484876, Q43845]   \n",
       "202830            B000444                         [Q82955, Q40348, Q1622272]   \n",
       "\n",
       "             party       academic_degree         id             label  \\\n",
       "0         [Q29552]                  None   Q4169153     Wendy Sherman   \n",
       "1        [Q847263]                  None    Q311440  António Guterres   \n",
       "2        [Q847263]                  None    Q311440  António Guterres   \n",
       "3       [Q1327761]                  None   Q7611751        Steve Abel   \n",
       "4         [Q29468]                  None    Q473239       Mike Pompeo   \n",
       "...            ...                   ...        ...               ...   \n",
       "202826        None             [Q913404]    Q573246     Anthony Fauci   \n",
       "202827    [Q29552]                  None    Q374346     John Slattery   \n",
       "202828        None                  None  Q16734363      Keith Pelley   \n",
       "202829        None                  None  Q16734363      Keith Pelley   \n",
       "202830    [Q29552]  [Q1540185, Q1765120]      Q6279         Joe Biden   \n",
       "\n",
       "                     candidacy  type   religion  \\\n",
       "0                         None  item       None   \n",
       "1                         None  item    [Q9592]   \n",
       "2                         None  item    [Q9592]   \n",
       "3       [Q48771246, Q48771246]  item       None   \n",
       "4                         None  item  [Q178169]   \n",
       "...                        ...   ...        ...   \n",
       "202826                    None  item    [Q1841]   \n",
       "202827                    None  item       None   \n",
       "202828                    None  item       None   \n",
       "202829                    None  item       None   \n",
       "202830   [Q22923830, Q7891450]  item    [Q1841]   \n",
       "\n",
       "                                                 keywords  \n",
       "0       [(obama, 0.4678), (bowden, 0.4065), (iraq, 0.3...  \n",
       "1       [(coronavirus, 0.5915), (china, 0.2787), (dang...  \n",
       "2       [(coronavirus, 0.5915), (china, 0.2787), (dang...  \n",
       "3       [(coronavirus, 0.4856), (quarantine, 0.4684), ...  \n",
       "4       [(terror, 0.4681), (iranian, 0.4573), (general...  \n",
       "...                                                   ...  \n",
       "202826  [(coronavirus, 0.6866), (warmer, 0.3418), (wea...  \n",
       "202827  [(turboprop, 0.6097), (competition, 0.4911), (...  \n",
       "202828  [(coronavirus, 0.4417), (outbreak, 0.4205), (t...  \n",
       "202829  [(coronavirus, 0.4417), (outbreak, 0.4205), (t...  \n",
       "202830  [(sanders, 0.4037), (vegas, 0.3573), (biden, 0...  \n",
       "\n",
       "[202831 rows x 30 columns]"
      ]
     },
     "execution_count": 17,
     "metadata": {},
     "output_type": "execute_result"
    }
   ],
   "source": [
    "topic_df"
   ]
  },
  {
   "cell_type": "markdown",
   "metadata": {},
   "source": [
    "## Extract sentiment from quotes with `twitter-roberta-base`"
   ]
  },
  {
   "cell_type": "code",
   "execution_count": 18,
   "metadata": {},
   "outputs": [],
   "source": [
    "from transformers import AutoModelForSequenceClassification\n",
    "from transformers import TFAutoModelForSequenceClassification\n",
    "from transformers import AutoTokenizer\n",
    "import urllib.request\n",
    "from scipy.special import softmax\n",
    "import csv"
   ]
  },
  {
   "cell_type": "code",
   "execution_count": 20,
   "metadata": {},
   "outputs": [],
   "source": [
    "task='sentiment'\n",
    "MODEL = f\"cardiffnlp/twitter-roberta-base-{task}\"\n",
    "\n",
    "tokenizer = AutoTokenizer.from_pretrained(MODEL)\n",
    "labels=[]\n",
    "mapping_link = f\"https://raw.githubusercontent.com/cardiffnlp/tweeteval/main/datasets/{task}/mapping.txt\"\n",
    "with urllib.request.urlopen(mapping_link) as f:\n",
    "    html = f.read().decode('utf-8').split(\"\\n\")\n",
    "    csvreader = csv.reader(html, delimiter='\\t')\n",
    "labels = [row[1] for row in csvreader if len(row) > 1]\n",
    "\n",
    "# PT\n",
    "model = AutoModelForSequenceClassification.from_pretrained(MODEL)\n",
    "model.save_pretrained(MODEL)"
   ]
  },
  {
   "cell_type": "code",
   "execution_count": 21,
   "metadata": {},
   "outputs": [],
   "source": [
    "model = model.to(\"cuda:0\")"
   ]
  },
  {
   "cell_type": "markdown",
   "metadata": {},
   "source": [
    "We found that too long quotes crashed the NLP-model, and therefore we drop the longest ~1% of the quotations"
   ]
  },
  {
   "cell_type": "code",
   "execution_count": 62,
   "metadata": {},
   "outputs": [
    {
     "data": {
      "text/plain": [
       "359.0"
      ]
     },
     "execution_count": 62,
     "metadata": {},
     "output_type": "execute_result"
    }
   ],
   "source": [
    "topic_df['quotation'].apply(len).quantile(0.99)"
   ]
  },
  {
   "cell_type": "code",
   "execution_count": 35,
   "metadata": {},
   "outputs": [],
   "source": [
    "topic_df = topic_df[topic_df.quotation.apply(len) <= 500]\n",
    "quotation_df = topic_df.drop_duplicates(subset='quotation')['quotation']"
   ]
  },
  {
   "cell_type": "code",
   "execution_count": 37,
   "metadata": {
    "scrolled": false
   },
   "outputs": [
    {
     "data": {
      "application/vnd.jupyter.widget-view+json": {
       "model_id": "65448f78ea994bba804efe400b092a5f",
       "version_major": 2,
       "version_minor": 0
      },
      "text/plain": [
       "  0%|          | 0/56423 [00:00<?, ?it/s]"
      ]
     },
     "metadata": {},
     "output_type": "display_data"
    }
   ],
   "source": [
    "tensors = []\n",
    "for quote in tqdm(quotation_df):\n",
    "    encoded_input = tokenizer(quote, return_tensors='pt').to(\"cuda:0\")\n",
    "    output = model(**encoded_input)\n",
    "    tensors.append(output[0][0].detach())"
   ]
  },
  {
   "cell_type": "code",
   "execution_count": 38,
   "metadata": {},
   "outputs": [],
   "source": [
    "quote_scores = []\n",
    "for t in tensors:\n",
    "    scores = t.cpu().numpy()\n",
    "    scores = softmax(scores)\n",
    "    quote_scores.append(scores)"
   ]
  },
  {
   "cell_type": "code",
   "execution_count": 39,
   "metadata": {},
   "outputs": [
    {
     "data": {
      "text/html": [
       "<div>\n",
       "<style scoped>\n",
       "    .dataframe tbody tr th:only-of-type {\n",
       "        vertical-align: middle;\n",
       "    }\n",
       "\n",
       "    .dataframe tbody tr th {\n",
       "        vertical-align: top;\n",
       "    }\n",
       "\n",
       "    .dataframe thead th {\n",
       "        text-align: right;\n",
       "    }\n",
       "</style>\n",
       "<table border=\"1\" class=\"dataframe\">\n",
       "  <thead>\n",
       "    <tr style=\"text-align: right;\">\n",
       "      <th></th>\n",
       "      <th>quotation</th>\n",
       "      <th>quote_scores</th>\n",
       "    </tr>\n",
       "  </thead>\n",
       "  <tbody>\n",
       "    <tr>\n",
       "      <th>0</th>\n",
       "      <td>Three years into his presidency, Donald Trump ...</td>\n",
       "      <td>[0.59014624, 0.38257012, 0.027283676]</td>\n",
       "    </tr>\n",
       "    <tr>\n",
       "      <th>1</th>\n",
       "      <td>appears to show a decline in new cases</td>\n",
       "      <td>[0.5396107, 0.44449103, 0.015898235]</td>\n",
       "    </tr>\n",
       "    <tr>\n",
       "      <th>2</th>\n",
       "      <td>is not out of control but it is a very dangero...</td>\n",
       "      <td>[0.8099247, 0.17773272, 0.012342629]</td>\n",
       "    </tr>\n",
       "    <tr>\n",
       "      <th>3</th>\n",
       "      <td>We are going to a hostel because there isn't a...</td>\n",
       "      <td>[0.61463493, 0.35412937, 0.031235578]</td>\n",
       "    </tr>\n",
       "    <tr>\n",
       "      <th>4</th>\n",
       "      <td>underscored the Iranian regime's destabilizing...</td>\n",
       "      <td>[0.4278984, 0.55340356, 0.01869803]</td>\n",
       "    </tr>\n",
       "    <tr>\n",
       "      <th>...</th>\n",
       "      <td>...</td>\n",
       "      <td>...</td>\n",
       "    </tr>\n",
       "    <tr>\n",
       "      <th>202780</th>\n",
       "      <td>NAFTA, PNTR with China, other trade agreements...</td>\n",
       "      <td>[0.117768824, 0.73777103, 0.14446011]</td>\n",
       "    </tr>\n",
       "    <tr>\n",
       "      <th>202781</th>\n",
       "      <td>Joe and I have a fundamental disagreement, in ...</td>\n",
       "      <td>[0.54746395, 0.4304299, 0.022106076]</td>\n",
       "    </tr>\n",
       "    <tr>\n",
       "      <th>202784</th>\n",
       "      <td>We've just got to make sure that we are totall...</td>\n",
       "      <td>[0.29710072, 0.587018, 0.115881175]</td>\n",
       "    </tr>\n",
       "    <tr>\n",
       "      <th>202791</th>\n",
       "      <td>It looks as if the University of Washington ko...</td>\n",
       "      <td>[0.09740161, 0.78810203, 0.11449628]</td>\n",
       "    </tr>\n",
       "    <tr>\n",
       "      <th>202813</th>\n",
       "      <td>We would not like to lambast the Secretary... ...</td>\n",
       "      <td>[0.4523211, 0.52082354, 0.026855215]</td>\n",
       "    </tr>\n",
       "  </tbody>\n",
       "</table>\n",
       "<p>56423 rows × 2 columns</p>\n",
       "</div>"
      ],
      "text/plain": [
       "                                                quotation  \\\n",
       "0       Three years into his presidency, Donald Trump ...   \n",
       "1                  appears to show a decline in new cases   \n",
       "2       is not out of control but it is a very dangero...   \n",
       "3       We are going to a hostel because there isn't a...   \n",
       "4       underscored the Iranian regime's destabilizing...   \n",
       "...                                                   ...   \n",
       "202780  NAFTA, PNTR with China, other trade agreements...   \n",
       "202781  Joe and I have a fundamental disagreement, in ...   \n",
       "202784  We've just got to make sure that we are totall...   \n",
       "202791  It looks as if the University of Washington ko...   \n",
       "202813  We would not like to lambast the Secretary... ...   \n",
       "\n",
       "                                 quote_scores  \n",
       "0       [0.59014624, 0.38257012, 0.027283676]  \n",
       "1        [0.5396107, 0.44449103, 0.015898235]  \n",
       "2        [0.8099247, 0.17773272, 0.012342629]  \n",
       "3       [0.61463493, 0.35412937, 0.031235578]  \n",
       "4         [0.4278984, 0.55340356, 0.01869803]  \n",
       "...                                       ...  \n",
       "202780  [0.117768824, 0.73777103, 0.14446011]  \n",
       "202781   [0.54746395, 0.4304299, 0.022106076]  \n",
       "202784    [0.29710072, 0.587018, 0.115881175]  \n",
       "202791   [0.09740161, 0.78810203, 0.11449628]  \n",
       "202813   [0.4523211, 0.52082354, 0.026855215]  \n",
       "\n",
       "[56423 rows x 2 columns]"
      ]
     },
     "execution_count": 39,
     "metadata": {},
     "output_type": "execute_result"
    }
   ],
   "source": [
    "quotation_df = pd.DataFrame(quotation_df)\n",
    "quotation_df['quote_scores'] = quote_scores\n",
    "quotation_df"
   ]
  },
  {
   "cell_type": "markdown",
   "metadata": {},
   "source": [
    "#### We merge the results of the sentiment analysis with the DataFrame created earlier"
   ]
  },
  {
   "cell_type": "code",
   "execution_count": 40,
   "metadata": {},
   "outputs": [],
   "source": [
    "complete_df = topic_df.merge(quotation_df, on='quotation', how='left')"
   ]
  },
  {
   "cell_type": "markdown",
   "metadata": {},
   "source": [
    "#### Perform some data cleaning regarding the sentiments"
   ]
  },
  {
   "cell_type": "code",
   "execution_count": 41,
   "metadata": {},
   "outputs": [],
   "source": [
    "complete_df['negative_sentiment'] = [x[0] for x in complete_df['quote_scores']]\n",
    "complete_df['neutral_sentiment'] = [x[1] for x in complete_df['quote_scores']]\n",
    "complete_df['positive_sentiment'] = [x[2] for x in complete_df['quote_scores']]"
   ]
  },
  {
   "cell_type": "code",
   "execution_count": 42,
   "metadata": {},
   "outputs": [],
   "source": [
    "complete_df['max_sentiment'] = [labels[np.argmax(x)] for x in complete_df['quote_scores']]"
   ]
  },
  {
   "cell_type": "code",
   "execution_count": 43,
   "metadata": {},
   "outputs": [],
   "source": [
    "complete_df.drop('quote_scores', axis = 1, inplace = True)"
   ]
  },
  {
   "cell_type": "code",
   "execution_count": 44,
   "metadata": {},
   "outputs": [],
   "source": [
    "complete_df = complete_df[complete_df['keywords'].apply(len) == 5]"
   ]
  },
  {
   "cell_type": "code",
   "execution_count": 51,
   "metadata": {},
   "outputs": [],
   "source": [
    "complete_df['week'] = complete_df['date'].apply(lambda x: x.week)"
   ]
  },
  {
   "cell_type": "markdown",
   "metadata": {},
   "source": [
    "Here we plot the top keywords within each of the first 5 weeks. "
   ]
  },
  {
   "cell_type": "code",
   "execution_count": 59,
   "metadata": {
    "scrolled": false
   },
   "outputs": [
    {
     "data": {
      "image/png": "[encoded data removed]",
      "text/plain": [
       "<Figure size 1080x360 with 1 Axes>"
      ]
     },
     "metadata": {
      "needs_background": "light"
     },
     "output_type": "display_data"
    },
    {
     "data": {
      "image/png": "[encoded data removed]",
      "text/plain": [
       "<Figure size 1080x360 with 1 Axes>"
      ]
     },
     "metadata": {
      "needs_background": "light"
     },
     "output_type": "display_data"
    },
    {
     "data": {
      "image/png": "[encoded data removed]",
      "text/plain": [
       "<Figure size 1080x360 with 1 Axes>"
      ]
     },
     "metadata": {
      "needs_background": "light"
     },
     "output_type": "display_data"
    },
    {
     "data": {
      "image/png": "[encoded data removed]",
      "text/plain": [
       "<Figure size 1080x360 with 1 Axes>"
      ]
     },
     "metadata": {
      "needs_background": "light"
     },
     "output_type": "display_data"
    },
    {
     "data": {
      "image/png": "[encoded data removed]",
      "text/plain": [
       "<Figure size 1080x360 with 1 Axes>"
      ]
     },
     "metadata": {
      "needs_background": "light"
     },
     "output_type": "display_data"
    }
   ],
   "source": [
    "for i, group in complete_df.groupby('week'):    \n",
    "    keywords = [x[0] for y in group['keywords']for x in y]\n",
    "    counts = pd.Series(keywords).value_counts().iloc[:10]\n",
    "    plt.figure(figsize = (15,5))\n",
    "    plt.title(\"Top 10 keywords in week: \" + str(i))\n",
    "    sns.barplot(x = counts.index, y = counts.values)\n",
    "    plt.show()\n",
    "    if i == 5:\n",
    "        break"
   ]
  },
  {
   "cell_type": "markdown",
   "metadata": {},
   "source": [
    "Here we see that in the 4th week, coronavirus takes the lead in the most mentioned words. This corresponds to the widespread panic that coronavirus became public knowledge"
   ]
  },
  {
   "cell_type": "code",
   "execution_count": 53,
   "metadata": {},
   "outputs": [],
   "source": [
    "hue = [x[0][0] for x in complete_df['keywords']]"
   ]
  },
  {
   "cell_type": "code",
   "execution_count": 54,
   "metadata": {},
   "outputs": [],
   "source": [
    "keywords = [x[0] for y in complete_df['keywords']for x in y]\n",
    "counts = pd.Series(keywords).value_counts().iloc[:10]"
   ]
  },
  {
   "cell_type": "code",
   "execution_count": 56,
   "metadata": {},
   "outputs": [
    {
     "name": "stderr",
     "output_type": "stream",
     "text": [
      "C:\\Users\\jozef\\AppData\\Local\\Temp/ipykernel_9740/576926208.py:2: SettingWithCopyWarning: \n",
      "A value is trying to be set on a copy of a slice from a DataFrame.\n",
      "Try using .loc[row_indexer,col_indexer] = value instead\n",
      "\n",
      "See the caveats in the documentation: https://pandas.pydata.org/pandas-docs/stable/user_guide/indexing.html#returning-a-view-versus-a-copy\n",
      "  data['first_keyword'] = complete_df['keywords'].apply(lambda x: x[0][0])\n"
     ]
    }
   ],
   "source": [
    "data = complete_df[complete_df['keywords'].apply(lambda x: x[0][0]).isin(list(counts.index))]\n",
    "data['first_keyword'] = complete_df['keywords'].apply(lambda x: x[0][0])"
   ]
  },
  {
   "cell_type": "code",
   "execution_count": 61,
   "metadata": {},
   "outputs": [
    {
     "data": {
      "image/png": "[encoded data removed]",
      "text/plain": [
       "<Figure size 1080x576 with 1 Axes>"
      ]
     },
     "metadata": {
      "needs_background": "light"
     },
     "output_type": "display_data"
    }
   ],
   "source": [
    "plt.figure(figsize = (15,8))\n",
    "keyword_counts = (data.groupby(['first_keyword'])['max_sentiment']\n",
    "                     .value_counts(normalize=True)\n",
    "                     .rename('percentage')\n",
    "                     .mul(100)\n",
    "                     .reset_index()\n",
    "                     .sort_values('max_sentiment'))\n",
    "p = sns.barplot(x=\"max_sentiment\", y=\"percentage\", hue=\"first_keyword\", data=keyword_counts)"
   ]
  },
  {
   "cell_type": "markdown",
   "metadata": {},
   "source": [
    "Here we see the plot of the sentiments regarding the top 9 keywords. We see that in general, there are more negative sentiments regarding keywords. Another interesting thing we observe is that the Trump keyword has the highest fraction of positive sentiments in the dataset"
   ]
  },
  {
   "cell_type": "markdown",
   "metadata": {},
   "source": [
    "Finally we end up with the following DataFrame which we can use for our further analyses "
   ]
  },
  {
   "cell_type": "code",
   "execution_count": 60,
   "metadata": {},
   "outputs": [
    {
     "data": {
      "text/plain": [
       "quotationOffset                                                     223\n",
       "quoteID                                               2020-01-02-060856\n",
       "numOccurrences                                                        1\n",
       "quotation             Three years into his presidency, Donald Trump ...\n",
       "leftContext           [QUOTE] Sherman went on to fault Trump for [QU...\n",
       "rightContext          she wrote. Protesters at the U.S. Embassy in B...\n",
       "globalTopSpeaker                                          Wendy Sherman\n",
       "globalProbas          [[Wendy Sherman, 0.8968], [None, 0.0674], [Pre...\n",
       "localTopSpeaker                                           Wendy Sherman\n",
       "localProbas           [[Wendy Sherman, 0.8968], [None, 0.0674], [Pre...\n",
       "title                 Top Obama official : Trump to blame for attack...\n",
       "date                                                2020-01-02 14:33:10\n",
       "articleID                                         2020010215_00036243_W\n",
       "localTopSpeakerID                                              Q4169153\n",
       "aliases                                                            None\n",
       "date_of_birth                                   [+1949-06-07T00:00:00Z]\n",
       "nationality                                                       [Q30]\n",
       "gender                                                       [Q6581072]\n",
       "lastrevid                                                    1352649929\n",
       "ethnic_group                                                       None\n",
       "US_congress_bio_ID                                                 None\n",
       "occupation                                                    [Q193391]\n",
       "party                                                          [Q29552]\n",
       "academic_degree                                                    None\n",
       "id                                                             Q4169153\n",
       "label                                                     Wendy Sherman\n",
       "candidacy                                                          None\n",
       "type                                                               item\n",
       "religion                                                           None\n",
       "keywords              [(obama, 0.4678), (bowden, 0.4065), (iraq, 0.3...\n",
       "negative_sentiment                                             0.590146\n",
       "neutral_sentiment                                               0.38257\n",
       "positive_sentiment                                             0.027284\n",
       "max_sentiment                                                  negative\n",
       "week                                                                  1\n",
       "Name: 0, dtype: object"
      ]
     },
     "execution_count": 60,
     "metadata": {},
     "output_type": "execute_result"
    }
   ],
   "source": [
    "complete_df.iloc[0]"
   ]
  },
  {
   "cell_type": "code",
   "execution_count": 63,
   "metadata": {},
   "outputs": [],
   "source": [
    "complete_df.to_json('complete_western_quotes_2020.json.bz2')"
   ]
  },
  {
   "cell_type": "code",
   "execution_count": null,
   "metadata": {},
   "outputs": [],
   "source": []
  }
 ],
 "metadata": {
  "kernelspec": {
   "display_name": "Python 3 (ipykernel)",
   "language": "python",
   "name": "python3"
  },
  "language_info": {
   "codemirror_mode": {
    "name": "ipython",
    "version": 3
   },
   "file_extension": ".py",
   "mimetype": "text/x-python",
   "name": "python",
   "nbconvert_exporter": "python",
   "pygments_lexer": "ipython3",
   "version": "3.8.12"
  }
 },
 "nbformat": 4,
 "nbformat_minor": 4
}
