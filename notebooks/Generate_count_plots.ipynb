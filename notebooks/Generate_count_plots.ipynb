{
 "cells": [
  {
   "cell_type": "code",
   "execution_count": 1,
   "metadata": {},
   "outputs": [],
   "source": [
    "import bz2\n",
    "import json\n",
    "import numpy as np\n",
    "import pandas as pd\n",
    "import matplotlib.pyplot as plt\n",
    "import seaborn as sns\n",
    "import re\n",
    "from tqdm.notebook import tqdm\n",
    "import pickle\n",
    "import plotly.graph_objects as go"
   ]
  },
  {
   "cell_type": "code",
   "execution_count": 26,
   "metadata": {},
   "outputs": [],
   "source": [
    "def generate_word_count_plot(df, year):\n",
    "    df['quarter'] = df['date'].apply(lambda x: (x.month-1)//3)\n",
    "    # Create figure\n",
    "    fig = go.Figure()\n",
    "    # Add traces, one for each slider step\n",
    "    names = ['first', 'second', 'third', 'fourth']\n",
    "    ks = []\n",
    "    for k, group in df.groupby('quarter'):\n",
    "        keywords = [x[0] for y in group['keywords']for x in y]\n",
    "        counts = pd.Series(keywords).value_counts().iloc[:10]\n",
    "        fig.add_trace(\n",
    "            go.Bar(visible=False, name='Most frequent words', x=counts.index, y=counts.values)\n",
    "           )\n",
    "        ks.append(k)\n",
    "    \n",
    "    # Create and add slider\n",
    "    steps = []\n",
    "    \n",
    "    for i in range(len(fig.data)):\n",
    "        step = dict(\n",
    "            method=\"update\",\n",
    "            args=[{\"visible\": [False] * len(fig.data)},\n",
    "                  {\"title\": f\"Top 10 most frequent keywords in the {names[ks[i]]} quarter\"}],  # layout attribute\n",
    "        )\n",
    "        step[\"args\"][0][\"visible\"][i] = True  # Toggle i'th trace to \"visible\"\n",
    "        steps.append(step)\n",
    "        \n",
    "    sliders = [dict(\n",
    "        active=0,\n",
    "        pad={\"t\": 50},\n",
    "        currentvalue={\"prefix\": \"Quarter: \"},\n",
    "        steps=steps\n",
    "    )]\n",
    "    \n",
    "    fig.update_layout(\n",
    "        sliders=sliders,\n",
    "        title = f\"Top 10 most frequent keywords in the {names[ks[0]]} quarter\"\n",
    "    )\n",
    "    \n",
    "    fig.data[0].visible = True\n",
    "    fig.write_html(f\"C:/Users/jozef/Desktop/quotebank/word_count_plots/word_count_plot_{year}.html\")"
   ]
  },
  {
   "cell_type": "markdown",
   "metadata": {},
   "source": [
    "## Load data"
   ]
  },
  {
   "cell_type": "code",
   "execution_count": 27,
   "metadata": {
    "scrolled": false
   },
   "outputs": [],
   "source": [
    "years = ['2008','2009','2010','2011','2012','2013', '2014', '2015','2016', '2017', '2018', '2020']\n",
    "\n",
    "for year in years:\n",
    "    path_to_out = f'C:/Users/jozef/Desktop/quotebank/processed_western_quotes/processed_western_quotes_{year}.json.bz2'\n",
    "    df1 = pd.read_json(path_to_out)    \n",
    "    generate_word_count_plot(df1, year)"
   ]
  },
  {
   "cell_type": "code",
   "execution_count": 28,
   "metadata": {},
   "outputs": [],
   "source": [
    "df_19 = pd.DataFrame()\n",
    "for i in range(1,5):\n",
    "    path_to_out = f'C:/Users/jozef/Desktop/quotebank/processed_western_quotes/processed_western_quotes_2019-{i}.json.bz2'\n",
    "    df1 = pd.read_json(path_to_out)\n",
    "    df_19 = pd.concat([df_19, df1])    \n",
    "generate_word_count_plot(df_19, '2019')"
   ]
  },
  {
   "cell_type": "code",
   "execution_count": null,
   "metadata": {},
   "outputs": [],
   "source": []
  }
 ],
 "metadata": {
  "kernelspec": {
   "display_name": "Python 3 (ipykernel)",
   "language": "python",
   "name": "python3"
  },
  "language_info": {
   "codemirror_mode": {
    "name": "ipython",
    "version": 3
   },
   "file_extension": ".py",
   "mimetype": "text/x-python",
   "name": "python",
   "nbconvert_exporter": "python",
   "pygments_lexer": "ipython3",
   "version": "3.9.7"
  }
 },
 "nbformat": 4,
 "nbformat_minor": 4
}
