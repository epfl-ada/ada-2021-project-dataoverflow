{
 "cells": [
  {
   "cell_type": "markdown",
   "id": "ecaa07ac",
   "metadata": {},
   "source": [
    "In this notebook we classify the extracted keywords into meaningful categories. We do this by labeling a small subset of keywords (top 50 occurring keywords per year) and bootstrapping a larger dataset.\n",
    "\n",
    "The idea behind it is that we have 5 keywords per quotation, we then hand label the top 50 keywords, and assume keywords in a list with a hand-labelled keyword belong to the same topic. We then label all keywords that occur only once in the dataset of one year as outliers if they do not appear with one of the top 50 keywords. We then train a RandomForestClassifier + PCA to predict the labels. Finally, we predict on all the keywords and take those as the topic labels."
   ]
  },
  {
   "cell_type": "code",
   "execution_count": 1,
   "id": "18ea3a41",
   "metadata": {},
   "outputs": [],
   "source": [
    "from sklearn.ensemble import RandomForestClassifier\n",
    "from sklearn.pipeline import Pipeline\n",
    "from sklearn.decomposition import PCA\n",
    "import spacy \n",
    "import numpy as np\n",
    "import pandas as pd\n",
    "from tqdm.notebook import tqdm"
   ]
  },
  {
   "cell_type": "code",
   "execution_count": 2,
   "id": "6b55cbbb",
   "metadata": {},
   "outputs": [],
   "source": [
    "def classify_keywords(df, topics, others=None):\n",
    "    # Unpack keyword tuples\n",
    "    keywords = pd.Series([x[0] for y in df.keywords for x in y])\n",
    "    # Generate counts\n",
    "    counts = keywords.value_counts()\n",
    "    # Generate keyword list per quotation\n",
    "    keyword_list = df.keywords.apply(lambda l: set([x[0] for x in l]))\n",
    "    labels = np.zeros(len(keyword_list))    \n",
    "    \n",
    "    print('Generating labels')\n",
    "    \n",
    "    for i, x in tqdm(enumerate(keyword_list), total = len(keyword_list)):\n",
    "        # Label explicit outliers\n",
    "        if others:\n",
    "            if x.intersection(others):\n",
    "                labels[i] = -1\n",
    "        \n",
    "        group_intersects = np.zeros(len(topics))\n",
    "        # Compute intersections with pre-labeled topic groups\n",
    "        for y, group in enumerate(topics):\n",
    "            group_intersects[y]=len(x.intersection(group))      \n",
    "            \n",
    "        # Check if there is a unique largest intersection, if so, label accordingly\n",
    "        if (group_intersects == group_intersects.max()).sum() == 1:\n",
    "            labels[i] =  np.argmax(group_intersects) + 1\n",
    "            \n",
    "        # If largest intersection not unique, exclude from training data and let classifier predict\n",
    "        elif (group_intersects > 0).sum() > 1:\n",
    "            labels[i] = 0\n",
    "            \n",
    "    # Repeat labels 5 times (5 keywords per quotation)\n",
    "    labels = np.repeat(labels, 5)\n",
    "    \n",
    "    # Keep unique keywords\n",
    "    _, index = np.unique(keywords, return_index=True)\n",
    "\n",
    "    labels = labels[index]\n",
    "    keywords = keywords[index]\n",
    "    \n",
    "    # Label unrelated keywords\n",
    "    print('Generating outlier labels')\n",
    "    for i, k in tqdm(enumerate(keywords), total = len(keywords)):\n",
    "        if counts[k] == 1 and labels[i] == 0:\n",
    "            labels[i] = -1    \n",
    "    \n",
    "    # Disable spacy functionality\n",
    "    dis = ['ner', 'tagger', 'parser', 'entity_linker', 'entity_ruler',\n",
    "       'textcat', 'textcat_multilabel', 'lemmatizer', 'morphologizer',\n",
    "      'attribute_ruler', 'senter', 'sentencizer']\n",
    "\n",
    "    embeddings = np.zeros([len(keywords),300])\n",
    "    nlp = spacy.load('en_core_web_md')\n",
    "    spacy.prefer_gpu()\n",
    "    spacy.require_gpu()\n",
    "    # Generate keyword embeddings\n",
    "    print('Generating word embeddings')\n",
    "    for i, doc in tqdm(enumerate(nlp.pipe(keywords, batch_size=600, disable=dis)), total = len(keywords)):\n",
    "        if type(doc.vector) != np.ndarray:\n",
    "            embeddings[i]=doc.vector.get()\n",
    "        else:\n",
    "            embeddings[i]=doc.vector\n",
    "    \n",
    "    # Train on non-zero labels (0 labels are unknown)\n",
    "    X_train = embeddings[labels != 0]\n",
    "    y_train = labels[labels != 0]    \n",
    "    print('Training classifier')\n",
    "    pipe = Pipeline([('pca', PCA(n_components = 50)), ('random forest', RandomForestClassifier(n_jobs = -1))])    \n",
    "    pipe.fit(X_train, y_train)\n",
    "    \n",
    "    # Predict on all embeddings\n",
    "    preds = pipe.predict(embeddings)\n",
    "\n",
    "    return pd.DataFrame(np.column_stack((keywords, preds))\n",
    "                        , columns = ['keyword', 'keyword_label'])"
   ]
  },
  {
   "cell_type": "markdown",
   "id": "e60d88ba",
   "metadata": {},
   "source": [
    "# 2020"
   ]
  },
  {
   "cell_type": "code",
   "execution_count": 3,
   "id": "6bde67a9",
   "metadata": {},
   "outputs": [],
   "source": [
    "trade = {'china trade', 'trade deal', 'china deal'}\n",
    "\n",
    "covid = {'covid 19', 'coronavirus outbreak', 'china coronavirus',\n",
    "        'china virus', 'coronavirus cases', 'chinese virus', 'new coronavirus',\n",
    "        'death toll', 'new virus', 'travel ban', 'coronavirus fears', 'travel china',\n",
    "        'coronavirus death', 'coronavirus patients', 'coronavirus pandemic',\n",
    "        'virus outbreak', 'flights china', 'world health', 'public health',\n",
    "        'spread coronavirus', 'amid coronavirus', 'tested coronavirus',\n",
    "        'safe coronavirus', 'coronavirus crisis', 'virus china',\n",
    "        'patients uk', 'receiving treatment', 'response coronavirus',\n",
    "        'cases coronavirus', 'novel coronavirus'}\n",
    "\n",
    "\n",
    "yuan = {'currency manipulator', 'china currency'}\n",
    "huawei = {'huawei 5g', '5g role', 'huawei decision'}\n",
    "groups1 = [trade, covid, yuan, huawei]\n",
    "others1 = None"
   ]
  },
  {
   "cell_type": "code",
   "execution_count": 4,
   "id": "985ac170",
   "metadata": {},
   "outputs": [],
   "source": [
    "path_to_out = 'C:/Users/jozef/Desktop/quotebank/processed_western_quotes/processed_western_quotes_2020.json.bz2'\n",
    "quote_df = pd.read_json(path_to_out)"
   ]
  },
  {
   "cell_type": "code",
   "execution_count": 5,
   "id": "4809433a",
   "metadata": {
    "scrolled": true
   },
   "outputs": [
    {
     "name": "stdout",
     "output_type": "stream",
     "text": [
      "Generating labels\n"
     ]
    },
    {
     "data": {
      "application/vnd.jupyter.widget-view+json": {
       "model_id": "6d3bb76ac47e492a89ad31b5ebaff035",
       "version_major": 2,
       "version_minor": 0
      },
      "text/plain": [
       "  0%|          | 0/146753 [00:00<?, ?it/s]"
      ]
     },
     "metadata": {},
     "output_type": "display_data"
    },
    {
     "name": "stdout",
     "output_type": "stream",
     "text": [
      "Generating outlier labels\n"
     ]
    },
    {
     "data": {
      "application/vnd.jupyter.widget-view+json": {
       "model_id": "3da043b40a884d94b870e0abb079f299",
       "version_major": 2,
       "version_minor": 0
      },
      "text/plain": [
       "  0%|          | 0/134175 [00:00<?, ?it/s]"
      ]
     },
     "metadata": {},
     "output_type": "display_data"
    },
    {
     "name": "stdout",
     "output_type": "stream",
     "text": [
      "Generating word embeddings\n"
     ]
    },
    {
     "data": {
      "application/vnd.jupyter.widget-view+json": {
       "model_id": "be248d0ad69040f986f0c239b994d188",
       "version_major": 2,
       "version_minor": 0
      },
      "text/plain": [
       "  0%|          | 0/134175 [00:00<?, ?it/s]"
      ]
     },
     "metadata": {},
     "output_type": "display_data"
    },
    {
     "name": "stdout",
     "output_type": "stream",
     "text": [
      "Training classifier\n"
     ]
    }
   ],
   "source": [
    "res = classify_keywords(quote_df, groups1, others1)"
   ]
  },
  {
   "cell_type": "code",
   "execution_count": 6,
   "id": "8f30f48a",
   "metadata": {},
   "outputs": [],
   "source": [
    "res.to_csv('C:/Users/jozef/Desktop/quotebank/keyword_labels/keyword_label_2020.csv')"
   ]
  },
  {
   "cell_type": "code",
   "execution_count": 7,
   "id": "d838791c",
   "metadata": {},
   "outputs": [
    {
     "name": "stdout",
     "output_type": "stream",
     "text": [
      "                 keyword keyword_label\n",
      "24795      clamour grows          -1.0\n",
      "75391    market billings          -1.0\n",
      "75779     markets soared          -1.0\n",
      "58327      heat jennifer          -1.0\n",
      "19469  challenging japan          -1.0\n",
      "                       keyword keyword_label\n",
      "20578              china began           2.0\n",
      "86123       outbreaks previous           2.0\n",
      "22860            china textile           2.0\n",
      "25325            closest loved           2.0\n",
      "43394  emergencies ineffective           2.0\n",
      "                        keyword keyword_label\n",
      "79458           monitor signing           1.0\n",
      "97845          real enforcement           1.0\n",
      "100085  representatives chinese           1.0\n",
      "21032          china delivering           1.0\n",
      "40873               doubt trump           1.0\n",
      "                         keyword keyword_label\n",
      "128679               wake huawei           4.0\n",
      "129423         warns information           4.0\n",
      "123268  trustworthiness provider           4.0\n",
      "60938              huawei result           4.0\n",
      "106993              sensitive 5g           4.0\n",
      "                    keyword keyword_label\n",
      "10290            bank china           3.0\n",
      "37964      devalue currency           3.0\n",
      "133841            yuan hits           3.0\n",
      "44113   enforceable removes           3.0\n",
      "2143    accountability yuan           3.0\n"
     ]
    }
   ],
   "source": [
    "for x in res['keyword_label'].unique():\n",
    "    print(res[res['keyword_label'] == x].sample(5))"
   ]
  },
  {
   "cell_type": "markdown",
   "id": "2cd1bc9a",
   "metadata": {},
   "source": [
    "# 2019"
   ]
  },
  {
   "cell_type": "code",
   "execution_count": 8,
   "id": "0ba16fa8",
   "metadata": {},
   "outputs": [],
   "source": [
    "path_to_out = f'C:/Users/jozef/Desktop/quotebank/processed_western_quotes/processed_western_quotes_2019.json.bz2'\n",
    "quote_df = pd.read_json(path_to_out)"
   ]
  },
  {
   "cell_type": "code",
   "execution_count": 9,
   "id": "a00f0ac4",
   "metadata": {},
   "outputs": [
    {
     "name": "stdout",
     "output_type": "stream",
     "text": [
      "Generating labels\n"
     ]
    },
    {
     "data": {
      "application/vnd.jupyter.widget-view+json": {
       "model_id": "3462137959874ac49b88323405ca4a01",
       "version_major": 2,
       "version_minor": 0
      },
      "text/plain": [
       "  0%|          | 0/444118 [00:00<?, ?it/s]"
      ]
     },
     "metadata": {},
     "output_type": "display_data"
    },
    {
     "name": "stdout",
     "output_type": "stream",
     "text": [
      "Generating outlier labels\n"
     ]
    },
    {
     "data": {
      "application/vnd.jupyter.widget-view+json": {
       "model_id": "576a6c5493344ba2a9f2c13722511a55",
       "version_major": 2,
       "version_minor": 0
      },
      "text/plain": [
       "  0%|          | 0/350023 [00:00<?, ?it/s]"
      ]
     },
     "metadata": {},
     "output_type": "display_data"
    },
    {
     "name": "stdout",
     "output_type": "stream",
     "text": [
      "Generating word embeddings\n"
     ]
    },
    {
     "data": {
      "application/vnd.jupyter.widget-view+json": {
       "model_id": "ffdf7cedb6294465bbc2428d14de4b75",
       "version_major": 2,
       "version_minor": 0
      },
      "text/plain": [
       "  0%|          | 0/350023 [00:00<?, ?it/s]"
      ]
     },
     "metadata": {},
     "output_type": "display_data"
    },
    {
     "name": "stdout",
     "output_type": "stream",
     "text": [
      "Training classifier\n"
     ]
    }
   ],
   "source": [
    "hk = {'hong kong', 'kong protesters', 'kong protests', 'stand hong'}\n",
    "trade = {'china trade', 'trade talks', 'trade war', 'deal china', \n",
    "         'trade deal', 'china tariffs', 'tariffs china',\n",
    "        'trump trade', 'china deal', 'talks china',\n",
    "        'chinese goods', 'china talks', 'deal trump',\n",
    "        'war china', 'trade tensions', 'tariffs chinese',\n",
    "        'tariff hike', 'new tariffs', 'trump tariffs', 'china tariff '}\n",
    "climate = {'climate change'}\n",
    "china_sea = {'china sea'}\n",
    "north_korea = {'north korea'}\n",
    "human_rights = {'human rights'}\n",
    "others2 = None\n",
    "groups2 = [hk, trade, climate, china_sea, north_korea, human_rights]\n",
    "\n",
    "res = classify_keywords(quote_df, groups2, others2)"
   ]
  },
  {
   "cell_type": "code",
   "execution_count": 10,
   "id": "b2218b62",
   "metadata": {},
   "outputs": [],
   "source": [
    "res.to_csv('C:/Users/jozef/Desktop/quotebank/keyword_labels/keyword_label_2019.csv')"
   ]
  },
  {
   "cell_type": "code",
   "execution_count": 11,
   "id": "65266483",
   "metadata": {},
   "outputs": [
    {
     "name": "stdout",
     "output_type": "stream",
     "text": [
      "                   keyword keyword_label\n",
      "9411         agrees russia          -1.0\n",
      "5887    activists speaking          -1.0\n",
      "49636           cdl pietro          -1.0\n",
      "168352   italy netherlands          -1.0\n",
      "219137             open ap          -1.0\n",
      "                     keyword keyword_label\n",
      "119611  farmers bankruptcies           2.0\n",
      "198307       members liberal           2.0\n",
      "278517            shift asia           2.0\n",
      "137541       going sacrifice           2.0\n",
      "145206            harbor ben           2.0\n",
      "                 keyword keyword_label\n",
      "202966     mistake trump           1.0\n",
      "139980     govt hongkong           1.0\n",
      "58064     china rejected           1.0\n",
      "121966   feel threatened           1.0\n",
      "110169  environment hong           1.0\n",
      "                   keyword keyword_label\n",
      "131066  fundamental rights           6.0\n",
      "295563     subjects linked           6.0\n",
      "235759    pompeo violation           6.0\n",
      "56470      china including           6.0\n",
      "14140      americans right           6.0\n",
      "                    keyword keyword_label\n",
      "55437       china disruptor           4.0\n",
      "54627              china ca           4.0\n",
      "51306      challenges china           4.0\n",
      "191621  malaysia submission           4.0\n",
      "216677  objectives warships           4.0\n",
      "                        keyword keyword_label\n",
      "19642               asia funded           3.0\n",
      "342181              wins reduce           3.0\n",
      "111484  essentially uncertainty           3.0\n",
      "259941       responding climate           3.0\n",
      "318404         tree restoration           3.0\n",
      "                keyword keyword_label\n",
      "171446       jong north           5.0\n",
      "176714       korea joss           5.0\n",
      "326175     unfair japan           5.0\n",
      "308629     test weapons           5.0\n",
      "176579  korea chronicle           5.0\n"
     ]
    }
   ],
   "source": [
    "for x in res['keyword_label'].unique():\n",
    "    print(res[res['keyword_label'] == x].sample(5))"
   ]
  },
  {
   "cell_type": "markdown",
   "id": "79f8e1f7",
   "metadata": {},
   "source": [
    "# 2018"
   ]
  },
  {
   "cell_type": "code",
   "execution_count": 12,
   "id": "39a1eb21",
   "metadata": {},
   "outputs": [],
   "source": [
    "path_to_out = f'C:/Users/jozef/Desktop/quotebank/processed_western_quotes/processed_western_quotes_2018.json.bz2'\n",
    "quote_df = pd.read_json(path_to_out)"
   ]
  },
  {
   "cell_type": "code",
   "execution_count": 13,
   "id": "ec087df5",
   "metadata": {},
   "outputs": [
    {
     "name": "stdout",
     "output_type": "stream",
     "text": [
      "Generating labels\n"
     ]
    },
    {
     "data": {
      "application/vnd.jupyter.widget-view+json": {
       "model_id": "a0163768cb1f4416818a5ed18fb9ed99",
       "version_major": 2,
       "version_minor": 0
      },
      "text/plain": [
       "  0%|          | 0/272829 [00:00<?, ?it/s]"
      ]
     },
     "metadata": {},
     "output_type": "display_data"
    },
    {
     "name": "stdout",
     "output_type": "stream",
     "text": [
      "Generating outlier labels\n"
     ]
    },
    {
     "data": {
      "application/vnd.jupyter.widget-view+json": {
       "model_id": "fa24dc9014604ba6b74878f4d6dfe798",
       "version_major": 2,
       "version_minor": 0
      },
      "text/plain": [
       "  0%|          | 0/327933 [00:00<?, ?it/s]"
      ]
     },
     "metadata": {},
     "output_type": "display_data"
    },
    {
     "name": "stdout",
     "output_type": "stream",
     "text": [
      "Generating word embeddings\n"
     ]
    },
    {
     "data": {
      "application/vnd.jupyter.widget-view+json": {
       "model_id": "daebb1f6d6504121b0ce04199b3d7ab9",
       "version_major": 2,
       "version_minor": 0
      },
      "text/plain": [
       "  0%|          | 0/327933 [00:00<?, ?it/s]"
      ]
     },
     "metadata": {},
     "output_type": "display_data"
    },
    {
     "name": "stdout",
     "output_type": "stream",
     "text": [
      "Training classifier\n"
     ]
    }
   ],
   "source": [
    "trade={'china trade','trade war','deal china','trade talks','trade deal','trump trade', 'china tariffs', \n",
    "       'tariffs china', 'war china','trump tariffs','trade tensions', 'new tariffs','trade dispute',\n",
    "       'chinese goods', 'trade china','tariffs chinese','trade deficit','trade wars', 'trade truce', 'global trade',\n",
    "      'intellectual property'}\n",
    "huawei={'huawei cfo', 'huawei executive'}\n",
    "north_korea = { 'north korea'}\n",
    "china_sea={'china sea'}\n",
    "climate={ 'climate change'}\n",
    "\n",
    "others3 = None\n",
    "groups3 = [trade, huawei, north_korea, china_sea, climate]\n",
    "\n",
    "res = classify_keywords(quote_df, groups3, others3)"
   ]
  },
  {
   "cell_type": "code",
   "execution_count": 14,
   "id": "b3f310d9",
   "metadata": {},
   "outputs": [],
   "source": [
    "res.to_csv('C:/Users/jozef/Desktop/quotebank/keyword_labels/keyword_label_2018.csv')"
   ]
  },
  {
   "cell_type": "code",
   "execution_count": 15,
   "id": "0b3acb0e",
   "metadata": {
    "scrolled": false
   },
   "outputs": [
    {
     "name": "stdout",
     "output_type": "stream",
     "text": [
      "                 keyword keyword_label\n",
      "44883           cars run          -1.0\n",
      "144044  illegal machines          -1.0\n",
      "174304        logo issue          -1.0\n",
      "285297     tariffs steel          -1.0\n",
      "64089   commissioner jay          -1.0\n",
      "                keyword keyword_label\n",
      "301325      trump react           1.0\n",
      "19740      assess trade           1.0\n",
      "71839     cost nebraska           1.0\n",
      "314578       war losing           1.0\n",
      "137865  hiccups houston           1.0\n",
      "                keyword keyword_label\n",
      "24247       bail crisis           2.0\n",
      "19389       ask chinese           2.0\n",
      "312850     wait chinese           2.0\n",
      "240282  removing huawei           2.0\n",
      "42035   canada angering           2.0\n",
      "                        keyword keyword_label\n",
      "164710              korea total           3.0\n",
      "87802           different north           3.0\n",
      "84856   denuclearziation korean           3.0\n",
      "164085          korea exclusive           3.0\n",
      "52779        china implementing           3.0\n",
      "                 keyword keyword_label\n",
      "228928  prosperity china           4.0\n",
      "156789  japan challenges           4.0\n",
      "310503      vietnam pact           4.0\n",
      "255504       sea witness           4.0\n",
      "255509            sea xi           4.0\n",
      "                keyword keyword_label\n",
      "90924    divesting easy           5.0\n",
      "98273   effects climate           5.0\n",
      "84894   denying climate           5.0\n",
      "132248  growth industry           5.0\n",
      "18750        asia japan           5.0\n"
     ]
    }
   ],
   "source": [
    "for x in res['keyword_label'].unique():\n",
    "    print(res[res['keyword_label'] == x].sample(5))"
   ]
  },
  {
   "cell_type": "markdown",
   "id": "31e00ae8",
   "metadata": {},
   "source": [
    "# 2017"
   ]
  },
  {
   "cell_type": "code",
   "execution_count": 16,
   "id": "0b49cbbe",
   "metadata": {},
   "outputs": [],
   "source": [
    "path_to_out = f'C:/Users/jozef/Desktop/quotebank/processed_western_quotes/processed_western_quotes_2017.json.bz2'\n",
    "quote_df = pd.read_json(path_to_out)"
   ]
  },
  {
   "cell_type": "code",
   "execution_count": 17,
   "id": "c40fbaff",
   "metadata": {},
   "outputs": [
    {
     "name": "stdout",
     "output_type": "stream",
     "text": [
      "Generating labels\n"
     ]
    },
    {
     "data": {
      "application/vnd.jupyter.widget-view+json": {
       "model_id": "119ab318726a439c817a3206ac7c4df5",
       "version_major": 2,
       "version_minor": 0
      },
      "text/plain": [
       "  0%|          | 0/166833 [00:00<?, ?it/s]"
      ]
     },
     "metadata": {},
     "output_type": "display_data"
    },
    {
     "name": "stdout",
     "output_type": "stream",
     "text": [
      "Generating outlier labels\n"
     ]
    },
    {
     "data": {
      "application/vnd.jupyter.widget-view+json": {
       "model_id": "3421e13fde5a4837898566ba11571300",
       "version_major": 2,
       "version_minor": 0
      },
      "text/plain": [
       "  0%|          | 0/272221 [00:00<?, ?it/s]"
      ]
     },
     "metadata": {},
     "output_type": "display_data"
    },
    {
     "name": "stdout",
     "output_type": "stream",
     "text": [
      "Generating word embeddings\n"
     ]
    },
    {
     "data": {
      "application/vnd.jupyter.widget-view+json": {
       "model_id": "24915cf1d87a42b4b339b192aff78d34",
       "version_major": 2,
       "version_minor": 0
      },
      "text/plain": [
       "  0%|          | 0/272221 [00:00<?, ?it/s]"
      ]
     },
     "metadata": {},
     "output_type": "display_data"
    },
    {
     "name": "stdout",
     "output_type": "stream",
     "text": [
      "Training classifier\n"
     ]
    }
   ],
   "source": [
    "north_korea = {'north korea','kim jong', 'north korean', 'korea trump', 'korea china', 'korea nuclear',\n",
    "               'sanctions north', 'korea sanctions', 'korea problem', 'korea missile', 'new sanctions',\n",
    "               'nuclear weapons', 'korean regime', 'korea just', 'korean peninsula', 'missile test'}\n",
    "\n",
    "china_sea={'china sea', 'south china'}\n",
    "trade={ 'china trade','trade china', 'china currency'}\n",
    "hk = {'hong kong'}\n",
    "climate={ 'paris agreement', 'paris climate','climate change'}\n",
    "human_rights={ 'human rights'}\n",
    "others4 = None\n",
    "groups4 = [north_korea, china_sea, trade, hk, climate, human_rights]\n",
    "\n",
    "res = classify_keywords(quote_df, groups4, others4)"
   ]
  },
  {
   "cell_type": "code",
   "execution_count": 18,
   "id": "ac495116",
   "metadata": {},
   "outputs": [],
   "source": [
    "res.to_csv('C:/Users/jozef/Desktop/quotebank/keyword_labels/keyword_label_2017.csv')"
   ]
  },
  {
   "cell_type": "code",
   "execution_count": 19,
   "id": "824b5ebe",
   "metadata": {},
   "outputs": [
    {
     "name": "stdout",
     "output_type": "stream",
     "text": [
      "                  keyword keyword_label\n",
      "172790    opportunity ibm          -1.0\n",
      "8755        allies fleets          -1.0\n",
      "204241  return investment          -1.0\n",
      "16798     auburn olympics          -1.0\n",
      "196316     rains tomorrow          -1.0\n",
      "                 keyword keyword_label\n",
      "140477     lawyer jailed           6.0\n",
      "203108   respect freedom           6.0\n",
      "216829   sentenced years           6.0\n",
      "25264         biden says           6.0\n",
      "205678  rights continues           6.0\n",
      "                   keyword keyword_label\n",
      "223801         source glue           5.0\n",
      "213502  scientists calling           5.0\n",
      "234574  synagogues streets           5.0\n",
      "50031      clear countries           5.0\n",
      "212707    says withdrawing           5.0\n",
      "                   keyword keyword_label\n",
      "137761  koreans empowering           1.0\n",
      "251454       trump talking           1.0\n",
      "124900    interview russia           1.0\n",
      "135408       korea changed           1.0\n",
      "131069         jong marine           1.0\n",
      "                  keyword keyword_label\n",
      "74621   display democrats           3.0\n",
      "256652     using currency           3.0\n",
      "66908          deals live           3.0\n",
      "227506       states nafta           3.0\n",
      "12976    approved chinese           3.0\n",
      "                  keyword keyword_label\n",
      "214034        sea bursick           2.0\n",
      "52462   colossal warships           2.0\n",
      "214019        sea balance           2.0\n",
      "92927      feud breitbart           2.0\n",
      "214100          sea gaute           2.0\n",
      "                       keyword keyword_label\n",
      "30999         britain demeaned           4.0\n",
      "110461       hannibal hannibal           4.0\n",
      "120720  increasingly uncertain           4.0\n",
      "21826              battle hong           4.0\n",
      "56365         conflict pacific           4.0\n"
     ]
    }
   ],
   "source": [
    "for x in res['keyword_label'].unique():\n",
    "    print(res[res['keyword_label'] == x].sample(5))"
   ]
  },
  {
   "cell_type": "markdown",
   "id": "3721b65d",
   "metadata": {},
   "source": [
    "# 2016"
   ]
  },
  {
   "cell_type": "code",
   "execution_count": 20,
   "id": "1b05ed7a",
   "metadata": {},
   "outputs": [],
   "source": [
    "path_to_out = f'C:/Users/jozef/Desktop/quotebank/processed_western_quotes/processed_western_quotes_2016.json.bz2'\n",
    "quote_df = pd.read_json(path_to_out)"
   ]
  },
  {
   "cell_type": "code",
   "execution_count": 21,
   "id": "1c537186",
   "metadata": {},
   "outputs": [
    {
     "name": "stdout",
     "output_type": "stream",
     "text": [
      "Generating labels\n"
     ]
    },
    {
     "data": {
      "application/vnd.jupyter.widget-view+json": {
       "model_id": "894254b1cb36473c8e4f3a577f7f3c99",
       "version_major": 2,
       "version_minor": 0
      },
      "text/plain": [
       "  0%|          | 0/73221 [00:00<?, ?it/s]"
      ]
     },
     "metadata": {},
     "output_type": "display_data"
    },
    {
     "name": "stdout",
     "output_type": "stream",
     "text": [
      "Generating outlier labels\n"
     ]
    },
    {
     "data": {
      "application/vnd.jupyter.widget-view+json": {
       "model_id": "807c6475e5f447ea92a71403853eb123",
       "version_major": 2,
       "version_minor": 0
      },
      "text/plain": [
       "  0%|          | 0/160641 [00:00<?, ?it/s]"
      ]
     },
     "metadata": {},
     "output_type": "display_data"
    },
    {
     "name": "stdout",
     "output_type": "stream",
     "text": [
      "Generating word embeddings\n"
     ]
    },
    {
     "data": {
      "application/vnd.jupyter.widget-view+json": {
       "model_id": "460023ddaef7414e891392ac7c7d4cbf",
       "version_major": 2,
       "version_minor": 0
      },
      "text/plain": [
       "  0%|          | 0/160641 [00:00<?, ?it/s]"
      ]
     },
     "metadata": {},
     "output_type": "display_data"
    },
    {
     "name": "stdout",
     "output_type": "stream",
     "text": [
      "Training classifier\n"
     ]
    }
   ],
   "source": [
    "# 2016\n",
    "china_sea={'south china','china sea','sea ruling', 'sea china'}\n",
    "olymics={'rio olympics','usain bolt','gold medal','michael phelps','olympics 2016', 'olympic gold','olympic games'}\n",
    "north_korea = {'north korea'}\n",
    "climate={'climate change','climate deal', 'paris climate'}\n",
    "trade={ 'free trade', 'china trade'}\n",
    "hk = {'hong kong'}\n",
    "economy={ 'global economy', 'chinese market','chinese investment'}\n",
    "human_rights={ 'human rights'}\n",
    "others5 = None\n",
    "groups5 = [china_sea, olymics, north_korea, climate, trade, hk, economy, human_rights]\n",
    "\n",
    "res = classify_keywords(quote_df, groups5, others5)"
   ]
  },
  {
   "cell_type": "code",
   "execution_count": 22,
   "id": "6b1f8df3",
   "metadata": {
    "scrolled": false
   },
   "outputs": [
    {
     "name": "stdout",
     "output_type": "stream",
     "text": [
      "                    keyword keyword_label\n",
      "25746         china culprit          -1.0\n",
      "59716         fw38 positive          -1.0\n",
      "135311  stock manipulations          -1.0\n",
      "43736        directors exit          -1.0\n",
      "67917        high livestock          -1.0\n",
      "                    keyword keyword_label\n",
      "100923  olympics continuing           2.0\n",
      "73297          injury scare           2.0\n",
      "21645               cap won           2.0\n",
      "150844            usa begin           2.0\n",
      "40402         debbie hilary           2.0\n",
      "                      keyword keyword_label\n",
      "6633    announce ratification           4.0\n",
      "24001           change arctic           4.0\n",
      "7536     approach regulations           4.0\n",
      "99542      obama unilaterally           4.0\n",
      "105529         people climate           4.0\n",
      "                keyword keyword_label\n",
      "51751   excess capacity           7.0\n",
      "137373  summit shanghai           7.0\n",
      "7512     approach china           7.0\n",
      "395         1914 moment           7.0\n",
      "47982       economy tpp           7.0\n",
      "                keyword keyword_label\n",
      "25285       china awful           8.0\n",
      "51533  evictions nicola           8.0\n",
      "33869   concerns allows           8.0\n",
      "21357  canadians travel           8.0\n",
      "458        1995 beijing           8.0\n",
      "                keyword keyword_label\n",
      "85593         look hong           6.0\n",
      "80264        kong shows           6.0\n",
      "88931  markets shenzhen           6.0\n",
      "57988       forget hong           6.0\n",
      "86214         love hong           6.0\n",
      "                    keyword keyword_label\n",
      "93136   missiles indication           1.0\n",
      "154484          warns china           1.0\n",
      "126614         sea tribunal           1.0\n",
      "57081            flying jet           1.0\n",
      "141638        tension china           1.0\n",
      "                    keyword keyword_label\n",
      "111474       pressure track           3.0\n",
      "80376         korea destiny           3.0\n",
      "80427      korea jacqueline           3.0\n",
      "80577           korea tulsa           3.0\n",
      "98675   nuclear development           3.0\n",
      "                          keyword keyword_label\n",
      "136140  strengthening cooperation           5.0\n",
      "145484           trade agreements           5.0\n",
      "39973                deal america           5.0\n",
      "21040                   canada eu           5.0\n",
      "145572               trade editor           5.0\n"
     ]
    }
   ],
   "source": [
    "res.to_csv('C:/Users/jozef/Desktop/quotebank/keyword_labels/keyword_label_2016.csv')\n",
    "for x in res['keyword_label'].unique():\n",
    "    print(res[res['keyword_label'] == x].sample(5))"
   ]
  },
  {
   "cell_type": "markdown",
   "id": "46ab6172",
   "metadata": {},
   "source": [
    "# 2015"
   ]
  },
  {
   "cell_type": "code",
   "execution_count": 23,
   "id": "dbd734a9",
   "metadata": {},
   "outputs": [
    {
     "name": "stdout",
     "output_type": "stream",
     "text": [
      "Generating labels\n"
     ]
    },
    {
     "data": {
      "application/vnd.jupyter.widget-view+json": {
       "model_id": "2e782c6bdd2048f7bad9cd8e66e45877",
       "version_major": 2,
       "version_minor": 0
      },
      "text/plain": [
       "  0%|          | 0/99917 [00:00<?, ?it/s]"
      ]
     },
     "metadata": {},
     "output_type": "display_data"
    },
    {
     "name": "stdout",
     "output_type": "stream",
     "text": [
      "Generating outlier labels\n"
     ]
    },
    {
     "data": {
      "application/vnd.jupyter.widget-view+json": {
       "model_id": "05be54e107cb46e4b6f33dc1a28d6320",
       "version_major": 2,
       "version_minor": 0
      },
      "text/plain": [
       "  0%|          | 0/226419 [00:00<?, ?it/s]"
      ]
     },
     "metadata": {},
     "output_type": "display_data"
    },
    {
     "name": "stdout",
     "output_type": "stream",
     "text": [
      "Generating word embeddings\n"
     ]
    },
    {
     "data": {
      "application/vnd.jupyter.widget-view+json": {
       "model_id": "fb4b55910dba46f68dfccf54f5d3ca71",
       "version_major": 2,
       "version_minor": 0
      },
      "text/plain": [
       "  0%|          | 0/226419 [00:00<?, ?it/s]"
      ]
     },
     "metadata": {},
     "output_type": "display_data"
    },
    {
     "name": "stdout",
     "output_type": "stream",
     "text": [
      "Training classifier\n",
      "               keyword keyword_label\n",
      "208471   trudeau mania          -1.0\n",
      "167722     reform euro          -1.0\n",
      "1040         2015 lego          -1.0\n",
      "187064    snowden lies          -1.0\n",
      "191001  stars saturday          -1.0\n",
      "                   keyword keyword_label\n",
      "127601      market develop           3.0\n",
      "127629     market equation           3.0\n",
      "9337       angered warship           3.0\n",
      "6223         ahead closing           3.0\n",
      "65011   domestically china           3.0\n",
      "                 keyword keyword_label\n",
      "96378   harassment ships           1.0\n",
      "138296   navy australian           1.0\n",
      "179671           sea way           1.0\n",
      "62020    differences sea           1.0\n",
      "31386        castles sea           1.0\n",
      "                      keyword keyword_label\n",
      "134973          money markets           5.0\n",
      "128575       markets universe           5.0\n",
      "166256          reality china           5.0\n",
      "193471  strategizing emerging           5.0\n",
      "156647     positive australia           5.0\n",
      "                  keyword keyword_label\n",
      "159277  primary polluters           2.0\n",
      "187744     solved climate           2.0\n",
      "35992    china conference           2.0\n",
      "142962        obama urges           2.0\n",
      "201745         text rifts           2.0\n",
      "                    keyword keyword_label\n",
      "100469     horrible nuclear           6.0\n",
      "169394          remove iran           6.0\n",
      "43174   clinton republicans           6.0\n",
      "67204         duration iran           6.0\n",
      "198753         talks tehran           6.0\n",
      "                keyword keyword_label\n",
      "116336  kong industrial           4.0\n",
      "117632   landing rights           4.0\n",
      "154255      player hong           4.0\n",
      "1023          2015 hong           4.0\n",
      "116277       kong cares           4.0\n",
      "                    keyword keyword_label\n",
      "15734     awarding olympics           8.0\n",
      "138773         need olympic           8.0\n",
      "19013    beijing celebrates           8.0\n",
      "7840          almaty winter           8.0\n",
      "19254   beijing motivations           8.0\n",
      "                    keyword keyword_label\n",
      "183577         shield korea           7.0\n",
      "104468  increases sanctions           7.0\n",
      "116524       korea deadline           7.0\n",
      "29906   capacity capability           7.0\n",
      "116650      korea sanctions           7.0\n",
      "                      keyword keyword_label\n",
      "61524          dialogue india           9.0\n",
      "172845       rights situation           9.0\n",
      "172719        rights comments           9.0\n",
      "39688      chinese dissidents           9.0\n",
      "151426  persecuting feminists           9.0\n"
     ]
    }
   ],
   "source": [
    "path_to_out = f'C:/Users/jozef/Desktop/quotebank/processed_western_quotes/processed_western_quotes_2015.json.bz2'\n",
    "quote_df = pd.read_json(path_to_out)\n",
    "china_sea={'south china','china sea'}\n",
    "climate={'climate change', 'climate talks', 'climate deal', 'paris climate'}\n",
    "economy={ 'global economy', 'chinese economy', 'china economic', 'rate hike', 'stock market',\n",
    "         'chinese market', 'economy china', 'china market', 'china currency', 'china economy'}\n",
    "hk = {'hong kong'}\n",
    "trade={ 'emerging markets', 'trade agreement', 'free trade'}\n",
    "iran={ 'iran deal', 'nuclear deal', 'iran nuclear'}\n",
    "north_korea = {'north korea'}\n",
    "winter_olympics={'winter olympics'}\n",
    "human_rights={ 'human rights', 'women rights'}\n",
    "\n",
    "others6 = {'taipei times'}\n",
    "groups6 = [china_sea, climate, economy, hk, trade, iran, north_korea, winter_olympics, human_rights]\n",
    "\n",
    "\n",
    "res = classify_keywords(quote_df, groups6, others6)\n",
    "res.to_csv('C:/Users/jozef/Desktop/quotebank/keyword_labels/keyword_label_2015.csv')\n",
    "for x in res['keyword_label'].unique():\n",
    "    print(res[res['keyword_label'] == x].sample(5))"
   ]
  },
  {
   "cell_type": "markdown",
   "id": "a1fb4278",
   "metadata": {},
   "source": [
    "# 2014"
   ]
  },
  {
   "cell_type": "code",
   "execution_count": 24,
   "id": "649a3761",
   "metadata": {},
   "outputs": [
    {
     "name": "stdout",
     "output_type": "stream",
     "text": [
      "Generating labels\n"
     ]
    },
    {
     "data": {
      "application/vnd.jupyter.widget-view+json": {
       "model_id": "5f39617070a54be29727c3e3ba3ceae9",
       "version_major": 2,
       "version_minor": 0
      },
      "text/plain": [
       "  0%|          | 0/85135 [00:00<?, ?it/s]"
      ]
     },
     "metadata": {},
     "output_type": "display_data"
    },
    {
     "name": "stdout",
     "output_type": "stream",
     "text": [
      "Generating outlier labels\n"
     ]
    },
    {
     "data": {
      "application/vnd.jupyter.widget-view+json": {
       "model_id": "c2669154fd17416690a58bb9c3d11d48",
       "version_major": 2,
       "version_minor": 0
      },
      "text/plain": [
       "  0%|          | 0/206785 [00:00<?, ?it/s]"
      ]
     },
     "metadata": {},
     "output_type": "display_data"
    },
    {
     "name": "stdout",
     "output_type": "stream",
     "text": [
      "Generating word embeddings\n"
     ]
    },
    {
     "data": {
      "application/vnd.jupyter.widget-view+json": {
       "model_id": "d58145fede644a33b530dee17e1c01eb",
       "version_major": 2,
       "version_minor": 0
      },
      "text/plain": [
       "  0%|          | 0/206785 [00:00<?, ?it/s]"
      ]
     },
     "metadata": {},
     "output_type": "display_data"
    },
    {
     "name": "stdout",
     "output_type": "stream",
     "text": [
      "Training classifier\n",
      "                      keyword keyword_label\n",
      "71929   federal investigation          -1.0\n",
      "116390        market improves          -1.0\n",
      "159076            roach chris          -1.0\n",
      "147191           profits amid          -1.0\n",
      "148186   protectionist public          -1.0\n",
      "                 keyword keyword_label\n",
      "165262  security council           5.0\n",
      "82921      gop interview           5.0\n",
      "105719       korea exist           5.0\n",
      "130768     obama release           5.0\n",
      "105660       korea check           5.0\n",
      "                      keyword keyword_label\n",
      "145150  president ideological           2.0\n",
      "145093        president clear           2.0\n",
      "64170         emission target           2.0\n",
      "198615           warming year           2.0\n",
      "170231       skipping climate           2.0\n",
      "                  keyword keyword_label\n",
      "54670   demonstrators bbc           1.0\n",
      "137227          paul hong           1.0\n",
      "105352     kong difficult           1.0\n",
      "114223  mainlanders small           1.0\n",
      "105340      kong deadline           1.0\n",
      "                 keyword keyword_label\n",
      "158325   rights economic           6.0\n",
      "38781    civil political           6.0\n",
      "38521   citizens believe           6.0\n",
      "62153    economic crisis           6.0\n",
      "158429       rights visa           6.0\n",
      "               keyword keyword_label\n",
      "183796    tenant begin           4.0\n",
      "164204     sea claimed           4.0\n",
      "86016    hagel accuses           4.0\n",
      "118805    meet bankers           4.0\n",
      "33176   china declared           4.0\n",
      "                     keyword keyword_label\n",
      "98799       involves chinese           3.0\n",
      "32539          china arrives           3.0\n",
      "103136  jurisdiction vietnam           3.0\n",
      "64115       emerging markets           3.0\n",
      "49578      culprits emerging           3.0\n"
     ]
    }
   ],
   "source": [
    "path_to_out = f'C:/Users/jozef/Desktop/quotebank/processed_western_quotes/processed_western_quotes_2014.json.bz2'\n",
    "quote_df = pd.read_json(path_to_out)\n",
    "\n",
    "# 2014\n",
    "hk = {'hong kong', 'kong protests', 'kong protesters'}\n",
    "climate_change = {'climate change', 'climate deal','global warming', 'china climate'}\n",
    "trade = {'china trade', 'chinese market', 'emerging markets', 'free trade'}\n",
    "china_sea = {'china sea', 'china territorial', 'south china', 'territorial claims'}\n",
    "north_korea = {'north korea'}\n",
    "human_rights = {'human rights'}\n",
    "\n",
    "others7 = {'channel newsasia', 'taipei times'}\n",
    "groups7 = [hk, climate_change, trade, china_sea, north_korea, human_rights]\n",
    "\n",
    "\n",
    "res = classify_keywords(quote_df, groups7, others7)\n",
    "res.to_csv('C:/Users/jozef/Desktop/quotebank/keyword_labels/keyword_label_2014.csv')\n",
    "for x in res['keyword_label'].unique():\n",
    "    print(res[res['keyword_label'] == x].sample(5))"
   ]
  },
  {
   "cell_type": "markdown",
   "id": "1159a368",
   "metadata": {},
   "source": [
    "# 2013"
   ]
  },
  {
   "cell_type": "code",
   "execution_count": 26,
   "id": "5a103d3e",
   "metadata": {},
   "outputs": [
    {
     "name": "stdout",
     "output_type": "stream",
     "text": [
      "Generating labels\n"
     ]
    },
    {
     "data": {
      "application/vnd.jupyter.widget-view+json": {
       "model_id": "2d5bf9e857314aaab356e3c6d3a66970",
       "version_major": 2,
       "version_minor": 0
      },
      "text/plain": [
       "  0%|          | 0/84712 [00:00<?, ?it/s]"
      ]
     },
     "metadata": {},
     "output_type": "display_data"
    },
    {
     "name": "stdout",
     "output_type": "stream",
     "text": [
      "Generating outlier labels\n"
     ]
    },
    {
     "data": {
      "application/vnd.jupyter.widget-view+json": {
       "model_id": "83148b5a3d5a4765a831b5320adf9a20",
       "version_major": 2,
       "version_minor": 0
      },
      "text/plain": [
       "  0%|          | 0/213046 [00:00<?, ?it/s]"
      ]
     },
     "metadata": {},
     "output_type": "display_data"
    },
    {
     "name": "stdout",
     "output_type": "stream",
     "text": [
      "Generating word embeddings\n"
     ]
    },
    {
     "data": {
      "application/vnd.jupyter.widget-view+json": {
       "model_id": "099f0ca80dfa4575bd6e986a58f93bef",
       "version_major": 2,
       "version_minor": 0
      },
      "text/plain": [
       "  0%|          | 0/213046 [00:00<?, ?it/s]"
      ]
     },
     "metadata": {},
     "output_type": "display_data"
    },
    {
     "name": "stdout",
     "output_type": "stream",
     "text": [
      "Training classifier\n",
      "                keyword keyword_label\n",
      "35495         china lay          -1.0\n",
      "148038  potential obama          -1.0\n",
      "203519   walmart raises          -1.0\n",
      "114626     line rosberg          -1.0\n",
      "183349      stuff china          -1.0\n",
      "              keyword keyword_label\n",
      "108847      kong exit           3.0\n",
      "118187  mainland hong           3.0\n",
      "39251      chose hong           3.0\n",
      "115853    london hsbc           3.0\n",
      "75298     film dramas           3.0\n",
      "                   keyword keyword_label\n",
      "153723  pyongyang treasury           1.0\n",
      "107958             kim say           1.0\n",
      "193729        topics obama           1.0\n",
      "36435           china role           1.0\n",
      "109425         korea quite           1.0\n",
      "                     keyword keyword_label\n",
      "36980            china trade           4.0\n",
      "178986  sports organizations           4.0\n",
      "71835              f1 global           4.0\n",
      "128400      movie storylines           4.0\n",
      "202575         visitors hong           4.0\n",
      "                  keyword keyword_label\n",
      "33874     china australia           2.0\n",
      "42258   collision chinese           2.0\n",
      "139283      pacific china           2.0\n",
      "212938        zone treaty           2.0\n",
      "103173    islands dispute           2.0\n"
     ]
    }
   ],
   "source": [
    "path_to_out = f'C:/Users/jozef/Desktop/quotebank/processed_western_quotes/processed_western_quotes_2013.json.bz2'\n",
    "quote_df = pd.read_json(path_to_out)\n",
    "\n",
    "north_korea = {'north korea', 'north korean' }\n",
    "china_sea = {'china sea', 'east china'}\n",
    "hk = {'hong kong'}\n",
    "trade = {'china trade', 'chinese market', 'emerging markets', 'free trade', 'solar panels', 'chinese solar'}\n",
    "others8 = {'sarawak daily', 'news singapore'}\n",
    "groups8 = [north_korea, china_sea, hk, trade]\n",
    "\n",
    "\n",
    "res = classify_keywords(quote_df, groups8, others8)\n",
    "res.to_csv('C:/Users/jozef/Desktop/quotebank/keyword_labels/keyword_label_2013.csv')\n",
    "for x in res['keyword_label'].unique():\n",
    "    print(res[res['keyword_label'] == x].sample(5))"
   ]
  },
  {
   "cell_type": "markdown",
   "id": "dee4f45f",
   "metadata": {},
   "source": [
    "# 2012\n"
   ]
  },
  {
   "cell_type": "code",
   "execution_count": 27,
   "id": "8b6b68bb",
   "metadata": {},
   "outputs": [
    {
     "name": "stdout",
     "output_type": "stream",
     "text": [
      "Generating labels\n"
     ]
    },
    {
     "data": {
      "application/vnd.jupyter.widget-view+json": {
       "model_id": "82270ff8574242aba4c5d84c79329681",
       "version_major": 2,
       "version_minor": 0
      },
      "text/plain": [
       "  0%|          | 0/151151 [00:00<?, ?it/s]"
      ]
     },
     "metadata": {},
     "output_type": "display_data"
    },
    {
     "name": "stdout",
     "output_type": "stream",
     "text": [
      "Generating outlier labels\n"
     ]
    },
    {
     "data": {
      "application/vnd.jupyter.widget-view+json": {
       "model_id": "c1ab8f4b2bf3433d9f5b260a62de622b",
       "version_major": 2,
       "version_minor": 0
      },
      "text/plain": [
       "  0%|          | 0/347616 [00:00<?, ?it/s]"
      ]
     },
     "metadata": {},
     "output_type": "display_data"
    },
    {
     "name": "stdout",
     "output_type": "stream",
     "text": [
      "Generating word embeddings\n"
     ]
    },
    {
     "data": {
      "application/vnd.jupyter.widget-view+json": {
       "model_id": "cf6652cdeaf745bd8b13180ceaac40a3",
       "version_major": 2,
       "version_minor": 0
      },
      "text/plain": [
       "  0%|          | 0/347616 [00:00<?, ?it/s]"
      ]
     },
     "metadata": {},
     "output_type": "display_data"
    },
    {
     "name": "stdout",
     "output_type": "stream",
     "text": [
      "Training classifier\n",
      "                    keyword keyword_label\n",
      "241995  presidency election          -1.0\n",
      "333612         war receding          -1.0\n",
      "208750         nasdaq china          -1.0\n",
      "138932         granted swim          -1.0\n",
      "53636        cheers gosford          -1.0\n",
      "             keyword keyword_label\n",
      "340710      won beat           1.0\n",
      "344233   wvu alumnus           1.0\n",
      "247617  proud really           1.0\n",
      "36044    bolt eyeing           1.0\n",
      "196872   medal allen           1.0\n",
      "                   keyword keyword_label\n",
      "140046            greet xi           4.0\n",
      "217090           obama war           4.0\n",
      "83209         dakota trade           4.0\n",
      "61873   chinese travellers           4.0\n",
      "318075      trade tensions           4.0\n",
      "                keyword keyword_label\n",
      "208146  myanmar reforms           7.0\n",
      "29287    beijing arrive           7.0\n",
      "216666     obama people           7.0\n",
      "54112         chen wish           7.0\n",
      "179024    leaders human           7.0\n",
      "                       keyword keyword_label\n",
      "77672              country law           5.0\n",
      "272242          sanctions says           5.0\n",
      "75162   conversations continue           5.0\n",
      "301826         surprised china           5.0\n",
      "156191       imposed sanctions           5.0\n",
      "               keyword keyword_label\n",
      "18887    asian affairs           2.0\n",
      "275645     sea reached           2.0\n",
      "335019  waters chinese           2.0\n",
      "248838    pursue china           2.0\n",
      "228721  passports maps           2.0\n",
      "                 keyword keyword_label\n",
      "78015     courage pursue           3.0\n",
      "249351   pyongyang north           3.0\n",
      "292112   stability north           3.0\n",
      "202894  missiles isolate           3.0\n",
      "205521   morning beijing           3.0\n",
      "                keyword keyword_label\n",
      "130495   games currency           6.0\n",
      "72599   confronts china           6.0\n",
      "278287     send chinese           6.0\n",
      "250050  quarter economy           6.0\n",
      "176223    labeled china           6.0\n"
     ]
    }
   ],
   "source": [
    "path_to_out = f'C:/Users/jozef/Desktop/quotebank/processed_western_quotes/processed_western_quotes_2012.json.bz2'\n",
    "quote_df = pd.read_json(path_to_out)\n",
    "\n",
    "london_olympics = {'london olympics', 'gold medal', 'michael phelps', '2012 olympics', \n",
    "                   'usain bolt', 'olympic games', 'olympic gold', 'olympics 2012'}\n",
    "china_sea = {'china sea', 'south china'}\n",
    "north_korea = {'north korea'}\n",
    "trade = {'china trade', 'chinese market', 'emerging markets'}\n",
    "iran = {'iran oil', 'iran sanctions'}\n",
    "yuan = {'china currency', 'currency manipulator'}\n",
    "human_rights = {'human rights', 'chen guangcheng'}\n",
    "others9 = {'news australian', 'channel newsasia'}\n",
    "groups9 = [london_olympics, china_sea, north_korea, trade, iran, yuan, human_rights]\n",
    "\n",
    "\n",
    "res = classify_keywords(quote_df, groups9, others9)\n",
    "res.to_csv('C:/Users/jozef/Desktop/quotebank/keyword_labels/keyword_label_2012.csv')\n",
    "for x in res['keyword_label'].unique():\n",
    "    print(res[res['keyword_label'] == x].sample(5))"
   ]
  },
  {
   "cell_type": "markdown",
   "id": "5a7c397f",
   "metadata": {},
   "source": [
    "# 2011"
   ]
  },
  {
   "cell_type": "code",
   "execution_count": 28,
   "id": "acc155a8",
   "metadata": {},
   "outputs": [
    {
     "name": "stdout",
     "output_type": "stream",
     "text": [
      "Generating labels\n"
     ]
    },
    {
     "data": {
      "application/vnd.jupyter.widget-view+json": {
       "model_id": "d0952e79caac486bb72fe433fdbd5b89",
       "version_major": 2,
       "version_minor": 0
      },
      "text/plain": [
       "  0%|          | 0/136548 [00:00<?, ?it/s]"
      ]
     },
     "metadata": {},
     "output_type": "display_data"
    },
    {
     "name": "stdout",
     "output_type": "stream",
     "text": [
      "Generating outlier labels\n"
     ]
    },
    {
     "data": {
      "application/vnd.jupyter.widget-view+json": {
       "model_id": "87aeffbf549b465f83bcf6ce850cf642",
       "version_major": 2,
       "version_minor": 0
      },
      "text/plain": [
       "  0%|          | 0/317897 [00:00<?, ?it/s]"
      ]
     },
     "metadata": {},
     "output_type": "display_data"
    },
    {
     "name": "stdout",
     "output_type": "stream",
     "text": [
      "Generating word embeddings\n"
     ]
    },
    {
     "data": {
      "application/vnd.jupyter.widget-view+json": {
       "model_id": "89b7fe0d07104da2a3df6ee0df876f83",
       "version_major": 2,
       "version_minor": 0
      },
      "text/plain": [
       "  0%|          | 0/317897 [00:00<?, ?it/s]"
      ]
     },
     "metadata": {},
     "output_type": "display_data"
    },
    {
     "name": "stdout",
     "output_type": "stream",
     "text": [
      "Training classifier\n",
      "                      keyword keyword_label\n",
      "65914   concerned development          -1.0\n",
      "28580            better green          -1.0\n",
      "16261           art exhibited          -1.0\n",
      "184047         meetings seven          -1.0\n",
      "225854         problems today          -1.0\n",
      "                  keyword keyword_label\n",
      "76852          cuts china           3.0\n",
      "194433     nations brazil           3.0\n",
      "221613  potential markets           3.0\n",
      "180670   markets expected           3.0\n",
      "33901     bounce equities           3.0\n",
      "                keyword keyword_label\n",
      "165032    lama politics           5.0\n",
      "287036    tibetan issue           5.0\n",
      "88005   discussed dalai           5.0\n",
      "126279        god dalai           5.0\n",
      "286929    tibet nations           5.0\n",
      "                 keyword keyword_label\n",
      "66272      condemn china           6.0\n",
      "53919      china tibetan           6.0\n",
      "80010     debate anxiety           6.0\n",
      "244457      rights women           6.0\n",
      "282012  teachers farmers           6.0\n",
      "                   keyword keyword_label\n",
      "265356      south dialogue           4.0\n",
      "237417       region blasts           4.0\n",
      "199443  north provocations           4.0\n",
      "215368      photos journey           4.0\n",
      "163665            korea hu           4.0\n",
      "                     keyword keyword_label\n",
      "75960       currencies major           2.0\n",
      "32935   boogeyman republican           2.0\n",
      "76067          currency club           2.0\n",
      "75991     currencies trading           2.0\n",
      "316988          yuan reuters           2.0\n",
      "               keyword keyword_label\n",
      "241206   resolve china           1.0\n",
      "68806   continue china           1.0\n",
      "32489     bolton china           1.0\n",
      "253363      sea claims           1.0\n",
      "92233     drills anger           1.0\n"
     ]
    }
   ],
   "source": [
    "path_to_out = f'C:/Users/jozef/Desktop/quotebank/processed_western_quotes/processed_western_quotes_2011.json.bz2'\n",
    "quote_df = pd.read_json(path_to_out)\n",
    "\n",
    "china_sea = {'china sea'}\n",
    "yuan = {'china currency', 'exchange rate', 'china yuan', 'currency manipulation'}\n",
    "trade = {'china trade', 'emerging markets', 'trade war', 'chinese market'}\n",
    "north_korea = {'north korea'}\n",
    "dalai_lama = {'dalai lama'}\n",
    "human_rights = {'human rights'}\n",
    "others10 = {'news australian', 'channel newsasia'}\n",
    "groups10 = [china_sea, yuan, trade, north_korea, dalai_lama, human_rights]\n",
    "\n",
    "\n",
    "res = classify_keywords(quote_df, groups10, others10)\n",
    "res.to_csv('C:/Users/jozef/Desktop/quotebank/keyword_labels/keyword_label_2011.csv')\n",
    "for x in res['keyword_label'].unique():\n",
    "    print(res[res['keyword_label'] == x].sample(5))"
   ]
  },
  {
   "cell_type": "markdown",
   "id": "df0bf626",
   "metadata": {},
   "source": [
    "# 2010"
   ]
  },
  {
   "cell_type": "code",
   "execution_count": 29,
   "id": "8cf4fc26",
   "metadata": {},
   "outputs": [
    {
     "name": "stdout",
     "output_type": "stream",
     "text": [
      "Generating labels\n"
     ]
    },
    {
     "data": {
      "application/vnd.jupyter.widget-view+json": {
       "model_id": "9d42dbffe3904542b75e0cf90c9de61a",
       "version_major": 2,
       "version_minor": 0
      },
      "text/plain": [
       "  0%|          | 0/125127 [00:00<?, ?it/s]"
      ]
     },
     "metadata": {},
     "output_type": "display_data"
    },
    {
     "name": "stdout",
     "output_type": "stream",
     "text": [
      "Generating outlier labels\n"
     ]
    },
    {
     "data": {
      "application/vnd.jupyter.widget-view+json": {
       "model_id": "8bf5c912d3d944e68a64ce3a907b7e8d",
       "version_major": 2,
       "version_minor": 0
      },
      "text/plain": [
       "  0%|          | 0/277363 [00:00<?, ?it/s]"
      ]
     },
     "metadata": {},
     "output_type": "display_data"
    },
    {
     "name": "stdout",
     "output_type": "stream",
     "text": [
      "Generating word embeddings\n"
     ]
    },
    {
     "data": {
      "application/vnd.jupyter.widget-view+json": {
       "model_id": "eccb2aa77c2d4a0fb9c2db9dcb646bed",
       "version_major": 2,
       "version_minor": 0
      },
      "text/plain": [
       "  0%|          | 0/277363 [00:00<?, ?it/s]"
      ]
     },
     "metadata": {},
     "output_type": "display_data"
    },
    {
     "name": "stdout",
     "output_type": "stream",
     "text": [
      "Training classifier\n",
      "                   keyword keyword_label\n",
      "64192     creating pension          -1.0\n",
      "266895       way hollywood          -1.0\n",
      "201004        quayle worst          -1.0\n",
      "265482          war israel          -1.0\n",
      "9798    america guantanamo          -1.0\n",
      "                    keyword keyword_label\n",
      "181013  overwhelmingly yuan           1.0\n",
      "263867         vote support           1.0\n",
      "66977     currency usatoday           1.0\n",
      "47886       chinese believe           1.0\n",
      "64726       crisis eurozone           1.0\n",
      "                      keyword keyword_label\n",
      "146269       leader secretary           3.0\n",
      "245838       telephoned obama           3.0\n",
      "176319           offers dalai           3.0\n",
      "59651   constructive dialogue           3.0\n",
      "146301          leaders china           3.0\n",
      "                 keyword keyword_label\n",
      "262550     views nations           4.0\n",
      "70862    decisions obama           4.0\n",
      "62532    countries align           4.0\n",
      "217552  sanctions siasat           4.0\n",
      "243603   talks sanctions           4.0\n",
      "                    keyword keyword_label\n",
      "162526      military threat           2.0\n",
      "248280         thinks china           2.0\n",
      "142832  korea entertainment           2.0\n",
      "228058    sleuths pyongyang           2.0\n",
      "108237      getting chinese           2.0\n",
      "                       keyword keyword_label\n",
      "220181               sea china           5.0\n",
      "43126             china battle           5.0\n",
      "132274  international practice           5.0\n",
      "214133               role asia           5.0\n",
      "220177          sea challenges           5.0\n"
     ]
    }
   ],
   "source": [
    "path_to_out = f'C:/Users/jozef/Desktop/quotebank/processed_western_quotes/processed_western_quotes_2010.json.bz2'\n",
    "quote_df = pd.read_json(path_to_out)\n",
    "\n",
    "yuan = {'china currency', 'exchange rate', 'china yuan', 'currency war', 'chinese currency', \n",
    "        'currency manipulation', 'exchange rates'}\n",
    "north_korea = {'north korea'}\n",
    "dalai_lama = {'dalai lama', 'meet dalai','obama dalai'}\n",
    "iran_sanctions = {'iran sanctions', 'sanctions iran'}\n",
    "china_sea = {'china sea'}\n",
    "\n",
    "others11 = {'canada news','times qatar', 'news australian','free encyclopedia'}\n",
    "groups11 = [yuan, north_korea, dalai_lama, iran_sanctions, china_sea]\n",
    "\n",
    "\n",
    "res = classify_keywords(quote_df, groups11, others11)\n",
    "res.to_csv('C:/Users/jozef/Desktop/quotebank/keyword_labels/keyword_label_2010.csv')\n",
    "for x in res['keyword_label'].unique():\n",
    "    print(res[res['keyword_label'] == x].sample(5))"
   ]
  },
  {
   "cell_type": "markdown",
   "id": "b07645ab",
   "metadata": {},
   "source": [
    "# 2009"
   ]
  },
  {
   "cell_type": "code",
   "execution_count": 30,
   "id": "397e7203",
   "metadata": {},
   "outputs": [
    {
     "name": "stdout",
     "output_type": "stream",
     "text": [
      "Generating labels\n"
     ]
    },
    {
     "data": {
      "application/vnd.jupyter.widget-view+json": {
       "model_id": "0513741db5e54982b4b10aa4f1e53f37",
       "version_major": 2,
       "version_minor": 0
      },
      "text/plain": [
       "  0%|          | 0/141055 [00:00<?, ?it/s]"
      ]
     },
     "metadata": {},
     "output_type": "display_data"
    },
    {
     "name": "stdout",
     "output_type": "stream",
     "text": [
      "Generating outlier labels\n"
     ]
    },
    {
     "data": {
      "application/vnd.jupyter.widget-view+json": {
       "model_id": "8870fbc65c4149598f6e4197ecf6055a",
       "version_major": 2,
       "version_minor": 0
      },
      "text/plain": [
       "  0%|          | 0/315137 [00:00<?, ?it/s]"
      ]
     },
     "metadata": {},
     "output_type": "display_data"
    },
    {
     "name": "stdout",
     "output_type": "stream",
     "text": [
      "Generating word embeddings\n"
     ]
    },
    {
     "data": {
      "application/vnd.jupyter.widget-view+json": {
       "model_id": "985151e30f0442afbf52b0de6ae34cb1",
       "version_major": 2,
       "version_minor": 0
      },
      "text/plain": [
       "  0%|          | 0/315137 [00:00<?, ?it/s]"
      ]
     },
     "metadata": {},
     "output_type": "display_data"
    },
    {
     "name": "stdout",
     "output_type": "stream",
     "text": [
      "Training classifier\n",
      "               keyword keyword_label\n",
      "50830       china halt          -1.0\n",
      "284822    ties jakarta          -1.0\n",
      "286481       today car          -1.0\n",
      "264302     sport model          -1.0\n",
      "302323  wants dialogue          -1.0\n",
      "                 keyword keyword_label\n",
      "96216       effect obama           1.0\n",
      "285365       time herald           1.0\n",
      "58645   climate politics           1.0\n",
      "302872   warming fiction           1.0\n",
      "109594     feeling china           1.0\n",
      "                keyword keyword_label\n",
      "232427   rebounds world           2.0\n",
      "212079   phelps rattles           2.0\n",
      "201161  olympics german           2.0\n",
      "207212        park bolt           2.0\n",
      "153841    jamaica usain           2.0\n",
      "                     keyword keyword_label\n",
      "8811          agrees nuclear           3.0\n",
      "283665         threats calls           3.0\n",
      "183246        military korea           3.0\n",
      "15669   armistice agreements           3.0\n",
      "160866    korea denuclearise           3.0\n",
      "                keyword keyword_label\n",
      "162657      lama kuwait           4.0\n",
      "284303       tibet rome           4.0\n",
      "209196  peace democracy           4.0\n",
      "162620       lama envoy           4.0\n",
      "227472       puts dalai           4.0\n",
      "                 keyword keyword_label\n",
      "115373    foreign policy           5.0\n",
      "294534  undermines human           5.0\n",
      "284400         tibet yao           5.0\n",
      "190900  nations protects           5.0\n",
      "49076       china allays           5.0\n"
     ]
    }
   ],
   "source": [
    "path_to_out = f'C:/Users/jozef/Desktop/quotebank/processed_western_quotes/processed_western_quotes_2009.json.bz2'\n",
    "quote_df = pd.read_json(path_to_out)\n",
    "\n",
    "climate_change = {'climate change', 'climate talks', 'climate deal','global warming', \n",
    "                  'climate summit','climate pact','copenhagen climate' }\n",
    "beijing_olympics = {'olympics yahoo', 'world record','michael phelps','usain bolt','beijing olympics'}\n",
    "north_korea = {'north korea'}\n",
    "dalai_lama = { 'dalai lama'}\n",
    "human_rights = {'human rights'} \n",
    "others12 = {'myspace blog', 'com blogs', 'taipei times'}\n",
    "groups12 = [climate_change, beijing_olympics, north_korea, dalai_lama, human_rights]\n",
    "\n",
    "\n",
    "res = classify_keywords(quote_df, groups12, others12)\n",
    "res.to_csv('C:/Users/jozef/Desktop/quotebank/keyword_labels/keyword_label_2009.csv')\n",
    "for x in res['keyword_label'].unique():\n",
    "    print(res[res['keyword_label'] == x].sample(5))"
   ]
  },
  {
   "cell_type": "markdown",
   "id": "3a1fcb40",
   "metadata": {},
   "source": [
    "# 2008"
   ]
  },
  {
   "cell_type": "code",
   "execution_count": 32,
   "id": "bd746d0f",
   "metadata": {},
   "outputs": [
    {
     "name": "stdout",
     "output_type": "stream",
     "text": [
      "Generating labels\n"
     ]
    },
    {
     "data": {
      "application/vnd.jupyter.widget-view+json": {
       "model_id": "4f03724bba2443119eae759b7172b948",
       "version_major": 2,
       "version_minor": 0
      },
      "text/plain": [
       "  0%|          | 0/26748 [00:00<?, ?it/s]"
      ]
     },
     "metadata": {},
     "output_type": "display_data"
    },
    {
     "name": "stdout",
     "output_type": "stream",
     "text": [
      "Generating outlier labels\n"
     ]
    },
    {
     "data": {
      "application/vnd.jupyter.widget-view+json": {
       "model_id": "bcaa36ac254443408c7590f606b76366",
       "version_major": 2,
       "version_minor": 0
      },
      "text/plain": [
       "  0%|          | 0/78256 [00:00<?, ?it/s]"
      ]
     },
     "metadata": {},
     "output_type": "display_data"
    },
    {
     "name": "stdout",
     "output_type": "stream",
     "text": [
      "Generating word embeddings\n"
     ]
    },
    {
     "data": {
      "application/vnd.jupyter.widget-view+json": {
       "model_id": "fc2d9fb22b9543c190d73da1c6655878",
       "version_major": 2,
       "version_minor": 0
      },
      "text/plain": [
       "  0%|          | 0/78256 [00:00<?, ?it/s]"
      ]
     },
     "metadata": {},
     "output_type": "display_data"
    },
    {
     "name": "stdout",
     "output_type": "stream",
     "text": [
      "Training classifier\n",
      "                  keyword keyword_label\n",
      "39947  lafferty announces          -1.0\n",
      "8887          break amber          -1.0\n",
      "70050           text iran          -1.0\n",
      "3537       applied second          -1.0\n",
      "74856       want designer          -1.0\n",
      "               keyword keyword_label\n",
      "23259         eat gold           1.0\n",
      "38875    just olympics           1.0\n",
      "44587  medal christine           1.0\n",
      "44661     medal sports           1.0\n",
      "53586      plans twins           1.0\n",
      "               keyword keyword_label\n",
      "70660  tibet situation           2.0\n",
      "50519       open dalai           2.0\n",
      "13670      china urges           2.0\n",
      "56338    protest china           2.0\n",
      "40033       lama urges           2.0\n"
     ]
    }
   ],
   "source": [
    "path_to_out = f'C:/Users/jozef/Desktop/quotebank/processed_western_quotes/processed_western_quotes_2008.json.bz2'\n",
    "quote_df = pd.read_json(path_to_out)\n",
    "\n",
    "beijing_olympics = {'beijing olympics', 'olympics 2008','olympics yahoo','world racing',\n",
    "                    'racing news', 'runner world', 'rugby cricket', 'michael phelps', \n",
    "                    'sport rugby', 'gold medal','olympic games', 'sport olympics'}\n",
    "dalai_lama = {'dalai lama','meeting dalai'}\n",
    "others13 = {'philippine news', 'channelnewsasia com', 'stuff nz', 'channelnewsasia com',\n",
    "        'myspace blog','taipei times','com blogs','india news'}\n",
    "groups13 = [beijing_olympics, dalai_lama]\n",
    "\n",
    "\n",
    "res = classify_keywords(quote_df, groups13, others13)\n",
    "res.to_csv('C:/Users/jozef/Desktop/quotebank/keyword_labels/keyword_label_2008.csv')\n",
    "for x in res['keyword_label'].unique():\n",
    "    print(res[res['keyword_label'] == x].sample(5))"
   ]
  },
  {
   "cell_type": "code",
   "execution_count": null,
   "id": "2f9e1b40",
   "metadata": {},
   "outputs": [],
   "source": []
  },
  {
   "cell_type": "code",
   "execution_count": null,
   "id": "f4ae8f2f",
   "metadata": {},
   "outputs": [],
   "source": []
  }
 ],
 "metadata": {
  "kernelspec": {
   "display_name": "Python 3 (ipykernel)",
   "language": "python",
   "name": "python3"
  },
  "language_info": {
   "codemirror_mode": {
    "name": "ipython",
    "version": 3
   },
   "file_extension": ".py",
   "mimetype": "text/x-python",
   "name": "python",
   "nbconvert_exporter": "python",
   "pygments_lexer": "ipython3",
   "version": "3.9.7"
  }
 },
 "nbformat": 4,
 "nbformat_minor": 5
}
