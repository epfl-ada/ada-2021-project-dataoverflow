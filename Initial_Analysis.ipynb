{
 "cells": [
  {
   "cell_type": "code",
   "execution_count": 1,
   "metadata": {},
   "outputs": [],
   "source": [
    "import bz2\n",
    "import json\n",
    "import numpy as np\n",
    "import pandas as pd\n",
    "import matplotlib.pyplot as plt\n",
    "import seaborn as sns\n",
    "from tld import get_tld\n",
    "\n",
    "def get_domain(url):\n",
    "    res = get_tld(url, as_object=True)\n",
    "    return res.tld\n",
    "\n",
    "from urllib.parse import urlparse\n",
    "def get_url(url):\n",
    "    return urlparse(url).netloc\n",
    "import ast"
   ]
  },
  {
   "cell_type": "code",
   "execution_count": 2,
   "metadata": {},
   "outputs": [],
   "source": [
    "word_list = ['jinping xi', 'xi jing ping', 'xi jinping', 'president xi',\n",
    "             'china', 'chinese', 'beijing', 'peking', 'ccp', 'prc', 'sino-']"
   ]
  },
  {
   "cell_type": "markdown",
   "metadata": {},
   "source": [
    "## Initial idea\n",
    "Here we have the initial idea where we extracted quotes that contained words related to China. Our idea with this was that, if the title contained any word related to China, the quotes in the article may be abut China aswell"
   ]
  },
  {
   "cell_type": "code",
   "execution_count": 3,
   "metadata": {},
   "outputs": [],
   "source": [
    "# Load the data which contained a China related word in the title\n",
    "path_to_out = 'C:/Users/jozef/Desktop/quotebank/quotebank-2020-contains-related.json.bz2'\n",
    "df = pd.read_json(path_to_out ,lines=True)"
   ]
  },
  {
   "cell_type": "markdown",
   "metadata": {},
   "source": [
    "Here we look at the titles, to see if they make sense"
   ]
  },
  {
   "cell_type": "code",
   "execution_count": 4,
   "metadata": {},
   "outputs": [
    {
     "name": "stdout",
     "output_type": "stream",
     "text": [
      "Coronavirus LIVE updates : Death toll in China crosses 2,000 , UN says very dangerous situation\n",
      "\n",
      "Serbia offers support to China in ` battle ' with new virus\n",
      "\n",
      "Home News Rajasthan News Congress leader Kodikunnil Suresh condemns Nagaur incident , says Rajasthan govt should compensate victims New Delhi , Feb 22 : Congress chief whip in Lok Sabha Kodikunnil Suresh on Friday condemned the \b rutal violence and assault against two Dalit youths in Rajasthan 's Nagaur district and added that the state government must provide adequate compensation to the victims . In his letter to Rajasthan Chief Minister Ashok Gehlot , Suresh expressed `` angst and disbelief at the level of violence that was unleashed upon the two Dalit youths as they were subjected to barbaric torture even when they were pleading with the perpetrators , '' read a statement . Suresh stated in his letter that the Rajasthan government must take all measures and take swift action against the perpetrators of this `` heinous crime , '' adding that the state government must take steps in ensuring that actions against those who `` commit atrocities against SCs and STs must become a model for other states to emulate for its efficiency and responsiveness , '' the statement added . Suresh said that the state government `` must set an example of responsive legal deterrence , preventing occurrence of such crimes in future against the Dalits in Rajasthan that other states can refer and practice . '' In his letter to Gehlot , Suresh further emphasised that the `` very idea of primal vigilante justice , by making a mockery of law enforcement agencies and the court is at its zenith ever since the BJP government came to power in 2014 and SC/STs and minorities and other sections of the society are fearing for survival . '' Suresh added that the state government must give adequate compensation to the victims of this `` assault . '' ( ANI ) Like This Article ? Congress leader Kodikunnil Suresh condemns Nagaur incident , says Rajasthan govt should compensate victims Post your comments Read more Rajasthan News Go back to Home Page Previous Post Next Post Photos Maps India India Info Games Recipes Travel News Categories India News World News Sports India Sports World Cricket News Health News Technology News Spl Features Middle East United Kingdom United States Business News Business India Business World Agriculture News Automobile News Bank News Computer News Education News Insurance News Pharmaceutical News Real Estate Telecom News Travel News Entertainment News Hollywood News Bollywood News Fashion News Television News Telugu Cinema Malayalam Cinema Tamil Cinema Literature News Regional News Andhra Pradesh Gujarat News Karnataka News Kerala News Maharashtra News Orissa News Punjab News Rajasthan News Tamil Nadu West Bengal More Regional Most Viewed Popular news 01 Shama Sikander brightens up in yellow 02 ` Bhoot Part One : The Haunted Ship ' sinks under cliches ( Movie Review ) 03 Sunny Leone to host a day out for special kids 04 Al Pacino : 1970s a dark period of my life 05 China unveils new lists of US items excluded from additional tariffs Prince Charles to meet storm Dennis flood victims Elli AvRam channels Jolie 's Tomb Raider look Biocon chief Kiran Shaw declared EY entrepreneur of 2019 Apple CEO Tim Cook stalked by an Indian-origin man\n",
      "\n",
      "South Korean Cases Jump , China Counts 150 More Virus Deaths\n",
      "\n",
      "` The stakes are high ' : Australia urged to do more to avoid China-Taiwan conflict\n",
      "\n"
     ]
    }
   ],
   "source": [
    "for title in df['title'].head(5):\n",
    "    print(title)\n",
    "    print()"
   ]
  },
  {
   "cell_type": "markdown",
   "metadata": {},
   "source": [
    "Above we see that the 3rd title is much too long, and is probably due to a data collection issue on the side of quotebank. Sice we would like to extract meaningful information from the title later on, we decided to remove articles with long titles from the dataset."
   ]
  },
  {
   "cell_type": "code",
   "execution_count": 5,
   "metadata": {},
   "outputs": [
    {
     "name": "stderr",
     "output_type": "stream",
     "text": [
      "C:\\Users\\jozef\\anaconda3\\envs\\ada\\lib\\site-packages\\seaborn\\distributions.py:2619: FutureWarning: `distplot` is a deprecated function and will be removed in a future version. Please adapt your code to use either `displot` (a figure-level function with similar flexibility) or `histplot` (an axes-level function for histograms).\n",
      "  warnings.warn(msg, FutureWarning)\n"
     ]
    },
    {
     "data": {
      "text/plain": [
       "<AxesSubplot:xlabel='title', ylabel='Density'>"
      ]
     },
     "execution_count": 5,
     "metadata": {},
     "output_type": "execute_result"
    },
    {
     "data": {
      "image/png": "[encoded data removed]",
      "text/plain": [
       "<Figure size 432x288 with 1 Axes>"
      ]
     },
     "metadata": {
      "needs_background": "light"
     },
     "output_type": "display_data"
    }
   ],
   "source": [
    "sns.distplot(df['title'].apply(len))"
   ]
  },
  {
   "cell_type": "markdown",
   "metadata": {},
   "source": [
    "Here we see that the length of the titles are highly concentrated around 0, but also contains outliers which run up to 140k characters."
   ]
  },
  {
   "cell_type": "code",
   "execution_count": 6,
   "metadata": {},
   "outputs": [
    {
     "data": {
      "text/plain": [
       "115.0"
      ]
     },
     "execution_count": 6,
     "metadata": {},
     "output_type": "execute_result"
    }
   ],
   "source": [
    "df['title'].apply(len).quantile(0.90)"
   ]
  },
  {
   "cell_type": "markdown",
   "metadata": {},
   "source": [
    "Here we see that 90% of the samples have a length of below 115, we therefore choose to remove articles that have a length of above 200. We chose 200 since this statistic is only computed on the 2020 dataset, and we thus take 200 as an upper bound since the other years may be different"
   ]
  },
  {
   "cell_type": "code",
   "execution_count": 7,
   "metadata": {},
   "outputs": [],
   "source": [
    "df = df[df['title'].apply(len) <= 200]"
   ]
  },
  {
   "cell_type": "markdown",
   "metadata": {},
   "source": [
    "## Country "
   ]
  },
  {
   "cell_type": "markdown",
   "metadata": {},
   "source": [
    "Since we want to have the view from western press, the next step we need is to filter the data that from other countries like Egypt. First, we thought about using the name and the top level domain of the url to tell where every quote belong to. "
   ]
  },
  {
   "cell_type": "code",
   "execution_count": 8,
   "metadata": {},
   "outputs": [
    {
     "data": {
      "text/plain": [
       "www.breitbart.com             987\n",
       "msn.com                       612\n",
       "brazilbusiness.einnews.com    544\n",
       "www.theepochtimes.com         514\n",
       "www.channelnewsasia.com       421\n",
       "                             ... \n",
       "www.ukiahdailyjournal.com       1\n",
       "cdispatch.com                   1\n",
       "www.thecheckeredflag.co.uk      1\n",
       "www.socialistparty.org.uk       1\n",
       "winghamchronicle.com.au         1\n",
       "Name: url, Length: 3510, dtype: int64"
      ]
     },
     "execution_count": 8,
     "metadata": {},
     "output_type": "execute_result"
    }
   ],
   "source": [
    "df['url'].apply(lambda x: get_url(x)).value_counts()"
   ]
  },
  {
   "cell_type": "markdown",
   "metadata": {},
   "source": [
    "As shown above, the url can not give a very precise result on which country quote belongs. For example, 'channelnewsasia.com' is obviously an asian media outlet but with a top level domain `.com`. \n",
    "\n",
    "Therefore, we think it is a better way to combine the Wikidata to get the detailed information of the speakers, and to filter by the data with speakers' nationality. We also need this data for later processes for example get the difference in attitude by politcal affiliation or by gender."
   ]
  },
  {
   "cell_type": "markdown",
   "metadata": {},
   "source": [
    "## Quotations\n",
    "\n",
    "Next we would like to look at the actual quotations in the data-set, the code below creates a new dataframe containing all the quotes of all the articles."
   ]
  },
  {
   "cell_type": "code",
   "execution_count": 9,
   "metadata": {
    "scrolled": false
   },
   "outputs": [],
   "source": [
    "quote_df = pd.DataFrame(list(df['quotations'].apply(pd.Series).stack()))"
   ]
  },
  {
   "cell_type": "code",
   "execution_count": 10,
   "metadata": {},
   "outputs": [
    {
     "data": {
      "text/html": [
       "<div>\n",
       "<style scoped>\n",
       "    .dataframe tbody tr th:only-of-type {\n",
       "        vertical-align: middle;\n",
       "    }\n",
       "\n",
       "    .dataframe tbody tr th {\n",
       "        vertical-align: top;\n",
       "    }\n",
       "\n",
       "    .dataframe thead th {\n",
       "        text-align: right;\n",
       "    }\n",
       "</style>\n",
       "<table border=\"1\" class=\"dataframe\">\n",
       "  <thead>\n",
       "    <tr style=\"text-align: right;\">\n",
       "      <th></th>\n",
       "      <th>quotationOffset</th>\n",
       "      <th>quoteID</th>\n",
       "      <th>numOccurrences</th>\n",
       "      <th>quotation</th>\n",
       "      <th>leftContext</th>\n",
       "      <th>rightContext</th>\n",
       "      <th>globalTopSpeaker</th>\n",
       "      <th>globalProbas</th>\n",
       "      <th>localTopSpeaker</th>\n",
       "      <th>localProbas</th>\n",
       "    </tr>\n",
       "  </thead>\n",
       "  <tbody>\n",
       "    <tr>\n",
       "      <th>0</th>\n",
       "      <td>140</td>\n",
       "      <td>2020-02-18-006228</td>\n",
       "      <td>44</td>\n",
       "      <td>appears to show a decline in new cases</td>\n",
       "      <td>. However, the death toll crossed 2,000 in mai...</td>\n",
       "      <td>but any apparent trend [QUOTE]</td>\n",
       "      <td>Tedros Adhanom Ghebreyesus</td>\n",
       "      <td>[[Tedros Adhanom Ghebreyesus, 0.9334], [None, ...</td>\n",
       "      <td>Antonio Guterres</td>\n",
       "      <td>[[Antonio Guterres, 0.6763], [None, 0.3237]]</td>\n",
       "    </tr>\n",
       "    <tr>\n",
       "      <th>1</th>\n",
       "      <td>154</td>\n",
       "      <td>2020-02-17-045269</td>\n",
       "      <td>171</td>\n",
       "      <td>must be interpreted very cautiously.</td>\n",
       "      <td>. UN Secretary General Antonio Guterres said t...</td>\n",
       "      <td></td>\n",
       "      <td>Tedros Adhanom Ghebreyesus</td>\n",
       "      <td>[[Tedros Adhanom Ghebreyesus, 0.9183], [None, ...</td>\n",
       "      <td>None</td>\n",
       "      <td>[[None, 0.604], [Antonio Guterres, 0.396]]</td>\n",
       "    </tr>\n",
       "    <tr>\n",
       "      <th>2</th>\n",
       "      <td>113</td>\n",
       "      <td>2020-02-18-043485</td>\n",
       "      <td>527</td>\n",
       "      <td>is not out of control but it is a very dangero...</td>\n",
       "      <td>new cases of coronavirus in China's Hubei prov...</td>\n",
       "      <td>Meanwhile, the World Health Organization (WHO)...</td>\n",
       "      <td>Antonio Guterres</td>\n",
       "      <td>[[Antonio Guterres, 0.6463], [None, 0.2758], [...</td>\n",
       "      <td>Antonio Guterres</td>\n",
       "      <td>[[Antonio Guterres, 0.9649], [None, 0.0351]]</td>\n",
       "    </tr>\n",
       "    <tr>\n",
       "      <th>3</th>\n",
       "      <td>377</td>\n",
       "      <td>2020-02-22-041531</td>\n",
       "      <td>10</td>\n",
       "      <td>We will be by your side so you can overcome th...</td>\n",
       "      <td>. Globally, nearly 78,000 people have been inf...</td>\n",
       "      <td>Chinese Ambassador Chen Bo thanked the Balkan ...</td>\n",
       "      <td>None</td>\n",
       "      <td>[[None, 0.5605], [Chen Bo, 0.4395]]</td>\n",
       "      <td>None</td>\n",
       "      <td>[[None, 0.5719], [Chen Bo, 0.4281]]</td>\n",
       "    </tr>\n",
       "    <tr>\n",
       "      <th>4</th>\n",
       "      <td>427</td>\n",
       "      <td>2020-02-22-005019</td>\n",
       "      <td>10</td>\n",
       "      <td>China will be stronger after it overcomes the ...</td>\n",
       "      <td>. [QUOTE] Chinese Ambassador Chen Bo thanked t...</td>\n",
       "      <td>No Serbian citizens so far have been confirmed...</td>\n",
       "      <td>Chen Bo</td>\n",
       "      <td>[[Chen Bo, 0.9207], [None, 0.0793]]</td>\n",
       "      <td>Chen Bo</td>\n",
       "      <td>[[Chen Bo, 0.9139], [None, 0.0861]]</td>\n",
       "    </tr>\n",
       "  </tbody>\n",
       "</table>\n",
       "</div>"
      ],
      "text/plain": [
       "   quotationOffset            quoteID  numOccurrences  \\\n",
       "0              140  2020-02-18-006228              44   \n",
       "1              154  2020-02-17-045269             171   \n",
       "2              113  2020-02-18-043485             527   \n",
       "3              377  2020-02-22-041531              10   \n",
       "4              427  2020-02-22-005019              10   \n",
       "\n",
       "                                           quotation  \\\n",
       "0             appears to show a decline in new cases   \n",
       "1               must be interpreted very cautiously.   \n",
       "2  is not out of control but it is a very dangero...   \n",
       "3  We will be by your side so you can overcome th...   \n",
       "4  China will be stronger after it overcomes the ...   \n",
       "\n",
       "                                         leftContext  \\\n",
       "0  . However, the death toll crossed 2,000 in mai...   \n",
       "1  . UN Secretary General Antonio Guterres said t...   \n",
       "2  new cases of coronavirus in China's Hubei prov...   \n",
       "3  . Globally, nearly 78,000 people have been inf...   \n",
       "4  . [QUOTE] Chinese Ambassador Chen Bo thanked t...   \n",
       "\n",
       "                                        rightContext  \\\n",
       "0                     but any apparent trend [QUOTE]   \n",
       "1                                                      \n",
       "2  Meanwhile, the World Health Organization (WHO)...   \n",
       "3  Chinese Ambassador Chen Bo thanked the Balkan ...   \n",
       "4  No Serbian citizens so far have been confirmed...   \n",
       "\n",
       "             globalTopSpeaker  \\\n",
       "0  Tedros Adhanom Ghebreyesus   \n",
       "1  Tedros Adhanom Ghebreyesus   \n",
       "2            Antonio Guterres   \n",
       "3                        None   \n",
       "4                     Chen Bo   \n",
       "\n",
       "                                        globalProbas   localTopSpeaker  \\\n",
       "0  [[Tedros Adhanom Ghebreyesus, 0.9334], [None, ...  Antonio Guterres   \n",
       "1  [[Tedros Adhanom Ghebreyesus, 0.9183], [None, ...              None   \n",
       "2  [[Antonio Guterres, 0.6463], [None, 0.2758], [...  Antonio Guterres   \n",
       "3                [[None, 0.5605], [Chen Bo, 0.4395]]              None   \n",
       "4                [[Chen Bo, 0.9207], [None, 0.0793]]           Chen Bo   \n",
       "\n",
       "                                    localProbas  \n",
       "0  [[Antonio Guterres, 0.6763], [None, 0.3237]]  \n",
       "1    [[None, 0.604], [Antonio Guterres, 0.396]]  \n",
       "2  [[Antonio Guterres, 0.9649], [None, 0.0351]]  \n",
       "3           [[None, 0.5719], [Chen Bo, 0.4281]]  \n",
       "4           [[Chen Bo, 0.9139], [None, 0.0861]]  "
      ]
     },
     "execution_count": 10,
     "metadata": {},
     "output_type": "execute_result"
    }
   ],
   "source": [
    "quote_df.head(5)"
   ]
  },
  {
   "cell_type": "code",
   "execution_count": 11,
   "metadata": {},
   "outputs": [
    {
     "name": "stdout",
     "output_type": "stream",
     "text": [
      "appears to show a decline in new cases\n",
      "\n",
      "must be interpreted very cautiously.\n",
      "\n",
      "is not out of control but it is a very dangerous situation.\n",
      "\n",
      "We will be by your side so you can overcome these difficulties. When China is well, Serbia will be well also.\n",
      "\n",
      "China will be stronger after it overcomes the epidemic.\n",
      "\n"
     ]
    }
   ],
   "source": [
    "for title in quote_df['quotation'].head(5):\n",
    "    print(title)\n",
    "    print()"
   ]
  },
  {
   "cell_type": "markdown",
   "metadata": {},
   "source": [
    "Above we see the quotations in the dataframe, the quotations are quite generic, and may not be connected to China directly, as the title of the article may not directly be connected to the target of a quotation."
   ]
  },
  {
   "cell_type": "code",
   "execution_count": 12,
   "metadata": {},
   "outputs": [
    {
     "data": {
      "text/plain": [
       "one country, two systems                                                                                                                                                           610\n",
       "There is no reason for measures that unnecessarily interfere with international travel and trade,                                                                                  508\n",
       "Countries need to get ready for possible importation in order to identify cases as early as possible and in order to be ready for a domestic outbreak control, if that happens,    484\n",
       "The main reason for this declaration is not because of what is happening in China but because of what is happening in other countries,                                             459\n",
       "Our greatest concern is the potential for this virus to spread to countries with weaker health systems which are ill-prepared to deal with it.                                     391\n",
       "Important services, critical operations have been affected,                                                                                                                        381\n",
       "China has made enforceable commitments to refrain from competitive devaluation, while promoting transparency and accountability,                                                   370\n",
       "The case fatality ratio is settling out at a much lower level than we were reporting three, now four, weeks ago,                                                                   353\n",
       "To my knowledge, trying to contain a city of 11 million people is new to science,                                                                                                  347\n",
       "We hope we can go somewhere so that passengers can land.                                                                                                                           325\n",
       "Name: quotation, dtype: int64"
      ]
     },
     "execution_count": 12,
     "metadata": {},
     "output_type": "execute_result"
    }
   ],
   "source": [
    "quote_df['quotation'].value_counts()[:10]"
   ]
  },
  {
   "cell_type": "markdown",
   "metadata": {},
   "source": [
    "Again when we look at the top 10 appearing quotations, we see that many of them are generic, and may not talk about China at all. Because of this we decided to look at the left and right context of the quotation instead, as we are then more certain that the quote is related to China."
   ]
  },
  {
   "cell_type": "code",
   "execution_count": 13,
   "metadata": {},
   "outputs": [],
   "source": [
    "# Here we load the data where the quote, left or right context contains a word related to China.\n",
    "path_to_out = 'C:/Users/jozef/Desktop/quotebank/quotebank-2020-context-contains-related.json.bz2'\n",
    "context_df = pd.read_json(path_to_out ,lines=True)"
   ]
  },
  {
   "cell_type": "code",
   "execution_count": 14,
   "metadata": {},
   "outputs": [
    {
     "data": {
      "text/html": [
       "<div>\n",
       "<style scoped>\n",
       "    .dataframe tbody tr th:only-of-type {\n",
       "        vertical-align: middle;\n",
       "    }\n",
       "\n",
       "    .dataframe tbody tr th {\n",
       "        vertical-align: top;\n",
       "    }\n",
       "\n",
       "    .dataframe thead th {\n",
       "        text-align: right;\n",
       "    }\n",
       "</style>\n",
       "<table border=\"1\" class=\"dataframe\">\n",
       "  <thead>\n",
       "    <tr style=\"text-align: right;\">\n",
       "      <th></th>\n",
       "      <th>quotationOffset</th>\n",
       "      <th>quoteID</th>\n",
       "      <th>numOccurrences</th>\n",
       "      <th>quotation</th>\n",
       "      <th>leftContext</th>\n",
       "      <th>rightContext</th>\n",
       "      <th>globalTopSpeaker</th>\n",
       "      <th>globalProbas</th>\n",
       "      <th>localTopSpeaker</th>\n",
       "      <th>localProbas</th>\n",
       "      <th>title</th>\n",
       "      <th>date</th>\n",
       "      <th>articleID</th>\n",
       "      <th>id</th>\n",
       "    </tr>\n",
       "  </thead>\n",
       "  <tbody>\n",
       "    <tr>\n",
       "      <th>0</th>\n",
       "      <td>254</td>\n",
       "      <td>2020-02-17-002719</td>\n",
       "      <td>25</td>\n",
       "      <td>All of our stores in China and many of our par...</td>\n",
       "      <td>. IMF chief Kristalina Georgieva said there co...</td>\n",
       "      <td>it added. [QUOTE] New cases outside the epicen...</td>\n",
       "      <td>Kristalina Georgieva</td>\n",
       "      <td>[[Kristalina Georgieva, 0.8555], [None, 0.1445]]</td>\n",
       "      <td>Kristalina Georgieva</td>\n",
       "      <td>[[Kristalina Georgieva, 0.8576], [None, 0.1424]]</td>\n",
       "      <td>Apple says will not meet revenue forecasts due...</td>\n",
       "      <td>2020-02-17 22:39:03</td>\n",
       "      <td>2020021722_00241699_W</td>\n",
       "      <td>[Q265277]</td>\n",
       "    </tr>\n",
       "    <tr>\n",
       "      <th>1</th>\n",
       "      <td>223</td>\n",
       "      <td>2020-01-02-060856</td>\n",
       "      <td>1</td>\n",
       "      <td>Three years into his presidency, Donald Trump ...</td>\n",
       "      <td>[QUOTE] Sherman went on to fault Trump for [QU...</td>\n",
       "      <td>she wrote. Protesters at the U.S. Embassy in B...</td>\n",
       "      <td>Wendy Sherman</td>\n",
       "      <td>[[Wendy Sherman, 0.8968], [None, 0.0674], [Pre...</td>\n",
       "      <td>Wendy Sherman</td>\n",
       "      <td>[[Wendy Sherman, 0.8968], [None, 0.0674], [Pre...</td>\n",
       "      <td>Top Obama official : Trump to blame for attack...</td>\n",
       "      <td>2020-01-02 14:33:10</td>\n",
       "      <td>2020010215_00036243_W</td>\n",
       "      <td>[Q4169153]</td>\n",
       "    </tr>\n",
       "    <tr>\n",
       "      <th>2</th>\n",
       "      <td>133</td>\n",
       "      <td>2020-02-18-079318</td>\n",
       "      <td>2</td>\n",
       "      <td>The people of Earth need to know: When is Amaz...</td>\n",
       "      <td>. [QUOTE] Amazon Employees For Climate Justice...</td>\n",
       "      <td>the group asked. Bezos took to Instagram Monda...</td>\n",
       "      <td>None</td>\n",
       "      <td>[[None, 0.7331], [Jeff Bezos, 0.2669]]</td>\n",
       "      <td>None</td>\n",
       "      <td>[[None, 0.7331], [Jeff Bezos, 0.2669]]</td>\n",
       "      <td>` One Hand Can not Give What the Other Is Taki...</td>\n",
       "      <td>2020-02-18 05:00:00</td>\n",
       "      <td>2020021817_00217946_W</td>\n",
       "      <td>NaN</td>\n",
       "    </tr>\n",
       "    <tr>\n",
       "      <th>3</th>\n",
       "      <td>60</td>\n",
       "      <td>2020-02-17-075215</td>\n",
       "      <td>130</td>\n",
       "      <td>We applaud Jeff Bezos' philanthropy, but one h...</td>\n",
       "      <td>10 billion to help solve the climate crisis, c...</td>\n",
       "      <td>Amazon Employees For Climate Justice said in a...</td>\n",
       "      <td>None</td>\n",
       "      <td>[[None, 0.8161], [Jeff Bezos, 0.1567], [fund m...</td>\n",
       "      <td>None</td>\n",
       "      <td>[[None, 0.9297], [Jeff Bezos, 0.0703]]</td>\n",
       "      <td>` One Hand Can not Give What the Other Is Taki...</td>\n",
       "      <td>2020-02-18 05:00:00</td>\n",
       "      <td>2020021817_00217946_W</td>\n",
       "      <td>NaN</td>\n",
       "    </tr>\n",
       "    <tr>\n",
       "      <th>4</th>\n",
       "      <td>140</td>\n",
       "      <td>2020-02-18-006228</td>\n",
       "      <td>44</td>\n",
       "      <td>appears to show a decline in new cases</td>\n",
       "      <td>. However, the death toll crossed 2,000 in mai...</td>\n",
       "      <td>but any apparent trend [QUOTE]</td>\n",
       "      <td>Tedros Adhanom Ghebreyesus</td>\n",
       "      <td>[[Tedros Adhanom Ghebreyesus, 0.9334], [None, ...</td>\n",
       "      <td>Antonio Guterres</td>\n",
       "      <td>[[Antonio Guterres, 0.6763], [None, 0.3237]]</td>\n",
       "      <td>Coronavirus LIVE updates : Death toll in China...</td>\n",
       "      <td>2020-02-19 02:56:43</td>\n",
       "      <td>2020021902_00173921_W</td>\n",
       "      <td>[Q311440]</td>\n",
       "    </tr>\n",
       "  </tbody>\n",
       "</table>\n",
       "</div>"
      ],
      "text/plain": [
       "   quotationOffset            quoteID  numOccurrences  \\\n",
       "0              254  2020-02-17-002719              25   \n",
       "1              223  2020-01-02-060856               1   \n",
       "2              133  2020-02-18-079318               2   \n",
       "3               60  2020-02-17-075215             130   \n",
       "4              140  2020-02-18-006228              44   \n",
       "\n",
       "                                           quotation  \\\n",
       "0  All of our stores in China and many of our par...   \n",
       "1  Three years into his presidency, Donald Trump ...   \n",
       "2  The people of Earth need to know: When is Amaz...   \n",
       "3  We applaud Jeff Bezos' philanthropy, but one h...   \n",
       "4             appears to show a decline in new cases   \n",
       "\n",
       "                                         leftContext  \\\n",
       "0  . IMF chief Kristalina Georgieva said there co...   \n",
       "1  [QUOTE] Sherman went on to fault Trump for [QU...   \n",
       "2  . [QUOTE] Amazon Employees For Climate Justice...   \n",
       "3  10 billion to help solve the climate crisis, c...   \n",
       "4  . However, the death toll crossed 2,000 in mai...   \n",
       "\n",
       "                                        rightContext  \\\n",
       "0  it added. [QUOTE] New cases outside the epicen...   \n",
       "1  she wrote. Protesters at the U.S. Embassy in B...   \n",
       "2  the group asked. Bezos took to Instagram Monda...   \n",
       "3  Amazon Employees For Climate Justice said in a...   \n",
       "4                     but any apparent trend [QUOTE]   \n",
       "\n",
       "             globalTopSpeaker  \\\n",
       "0        Kristalina Georgieva   \n",
       "1               Wendy Sherman   \n",
       "2                        None   \n",
       "3                        None   \n",
       "4  Tedros Adhanom Ghebreyesus   \n",
       "\n",
       "                                        globalProbas       localTopSpeaker  \\\n",
       "0   [[Kristalina Georgieva, 0.8555], [None, 0.1445]]  Kristalina Georgieva   \n",
       "1  [[Wendy Sherman, 0.8968], [None, 0.0674], [Pre...         Wendy Sherman   \n",
       "2             [[None, 0.7331], [Jeff Bezos, 0.2669]]                  None   \n",
       "3  [[None, 0.8161], [Jeff Bezos, 0.1567], [fund m...                  None   \n",
       "4  [[Tedros Adhanom Ghebreyesus, 0.9334], [None, ...      Antonio Guterres   \n",
       "\n",
       "                                         localProbas  \\\n",
       "0   [[Kristalina Georgieva, 0.8576], [None, 0.1424]]   \n",
       "1  [[Wendy Sherman, 0.8968], [None, 0.0674], [Pre...   \n",
       "2             [[None, 0.7331], [Jeff Bezos, 0.2669]]   \n",
       "3             [[None, 0.9297], [Jeff Bezos, 0.0703]]   \n",
       "4       [[Antonio Guterres, 0.6763], [None, 0.3237]]   \n",
       "\n",
       "                                               title                date  \\\n",
       "0  Apple says will not meet revenue forecasts due... 2020-02-17 22:39:03   \n",
       "1  Top Obama official : Trump to blame for attack... 2020-01-02 14:33:10   \n",
       "2  ` One Hand Can not Give What the Other Is Taki... 2020-02-18 05:00:00   \n",
       "3  ` One Hand Can not Give What the Other Is Taki... 2020-02-18 05:00:00   \n",
       "4  Coronavirus LIVE updates : Death toll in China... 2020-02-19 02:56:43   \n",
       "\n",
       "               articleID          id  \n",
       "0  2020021722_00241699_W   [Q265277]  \n",
       "1  2020010215_00036243_W  [Q4169153]  \n",
       "2  2020021817_00217946_W         NaN  \n",
       "3  2020021817_00217946_W         NaN  \n",
       "4  2020021902_00173921_W   [Q311440]  "
      ]
     },
     "execution_count": 14,
     "metadata": {},
     "output_type": "execute_result"
    }
   ],
   "source": [
    "context_df.head()"
   ]
  },
  {
   "cell_type": "code",
   "execution_count": 15,
   "metadata": {},
   "outputs": [
    {
     "name": "stdout",
     "output_type": "stream",
     "text": [
      "All of our stores in China and many of our partner stores have been closed,\n",
      "\n",
      "Three years into his presidency, Donald Trump owns the events and outcomes in Iraq and Iran, as he does in North Korea, Afghanistan, Venezuela, the Middle East, Russia, China and Hong Kong. Having diminished our State Department, intelligence agencies and military, the very institutions that could have helped him construct an effective national security and foreign policy, he is now on his own,\n",
      "\n",
      "The people of Earth need to know: When is Amazon going to stop helping oil & andgas companies ravage Earth with still more oil and gas wells?\n",
      "\n",
      "We applaud Jeff Bezos' philanthropy, but one hand cannot give what the other is taking away,\n",
      "\n",
      "appears to show a decline in new cases\n",
      "\n"
     ]
    }
   ],
   "source": [
    "for title in context_df['quotation'].head(5):\n",
    "    print(title)\n",
    "    print()"
   ]
  },
  {
   "cell_type": "markdown",
   "metadata": {},
   "source": [
    "Above, we see a similar trend as mentioned earlier, where some quotations sound quite generic. However, here we are sure that the context of quote directly references a word related to China, and is thus much more likely to be about China. However, we would like to have a closer look at the 3rd one as it seems to not be related to China at all. "
   ]
  },
  {
   "cell_type": "code",
   "execution_count": 16,
   "metadata": {},
   "outputs": [
    {
     "name": "stdout",
     "output_type": "stream",
     "text": [
      ". [QUOTE] Amazon Employees For Climate Justice said in a statement in response to news of the donation. As employees, here is our statement to Jeff Bezos' Earth Fund announcement (as an image): pic.twitter.com/opgcCpa67D -- Amazon Employees For Climate Justice (@AMZNforClimate) February 17, 2020\n",
      "\n",
      "The people of Earth need to know: When is Amazon going to stop helping oil & andgas companies ravage Earth with still more oil and gas wells?\n",
      "\n",
      "the group asked. Bezos took to Instagram Monday to tell the world he was donating 7.7% of his total wealth to the effort, calling the climate crisis [QUOTE] [QUOTE]\n"
     ]
    }
   ],
   "source": [
    "print(context_df.iloc[2]['leftContext'])\n",
    "print()\n",
    "print(context_df.iloc[2]['quotation'])\n",
    "print()\n",
    "print(context_df.iloc[2]['rightContext'])"
   ]
  },
  {
   "cell_type": "markdown",
   "metadata": {},
   "source": [
    "As we see, the context seems to not contain any of the words, however, when we look closer, the link contains the word ccp inside the link itself. **We therefore will remove ccp and prc from the word list in our final data extraction since they can contaminate our dataset with onrelated quotes.**"
   ]
  },
  {
   "cell_type": "code",
   "execution_count": 17,
   "metadata": {},
   "outputs": [
    {
     "name": "stderr",
     "output_type": "stream",
     "text": [
      "C:\\Users\\jozef\\anaconda3\\envs\\ada\\lib\\site-packages\\seaborn\\distributions.py:2619: FutureWarning: `distplot` is a deprecated function and will be removed in a future version. Please adapt your code to use either `displot` (a figure-level function with similar flexibility) or `histplot` (an axes-level function for histograms).\n",
      "  warnings.warn(msg, FutureWarning)\n"
     ]
    },
    {
     "data": {
      "text/plain": [
       "<AxesSubplot:xlabel='quotation', ylabel='Density'>"
      ]
     },
     "execution_count": 17,
     "metadata": {},
     "output_type": "execute_result"
    },
    {
     "data": {
      "image/png": "[encoded data removed]",
      "text/plain": [
       "<Figure size 432x288 with 1 Axes>"
      ]
     },
     "metadata": {
      "needs_background": "light"
     },
     "output_type": "display_data"
    }
   ],
   "source": [
    "sns.distplot(context_df['quotation'].apply(len))"
   ]
  },
  {
   "cell_type": "markdown",
   "metadata": {},
   "source": [
    "As plot shows, there are quotations that that too long while most of the quoations have a length less than 500."
   ]
  },
  {
   "cell_type": "code",
   "execution_count": 40,
   "metadata": {},
   "outputs": [
    {
     "data": {
      "text/plain": [
       "321.0"
      ]
     },
     "execution_count": 40,
     "metadata": {},
     "output_type": "execute_result"
    }
   ],
   "source": [
    "context_df['quotation'].apply(len).quantile(0.98)"
   ]
  },
  {
   "cell_type": "code",
   "execution_count": 47,
   "metadata": {},
   "outputs": [
    {
     "data": {
      "text/plain": [
       "array([\"Driven by strong underlying demand in North American non-residential roofing markets, Carlisle delivered record fourth quarter sales, operating income and diluted EPS. We accomplished these results despite the continued negative impact in the global economy driven by US/China trade negotiations, Brexit uncertainty, global industrial production declines and significant commercial aerospace production delays at a key customer. We continue to gain traction on the key pillars of Vision 2025, under which we target: $8 billion in revenues, 20% operating margin, and 15% ROIC, all driving to $15 of earnings per share. As we embark on year three of Vision 2025, we will build on the achievements of our first two years and continue to drive towards our objectives of: achieving 5% organic growth with leverage, utilizing the Carlisle Operating System (COS) to deliver efficiencies and annual cost savings of 1-2% of revenues, deploying $3 billion to build scale with synergistic acquisitions, continuing to invest in exceptional talent and allocating over $3 billion into capital expenditures, share repurchases and dividends. Full year 2019 highlights include: Delivered 2.8% organic revenue growth despite significant global headwinds; leveraged this growth to expand operating margins 220 basis points Drove organic revenue growth of 5.0% since launching Vision 2025, in line with our long-term target Maintained strong price discipline, leading to positive price realization across all businesses Achieved gross savings and benefits from COS within our targeted range of 1-2% of revenues Deployed over $600 million of capital into 8 strategic and synergistic acquisitions Leveraged our strong cash flow and balance sheet by deploying over $485 million into share repurchases and dividends paid; 3-year total of $1.4 billion In addition to our strong financial performance, we are pleased about the continued momentum our team has generated around Environmental Social and Governance (ESG) issues. In 2019 we established an ESG steering committee, developed an ESG reporting process, elevated the position of Director of Sustainability to report directly to the CEO and established a plan to publish our first ESG report in 2020. Additionally, we made progress in diversifying our Board of Directors and have made commitments to ensuring a $15 per hour minimum wage in our U.S. operations, gender pay equity, and a gender-balanced management team. We are pleased with our significant accomplishments and strong performance in a challenging 2019. Supported by COS, our teams focused on and executed numerous continuous improvement projects to help overcome these challenges. Finally, we recognize that Carlisle's achievements are the culmination of efforts by our employees, customers, channel partners and suppliers, and we appreciate their contribution to our record results in 2019.\"],\n",
       "      dtype=object)"
      ]
     },
     "execution_count": 47,
     "metadata": {},
     "output_type": "execute_result"
    }
   ],
   "source": [
    "max=context_df['quotation'].apply(len).max()\n",
    "context_df[context_df['quotation'].apply(len)==max].quotation.values"
   ]
  },
  {
   "cell_type": "markdown",
   "metadata": {},
   "source": [
    "As shown, the longest quotation seems normal. And it is reasonable that the very long quotation exists. So, we won't set any bounderarys on quotations.\n",
    "\n",
    "Next, we start merging data with Wikidata dataset to filter speakers by nationality."
   ]
  },
  {
   "cell_type": "code",
   "execution_count": 18,
   "metadata": {},
   "outputs": [
    {
     "data": {
      "text/plain": [
       "0           [Q265277]\n",
       "1          [Q4169153]\n",
       "2                 NaN\n",
       "3                 NaN\n",
       "4           [Q311440]\n",
       "             ...     \n",
       "680805    [Q16734363]\n",
       "680806            NaN\n",
       "680807            NaN\n",
       "680808            NaN\n",
       "680809        [Q6279]\n",
       "Name: id, Length: 680810, dtype: object"
      ]
     },
     "execution_count": 18,
     "metadata": {},
     "output_type": "execute_result"
    }
   ],
   "source": [
    "context_df.id"
   ]
  },
  {
   "cell_type": "code",
   "execution_count": 19,
   "metadata": {},
   "outputs": [
    {
     "data": {
      "text/plain": [
       "6912"
      ]
     },
     "execution_count": 19,
     "metadata": {},
     "output_type": "execute_result"
    }
   ],
   "source": [
    "sum(context_df[context_df.id.isna()].localTopSpeaker!='None')"
   ]
  },
  {
   "cell_type": "markdown",
   "metadata": {},
   "source": [
    "However as we see above there are many quotations that do not have a QID. This means that either the `localTopSpeaker` is `None` or the speaker does not show up in the wikidata file since we see 6912 non-`None` entries. So we drop the `NaN` values in the `id` column and convert it to list in the next cell."
   ]
  },
  {
   "cell_type": "code",
   "execution_count": 20,
   "metadata": {},
   "outputs": [
    {
     "data": {
      "text/plain": [
       "0           [Q265277]\n",
       "1          [Q4169153]\n",
       "4           [Q311440]\n",
       "6           [Q311440]\n",
       "8           [Q520173]\n",
       "             ...     \n",
       "680802     [Q5344760]\n",
       "680803      [Q374346]\n",
       "680804    [Q16734363]\n",
       "680805    [Q16734363]\n",
       "680809        [Q6279]\n",
       "Name: id, Length: 493343, dtype: object"
      ]
     },
     "execution_count": 20,
     "metadata": {},
     "output_type": "execute_result"
    }
   ],
   "source": [
    "context_df.id.dropna().apply(lambda x: x.lstrip(\"[\").rstrip(\"]\").split(\",\"))"
   ]
  },
  {
   "cell_type": "code",
   "execution_count": 21,
   "metadata": {},
   "outputs": [
    {
     "data": {
      "text/plain": [
       "1      367383\n",
       "2       38218\n",
       "3       16035\n",
       "5       13841\n",
       "4       12106\n",
       "        ...  \n",
       "89          2\n",
       "110         2\n",
       "76          1\n",
       "378         1\n",
       "117         1\n",
       "Name: id, Length: 114, dtype: int64"
      ]
     },
     "execution_count": 21,
     "metadata": {},
     "output_type": "execute_result"
    }
   ],
   "source": [
    "context_df.id.dropna().apply(lambda x: x.lstrip(\"[\").rstrip(\"]\").split(\",\")).apply(len).value_counts()"
   ]
  },
  {
   "cell_type": "markdown",
   "metadata": {},
   "source": [
    "As we can see above, there are many speakers with multiple QIDs, which may be the case if they have very commom names. "
   ]
  },
  {
   "cell_type": "markdown",
   "metadata": {},
   "source": [
    "## Merging the speaker attributes"
   ]
  },
  {
   "cell_type": "code",
   "execution_count": 22,
   "metadata": {},
   "outputs": [
    {
     "data": {
      "text/html": [
       "<div>\n",
       "<style scoped>\n",
       "    .dataframe tbody tr th:only-of-type {\n",
       "        vertical-align: middle;\n",
       "    }\n",
       "\n",
       "    .dataframe tbody tr th {\n",
       "        vertical-align: top;\n",
       "    }\n",
       "\n",
       "    .dataframe thead th {\n",
       "        text-align: right;\n",
       "    }\n",
       "</style>\n",
       "<table border=\"1\" class=\"dataframe\">\n",
       "  <thead>\n",
       "    <tr style=\"text-align: right;\">\n",
       "      <th></th>\n",
       "      <th>aliases</th>\n",
       "      <th>date_of_birth</th>\n",
       "      <th>nationality</th>\n",
       "      <th>gender</th>\n",
       "      <th>lastrevid</th>\n",
       "      <th>ethnic_group</th>\n",
       "      <th>US_congress_bio_ID</th>\n",
       "      <th>occupation</th>\n",
       "      <th>party</th>\n",
       "      <th>academic_degree</th>\n",
       "      <th>id</th>\n",
       "      <th>label</th>\n",
       "      <th>candidacy</th>\n",
       "      <th>type</th>\n",
       "      <th>religion</th>\n",
       "    </tr>\n",
       "  </thead>\n",
       "  <tbody>\n",
       "    <tr>\n",
       "      <th>0</th>\n",
       "      <td>[Washington, President Washington, G. Washingt...</td>\n",
       "      <td>[+1732-02-22T00:00:00Z]</td>\n",
       "      <td>[Q161885, Q30]</td>\n",
       "      <td>[Q6581097]</td>\n",
       "      <td>1395141751</td>\n",
       "      <td>None</td>\n",
       "      <td>W000178</td>\n",
       "      <td>[Q82955, Q189290, Q131512, Q1734662, Q294126, ...</td>\n",
       "      <td>[Q327591]</td>\n",
       "      <td>None</td>\n",
       "      <td>Q23</td>\n",
       "      <td>George Washington</td>\n",
       "      <td>[Q698073, Q697949]</td>\n",
       "      <td>item</td>\n",
       "      <td>[Q682443]</td>\n",
       "    </tr>\n",
       "    <tr>\n",
       "      <th>1</th>\n",
       "      <td>[Douglas Noel Adams, Douglas Noël Adams, Dougl...</td>\n",
       "      <td>[+1952-03-11T00:00:00Z]</td>\n",
       "      <td>[Q145]</td>\n",
       "      <td>[Q6581097]</td>\n",
       "      <td>1395737157</td>\n",
       "      <td>[Q7994501]</td>\n",
       "      <td>None</td>\n",
       "      <td>[Q214917, Q28389, Q6625963, Q4853732, Q1884422...</td>\n",
       "      <td>None</td>\n",
       "      <td>None</td>\n",
       "      <td>Q42</td>\n",
       "      <td>Douglas Adams</td>\n",
       "      <td>None</td>\n",
       "      <td>item</td>\n",
       "      <td>None</td>\n",
       "    </tr>\n",
       "    <tr>\n",
       "      <th>2</th>\n",
       "      <td>[Paul Marie Ghislain Otlet, Paul Marie Otlet]</td>\n",
       "      <td>[+1868-08-23T00:00:00Z]</td>\n",
       "      <td>[Q31]</td>\n",
       "      <td>[Q6581097]</td>\n",
       "      <td>1380367296</td>\n",
       "      <td>None</td>\n",
       "      <td>None</td>\n",
       "      <td>[Q36180, Q40348, Q182436, Q1265807, Q205375, Q...</td>\n",
       "      <td>None</td>\n",
       "      <td>None</td>\n",
       "      <td>Q1868</td>\n",
       "      <td>Paul Otlet</td>\n",
       "      <td>None</td>\n",
       "      <td>item</td>\n",
       "      <td>None</td>\n",
       "    </tr>\n",
       "    <tr>\n",
       "      <th>3</th>\n",
       "      <td>[George Walker Bush, Bush Jr., Dubya, GWB, Bus...</td>\n",
       "      <td>[+1946-07-06T00:00:00Z]</td>\n",
       "      <td>[Q30]</td>\n",
       "      <td>[Q6581097]</td>\n",
       "      <td>1395142029</td>\n",
       "      <td>None</td>\n",
       "      <td>None</td>\n",
       "      <td>[Q82955, Q15982858, Q18814623, Q1028181, Q1408...</td>\n",
       "      <td>[Q29468]</td>\n",
       "      <td>None</td>\n",
       "      <td>Q207</td>\n",
       "      <td>George W. Bush</td>\n",
       "      <td>[Q327959, Q464075, Q3586276, Q4450587]</td>\n",
       "      <td>item</td>\n",
       "      <td>[Q329646, Q682443, Q33203]</td>\n",
       "    </tr>\n",
       "    <tr>\n",
       "      <th>4</th>\n",
       "      <td>[Velázquez, Diego Rodríguez de Silva y Velázqu...</td>\n",
       "      <td>[+1599-06-06T00:00:00Z]</td>\n",
       "      <td>[Q29]</td>\n",
       "      <td>[Q6581097]</td>\n",
       "      <td>1391704596</td>\n",
       "      <td>None</td>\n",
       "      <td>None</td>\n",
       "      <td>[Q1028181]</td>\n",
       "      <td>None</td>\n",
       "      <td>None</td>\n",
       "      <td>Q297</td>\n",
       "      <td>Diego Velázquez</td>\n",
       "      <td>None</td>\n",
       "      <td>item</td>\n",
       "      <td>None</td>\n",
       "    </tr>\n",
       "    <tr>\n",
       "      <th>...</th>\n",
       "      <td>...</td>\n",
       "      <td>...</td>\n",
       "      <td>...</td>\n",
       "      <td>...</td>\n",
       "      <td>...</td>\n",
       "      <td>...</td>\n",
       "      <td>...</td>\n",
       "      <td>...</td>\n",
       "      <td>...</td>\n",
       "      <td>...</td>\n",
       "      <td>...</td>\n",
       "      <td>...</td>\n",
       "      <td>...</td>\n",
       "      <td>...</td>\n",
       "      <td>...</td>\n",
       "    </tr>\n",
       "    <tr>\n",
       "      <th>9055976</th>\n",
       "      <td>[Barker Howard]</td>\n",
       "      <td>None</td>\n",
       "      <td>[Q30]</td>\n",
       "      <td>[Q6581097]</td>\n",
       "      <td>1397399351</td>\n",
       "      <td>None</td>\n",
       "      <td>None</td>\n",
       "      <td>[Q82955]</td>\n",
       "      <td>None</td>\n",
       "      <td>None</td>\n",
       "      <td>Q106406560</td>\n",
       "      <td>Barker B. Howard</td>\n",
       "      <td>None</td>\n",
       "      <td>item</td>\n",
       "      <td>None</td>\n",
       "    </tr>\n",
       "    <tr>\n",
       "      <th>9055977</th>\n",
       "      <td>[Charles Macomber]</td>\n",
       "      <td>None</td>\n",
       "      <td>[Q30]</td>\n",
       "      <td>[Q6581097]</td>\n",
       "      <td>1397399471</td>\n",
       "      <td>None</td>\n",
       "      <td>None</td>\n",
       "      <td>[Q82955]</td>\n",
       "      <td>None</td>\n",
       "      <td>None</td>\n",
       "      <td>Q106406571</td>\n",
       "      <td>Charles H. Macomber</td>\n",
       "      <td>None</td>\n",
       "      <td>item</td>\n",
       "      <td>None</td>\n",
       "    </tr>\n",
       "    <tr>\n",
       "      <th>9055978</th>\n",
       "      <td>None</td>\n",
       "      <td>[+1848-04-01T00:00:00Z]</td>\n",
       "      <td>None</td>\n",
       "      <td>[Q6581072]</td>\n",
       "      <td>1397399751</td>\n",
       "      <td>None</td>\n",
       "      <td>None</td>\n",
       "      <td>None</td>\n",
       "      <td>None</td>\n",
       "      <td>None</td>\n",
       "      <td>Q106406588</td>\n",
       "      <td>Dina David</td>\n",
       "      <td>None</td>\n",
       "      <td>item</td>\n",
       "      <td>None</td>\n",
       "    </tr>\n",
       "    <tr>\n",
       "      <th>9055979</th>\n",
       "      <td>None</td>\n",
       "      <td>[+1899-03-18T00:00:00Z]</td>\n",
       "      <td>None</td>\n",
       "      <td>[Q6581072]</td>\n",
       "      <td>1397399799</td>\n",
       "      <td>None</td>\n",
       "      <td>None</td>\n",
       "      <td>None</td>\n",
       "      <td>None</td>\n",
       "      <td>None</td>\n",
       "      <td>Q106406593</td>\n",
       "      <td>Irma Dexinger</td>\n",
       "      <td>None</td>\n",
       "      <td>item</td>\n",
       "      <td>None</td>\n",
       "    </tr>\n",
       "    <tr>\n",
       "      <th>9055980</th>\n",
       "      <td>[Fred Trull]</td>\n",
       "      <td>None</td>\n",
       "      <td>[Q30]</td>\n",
       "      <td>[Q6581097]</td>\n",
       "      <td>1397400809</td>\n",
       "      <td>None</td>\n",
       "      <td>None</td>\n",
       "      <td>[Q82955]</td>\n",
       "      <td>None</td>\n",
       "      <td>None</td>\n",
       "      <td>Q106406643</td>\n",
       "      <td>Fred F. Trull</td>\n",
       "      <td>None</td>\n",
       "      <td>item</td>\n",
       "      <td>None</td>\n",
       "    </tr>\n",
       "  </tbody>\n",
       "</table>\n",
       "<p>9055981 rows × 15 columns</p>\n",
       "</div>"
      ],
      "text/plain": [
       "                                                   aliases  \\\n",
       "0        [Washington, President Washington, G. Washingt...   \n",
       "1        [Douglas Noel Adams, Douglas Noël Adams, Dougl...   \n",
       "2            [Paul Marie Ghislain Otlet, Paul Marie Otlet]   \n",
       "3        [George Walker Bush, Bush Jr., Dubya, GWB, Bus...   \n",
       "4        [Velázquez, Diego Rodríguez de Silva y Velázqu...   \n",
       "...                                                    ...   \n",
       "9055976                                    [Barker Howard]   \n",
       "9055977                                 [Charles Macomber]   \n",
       "9055978                                               None   \n",
       "9055979                                               None   \n",
       "9055980                                       [Fred Trull]   \n",
       "\n",
       "                   date_of_birth     nationality      gender   lastrevid  \\\n",
       "0        [+1732-02-22T00:00:00Z]  [Q161885, Q30]  [Q6581097]  1395141751   \n",
       "1        [+1952-03-11T00:00:00Z]          [Q145]  [Q6581097]  1395737157   \n",
       "2        [+1868-08-23T00:00:00Z]           [Q31]  [Q6581097]  1380367296   \n",
       "3        [+1946-07-06T00:00:00Z]           [Q30]  [Q6581097]  1395142029   \n",
       "4        [+1599-06-06T00:00:00Z]           [Q29]  [Q6581097]  1391704596   \n",
       "...                          ...             ...         ...         ...   \n",
       "9055976                     None           [Q30]  [Q6581097]  1397399351   \n",
       "9055977                     None           [Q30]  [Q6581097]  1397399471   \n",
       "9055978  [+1848-04-01T00:00:00Z]            None  [Q6581072]  1397399751   \n",
       "9055979  [+1899-03-18T00:00:00Z]            None  [Q6581072]  1397399799   \n",
       "9055980                     None           [Q30]  [Q6581097]  1397400809   \n",
       "\n",
       "        ethnic_group US_congress_bio_ID  \\\n",
       "0               None            W000178   \n",
       "1         [Q7994501]               None   \n",
       "2               None               None   \n",
       "3               None               None   \n",
       "4               None               None   \n",
       "...              ...                ...   \n",
       "9055976         None               None   \n",
       "9055977         None               None   \n",
       "9055978         None               None   \n",
       "9055979         None               None   \n",
       "9055980         None               None   \n",
       "\n",
       "                                                occupation      party  \\\n",
       "0        [Q82955, Q189290, Q131512, Q1734662, Q294126, ...  [Q327591]   \n",
       "1        [Q214917, Q28389, Q6625963, Q4853732, Q1884422...       None   \n",
       "2        [Q36180, Q40348, Q182436, Q1265807, Q205375, Q...       None   \n",
       "3        [Q82955, Q15982858, Q18814623, Q1028181, Q1408...   [Q29468]   \n",
       "4                                               [Q1028181]       None   \n",
       "...                                                    ...        ...   \n",
       "9055976                                           [Q82955]       None   \n",
       "9055977                                           [Q82955]       None   \n",
       "9055978                                               None       None   \n",
       "9055979                                               None       None   \n",
       "9055980                                           [Q82955]       None   \n",
       "\n",
       "        academic_degree          id                label  \\\n",
       "0                  None         Q23    George Washington   \n",
       "1                  None         Q42        Douglas Adams   \n",
       "2                  None       Q1868           Paul Otlet   \n",
       "3                  None        Q207       George W. Bush   \n",
       "4                  None        Q297      Diego Velázquez   \n",
       "...                 ...         ...                  ...   \n",
       "9055976            None  Q106406560     Barker B. Howard   \n",
       "9055977            None  Q106406571  Charles H. Macomber   \n",
       "9055978            None  Q106406588           Dina David   \n",
       "9055979            None  Q106406593        Irma Dexinger   \n",
       "9055980            None  Q106406643        Fred F. Trull   \n",
       "\n",
       "                                      candidacy  type  \\\n",
       "0                            [Q698073, Q697949]  item   \n",
       "1                                          None  item   \n",
       "2                                          None  item   \n",
       "3        [Q327959, Q464075, Q3586276, Q4450587]  item   \n",
       "4                                          None  item   \n",
       "...                                         ...   ...   \n",
       "9055976                                    None  item   \n",
       "9055977                                    None  item   \n",
       "9055978                                    None  item   \n",
       "9055979                                    None  item   \n",
       "9055980                                    None  item   \n",
       "\n",
       "                           religion  \n",
       "0                         [Q682443]  \n",
       "1                              None  \n",
       "2                              None  \n",
       "3        [Q329646, Q682443, Q33203]  \n",
       "4                              None  \n",
       "...                             ...  \n",
       "9055976                        None  \n",
       "9055977                        None  \n",
       "9055978                        None  \n",
       "9055979                        None  \n",
       "9055980                        None  \n",
       "\n",
       "[9055981 rows x 15 columns]"
      ]
     },
     "execution_count": 22,
     "metadata": {},
     "output_type": "execute_result"
    }
   ],
   "source": [
    "speaker_df = pd.read_parquet('C:/Users/jozef/Desktop/quotebank/speaker_attributes.parquet')\n",
    "speaker_df"
   ]
  },
  {
   "cell_type": "markdown",
   "metadata": {},
   "source": [
    "Above we load the parquet file containing the speaker information. We merge this dataframe into the quotation dataframe on the QID's of the speaker."
   ]
  },
  {
   "cell_type": "code",
   "execution_count": 23,
   "metadata": {},
   "outputs": [],
   "source": [
    "context_df = context_df[~context_df['id'].isna()]"
   ]
  },
  {
   "cell_type": "code",
   "execution_count": 24,
   "metadata": {},
   "outputs": [],
   "source": [
    "context_df = context_df[context_df.id.apply(lambda x: x.lstrip(\"[\").rstrip(\"]\").split(\",\")).apply(len) == 1]"
   ]
  },
  {
   "cell_type": "code",
   "execution_count": 25,
   "metadata": {},
   "outputs": [],
   "source": [
    "context_df['id'] = context_df['id'].apply(lambda x: x[1:-1])"
   ]
  },
  {
   "cell_type": "markdown",
   "metadata": {},
   "source": [
    "Above we removed wrong ids so we can merge the two dataframes"
   ]
  },
  {
   "cell_type": "code",
   "execution_count": 26,
   "metadata": {},
   "outputs": [
    {
     "data": {
      "text/plain": [
       "0           None\n",
       "1          [Q30]\n",
       "2          [Q45]\n",
       "3          [Q45]\n",
       "4         [Q928]\n",
       "           ...  \n",
       "367378    [Q258]\n",
       "367379     [Q30]\n",
       "367380     [Q16]\n",
       "367381     [Q16]\n",
       "367382     [Q30]\n",
       "Name: nationality, Length: 367383, dtype: object"
      ]
     },
     "execution_count": 26,
     "metadata": {},
     "output_type": "execute_result"
    }
   ],
   "source": [
    "merged_df = pd.merge(context_df, speaker_df, on='id', how = 'left')\n",
    "merged_df['nationality']"
   ]
  },
  {
   "cell_type": "code",
   "execution_count": 27,
   "metadata": {},
   "outputs": [
    {
     "data": {
      "text/plain": [
       "Index(['quotationOffset', 'quoteID', 'numOccurrences', 'quotation',\n",
       "       'leftContext', 'rightContext', 'globalTopSpeaker', 'globalProbas',\n",
       "       'localTopSpeaker', 'localProbas', 'title', 'date', 'articleID', 'id',\n",
       "       'aliases', 'date_of_birth', 'nationality', 'gender', 'lastrevid',\n",
       "       'ethnic_group', 'US_congress_bio_ID', 'occupation', 'party',\n",
       "       'academic_degree', 'label', 'candidacy', 'type', 'religion'],\n",
       "      dtype='object')"
      ]
     },
     "execution_count": 27,
     "metadata": {},
     "output_type": "execute_result"
    }
   ],
   "source": [
    "merged_df.columns"
   ]
  },
  {
   "cell_type": "code",
   "execution_count": 28,
   "metadata": {},
   "outputs": [
    {
     "data": {
      "text/plain": [
       "5"
      ]
     },
     "execution_count": 28,
     "metadata": {},
     "output_type": "execute_result"
    }
   ],
   "source": [
    "merged_df['nationality'].dropna().apply(len).max()"
   ]
  },
  {
   "cell_type": "markdown",
   "metadata": {},
   "source": [
    "As we see above, we obtain much more possible information about the speaker of the quotation. Next we want to filter all the speakers that are not from a western country. For this filtering we have created our own dataframe which we use to define the QIDS of western countries. We also need to drop any rows who have an unspecified nationality. For the persons with multiple nationalities we check if any of them are in a western country"
   ]
  },
  {
   "cell_type": "code",
   "execution_count": 29,
   "metadata": {},
   "outputs": [],
   "source": [
    "merged_df = merged_df[~merged_df['nationality'].isna()]"
   ]
  },
  {
   "cell_type": "code",
   "execution_count": 30,
   "metadata": {},
   "outputs": [],
   "source": [
    "western_countries = pd.read_csv('western_countries_list.csv')"
   ]
  },
  {
   "cell_type": "code",
   "execution_count": 31,
   "metadata": {},
   "outputs": [
    {
     "data": {
      "text/html": [
       "<div>\n",
       "<style scoped>\n",
       "    .dataframe tbody tr th:only-of-type {\n",
       "        vertical-align: middle;\n",
       "    }\n",
       "\n",
       "    .dataframe tbody tr th {\n",
       "        vertical-align: top;\n",
       "    }\n",
       "\n",
       "    .dataframe thead th {\n",
       "        text-align: right;\n",
       "    }\n",
       "</style>\n",
       "<table border=\"1\" class=\"dataframe\">\n",
       "  <thead>\n",
       "    <tr style=\"text-align: right;\">\n",
       "      <th></th>\n",
       "      <th>Country</th>\n",
       "      <th>QID</th>\n",
       "    </tr>\n",
       "  </thead>\n",
       "  <tbody>\n",
       "    <tr>\n",
       "      <th>0</th>\n",
       "      <td>Andorra</td>\n",
       "      <td>Q228</td>\n",
       "    </tr>\n",
       "    <tr>\n",
       "      <th>1</th>\n",
       "      <td>Antigua and Barbuda</td>\n",
       "      <td>Q781</td>\n",
       "    </tr>\n",
       "    <tr>\n",
       "      <th>2</th>\n",
       "      <td>Argentina</td>\n",
       "      <td>Q414</td>\n",
       "    </tr>\n",
       "    <tr>\n",
       "      <th>3</th>\n",
       "      <td>Australia</td>\n",
       "      <td>Q408</td>\n",
       "    </tr>\n",
       "    <tr>\n",
       "      <th>4</th>\n",
       "      <td>Austria</td>\n",
       "      <td>Q40</td>\n",
       "    </tr>\n",
       "    <tr>\n",
       "      <th>5</th>\n",
       "      <td>The Bahamas</td>\n",
       "      <td>Q778</td>\n",
       "    </tr>\n",
       "    <tr>\n",
       "      <th>6</th>\n",
       "      <td>Barbados</td>\n",
       "      <td>Q244</td>\n",
       "    </tr>\n",
       "    <tr>\n",
       "      <th>7</th>\n",
       "      <td>Belgium</td>\n",
       "      <td>Q31</td>\n",
       "    </tr>\n",
       "    <tr>\n",
       "      <th>8</th>\n",
       "      <td>Belize</td>\n",
       "      <td>Q242</td>\n",
       "    </tr>\n",
       "    <tr>\n",
       "      <th>9</th>\n",
       "      <td>Bolivia</td>\n",
       "      <td>Q750</td>\n",
       "    </tr>\n",
       "    <tr>\n",
       "      <th>10</th>\n",
       "      <td>Brazil</td>\n",
       "      <td>Q155</td>\n",
       "    </tr>\n",
       "    <tr>\n",
       "      <th>11</th>\n",
       "      <td>Canada</td>\n",
       "      <td>Q16</td>\n",
       "    </tr>\n",
       "    <tr>\n",
       "      <th>12</th>\n",
       "      <td>Chile</td>\n",
       "      <td>Q298</td>\n",
       "    </tr>\n",
       "    <tr>\n",
       "      <th>13</th>\n",
       "      <td>Colombia</td>\n",
       "      <td>Q739</td>\n",
       "    </tr>\n",
       "    <tr>\n",
       "      <th>14</th>\n",
       "      <td>Costa Rica</td>\n",
       "      <td>Q800</td>\n",
       "    </tr>\n",
       "    <tr>\n",
       "      <th>15</th>\n",
       "      <td>Croatia</td>\n",
       "      <td>Q224</td>\n",
       "    </tr>\n",
       "    <tr>\n",
       "      <th>16</th>\n",
       "      <td>Denmark</td>\n",
       "      <td>Q35</td>\n",
       "    </tr>\n",
       "    <tr>\n",
       "      <th>17</th>\n",
       "      <td>Dominica</td>\n",
       "      <td>Q784</td>\n",
       "    </tr>\n",
       "    <tr>\n",
       "      <th>18</th>\n",
       "      <td>Dominican Republic</td>\n",
       "      <td>Q786</td>\n",
       "    </tr>\n",
       "    <tr>\n",
       "      <th>19</th>\n",
       "      <td>Ecuador</td>\n",
       "      <td>Q736</td>\n",
       "    </tr>\n",
       "    <tr>\n",
       "      <th>20</th>\n",
       "      <td>El Salvador</td>\n",
       "      <td>Q792</td>\n",
       "    </tr>\n",
       "    <tr>\n",
       "      <th>21</th>\n",
       "      <td>Finland</td>\n",
       "      <td>Q33</td>\n",
       "    </tr>\n",
       "    <tr>\n",
       "      <th>22</th>\n",
       "      <td>France</td>\n",
       "      <td>Q142</td>\n",
       "    </tr>\n",
       "    <tr>\n",
       "      <th>23</th>\n",
       "      <td>Germany</td>\n",
       "      <td>Q183</td>\n",
       "    </tr>\n",
       "    <tr>\n",
       "      <th>24</th>\n",
       "      <td>Greece</td>\n",
       "      <td>Q41</td>\n",
       "    </tr>\n",
       "    <tr>\n",
       "      <th>25</th>\n",
       "      <td>Grenada</td>\n",
       "      <td>Q769</td>\n",
       "    </tr>\n",
       "    <tr>\n",
       "      <th>26</th>\n",
       "      <td>Guatemala</td>\n",
       "      <td>Q774</td>\n",
       "    </tr>\n",
       "    <tr>\n",
       "      <th>27</th>\n",
       "      <td>Haiti</td>\n",
       "      <td>Q790</td>\n",
       "    </tr>\n",
       "    <tr>\n",
       "      <th>28</th>\n",
       "      <td>Honduras</td>\n",
       "      <td>Q783</td>\n",
       "    </tr>\n",
       "    <tr>\n",
       "      <th>29</th>\n",
       "      <td>Iceland</td>\n",
       "      <td>Q189</td>\n",
       "    </tr>\n",
       "    <tr>\n",
       "      <th>30</th>\n",
       "      <td>Ireland</td>\n",
       "      <td>Q27</td>\n",
       "    </tr>\n",
       "    <tr>\n",
       "      <th>31</th>\n",
       "      <td>Italy</td>\n",
       "      <td>Q38</td>\n",
       "    </tr>\n",
       "    <tr>\n",
       "      <th>32</th>\n",
       "      <td>Jamaica</td>\n",
       "      <td>Q766</td>\n",
       "    </tr>\n",
       "    <tr>\n",
       "      <th>33</th>\n",
       "      <td>Liechtenstein</td>\n",
       "      <td>Q347</td>\n",
       "    </tr>\n",
       "    <tr>\n",
       "      <th>34</th>\n",
       "      <td>Luxembourg</td>\n",
       "      <td>Q32</td>\n",
       "    </tr>\n",
       "    <tr>\n",
       "      <th>35</th>\n",
       "      <td>Malta</td>\n",
       "      <td>Q233</td>\n",
       "    </tr>\n",
       "    <tr>\n",
       "      <th>36</th>\n",
       "      <td>Mexico</td>\n",
       "      <td>Q96</td>\n",
       "    </tr>\n",
       "    <tr>\n",
       "      <th>37</th>\n",
       "      <td>Monaco</td>\n",
       "      <td>Q235</td>\n",
       "    </tr>\n",
       "    <tr>\n",
       "      <th>38</th>\n",
       "      <td>Netherlands</td>\n",
       "      <td>Q55</td>\n",
       "    </tr>\n",
       "    <tr>\n",
       "      <th>39</th>\n",
       "      <td>New Zealand</td>\n",
       "      <td>Q664</td>\n",
       "    </tr>\n",
       "    <tr>\n",
       "      <th>40</th>\n",
       "      <td>Norway</td>\n",
       "      <td>Q20</td>\n",
       "    </tr>\n",
       "    <tr>\n",
       "      <th>41</th>\n",
       "      <td>Panama</td>\n",
       "      <td>Q804</td>\n",
       "    </tr>\n",
       "    <tr>\n",
       "      <th>42</th>\n",
       "      <td>Paraguay</td>\n",
       "      <td>Q733</td>\n",
       "    </tr>\n",
       "    <tr>\n",
       "      <th>43</th>\n",
       "      <td>Peru</td>\n",
       "      <td>Q419</td>\n",
       "    </tr>\n",
       "    <tr>\n",
       "      <th>44</th>\n",
       "      <td>Portugal</td>\n",
       "      <td>Q45</td>\n",
       "    </tr>\n",
       "    <tr>\n",
       "      <th>45</th>\n",
       "      <td>Saint Kitts and Nevis</td>\n",
       "      <td>Q763</td>\n",
       "    </tr>\n",
       "    <tr>\n",
       "      <th>46</th>\n",
       "      <td>Saint Lucia</td>\n",
       "      <td>Q760</td>\n",
       "    </tr>\n",
       "    <tr>\n",
       "      <th>47</th>\n",
       "      <td>Saint Vincent</td>\n",
       "      <td>Q379656</td>\n",
       "    </tr>\n",
       "    <tr>\n",
       "      <th>48</th>\n",
       "      <td>San Marino</td>\n",
       "      <td>Q238</td>\n",
       "    </tr>\n",
       "    <tr>\n",
       "      <th>49</th>\n",
       "      <td>Spain</td>\n",
       "      <td>Q29</td>\n",
       "    </tr>\n",
       "    <tr>\n",
       "      <th>50</th>\n",
       "      <td>Suriname</td>\n",
       "      <td>Q730</td>\n",
       "    </tr>\n",
       "    <tr>\n",
       "      <th>51</th>\n",
       "      <td>Sweden</td>\n",
       "      <td>Q34</td>\n",
       "    </tr>\n",
       "    <tr>\n",
       "      <th>52</th>\n",
       "      <td>Switzerland</td>\n",
       "      <td>Q39</td>\n",
       "    </tr>\n",
       "    <tr>\n",
       "      <th>53</th>\n",
       "      <td>Trinidad and Tobago</td>\n",
       "      <td>Q754</td>\n",
       "    </tr>\n",
       "    <tr>\n",
       "      <th>54</th>\n",
       "      <td>United Kingdom</td>\n",
       "      <td>Q145</td>\n",
       "    </tr>\n",
       "    <tr>\n",
       "      <th>55</th>\n",
       "      <td>United States of America</td>\n",
       "      <td>Q30</td>\n",
       "    </tr>\n",
       "    <tr>\n",
       "      <th>56</th>\n",
       "      <td>Uruguay</td>\n",
       "      <td>Q77</td>\n",
       "    </tr>\n",
       "    <tr>\n",
       "      <th>57</th>\n",
       "      <td>Vatican City</td>\n",
       "      <td>Q237</td>\n",
       "    </tr>\n",
       "    <tr>\n",
       "      <th>58</th>\n",
       "      <td>Venezuela</td>\n",
       "      <td>Q717</td>\n",
       "    </tr>\n",
       "  </tbody>\n",
       "</table>\n",
       "</div>"
      ],
      "text/plain": [
       "                      Country      QID\n",
       "0                    Andorra      Q228\n",
       "1        Antigua and Barbuda      Q781\n",
       "2                  Argentina      Q414\n",
       "3                  Australia      Q408\n",
       "4                    Austria       Q40\n",
       "5                The Bahamas      Q778\n",
       "6                   Barbados      Q244\n",
       "7                    Belgium       Q31\n",
       "8                     Belize      Q242\n",
       "9                    Bolivia      Q750\n",
       "10                    Brazil      Q155\n",
       "11                    Canada       Q16\n",
       "12                     Chile      Q298\n",
       "13                  Colombia      Q739\n",
       "14                Costa Rica      Q800\n",
       "15                   Croatia      Q224\n",
       "16                   Denmark       Q35\n",
       "17                  Dominica      Q784\n",
       "18        Dominican Republic      Q786\n",
       "19                   Ecuador      Q736\n",
       "20               El Salvador      Q792\n",
       "21                   Finland       Q33\n",
       "22                    France      Q142\n",
       "23                   Germany      Q183\n",
       "24                    Greece       Q41\n",
       "25                   Grenada      Q769\n",
       "26                 Guatemala      Q774\n",
       "27                     Haiti      Q790\n",
       "28                  Honduras      Q783\n",
       "29                   Iceland      Q189\n",
       "30                   Ireland       Q27\n",
       "31                     Italy       Q38\n",
       "32                   Jamaica      Q766\n",
       "33             Liechtenstein      Q347\n",
       "34                Luxembourg       Q32\n",
       "35                     Malta      Q233\n",
       "36                    Mexico       Q96\n",
       "37                    Monaco      Q235\n",
       "38               Netherlands       Q55\n",
       "39               New Zealand      Q664\n",
       "40                    Norway       Q20\n",
       "41                    Panama      Q804\n",
       "42                  Paraguay      Q733\n",
       "43                      Peru      Q419\n",
       "44                  Portugal       Q45\n",
       "45     Saint Kitts and Nevis      Q763\n",
       "46               Saint Lucia      Q760\n",
       "47             Saint Vincent   Q379656\n",
       "48                San Marino      Q238\n",
       "49                     Spain       Q29\n",
       "50                  Suriname      Q730\n",
       "51                    Sweden       Q34\n",
       "52               Switzerland       Q39\n",
       "53       Trinidad and Tobago      Q754\n",
       "54            United Kingdom      Q145\n",
       "55  United States of America       Q30\n",
       "56                   Uruguay       Q77\n",
       "57              Vatican City      Q237\n",
       "58                 Venezuela      Q717"
      ]
     },
     "execution_count": 31,
     "metadata": {},
     "output_type": "execute_result"
    }
   ],
   "source": [
    "western_countries"
   ]
  },
  {
   "cell_type": "markdown",
   "metadata": {},
   "source": [
    "For the list of western countries, we used the [political definition](https://sashamaps.net/docs/maps/list-of-western-countries/) . We then obtained the QIDS from wikidata manually. "
   ]
  },
  {
   "cell_type": "code",
   "execution_count": 32,
   "metadata": {},
   "outputs": [],
   "source": [
    "western_df = merged_df[merged_df['nationality'].apply(lambda x: any(y in western_countries['QID'].to_list() for y in x))]"
   ]
  },
  {
   "cell_type": "code",
   "execution_count": 33,
   "metadata": {},
   "outputs": [
    {
     "data": {
      "text/plain": [
       "United States of America     124844\n",
       "United Kingdom                28884\n",
       "Australia                     14549\n",
       "Canada                        12456\n",
       "France                         6904\n",
       "Germany                        5030\n",
       "Italy                          3889\n",
       "Portugal                       2618\n",
       "New Zealand                    2322\n",
       "Spain                          1906\n",
       "Ireland                        1492\n",
       "Belgium                        1316\n",
       "Sweden                         1312\n",
       "Argentina                      1014\n",
       "Brazil                          812\n",
       "Denmark                         742\n",
       "Greece                          675\n",
       "Switzerland                     657\n",
       "Austria                         645\n",
       "Mexico                          517\n",
       "Norway                          426\n",
       "Venezuela                       393\n",
       "Vatican City                    277\n",
       "Jamaica                         152\n",
       "Finland                         127\n",
       "Chile                           126\n",
       "Peru                             92\n",
       "Croatia                          58\n",
       "Colombia                         58\n",
       "Iceland                          46\n",
       "Dominican Republic               43\n",
       "Guatemala                        35\n",
       "Bolivia                          32\n",
       "Costa Rica                       31\n",
       "Uruguay                          25\n",
       "Antigua and Barbuda              24\n",
       "Ecuador                          23\n",
       "El Salvador                      18\n",
       "Luxembourg                       14\n",
       "Monaco                           13\n",
       "Trinidad and Tobago              13\n",
       "The Bahamas                      13\n",
       "Honduras                         13\n",
       "Malta                             8\n",
       "Dominica                          7\n",
       "Haiti                             6\n",
       "Panama                            6\n",
       "Paraguay                          3\n",
       "Netherlands                       2\n",
       "Barbados                          2\n",
       "Saint Lucia                       2\n",
       "Belize                            2\n",
       "Name: Country, dtype: int64"
      ]
     },
     "execution_count": 33,
     "metadata": {},
     "output_type": "execute_result"
    }
   ],
   "source": [
    "pd.merge(merged_df['nationality'].explode(), western_countries, left_on='nationality', right_on='QID', how = 'left')['Country'].value_counts()"
   ]
  },
  {
   "cell_type": "markdown",
   "metadata": {},
   "source": [
    "As expected we see a very large amount of quotes from english speaking countries, as the news articles are in english."
   ]
  },
  {
   "cell_type": "markdown",
   "metadata": {},
   "source": [
    "## Summary of Data Cleaning\n",
    "\n",
    "In this notebook we have observed the following points:\n",
    "- We observed that some titles are too long, and as such we will remoove them in the data processing pipeline.\n",
    "- We saw that we could not rely on the URL to extract the country of origin. \n",
    "- Next we saw that the title may not be representative of the topic of the quote so we decided to check the context and quote instead.\n",
    "- Finally, we observed that most of the western quotes are from people with a english speaking nationality."
   ]
  },
  {
   "cell_type": "markdown",
   "metadata": {},
   "source": [
    "# Exploratory Data Analysis\n",
    "\n",
    "After cleaning data, we can generally see how this dataset look like.\n",
    "\n",
    "First, we can plot how data distributed in time. "
   ]
  },
  {
   "cell_type": "code",
   "execution_count": 34,
   "metadata": {},
   "outputs": [
    {
     "data": {
      "text/plain": [
       "[Text(0.5, 0, 'date of first four months in 2020'),\n",
       " Text(0, 0.5, 'num of articles mentioning china')]"
      ]
     },
     "execution_count": 34,
     "metadata": {},
     "output_type": "execute_result"
    },
    {
     "data": {
      "image/png": "[encoded data removed]",
      "text/plain": [
       "<Figure size 432x288 with 1 Axes>"
      ]
     },
     "metadata": {
      "needs_background": "light"
     },
     "output_type": "display_data"
    }
   ],
   "source": [
    "# check the number of articles discussing china over time for the first four months in 2020\n",
    "sns.histplot(data=merged_df.date.dt.date).set(xlabel=\"date of first four months in 2020\", ylabel=\"num of articles mentioning china\")"
   ]
  },
  {
   "cell_type": "code",
   "execution_count": 35,
   "metadata": {},
   "outputs": [
    {
     "data": {
      "text/plain": [
       "[Text(0.5, 0, 'date of first four months in 2020'),\n",
       " Text(0, 0.5, 'num of articles mentioning china')]"
      ]
     },
     "execution_count": 35,
     "metadata": {},
     "output_type": "execute_result"
    },
    {
     "data": {
      "image/png": "[encoded data removed]",
      "text/plain": [
       "<Figure size 432x288 with 1 Axes>"
      ]
     },
     "metadata": {
      "needs_background": "light"
     },
     "output_type": "display_data"
    }
   ],
   "source": [
    "# check the number of articles discussing china over time for the first four months in 2020\n",
    "sns.histplot(data=merged_df.date.dt.weekday).set(xlabel=\"date of first four months in 2020\", ylabel=\"num of articles mentioning china\")"
   ]
  },
  {
   "cell_type": "markdown",
   "metadata": {},
   "source": [
    "As plot shows, We can observe a peak around the end of January, when Covid-19 outbreak in China caught attention. Also we can see the weekend has less news compared with weekdays.\n",
    "\n",
    "Moreover, we can group speakers by different gender or nationality to see the distrbution."
   ]
  },
  {
   "cell_type": "code",
   "execution_count": 60,
   "metadata": {},
   "outputs": [
    {
     "data": {
      "text/plain": [
       "[Text(0, 0, 'female'), Text(1, 0, 'male')]"
      ]
     },
     "execution_count": 60,
     "metadata": {},
     "output_type": "execute_result"
    },
    {
     "data": {
      "image/png": "[encoded data removed]",
      "text/plain": [
       "<Figure size 432x288 with 1 Axes>"
      ]
     },
     "metadata": {
      "needs_background": "light"
     },
     "output_type": "display_data"
    }
   ],
   "source": [
    "# compare male(Q6581097) and female(Q6581072) speakers\n",
    "gender = merged_df.gender.apply(lambda x: x[0] if x is not None else None)\n",
    "sns.countplot(x=gender[(gender == \"Q6581097\") | (gender == \"Q6581072\")]).set_xticklabels([\"female\", \"male\"])"
   ]
  },
  {
   "cell_type": "code",
   "execution_count": 73,
   "metadata": {},
   "outputs": [
    {
     "data": {
      "text/plain": [
       "0.08015001223262426"
      ]
     },
     "execution_count": 73,
     "metadata": {},
     "output_type": "execute_result"
    }
   ],
   "source": [
    "merged_df.US_congress_bio_ID.count()/merged_df.quoteID.count()"
   ]
  },
  {
   "cell_type": "markdown",
   "metadata": {},
   "source": [
    "As shown above, most of speakers are male, and around 8% of speakers belong to US congress."
   ]
  }
 ],
 "metadata": {
  "kernelspec": {
   "display_name": "Python 3 (ipykernel)",
   "language": "python",
   "name": "python3"
  },
  "language_info": {
   "codemirror_mode": {
    "name": "ipython",
    "version": 3
   },
   "file_extension": ".py",
   "mimetype": "text/x-python",
   "name": "python",
   "nbconvert_exporter": "python",
   "pygments_lexer": "ipython3",
   "version": "3.9.7"
  }
 },
 "nbformat": 4,
 "nbformat_minor": 4
}
