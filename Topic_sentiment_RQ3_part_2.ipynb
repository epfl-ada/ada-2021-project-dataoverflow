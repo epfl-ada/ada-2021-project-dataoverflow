{
 "cells": [
  {
   "cell_type": "code",
   "execution_count": 1,
   "id": "0bd9b3e4",
   "metadata": {},
   "outputs": [],
   "source": [
    "import numpy as np\n",
    "import matplotlib.pyplot as plt\n",
    "import seaborn as sns\n",
    "import pandas as pd\n",
    "from tqdm.notebook import tqdm"
   ]
  },
  {
   "cell_type": "markdown",
   "id": "4ab218e9",
   "metadata": {},
   "source": [
    "In this notebook we analyze the topic sentiments as they change over time "
   ]
  },
  {
   "cell_type": "code",
   "execution_count": 2,
   "id": "208e78d9",
   "metadata": {},
   "outputs": [],
   "source": [
    "# Add line bar to topic plot\n",
    "def add_topic(start, stop, name, fig, color):\n",
    "    fig.add_trace(go.Bar(\n",
    "    y=[name],\n",
    "    x=[stop - start +1],\n",
    "    name=name,\n",
    "    orientation='h',\n",
    "    base=start,\n",
    "    marker=dict(\n",
    "    color=color)\n",
    "    )\n",
    ")"
   ]
  },
  {
   "cell_type": "code",
   "execution_count": 17,
   "id": "8451a24c",
   "metadata": {
    "scrolled": false
   },
   "outputs": [
    {
     "data": {
      "application/vnd.plotly.v1+json": {
       "config": {
        "plotlyServerURL": "https://plot.ly"
       },
       "data": [
        {
         "base": 2011,
         "marker": {
          "color": "#3366CC"
         },
         "name": "Trade Relations",
         "orientation": "h",
         "type": "bar",
         "x": [
          10
         ],
         "y": [
          "Trade Relations"
         ]
        },
        {
         "base": 2020,
         "marker": {
          "color": "#DC3912"
         },
         "name": "Covid",
         "orientation": "h",
         "type": "bar",
         "x": [
          2
         ],
         "y": [
          "Covid"
         ]
        },
        {
         "base": 2015,
         "marker": {
          "color": "#FF9900"
         },
         "name": "Economy",
         "orientation": "h",
         "type": "bar",
         "x": [
          2
         ],
         "y": [
          "Economy"
         ]
        },
        {
         "base": 2020,
         "marker": {
          "color": "#109618"
         },
         "name": "Huawei",
         "orientation": "h",
         "type": "bar",
         "x": [
          1
         ],
         "y": [
          "Huawei"
         ]
        },
        {
         "base": 2018,
         "marker": {
          "color": "#109618"
         },
         "name": "Huawei",
         "orientation": "h",
         "type": "bar",
         "x": [
          1
         ],
         "y": [
          "Huawei"
         ]
        },
        {
         "base": 2019,
         "marker": {
          "color": "#990099"
         },
         "name": "Hong Kong",
         "orientation": "h",
         "type": "bar",
         "x": [
          1
         ],
         "y": [
          "Hong Kong"
         ]
        },
        {
         "base": 2013,
         "marker": {
          "color": "#990099"
         },
         "name": "Hong Kong",
         "orientation": "h",
         "type": "bar",
         "x": [
          5
         ],
         "y": [
          "Hong Kong"
         ]
        },
        {
         "base": 2014,
         "marker": {
          "color": "#0099C6"
         },
         "name": "Climate",
         "orientation": "h",
         "type": "bar",
         "x": [
          6
         ],
         "y": [
          "Climate"
         ]
        },
        {
         "base": 2009,
         "marker": {
          "color": "#0099C6"
         },
         "name": "Climate",
         "orientation": "h",
         "type": "bar",
         "x": [
          1
         ],
         "y": [
          "Climate"
         ]
        },
        {
         "base": 2010,
         "marker": {
          "color": "#DD4477"
         },
         "name": "South China sea",
         "orientation": "h",
         "type": "bar",
         "x": [
          10
         ],
         "y": [
          "South China sea"
         ]
        },
        {
         "base": 2009,
         "marker": {
          "color": "#66AA00"
         },
         "name": "North Korea",
         "orientation": "h",
         "type": "bar",
         "x": [
          11
         ],
         "y": [
          "North Korea"
         ]
        },
        {
         "base": 2008,
         "marker": {
          "color": "#B82E2E"
         },
         "name": "Olympics",
         "orientation": "h",
         "type": "bar",
         "x": [
          2
         ],
         "y": [
          "Olympics"
         ]
        },
        {
         "base": 2012,
         "marker": {
          "color": "#B82E2E"
         },
         "name": "Olympics",
         "orientation": "h",
         "type": "bar",
         "x": [
          1
         ],
         "y": [
          "Olympics"
         ]
        },
        {
         "base": 2015,
         "marker": {
          "color": "#B82E2E"
         },
         "name": "Olympics",
         "orientation": "h",
         "type": "bar",
         "x": [
          2
         ],
         "y": [
          "Olympics"
         ]
        },
        {
         "base": 2010,
         "marker": {
          "color": "#316395"
         },
         "name": "Iran",
         "orientation": "h",
         "type": "bar",
         "x": [
          1
         ],
         "y": [
          "Iran"
         ]
        },
        {
         "base": 2012,
         "marker": {
          "color": "#316395"
         },
         "name": "Iran",
         "orientation": "h",
         "type": "bar",
         "x": [
          1
         ],
         "y": [
          "Iran"
         ]
        },
        {
         "base": 2015,
         "marker": {
          "color": "#316395"
         },
         "name": "Iran",
         "orientation": "h",
         "type": "bar",
         "x": [
          1
         ],
         "y": [
          "Iran"
         ]
        },
        {
         "base": 2010,
         "marker": {
          "color": "rgb(133, 92, 117)"
         },
         "name": "Chinese currency",
         "orientation": "h",
         "type": "bar",
         "x": [
          3
         ],
         "y": [
          "Chinese currency"
         ]
        },
        {
         "base": 2020,
         "marker": {
          "color": "rgb(133, 92, 117)"
         },
         "name": "Chinese currency",
         "orientation": "h",
         "type": "bar",
         "x": [
          1
         ],
         "y": [
          "Chinese currency"
         ]
        },
        {
         "base": 2008,
         "marker": {
          "color": "rgb(217, 175, 107)"
         },
         "name": "Dalai Lama",
         "orientation": "h",
         "type": "bar",
         "x": [
          4
         ],
         "y": [
          "Dalai Lama"
         ]
        },
        {
         "base": 2019,
         "marker": {
          "color": "rgb(175, 100, 88)"
         },
         "name": "Human Rights",
         "orientation": "h",
         "type": "bar",
         "x": [
          1
         ],
         "y": [
          "Human Rights"
         ]
        },
        {
         "base": 2014,
         "marker": {
          "color": "rgb(175, 100, 88)"
         },
         "name": "Human Rights",
         "orientation": "h",
         "type": "bar",
         "x": [
          4
         ],
         "y": [
          "Human Rights"
         ]
        },
        {
         "base": 2011,
         "marker": {
          "color": "rgb(175, 100, 88)"
         },
         "name": "Human Rights",
         "orientation": "h",
         "type": "bar",
         "x": [
          2
         ],
         "y": [
          "Human Rights"
         ]
        },
        {
         "base": 2009,
         "marker": {
          "color": "rgb(175, 100, 88)"
         },
         "name": "Human Rights",
         "orientation": "h",
         "type": "bar",
         "x": [
          1
         ],
         "y": [
          "Human Rights"
         ]
        }
       ],
       "layout": {
        "barmode": "stack",
        "showlegend": false,
        "template": {
         "data": {
          "bar": [
           {
            "error_x": {
             "color": "#2a3f5f"
            },
            "error_y": {
             "color": "#2a3f5f"
            },
            "marker": {
             "line": {
              "color": "#E5ECF6",
              "width": 0.5
             },
             "pattern": {
              "fillmode": "overlay",
              "size": 10,
              "solidity": 0.2
             }
            },
            "type": "bar"
           }
          ],
          "barpolar": [
           {
            "marker": {
             "line": {
              "color": "#E5ECF6",
              "width": 0.5
             },
             "pattern": {
              "fillmode": "overlay",
              "size": 10,
              "solidity": 0.2
             }
            },
            "type": "barpolar"
           }
          ],
          "carpet": [
           {
            "aaxis": {
             "endlinecolor": "#2a3f5f",
             "gridcolor": "white",
             "linecolor": "white",
             "minorgridcolor": "white",
             "startlinecolor": "#2a3f5f"
            },
            "baxis": {
             "endlinecolor": "#2a3f5f",
             "gridcolor": "white",
             "linecolor": "white",
             "minorgridcolor": "white",
             "startlinecolor": "#2a3f5f"
            },
            "type": "carpet"
           }
          ],
          "choropleth": [
           {
            "colorbar": {
             "outlinewidth": 0,
             "ticks": ""
            },
            "type": "choropleth"
           }
          ],
          "contour": [
           {
            "colorbar": {
             "outlinewidth": 0,
             "ticks": ""
            },
            "colorscale": [
             [
              0,
              "#0d0887"
             ],
             [
              0.1111111111111111,
              "#46039f"
             ],
             [
              0.2222222222222222,
              "#7201a8"
             ],
             [
              0.3333333333333333,
              "#9c179e"
             ],
             [
              0.4444444444444444,
              "#bd3786"
             ],
             [
              0.5555555555555556,
              "#d8576b"
             ],
             [
              0.6666666666666666,
              "#ed7953"
             ],
             [
              0.7777777777777778,
              "#fb9f3a"
             ],
             [
              0.8888888888888888,
              "#fdca26"
             ],
             [
              1,
              "#f0f921"
             ]
            ],
            "type": "contour"
           }
          ],
          "contourcarpet": [
           {
            "colorbar": {
             "outlinewidth": 0,
             "ticks": ""
            },
            "type": "contourcarpet"
           }
          ],
          "heatmap": [
           {
            "colorbar": {
             "outlinewidth": 0,
             "ticks": ""
            },
            "colorscale": [
             [
              0,
              "#0d0887"
             ],
             [
              0.1111111111111111,
              "#46039f"
             ],
             [
              0.2222222222222222,
              "#7201a8"
             ],
             [
              0.3333333333333333,
              "#9c179e"
             ],
             [
              0.4444444444444444,
              "#bd3786"
             ],
             [
              0.5555555555555556,
              "#d8576b"
             ],
             [
              0.6666666666666666,
              "#ed7953"
             ],
             [
              0.7777777777777778,
              "#fb9f3a"
             ],
             [
              0.8888888888888888,
              "#fdca26"
             ],
             [
              1,
              "#f0f921"
             ]
            ],
            "type": "heatmap"
           }
          ],
          "heatmapgl": [
           {
            "colorbar": {
             "outlinewidth": 0,
             "ticks": ""
            },
            "colorscale": [
             [
              0,
              "#0d0887"
             ],
             [
              0.1111111111111111,
              "#46039f"
             ],
             [
              0.2222222222222222,
              "#7201a8"
             ],
             [
              0.3333333333333333,
              "#9c179e"
             ],
             [
              0.4444444444444444,
              "#bd3786"
             ],
             [
              0.5555555555555556,
              "#d8576b"
             ],
             [
              0.6666666666666666,
              "#ed7953"
             ],
             [
              0.7777777777777778,
              "#fb9f3a"
             ],
             [
              0.8888888888888888,
              "#fdca26"
             ],
             [
              1,
              "#f0f921"
             ]
            ],
            "type": "heatmapgl"
           }
          ],
          "histogram": [
           {
            "marker": {
             "pattern": {
              "fillmode": "overlay",
              "size": 10,
              "solidity": 0.2
             }
            },
            "type": "histogram"
           }
          ],
          "histogram2d": [
           {
            "colorbar": {
             "outlinewidth": 0,
             "ticks": ""
            },
            "colorscale": [
             [
              0,
              "#0d0887"
             ],
             [
              0.1111111111111111,
              "#46039f"
             ],
             [
              0.2222222222222222,
              "#7201a8"
             ],
             [
              0.3333333333333333,
              "#9c179e"
             ],
             [
              0.4444444444444444,
              "#bd3786"
             ],
             [
              0.5555555555555556,
              "#d8576b"
             ],
             [
              0.6666666666666666,
              "#ed7953"
             ],
             [
              0.7777777777777778,
              "#fb9f3a"
             ],
             [
              0.8888888888888888,
              "#fdca26"
             ],
             [
              1,
              "#f0f921"
             ]
            ],
            "type": "histogram2d"
           }
          ],
          "histogram2dcontour": [
           {
            "colorbar": {
             "outlinewidth": 0,
             "ticks": ""
            },
            "colorscale": [
             [
              0,
              "#0d0887"
             ],
             [
              0.1111111111111111,
              "#46039f"
             ],
             [
              0.2222222222222222,
              "#7201a8"
             ],
             [
              0.3333333333333333,
              "#9c179e"
             ],
             [
              0.4444444444444444,
              "#bd3786"
             ],
             [
              0.5555555555555556,
              "#d8576b"
             ],
             [
              0.6666666666666666,
              "#ed7953"
             ],
             [
              0.7777777777777778,
              "#fb9f3a"
             ],
             [
              0.8888888888888888,
              "#fdca26"
             ],
             [
              1,
              "#f0f921"
             ]
            ],
            "type": "histogram2dcontour"
           }
          ],
          "mesh3d": [
           {
            "colorbar": {
             "outlinewidth": 0,
             "ticks": ""
            },
            "type": "mesh3d"
           }
          ],
          "parcoords": [
           {
            "line": {
             "colorbar": {
              "outlinewidth": 0,
              "ticks": ""
             }
            },
            "type": "parcoords"
           }
          ],
          "pie": [
           {
            "automargin": true,
            "type": "pie"
           }
          ],
          "scatter": [
           {
            "marker": {
             "colorbar": {
              "outlinewidth": 0,
              "ticks": ""
             }
            },
            "type": "scatter"
           }
          ],
          "scatter3d": [
           {
            "line": {
             "colorbar": {
              "outlinewidth": 0,
              "ticks": ""
             }
            },
            "marker": {
             "colorbar": {
              "outlinewidth": 0,
              "ticks": ""
             }
            },
            "type": "scatter3d"
           }
          ],
          "scattercarpet": [
           {
            "marker": {
             "colorbar": {
              "outlinewidth": 0,
              "ticks": ""
             }
            },
            "type": "scattercarpet"
           }
          ],
          "scattergeo": [
           {
            "marker": {
             "colorbar": {
              "outlinewidth": 0,
              "ticks": ""
             }
            },
            "type": "scattergeo"
           }
          ],
          "scattergl": [
           {
            "marker": {
             "colorbar": {
              "outlinewidth": 0,
              "ticks": ""
             }
            },
            "type": "scattergl"
           }
          ],
          "scattermapbox": [
           {
            "marker": {
             "colorbar": {
              "outlinewidth": 0,
              "ticks": ""
             }
            },
            "type": "scattermapbox"
           }
          ],
          "scatterpolar": [
           {
            "marker": {
             "colorbar": {
              "outlinewidth": 0,
              "ticks": ""
             }
            },
            "type": "scatterpolar"
           }
          ],
          "scatterpolargl": [
           {
            "marker": {
             "colorbar": {
              "outlinewidth": 0,
              "ticks": ""
             }
            },
            "type": "scatterpolargl"
           }
          ],
          "scatterternary": [
           {
            "marker": {
             "colorbar": {
              "outlinewidth": 0,
              "ticks": ""
             }
            },
            "type": "scatterternary"
           }
          ],
          "surface": [
           {
            "colorbar": {
             "outlinewidth": 0,
             "ticks": ""
            },
            "colorscale": [
             [
              0,
              "#0d0887"
             ],
             [
              0.1111111111111111,
              "#46039f"
             ],
             [
              0.2222222222222222,
              "#7201a8"
             ],
             [
              0.3333333333333333,
              "#9c179e"
             ],
             [
              0.4444444444444444,
              "#bd3786"
             ],
             [
              0.5555555555555556,
              "#d8576b"
             ],
             [
              0.6666666666666666,
              "#ed7953"
             ],
             [
              0.7777777777777778,
              "#fb9f3a"
             ],
             [
              0.8888888888888888,
              "#fdca26"
             ],
             [
              1,
              "#f0f921"
             ]
            ],
            "type": "surface"
           }
          ],
          "table": [
           {
            "cells": {
             "fill": {
              "color": "#EBF0F8"
             },
             "line": {
              "color": "white"
             }
            },
            "header": {
             "fill": {
              "color": "#C8D4E3"
             },
             "line": {
              "color": "white"
             }
            },
            "type": "table"
           }
          ]
         },
         "layout": {
          "annotationdefaults": {
           "arrowcolor": "#2a3f5f",
           "arrowhead": 0,
           "arrowwidth": 1
          },
          "autotypenumbers": "strict",
          "coloraxis": {
           "colorbar": {
            "outlinewidth": 0,
            "ticks": ""
           }
          },
          "colorscale": {
           "diverging": [
            [
             0,
             "#8e0152"
            ],
            [
             0.1,
             "#c51b7d"
            ],
            [
             0.2,
             "#de77ae"
            ],
            [
             0.3,
             "#f1b6da"
            ],
            [
             0.4,
             "#fde0ef"
            ],
            [
             0.5,
             "#f7f7f7"
            ],
            [
             0.6,
             "#e6f5d0"
            ],
            [
             0.7,
             "#b8e186"
            ],
            [
             0.8,
             "#7fbc41"
            ],
            [
             0.9,
             "#4d9221"
            ],
            [
             1,
             "#276419"
            ]
           ],
           "sequential": [
            [
             0,
             "#0d0887"
            ],
            [
             0.1111111111111111,
             "#46039f"
            ],
            [
             0.2222222222222222,
             "#7201a8"
            ],
            [
             0.3333333333333333,
             "#9c179e"
            ],
            [
             0.4444444444444444,
             "#bd3786"
            ],
            [
             0.5555555555555556,
             "#d8576b"
            ],
            [
             0.6666666666666666,
             "#ed7953"
            ],
            [
             0.7777777777777778,
             "#fb9f3a"
            ],
            [
             0.8888888888888888,
             "#fdca26"
            ],
            [
             1,
             "#f0f921"
            ]
           ],
           "sequentialminus": [
            [
             0,
             "#0d0887"
            ],
            [
             0.1111111111111111,
             "#46039f"
            ],
            [
             0.2222222222222222,
             "#7201a8"
            ],
            [
             0.3333333333333333,
             "#9c179e"
            ],
            [
             0.4444444444444444,
             "#bd3786"
            ],
            [
             0.5555555555555556,
             "#d8576b"
            ],
            [
             0.6666666666666666,
             "#ed7953"
            ],
            [
             0.7777777777777778,
             "#fb9f3a"
            ],
            [
             0.8888888888888888,
             "#fdca26"
            ],
            [
             1,
             "#f0f921"
            ]
           ]
          },
          "colorway": [
           "#636efa",
           "#EF553B",
           "#00cc96",
           "#ab63fa",
           "#FFA15A",
           "#19d3f3",
           "#FF6692",
           "#B6E880",
           "#FF97FF",
           "#FECB52"
          ],
          "font": {
           "color": "#2a3f5f"
          },
          "geo": {
           "bgcolor": "white",
           "lakecolor": "white",
           "landcolor": "#E5ECF6",
           "showlakes": true,
           "showland": true,
           "subunitcolor": "white"
          },
          "hoverlabel": {
           "align": "left"
          },
          "hovermode": "closest",
          "mapbox": {
           "style": "light"
          },
          "paper_bgcolor": "white",
          "plot_bgcolor": "#E5ECF6",
          "polar": {
           "angularaxis": {
            "gridcolor": "white",
            "linecolor": "white",
            "ticks": ""
           },
           "bgcolor": "#E5ECF6",
           "radialaxis": {
            "gridcolor": "white",
            "linecolor": "white",
            "ticks": ""
           }
          },
          "scene": {
           "xaxis": {
            "backgroundcolor": "#E5ECF6",
            "gridcolor": "white",
            "gridwidth": 2,
            "linecolor": "white",
            "showbackground": true,
            "ticks": "",
            "zerolinecolor": "white"
           },
           "yaxis": {
            "backgroundcolor": "#E5ECF6",
            "gridcolor": "white",
            "gridwidth": 2,
            "linecolor": "white",
            "showbackground": true,
            "ticks": "",
            "zerolinecolor": "white"
           },
           "zaxis": {
            "backgroundcolor": "#E5ECF6",
            "gridcolor": "white",
            "gridwidth": 2,
            "linecolor": "white",
            "showbackground": true,
            "ticks": "",
            "zerolinecolor": "white"
           }
          },
          "shapedefaults": {
           "line": {
            "color": "#2a3f5f"
           }
          },
          "ternary": {
           "aaxis": {
            "gridcolor": "white",
            "linecolor": "white",
            "ticks": ""
           },
           "baxis": {
            "gridcolor": "white",
            "linecolor": "white",
            "ticks": ""
           },
           "bgcolor": "#E5ECF6",
           "caxis": {
            "gridcolor": "white",
            "linecolor": "white",
            "ticks": ""
           }
          },
          "title": {
           "x": 0.05
          },
          "xaxis": {
           "automargin": true,
           "gridcolor": "white",
           "linecolor": "white",
           "ticks": "",
           "title": {
            "standoff": 15
           },
           "zerolinecolor": "white",
           "zerolinewidth": 2
          },
          "yaxis": {
           "automargin": true,
           "gridcolor": "white",
           "linecolor": "white",
           "ticks": "",
           "title": {
            "standoff": 15
           },
           "zerolinecolor": "white",
           "zerolinewidth": 2
          }
         }
        },
        "title": {
         "text": "Occurence of keywords"
        },
        "xaxis": {
         "dtick": 1,
         "range": [
          2008,
          2021
         ],
         "title": {
          "text": "Year"
         }
        }
       }
      },
      "text/html": [
       "<div>                            <div id=\"476d9ddd-14b1-47ae-950b-1a3b7a3ad5a9\" class=\"plotly-graph-div\" style=\"height:525px; width:100%;\"></div>            <script type=\"text/javascript\">                require([\"plotly\"], function(Plotly) {                    window.PLOTLYENV=window.PLOTLYENV || {};                                    if (document.getElementById(\"476d9ddd-14b1-47ae-950b-1a3b7a3ad5a9\")) {                    Plotly.newPlot(                        \"476d9ddd-14b1-47ae-950b-1a3b7a3ad5a9\",                        [{\"base\":2011,\"marker\":{\"color\":\"#3366CC\"},\"name\":\"Trade Relations\",\"orientation\":\"h\",\"type\":\"bar\",\"x\":[10],\"y\":[\"Trade Relations\"]},{\"base\":2020,\"marker\":{\"color\":\"#DC3912\"},\"name\":\"Covid\",\"orientation\":\"h\",\"type\":\"bar\",\"x\":[2],\"y\":[\"Covid\"]},{\"base\":2015,\"marker\":{\"color\":\"#FF9900\"},\"name\":\"Economy\",\"orientation\":\"h\",\"type\":\"bar\",\"x\":[2],\"y\":[\"Economy\"]},{\"base\":2020,\"marker\":{\"color\":\"#109618\"},\"name\":\"Huawei\",\"orientation\":\"h\",\"type\":\"bar\",\"x\":[1],\"y\":[\"Huawei\"]},{\"base\":2018,\"marker\":{\"color\":\"#109618\"},\"name\":\"Huawei\",\"orientation\":\"h\",\"type\":\"bar\",\"x\":[1],\"y\":[\"Huawei\"]},{\"base\":2019,\"marker\":{\"color\":\"#990099\"},\"name\":\"Hong Kong\",\"orientation\":\"h\",\"type\":\"bar\",\"x\":[1],\"y\":[\"Hong Kong\"]},{\"base\":2013,\"marker\":{\"color\":\"#990099\"},\"name\":\"Hong Kong\",\"orientation\":\"h\",\"type\":\"bar\",\"x\":[5],\"y\":[\"Hong Kong\"]},{\"base\":2014,\"marker\":{\"color\":\"#0099C6\"},\"name\":\"Climate\",\"orientation\":\"h\",\"type\":\"bar\",\"x\":[6],\"y\":[\"Climate\"]},{\"base\":2009,\"marker\":{\"color\":\"#0099C6\"},\"name\":\"Climate\",\"orientation\":\"h\",\"type\":\"bar\",\"x\":[1],\"y\":[\"Climate\"]},{\"base\":2010,\"marker\":{\"color\":\"#DD4477\"},\"name\":\"South China sea\",\"orientation\":\"h\",\"type\":\"bar\",\"x\":[10],\"y\":[\"South China sea\"]},{\"base\":2009,\"marker\":{\"color\":\"#66AA00\"},\"name\":\"North Korea\",\"orientation\":\"h\",\"type\":\"bar\",\"x\":[11],\"y\":[\"North Korea\"]},{\"base\":2008,\"marker\":{\"color\":\"#B82E2E\"},\"name\":\"Olympics\",\"orientation\":\"h\",\"type\":\"bar\",\"x\":[2],\"y\":[\"Olympics\"]},{\"base\":2012,\"marker\":{\"color\":\"#B82E2E\"},\"name\":\"Olympics\",\"orientation\":\"h\",\"type\":\"bar\",\"x\":[1],\"y\":[\"Olympics\"]},{\"base\":2015,\"marker\":{\"color\":\"#B82E2E\"},\"name\":\"Olympics\",\"orientation\":\"h\",\"type\":\"bar\",\"x\":[2],\"y\":[\"Olympics\"]},{\"base\":2010,\"marker\":{\"color\":\"#316395\"},\"name\":\"Iran\",\"orientation\":\"h\",\"type\":\"bar\",\"x\":[1],\"y\":[\"Iran\"]},{\"base\":2012,\"marker\":{\"color\":\"#316395\"},\"name\":\"Iran\",\"orientation\":\"h\",\"type\":\"bar\",\"x\":[1],\"y\":[\"Iran\"]},{\"base\":2015,\"marker\":{\"color\":\"#316395\"},\"name\":\"Iran\",\"orientation\":\"h\",\"type\":\"bar\",\"x\":[1],\"y\":[\"Iran\"]},{\"base\":2010,\"marker\":{\"color\":\"rgb(133, 92, 117)\"},\"name\":\"Chinese currency\",\"orientation\":\"h\",\"type\":\"bar\",\"x\":[3],\"y\":[\"Chinese currency\"]},{\"base\":2020,\"marker\":{\"color\":\"rgb(133, 92, 117)\"},\"name\":\"Chinese currency\",\"orientation\":\"h\",\"type\":\"bar\",\"x\":[1],\"y\":[\"Chinese currency\"]},{\"base\":2008,\"marker\":{\"color\":\"rgb(217, 175, 107)\"},\"name\":\"Dalai Lama\",\"orientation\":\"h\",\"type\":\"bar\",\"x\":[4],\"y\":[\"Dalai Lama\"]},{\"base\":2019,\"marker\":{\"color\":\"rgb(175, 100, 88)\"},\"name\":\"Human Rights\",\"orientation\":\"h\",\"type\":\"bar\",\"x\":[1],\"y\":[\"Human Rights\"]},{\"base\":2014,\"marker\":{\"color\":\"rgb(175, 100, 88)\"},\"name\":\"Human Rights\",\"orientation\":\"h\",\"type\":\"bar\",\"x\":[4],\"y\":[\"Human Rights\"]},{\"base\":2011,\"marker\":{\"color\":\"rgb(175, 100, 88)\"},\"name\":\"Human Rights\",\"orientation\":\"h\",\"type\":\"bar\",\"x\":[2],\"y\":[\"Human Rights\"]},{\"base\":2009,\"marker\":{\"color\":\"rgb(175, 100, 88)\"},\"name\":\"Human Rights\",\"orientation\":\"h\",\"type\":\"bar\",\"x\":[1],\"y\":[\"Human Rights\"]}],                        {\"barmode\":\"stack\",\"showlegend\":false,\"template\":{\"data\":{\"bar\":[{\"error_x\":{\"color\":\"#2a3f5f\"},\"error_y\":{\"color\":\"#2a3f5f\"},\"marker\":{\"line\":{\"color\":\"#E5ECF6\",\"width\":0.5},\"pattern\":{\"fillmode\":\"overlay\",\"size\":10,\"solidity\":0.2}},\"type\":\"bar\"}],\"barpolar\":[{\"marker\":{\"line\":{\"color\":\"#E5ECF6\",\"width\":0.5},\"pattern\":{\"fillmode\":\"overlay\",\"size\":10,\"solidity\":0.2}},\"type\":\"barpolar\"}],\"carpet\":[{\"aaxis\":{\"endlinecolor\":\"#2a3f5f\",\"gridcolor\":\"white\",\"linecolor\":\"white\",\"minorgridcolor\":\"white\",\"startlinecolor\":\"#2a3f5f\"},\"baxis\":{\"endlinecolor\":\"#2a3f5f\",\"gridcolor\":\"white\",\"linecolor\":\"white\",\"minorgridcolor\":\"white\",\"startlinecolor\":\"#2a3f5f\"},\"type\":\"carpet\"}],\"choropleth\":[{\"colorbar\":{\"outlinewidth\":0,\"ticks\":\"\"},\"type\":\"choropleth\"}],\"contour\":[{\"colorbar\":{\"outlinewidth\":0,\"ticks\":\"\"},\"colorscale\":[[0.0,\"#0d0887\"],[0.1111111111111111,\"#46039f\"],[0.2222222222222222,\"#7201a8\"],[0.3333333333333333,\"#9c179e\"],[0.4444444444444444,\"#bd3786\"],[0.5555555555555556,\"#d8576b\"],[0.6666666666666666,\"#ed7953\"],[0.7777777777777778,\"#fb9f3a\"],[0.8888888888888888,\"#fdca26\"],[1.0,\"#f0f921\"]],\"type\":\"contour\"}],\"contourcarpet\":[{\"colorbar\":{\"outlinewidth\":0,\"ticks\":\"\"},\"type\":\"contourcarpet\"}],\"heatmap\":[{\"colorbar\":{\"outlinewidth\":0,\"ticks\":\"\"},\"colorscale\":[[0.0,\"#0d0887\"],[0.1111111111111111,\"#46039f\"],[0.2222222222222222,\"#7201a8\"],[0.3333333333333333,\"#9c179e\"],[0.4444444444444444,\"#bd3786\"],[0.5555555555555556,\"#d8576b\"],[0.6666666666666666,\"#ed7953\"],[0.7777777777777778,\"#fb9f3a\"],[0.8888888888888888,\"#fdca26\"],[1.0,\"#f0f921\"]],\"type\":\"heatmap\"}],\"heatmapgl\":[{\"colorbar\":{\"outlinewidth\":0,\"ticks\":\"\"},\"colorscale\":[[0.0,\"#0d0887\"],[0.1111111111111111,\"#46039f\"],[0.2222222222222222,\"#7201a8\"],[0.3333333333333333,\"#9c179e\"],[0.4444444444444444,\"#bd3786\"],[0.5555555555555556,\"#d8576b\"],[0.6666666666666666,\"#ed7953\"],[0.7777777777777778,\"#fb9f3a\"],[0.8888888888888888,\"#fdca26\"],[1.0,\"#f0f921\"]],\"type\":\"heatmapgl\"}],\"histogram\":[{\"marker\":{\"pattern\":{\"fillmode\":\"overlay\",\"size\":10,\"solidity\":0.2}},\"type\":\"histogram\"}],\"histogram2d\":[{\"colorbar\":{\"outlinewidth\":0,\"ticks\":\"\"},\"colorscale\":[[0.0,\"#0d0887\"],[0.1111111111111111,\"#46039f\"],[0.2222222222222222,\"#7201a8\"],[0.3333333333333333,\"#9c179e\"],[0.4444444444444444,\"#bd3786\"],[0.5555555555555556,\"#d8576b\"],[0.6666666666666666,\"#ed7953\"],[0.7777777777777778,\"#fb9f3a\"],[0.8888888888888888,\"#fdca26\"],[1.0,\"#f0f921\"]],\"type\":\"histogram2d\"}],\"histogram2dcontour\":[{\"colorbar\":{\"outlinewidth\":0,\"ticks\":\"\"},\"colorscale\":[[0.0,\"#0d0887\"],[0.1111111111111111,\"#46039f\"],[0.2222222222222222,\"#7201a8\"],[0.3333333333333333,\"#9c179e\"],[0.4444444444444444,\"#bd3786\"],[0.5555555555555556,\"#d8576b\"],[0.6666666666666666,\"#ed7953\"],[0.7777777777777778,\"#fb9f3a\"],[0.8888888888888888,\"#fdca26\"],[1.0,\"#f0f921\"]],\"type\":\"histogram2dcontour\"}],\"mesh3d\":[{\"colorbar\":{\"outlinewidth\":0,\"ticks\":\"\"},\"type\":\"mesh3d\"}],\"parcoords\":[{\"line\":{\"colorbar\":{\"outlinewidth\":0,\"ticks\":\"\"}},\"type\":\"parcoords\"}],\"pie\":[{\"automargin\":true,\"type\":\"pie\"}],\"scatter\":[{\"marker\":{\"colorbar\":{\"outlinewidth\":0,\"ticks\":\"\"}},\"type\":\"scatter\"}],\"scatter3d\":[{\"line\":{\"colorbar\":{\"outlinewidth\":0,\"ticks\":\"\"}},\"marker\":{\"colorbar\":{\"outlinewidth\":0,\"ticks\":\"\"}},\"type\":\"scatter3d\"}],\"scattercarpet\":[{\"marker\":{\"colorbar\":{\"outlinewidth\":0,\"ticks\":\"\"}},\"type\":\"scattercarpet\"}],\"scattergeo\":[{\"marker\":{\"colorbar\":{\"outlinewidth\":0,\"ticks\":\"\"}},\"type\":\"scattergeo\"}],\"scattergl\":[{\"marker\":{\"colorbar\":{\"outlinewidth\":0,\"ticks\":\"\"}},\"type\":\"scattergl\"}],\"scattermapbox\":[{\"marker\":{\"colorbar\":{\"outlinewidth\":0,\"ticks\":\"\"}},\"type\":\"scattermapbox\"}],\"scatterpolar\":[{\"marker\":{\"colorbar\":{\"outlinewidth\":0,\"ticks\":\"\"}},\"type\":\"scatterpolar\"}],\"scatterpolargl\":[{\"marker\":{\"colorbar\":{\"outlinewidth\":0,\"ticks\":\"\"}},\"type\":\"scatterpolargl\"}],\"scatterternary\":[{\"marker\":{\"colorbar\":{\"outlinewidth\":0,\"ticks\":\"\"}},\"type\":\"scatterternary\"}],\"surface\":[{\"colorbar\":{\"outlinewidth\":0,\"ticks\":\"\"},\"colorscale\":[[0.0,\"#0d0887\"],[0.1111111111111111,\"#46039f\"],[0.2222222222222222,\"#7201a8\"],[0.3333333333333333,\"#9c179e\"],[0.4444444444444444,\"#bd3786\"],[0.5555555555555556,\"#d8576b\"],[0.6666666666666666,\"#ed7953\"],[0.7777777777777778,\"#fb9f3a\"],[0.8888888888888888,\"#fdca26\"],[1.0,\"#f0f921\"]],\"type\":\"surface\"}],\"table\":[{\"cells\":{\"fill\":{\"color\":\"#EBF0F8\"},\"line\":{\"color\":\"white\"}},\"header\":{\"fill\":{\"color\":\"#C8D4E3\"},\"line\":{\"color\":\"white\"}},\"type\":\"table\"}]},\"layout\":{\"annotationdefaults\":{\"arrowcolor\":\"#2a3f5f\",\"arrowhead\":0,\"arrowwidth\":1},\"autotypenumbers\":\"strict\",\"coloraxis\":{\"colorbar\":{\"outlinewidth\":0,\"ticks\":\"\"}},\"colorscale\":{\"diverging\":[[0,\"#8e0152\"],[0.1,\"#c51b7d\"],[0.2,\"#de77ae\"],[0.3,\"#f1b6da\"],[0.4,\"#fde0ef\"],[0.5,\"#f7f7f7\"],[0.6,\"#e6f5d0\"],[0.7,\"#b8e186\"],[0.8,\"#7fbc41\"],[0.9,\"#4d9221\"],[1,\"#276419\"]],\"sequential\":[[0.0,\"#0d0887\"],[0.1111111111111111,\"#46039f\"],[0.2222222222222222,\"#7201a8\"],[0.3333333333333333,\"#9c179e\"],[0.4444444444444444,\"#bd3786\"],[0.5555555555555556,\"#d8576b\"],[0.6666666666666666,\"#ed7953\"],[0.7777777777777778,\"#fb9f3a\"],[0.8888888888888888,\"#fdca26\"],[1.0,\"#f0f921\"]],\"sequentialminus\":[[0.0,\"#0d0887\"],[0.1111111111111111,\"#46039f\"],[0.2222222222222222,\"#7201a8\"],[0.3333333333333333,\"#9c179e\"],[0.4444444444444444,\"#bd3786\"],[0.5555555555555556,\"#d8576b\"],[0.6666666666666666,\"#ed7953\"],[0.7777777777777778,\"#fb9f3a\"],[0.8888888888888888,\"#fdca26\"],[1.0,\"#f0f921\"]]},\"colorway\":[\"#636efa\",\"#EF553B\",\"#00cc96\",\"#ab63fa\",\"#FFA15A\",\"#19d3f3\",\"#FF6692\",\"#B6E880\",\"#FF97FF\",\"#FECB52\"],\"font\":{\"color\":\"#2a3f5f\"},\"geo\":{\"bgcolor\":\"white\",\"lakecolor\":\"white\",\"landcolor\":\"#E5ECF6\",\"showlakes\":true,\"showland\":true,\"subunitcolor\":\"white\"},\"hoverlabel\":{\"align\":\"left\"},\"hovermode\":\"closest\",\"mapbox\":{\"style\":\"light\"},\"paper_bgcolor\":\"white\",\"plot_bgcolor\":\"#E5ECF6\",\"polar\":{\"angularaxis\":{\"gridcolor\":\"white\",\"linecolor\":\"white\",\"ticks\":\"\"},\"bgcolor\":\"#E5ECF6\",\"radialaxis\":{\"gridcolor\":\"white\",\"linecolor\":\"white\",\"ticks\":\"\"}},\"scene\":{\"xaxis\":{\"backgroundcolor\":\"#E5ECF6\",\"gridcolor\":\"white\",\"gridwidth\":2,\"linecolor\":\"white\",\"showbackground\":true,\"ticks\":\"\",\"zerolinecolor\":\"white\"},\"yaxis\":{\"backgroundcolor\":\"#E5ECF6\",\"gridcolor\":\"white\",\"gridwidth\":2,\"linecolor\":\"white\",\"showbackground\":true,\"ticks\":\"\",\"zerolinecolor\":\"white\"},\"zaxis\":{\"backgroundcolor\":\"#E5ECF6\",\"gridcolor\":\"white\",\"gridwidth\":2,\"linecolor\":\"white\",\"showbackground\":true,\"ticks\":\"\",\"zerolinecolor\":\"white\"}},\"shapedefaults\":{\"line\":{\"color\":\"#2a3f5f\"}},\"ternary\":{\"aaxis\":{\"gridcolor\":\"white\",\"linecolor\":\"white\",\"ticks\":\"\"},\"baxis\":{\"gridcolor\":\"white\",\"linecolor\":\"white\",\"ticks\":\"\"},\"bgcolor\":\"#E5ECF6\",\"caxis\":{\"gridcolor\":\"white\",\"linecolor\":\"white\",\"ticks\":\"\"}},\"title\":{\"x\":0.05},\"xaxis\":{\"automargin\":true,\"gridcolor\":\"white\",\"linecolor\":\"white\",\"ticks\":\"\",\"title\":{\"standoff\":15},\"zerolinecolor\":\"white\",\"zerolinewidth\":2},\"yaxis\":{\"automargin\":true,\"gridcolor\":\"white\",\"linecolor\":\"white\",\"ticks\":\"\",\"title\":{\"standoff\":15},\"zerolinecolor\":\"white\",\"zerolinewidth\":2}}},\"title\":{\"text\":\"Occurence of keywords\"},\"xaxis\":{\"dtick\":1,\"range\":[2008,2021],\"title\":{\"text\":\"Year\"}}},                        {\"responsive\": true}                    ).then(function(){\n",
       "                            \n",
       "var gd = document.getElementById('476d9ddd-14b1-47ae-950b-1a3b7a3ad5a9');\n",
       "var x = new MutationObserver(function (mutations, observer) {{\n",
       "        var display = window.getComputedStyle(gd).display;\n",
       "        if (!display || display === 'none') {{\n",
       "            console.log([gd, 'removed!']);\n",
       "            Plotly.purge(gd);\n",
       "            observer.disconnect();\n",
       "        }}\n",
       "}});\n",
       "\n",
       "// Listen for the removal of the full notebook cells\n",
       "var notebookContainer = gd.closest('#notebook-container');\n",
       "if (notebookContainer) {{\n",
       "    x.observe(notebookContainer, {childList: true});\n",
       "}}\n",
       "\n",
       "// Listen for the clearing of the current output cell\n",
       "var outputEl = gd.closest('.output');\n",
       "if (outputEl) {{\n",
       "    x.observe(outputEl, {childList: true});\n",
       "}}\n",
       "\n",
       "                        })                };                });            </script>        </div>"
      ]
     },
     "metadata": {},
     "output_type": "display_data"
    }
   ],
   "source": [
    "# Generate topic occurence plot\n",
    "import plotly.graph_objects as go\n",
    "import plotly.express as px\n",
    "colors = px.colors.qualitative.G10 + px.colors.qualitative.Antique\n",
    "\n",
    "fig = go.Figure(layout_xaxis_range=[2008,2021])\n",
    "\n",
    "add_topic(2011, 2020, 'Trade Relations', fig, colors[0])\n",
    "\n",
    "add_topic(2020, 2021, 'Covid', fig, colors[1])\n",
    "\n",
    "add_topic(2015, 2016, 'Economy', fig, colors[2])\n",
    "\n",
    "add_topic(2020, 2020, 'Huawei', fig, colors[3])\n",
    "add_topic(2018, 2018, 'Huawei', fig, colors[3])\n",
    "\n",
    "add_topic(2019, 2019, 'Hong Kong', fig, colors[4])\n",
    "add_topic(2013, 2017, 'Hong Kong', fig, colors[4])\n",
    "\n",
    "add_topic(2014, 2019, 'Climate', fig, colors[5])\n",
    "add_topic(2009, 2009, 'Climate', fig, colors[5])\n",
    "\n",
    "add_topic(2010, 2019, 'South China sea', fig, colors[6])\n",
    "\n",
    "add_topic(2009, 2019, 'North Korea', fig, colors[7])\n",
    "\n",
    "add_topic(2008, 2009, 'Olympics', fig, colors[8])\n",
    "add_topic(2012, 2012, 'Olympics', fig, colors[8])\n",
    "add_topic(2015, 2016, 'Olympics', fig, colors[8])\n",
    "\n",
    "add_topic(2010, 2010, 'Iran', fig, colors[9])\n",
    "add_topic(2012, 2012, 'Iran', fig, colors[9])\n",
    "add_topic(2015, 2015, 'Iran', fig, colors[9])\n",
    "\n",
    "add_topic(2010, 2012, 'Chinese currency', fig, colors[10])\n",
    "add_topic(2020, 2020, 'Chinese currency', fig, colors[10])\n",
    "\n",
    "add_topic(2008, 2011, 'Dalai Lama', fig, colors[11])\n",
    "\n",
    "add_topic(2019, 2019, 'Human Rights', fig, colors[12])\n",
    "add_topic(2014, 2017, 'Human Rights', fig, colors[12])\n",
    "add_topic(2011, 2012, 'Human Rights', fig, colors[12])\n",
    "add_topic(2009, 2009, 'Human Rights', fig, colors[12])\n",
    "fig.update_layout(showlegend=False)\n",
    "fig.update_layout(barmode='stack')\n",
    "fig.update_xaxes(dtick=1)\n",
    "fig.update_layout(title='Occurence of keywords',\n",
    "                    xaxis_title=\"Year\")\n",
    "fig.show()\n",
    "fig.write_html(f\"C:/Users/jozef/Desktop/quotebank/topic_overview.html\")"
   ]
  },
  {
   "cell_type": "code",
   "execution_count": 44,
   "id": "321cc70f",
   "metadata": {},
   "outputs": [
    {
     "name": "stdout",
     "output_type": "stream",
     "text": [
      "2008\n"
     ]
    },
    {
     "name": "stderr",
     "output_type": "stream",
     "text": [
      "C:\\Users\\jozef\\AppData\\Local\\Temp/ipykernel_18928/1500581119.py:66: SettingWithCopyWarning:\n",
      "\n",
      "\n",
      "A value is trying to be set on a copy of a slice from a DataFrame\n",
      "\n",
      "See the caveats in the documentation: https://pandas.pydata.org/pandas-docs/stable/user_guide/indexing.html#returning-a-view-versus-a-copy\n",
      "\n",
      "C:\\Users\\jozef\\AppData\\Local\\Temp/ipykernel_18928/1500581119.py:67: SettingWithCopyWarning:\n",
      "\n",
      "\n",
      "A value is trying to be set on a copy of a slice from a DataFrame\n",
      "\n",
      "See the caveats in the documentation: https://pandas.pydata.org/pandas-docs/stable/user_guide/indexing.html#returning-a-view-versus-a-copy\n",
      "\n"
     ]
    },
    {
     "name": "stdout",
     "output_type": "stream",
     "text": [
      "2009\n",
      "2010\n",
      "2011\n",
      "2012\n",
      "2013\n",
      "2014\n",
      "2015\n",
      "2016\n",
      "2017\n",
      "2018\n",
      "2019\n",
      "2020\n"
     ]
    }
   ],
   "source": [
    "# Code to aggergate quotations and topics per year\n",
    "years = list(range(2008, 2021))\n",
    "# Mapping from label number to string\n",
    "label_dict = {2008:{1: 'olympics', 2: 'dalai_lama'},\n",
    "             2009: {1:'climate', 2:'olympics', 3:'north_korea',\n",
    "                   4:'dalai_lama', 5:'human_rights'},\n",
    "             2010: {1:'chinese_currency', 2: 'north_korea',\n",
    "                   3:'dalai_lama', 4:'iran', 5:'south_china_sea'},\n",
    "             2011: {1: 'south_china_sea', 2: 'chinese_currency',\n",
    "                   3:'trade_relations', 4:'north_korea', 5:'dalai_lama',\n",
    "                   6:'human_rights'},\n",
    "             2012: {1:'olympics', 2:'south_china_sea', 3:'north_korea',\n",
    "                   4:'trade_relations', 5:'iran', 6:'chinese_currency',\n",
    "                   7:'human_rights'},\n",
    "             2013: {1:'north_korea', 2:'south_china_sea', 3:'hong_kong',\n",
    "                   4:'trade_relations'},\n",
    "             2014: {1:'hong_kong', 2:'climate', 3:'trade_relations',\n",
    "                   4:'south_china_sea', 5:'north_korea', 6:'human_rights'},\n",
    "             2015: {1:'south_china_sea', 2: 'climate', 3:'economy',\n",
    "                   4:'hong_kong', 5:'trade_relations', 6:'iran', 7:'north_korea', \n",
    "                    8:'olympics', 9:'human_rights'},\n",
    "             2016: {1:'south_china_sea', 2:'olympics', 3:'north_korea', \n",
    "                   4:'climate', 5:'trade_relations', 6:'hong_kong', \n",
    "                   7:'economy', 8:'human_rights'},\n",
    "             2017: {1:'north_korea', 2:'south_china_sea', 3:'trade_relations',\n",
    "                   4:'hong_kong', 5:'climate', 6:'human_rights'},\n",
    "             2018: {1:'trade_relations', 2:'huawei', 3:'north_korea', \n",
    "                   4:'south_china_sea', 5:'climate'},\n",
    "             2019: {1:'hong_kong', 2:'trade_relations', 3:'climate',\n",
    "                   4:'south_china_sea', 5:'north_korea', 6:'human_rights'},\n",
    "             2020: {1: 'trade_relations', 2: 'covid-19', 3:'chinese_currency',\n",
    "                   4:'huawei'}}\n",
    "\n",
    "# Label add others label to mapping\n",
    "for key in label_dict.keys():\n",
    "    label_dict[key][-1] = 'others'\n",
    "\n",
    "df = pd.DataFrame(columns=['year', 'human_rights', \n",
    "                           'dalai_lama', 'chinese_currency',\n",
    "                          'iran', 'olympics', 'north_korea',\n",
    "                          'south_china_sea', 'climate', \n",
    "                          'hong_kong', 'huawei', 'economy',\n",
    "                          'covid-19', 'trade_relations', 'others', \n",
    "                          'average', 'quotation', 'speaker'])\n",
    "\n",
    "# For every year agregate sentiment scores per topic. \n",
    "for year in years:\n",
    "    print(year)\n",
    "    df_path = f'C:/Users/jozef/Desktop/quotebank/processed_western_quotes/processed_western_quotes_{year}.json.bz2'\n",
    "    label_df_path = f'C:/Users/jozef/Desktop/quotebank/keyword_labels/keyword_label_{year}.csv'\n",
    "    quote_df = pd.read_json(df_path)\n",
    "    keyword_df = pd.read_csv(label_df_path)\n",
    "    \n",
    "    label_mapping = label_dict[year]\n",
    "    \n",
    "    temp_df = pd.DataFrame(columns = df.columns)\n",
    "    \n",
    "    sentiment_index = quote_df.positive_sentiment - quote_df.negative_sentiment\n",
    "    \n",
    "    # Save useful data for analysis\n",
    "    temp_df['kw_list'] = quote_df.keywords.apply(lambda x: [y[0] for y in x])\n",
    "    temp_df['average'] = sentiment_index\n",
    "    temp_df['others'] = sentiment_index\n",
    "    temp_df['quotation'] = quote_df.quotation\n",
    "    temp_df['speaker'] = quote_df.localTopSpeaker\n",
    "    temp_df['date'] = quote_df.date\n",
    "    \n",
    "    # Compute keyword intersections. One quote may regard multiple topics\n",
    "    for i, group in keyword_df.groupby('keyword_label'):\n",
    "        if i != -1:\n",
    "            kws = set(group.keyword)\n",
    "            mask = temp_df.kw_list.apply(lambda x: len(kws.intersection(x)) == 0)\n",
    "            label = label_mapping[i]\n",
    "            temp_df[label] = sentiment_index\n",
    "            temp_df[label][mask] = pd.NA\n",
    "            temp_df['others'][~mask] = pd.NA\n",
    "    temp_df['year'] = year\n",
    "    df = pd.concat([df, temp_df])\n",
    "    "
   ]
  },
  {
   "cell_type": "code",
   "execution_count": 46,
   "id": "1ab6e0eb",
   "metadata": {},
   "outputs": [],
   "source": [
    "df.to_csv('C:/Users/jozef/Desktop/quotebank/sentiment_keyword_full.csv')"
   ]
  },
  {
   "cell_type": "code",
   "execution_count": 47,
   "id": "83eec8b2",
   "metadata": {
    "scrolled": true
   },
   "outputs": [],
   "source": [
    "# Generate mean sentiment per year per topic\n",
    "sentiment_df = pd.DataFrame()\n",
    "for i, group in df.groupby('year'):\n",
    "    sentiment_df = pd.concat([sentiment_df, group.drop(['kw_list', 'quotation', 'date', 'speaker'], axis =1).mean()], axis =1)\n",
    "sentiment_df = sentiment_df.transpose()"
   ]
  },
  {
   "cell_type": "code",
   "execution_count": 48,
   "id": "9fbfd644",
   "metadata": {},
   "outputs": [
    {
     "data": {
      "text/html": [
       "<div>\n",
       "<style scoped>\n",
       "    .dataframe tbody tr th:only-of-type {\n",
       "        vertical-align: middle;\n",
       "    }\n",
       "\n",
       "    .dataframe tbody tr th {\n",
       "        vertical-align: top;\n",
       "    }\n",
       "\n",
       "    .dataframe thead th {\n",
       "        text-align: right;\n",
       "    }\n",
       "</style>\n",
       "<table border=\"1\" class=\"dataframe\">\n",
       "  <thead>\n",
       "    <tr style=\"text-align: right;\">\n",
       "      <th></th>\n",
       "      <th>year</th>\n",
       "      <th>human_rights</th>\n",
       "      <th>dalai_lama</th>\n",
       "      <th>chinese_currency</th>\n",
       "      <th>iran</th>\n",
       "      <th>olympics</th>\n",
       "      <th>north_korea</th>\n",
       "      <th>south_china_sea</th>\n",
       "      <th>climate</th>\n",
       "      <th>hong_kong</th>\n",
       "      <th>huawei</th>\n",
       "      <th>economy</th>\n",
       "      <th>covid-19</th>\n",
       "      <th>trade_relations</th>\n",
       "      <th>others</th>\n",
       "      <th>average</th>\n",
       "    </tr>\n",
       "  </thead>\n",
       "  <tbody>\n",
       "    <tr>\n",
       "      <th>0</th>\n",
       "      <td>2008.0</td>\n",
       "      <td>NaN</td>\n",
       "      <td>-0.095697</td>\n",
       "      <td>NaN</td>\n",
       "      <td>NaN</td>\n",
       "      <td>0.261426</td>\n",
       "      <td>NaN</td>\n",
       "      <td>NaN</td>\n",
       "      <td>NaN</td>\n",
       "      <td>NaN</td>\n",
       "      <td>NaN</td>\n",
       "      <td>NaN</td>\n",
       "      <td>NaN</td>\n",
       "      <td>NaN</td>\n",
       "      <td>0.070852</td>\n",
       "      <td>0.079425</td>\n",
       "    </tr>\n",
       "    <tr>\n",
       "      <th>0</th>\n",
       "      <td>2009.0</td>\n",
       "      <td>-0.023863</td>\n",
       "      <td>0.012730</td>\n",
       "      <td>NaN</td>\n",
       "      <td>NaN</td>\n",
       "      <td>0.186418</td>\n",
       "      <td>-0.087875</td>\n",
       "      <td>NaN</td>\n",
       "      <td>0.014064</td>\n",
       "      <td>NaN</td>\n",
       "      <td>NaN</td>\n",
       "      <td>NaN</td>\n",
       "      <td>NaN</td>\n",
       "      <td>NaN</td>\n",
       "      <td>0.055208</td>\n",
       "      <td>0.049245</td>\n",
       "    </tr>\n",
       "    <tr>\n",
       "      <th>0</th>\n",
       "      <td>2010.0</td>\n",
       "      <td>NaN</td>\n",
       "      <td>0.002808</td>\n",
       "      <td>-0.086680</td>\n",
       "      <td>-0.050924</td>\n",
       "      <td>NaN</td>\n",
       "      <td>-0.080562</td>\n",
       "      <td>-0.022839</td>\n",
       "      <td>NaN</td>\n",
       "      <td>NaN</td>\n",
       "      <td>NaN</td>\n",
       "      <td>NaN</td>\n",
       "      <td>NaN</td>\n",
       "      <td>NaN</td>\n",
       "      <td>0.051840</td>\n",
       "      <td>0.031933</td>\n",
       "    </tr>\n",
       "    <tr>\n",
       "      <th>0</th>\n",
       "      <td>2011.0</td>\n",
       "      <td>-0.039178</td>\n",
       "      <td>-0.012004</td>\n",
       "      <td>-0.127156</td>\n",
       "      <td>NaN</td>\n",
       "      <td>NaN</td>\n",
       "      <td>-0.142477</td>\n",
       "      <td>-0.058132</td>\n",
       "      <td>NaN</td>\n",
       "      <td>NaN</td>\n",
       "      <td>NaN</td>\n",
       "      <td>NaN</td>\n",
       "      <td>NaN</td>\n",
       "      <td>-0.026845</td>\n",
       "      <td>0.069392</td>\n",
       "      <td>0.057639</td>\n",
       "    </tr>\n",
       "    <tr>\n",
       "      <th>0</th>\n",
       "      <td>2012.0</td>\n",
       "      <td>-0.056744</td>\n",
       "      <td>NaN</td>\n",
       "      <td>-0.293169</td>\n",
       "      <td>-0.138991</td>\n",
       "      <td>0.333639</td>\n",
       "      <td>-0.096467</td>\n",
       "      <td>-0.000769</td>\n",
       "      <td>NaN</td>\n",
       "      <td>NaN</td>\n",
       "      <td>NaN</td>\n",
       "      <td>NaN</td>\n",
       "      <td>NaN</td>\n",
       "      <td>0.010187</td>\n",
       "      <td>0.055413</td>\n",
       "      <td>0.065367</td>\n",
       "    </tr>\n",
       "    <tr>\n",
       "      <th>0</th>\n",
       "      <td>2013.0</td>\n",
       "      <td>NaN</td>\n",
       "      <td>NaN</td>\n",
       "      <td>NaN</td>\n",
       "      <td>NaN</td>\n",
       "      <td>NaN</td>\n",
       "      <td>-0.060415</td>\n",
       "      <td>-0.118995</td>\n",
       "      <td>NaN</td>\n",
       "      <td>-0.181043</td>\n",
       "      <td>NaN</td>\n",
       "      <td>NaN</td>\n",
       "      <td>NaN</td>\n",
       "      <td>0.128876</td>\n",
       "      <td>0.083257</td>\n",
       "      <td>0.072805</td>\n",
       "    </tr>\n",
       "    <tr>\n",
       "      <th>0</th>\n",
       "      <td>2014.0</td>\n",
       "      <td>0.045663</td>\n",
       "      <td>NaN</td>\n",
       "      <td>NaN</td>\n",
       "      <td>NaN</td>\n",
       "      <td>NaN</td>\n",
       "      <td>-0.149262</td>\n",
       "      <td>-0.023752</td>\n",
       "      <td>0.079065</td>\n",
       "      <td>-0.072447</td>\n",
       "      <td>NaN</td>\n",
       "      <td>NaN</td>\n",
       "      <td>NaN</td>\n",
       "      <td>0.183652</td>\n",
       "      <td>0.093318</td>\n",
       "      <td>0.082921</td>\n",
       "    </tr>\n",
       "    <tr>\n",
       "      <th>0</th>\n",
       "      <td>2015.0</td>\n",
       "      <td>-0.173340</td>\n",
       "      <td>NaN</td>\n",
       "      <td>NaN</td>\n",
       "      <td>-0.142716</td>\n",
       "      <td>0.307472</td>\n",
       "      <td>-0.143020</td>\n",
       "      <td>-0.052633</td>\n",
       "      <td>0.143752</td>\n",
       "      <td>0.051315</td>\n",
       "      <td>NaN</td>\n",
       "      <td>0.005600</td>\n",
       "      <td>NaN</td>\n",
       "      <td>0.016094</td>\n",
       "      <td>0.085913</td>\n",
       "      <td>0.068643</td>\n",
       "    </tr>\n",
       "    <tr>\n",
       "      <th>0</th>\n",
       "      <td>2016.0</td>\n",
       "      <td>-0.077325</td>\n",
       "      <td>NaN</td>\n",
       "      <td>NaN</td>\n",
       "      <td>NaN</td>\n",
       "      <td>0.303640</td>\n",
       "      <td>-0.110700</td>\n",
       "      <td>-0.067467</td>\n",
       "      <td>0.083891</td>\n",
       "      <td>-0.034376</td>\n",
       "      <td>NaN</td>\n",
       "      <td>0.016429</td>\n",
       "      <td>NaN</td>\n",
       "      <td>0.021927</td>\n",
       "      <td>0.066959</td>\n",
       "      <td>0.062093</td>\n",
       "    </tr>\n",
       "    <tr>\n",
       "      <th>0</th>\n",
       "      <td>2017.0</td>\n",
       "      <td>-0.264047</td>\n",
       "      <td>NaN</td>\n",
       "      <td>NaN</td>\n",
       "      <td>NaN</td>\n",
       "      <td>NaN</td>\n",
       "      <td>-0.151258</td>\n",
       "      <td>-0.062266</td>\n",
       "      <td>-0.081464</td>\n",
       "      <td>-0.033187</td>\n",
       "      <td>NaN</td>\n",
       "      <td>NaN</td>\n",
       "      <td>NaN</td>\n",
       "      <td>-0.021482</td>\n",
       "      <td>0.087220</td>\n",
       "      <td>-0.009465</td>\n",
       "    </tr>\n",
       "    <tr>\n",
       "      <th>0</th>\n",
       "      <td>2018.0</td>\n",
       "      <td>NaN</td>\n",
       "      <td>NaN</td>\n",
       "      <td>NaN</td>\n",
       "      <td>NaN</td>\n",
       "      <td>NaN</td>\n",
       "      <td>-0.013049</td>\n",
       "      <td>-0.088224</td>\n",
       "      <td>-0.200009</td>\n",
       "      <td>NaN</td>\n",
       "      <td>-0.123001</td>\n",
       "      <td>NaN</td>\n",
       "      <td>NaN</td>\n",
       "      <td>-0.094487</td>\n",
       "      <td>0.000757</td>\n",
       "      <td>-0.039738</td>\n",
       "    </tr>\n",
       "    <tr>\n",
       "      <th>0</th>\n",
       "      <td>2019.0</td>\n",
       "      <td>-0.227881</td>\n",
       "      <td>NaN</td>\n",
       "      <td>NaN</td>\n",
       "      <td>NaN</td>\n",
       "      <td>NaN</td>\n",
       "      <td>-0.049786</td>\n",
       "      <td>-0.199837</td>\n",
       "      <td>-0.038345</td>\n",
       "      <td>-0.113519</td>\n",
       "      <td>NaN</td>\n",
       "      <td>NaN</td>\n",
       "      <td>NaN</td>\n",
       "      <td>-0.058360</td>\n",
       "      <td>-0.036350</td>\n",
       "      <td>-0.056072</td>\n",
       "    </tr>\n",
       "    <tr>\n",
       "      <th>0</th>\n",
       "      <td>2020.0</td>\n",
       "      <td>NaN</td>\n",
       "      <td>NaN</td>\n",
       "      <td>-0.359840</td>\n",
       "      <td>NaN</td>\n",
       "      <td>NaN</td>\n",
       "      <td>NaN</td>\n",
       "      <td>NaN</td>\n",
       "      <td>NaN</td>\n",
       "      <td>NaN</td>\n",
       "      <td>-0.217361</td>\n",
       "      <td>NaN</td>\n",
       "      <td>-0.145354</td>\n",
       "      <td>0.064729</td>\n",
       "      <td>-0.053393</td>\n",
       "      <td>-0.097697</td>\n",
       "    </tr>\n",
       "  </tbody>\n",
       "</table>\n",
       "</div>"
      ],
      "text/plain": [
       "     year  human_rights  dalai_lama  chinese_currency      iran  olympics  \\\n",
       "0  2008.0           NaN   -0.095697               NaN       NaN  0.261426   \n",
       "0  2009.0     -0.023863    0.012730               NaN       NaN  0.186418   \n",
       "0  2010.0           NaN    0.002808         -0.086680 -0.050924       NaN   \n",
       "0  2011.0     -0.039178   -0.012004         -0.127156       NaN       NaN   \n",
       "0  2012.0     -0.056744         NaN         -0.293169 -0.138991  0.333639   \n",
       "0  2013.0           NaN         NaN               NaN       NaN       NaN   \n",
       "0  2014.0      0.045663         NaN               NaN       NaN       NaN   \n",
       "0  2015.0     -0.173340         NaN               NaN -0.142716  0.307472   \n",
       "0  2016.0     -0.077325         NaN               NaN       NaN  0.303640   \n",
       "0  2017.0     -0.264047         NaN               NaN       NaN       NaN   \n",
       "0  2018.0           NaN         NaN               NaN       NaN       NaN   \n",
       "0  2019.0     -0.227881         NaN               NaN       NaN       NaN   \n",
       "0  2020.0           NaN         NaN         -0.359840       NaN       NaN   \n",
       "\n",
       "   north_korea  south_china_sea   climate  hong_kong    huawei   economy  \\\n",
       "0          NaN              NaN       NaN        NaN       NaN       NaN   \n",
       "0    -0.087875              NaN  0.014064        NaN       NaN       NaN   \n",
       "0    -0.080562        -0.022839       NaN        NaN       NaN       NaN   \n",
       "0    -0.142477        -0.058132       NaN        NaN       NaN       NaN   \n",
       "0    -0.096467        -0.000769       NaN        NaN       NaN       NaN   \n",
       "0    -0.060415        -0.118995       NaN  -0.181043       NaN       NaN   \n",
       "0    -0.149262        -0.023752  0.079065  -0.072447       NaN       NaN   \n",
       "0    -0.143020        -0.052633  0.143752   0.051315       NaN  0.005600   \n",
       "0    -0.110700        -0.067467  0.083891  -0.034376       NaN  0.016429   \n",
       "0    -0.151258        -0.062266 -0.081464  -0.033187       NaN       NaN   \n",
       "0    -0.013049        -0.088224 -0.200009        NaN -0.123001       NaN   \n",
       "0    -0.049786        -0.199837 -0.038345  -0.113519       NaN       NaN   \n",
       "0          NaN              NaN       NaN        NaN -0.217361       NaN   \n",
       "\n",
       "   covid-19  trade_relations    others   average  \n",
       "0       NaN              NaN  0.070852  0.079425  \n",
       "0       NaN              NaN  0.055208  0.049245  \n",
       "0       NaN              NaN  0.051840  0.031933  \n",
       "0       NaN        -0.026845  0.069392  0.057639  \n",
       "0       NaN         0.010187  0.055413  0.065367  \n",
       "0       NaN         0.128876  0.083257  0.072805  \n",
       "0       NaN         0.183652  0.093318  0.082921  \n",
       "0       NaN         0.016094  0.085913  0.068643  \n",
       "0       NaN         0.021927  0.066959  0.062093  \n",
       "0       NaN        -0.021482  0.087220 -0.009465  \n",
       "0       NaN        -0.094487  0.000757 -0.039738  \n",
       "0       NaN        -0.058360 -0.036350 -0.056072  \n",
       "0 -0.145354         0.064729 -0.053393 -0.097697  "
      ]
     },
     "execution_count": 48,
     "metadata": {},
     "output_type": "execute_result"
    }
   ],
   "source": [
    "sentiment_df"
   ]
  },
  {
   "cell_type": "code",
   "execution_count": 49,
   "id": "c9490fb1",
   "metadata": {},
   "outputs": [],
   "source": [
    "sentiment_df.to_csv('C:/Users/jozef/Desktop/quotebank/sentiment_keyword_mean.csv')"
   ]
  },
  {
   "cell_type": "code",
   "execution_count": 4,
   "id": "2d65c7a6",
   "metadata": {},
   "outputs": [],
   "source": [
    "sentiment_df = pd.read_csv('C:/Users/jozef/Desktop/quotebank/sentiment_keyword_mean.csv')"
   ]
  },
  {
   "cell_type": "code",
   "execution_count": null,
   "id": "a6ff8113",
   "metadata": {},
   "outputs": [],
   "source": [
    "sentiment_df"
   ]
  },
  {
   "cell_type": "code",
   "execution_count": 15,
   "id": "2ece3fe8",
   "metadata": {
    "scrolled": false
   },
   "outputs": [
    {
     "data": {
      "application/vnd.plotly.v1+json": {
       "config": {
        "plotlyServerURL": "https://plot.ly"
       },
       "data": [
        {
         "marker": {
          "color": "#3366CC"
         },
         "name": "human_rights",
         "type": "scatter",
         "visible": "legendonly",
         "x": [
          2008,
          2009,
          2010,
          2011,
          2012,
          2013,
          2014,
          2015,
          2016,
          2017,
          2018,
          2019,
          2020
         ],
         "y": [
          null,
          -0.0238633292885518,
          null,
          -0.03917805843761,
          -0.0567439775325812,
          null,
          0.0456626720945281,
          -0.173339988700477,
          -0.0773251017654173,
          -0.2640473574553599,
          null,
          -0.2278806152724416,
          null
         ]
        },
        {
         "marker": {
          "color": "#DC3912"
         },
         "name": "dalai_lama",
         "type": "scatter",
         "visible": "legendonly",
         "x": [
          2008,
          2009,
          2010,
          2011,
          2012,
          2013,
          2014,
          2015,
          2016,
          2017,
          2018,
          2019,
          2020
         ],
         "y": [
          -0.0956971820580269,
          0.0127298331539486,
          0.0028079930048326,
          -0.0120035436338541,
          null,
          null,
          null,
          null,
          null,
          null,
          null,
          null,
          null
         ]
        },
        {
         "marker": {
          "color": "#FF9900"
         },
         "name": "chinese_currency",
         "type": "scatter",
         "visible": "legendonly",
         "x": [
          2008,
          2009,
          2010,
          2011,
          2012,
          2013,
          2014,
          2015,
          2016,
          2017,
          2018,
          2019,
          2020
         ],
         "y": [
          null,
          null,
          -0.0866802314475935,
          -0.1271563335217245,
          -0.2931686258868051,
          null,
          null,
          null,
          null,
          null,
          null,
          null,
          -0.359840349041442
         ]
        },
        {
         "marker": {
          "color": "#109618"
         },
         "name": "iran",
         "type": "scatter",
         "visible": "legendonly",
         "x": [
          2008,
          2009,
          2010,
          2011,
          2012,
          2013,
          2014,
          2015,
          2016,
          2017,
          2018,
          2019,
          2020
         ],
         "y": [
          null,
          null,
          -0.0509242948015352,
          null,
          -0.1389910597768028,
          null,
          null,
          -0.1427157328946438,
          null,
          null,
          null,
          null,
          null
         ]
        },
        {
         "marker": {
          "color": "#990099"
         },
         "name": "olympics",
         "type": "scatter",
         "visible": "legendonly",
         "x": [
          2008,
          2009,
          2010,
          2011,
          2012,
          2013,
          2014,
          2015,
          2016,
          2017,
          2018,
          2019,
          2020
         ],
         "y": [
          0.2614257651778678,
          0.186417999525302,
          null,
          null,
          0.3336389566115357,
          null,
          null,
          0.3074719754770073,
          0.3036404322085462,
          null,
          null,
          null,
          null
         ]
        },
        {
         "marker": {
          "color": "#0099C6"
         },
         "name": "north_korea",
         "type": "scatter",
         "visible": "legendonly",
         "x": [
          2008,
          2009,
          2010,
          2011,
          2012,
          2013,
          2014,
          2015,
          2016,
          2017,
          2018,
          2019,
          2020
         ],
         "y": [
          null,
          -0.0878752297893507,
          -0.0805623878216801,
          -0.1424765367663255,
          -0.096466798108079,
          -0.0604154562913539,
          -0.14926224279894,
          -0.1430202188427673,
          -0.1106995693370773,
          -0.1512584178614014,
          -0.013048503062272,
          -0.0497857133076749,
          null
         ]
        },
        {
         "marker": {
          "color": "#DD4477"
         },
         "name": "south_china_sea",
         "type": "scatter",
         "visible": "legendonly",
         "x": [
          2008,
          2009,
          2010,
          2011,
          2012,
          2013,
          2014,
          2015,
          2016,
          2017,
          2018,
          2019,
          2020
         ],
         "y": [
          null,
          null,
          -0.0228386447515177,
          -0.058131784991339,
          -0.0007685525882806,
          -0.1189947235281016,
          -0.0237517346756189,
          -0.052633248001298,
          -0.0674670313087085,
          -0.0622660395148981,
          -0.0882241661844574,
          -0.1998367696717569,
          null
         ]
        },
        {
         "marker": {
          "color": "#66AA00"
         },
         "name": "climate",
         "type": "scatter",
         "visible": "legendonly",
         "x": [
          2008,
          2009,
          2010,
          2011,
          2012,
          2013,
          2014,
          2015,
          2016,
          2017,
          2018,
          2019,
          2020
         ],
         "y": [
          null,
          0.0140641919532954,
          null,
          null,
          null,
          null,
          0.0790654362307669,
          0.1437522463004947,
          0.0838911785959563,
          -0.0814640545174077,
          -0.2000088801842415,
          -0.0383453598680355,
          null
         ]
        },
        {
         "marker": {
          "color": "#B82E2E"
         },
         "name": "hong_kong",
         "type": "scatter",
         "visible": "legendonly",
         "x": [
          2008,
          2009,
          2010,
          2011,
          2012,
          2013,
          2014,
          2015,
          2016,
          2017,
          2018,
          2019,
          2020
         ],
         "y": [
          null,
          null,
          null,
          null,
          null,
          -0.1810431727737547,
          -0.0724469739528269,
          0.0513151178394106,
          -0.0343758161091195,
          -0.0331872975686919,
          null,
          -0.1135192279615164,
          null
         ]
        },
        {
         "marker": {
          "color": "#316395"
         },
         "name": "huawei",
         "type": "scatter",
         "visible": "legendonly",
         "x": [
          2008,
          2009,
          2010,
          2011,
          2012,
          2013,
          2014,
          2015,
          2016,
          2017,
          2018,
          2019,
          2020
         ],
         "y": [
          null,
          null,
          null,
          null,
          null,
          null,
          null,
          null,
          null,
          null,
          -0.1230012075619001,
          null,
          -0.2173610792082918
         ]
        },
        {
         "marker": {
          "color": "rgb(133, 92, 117)"
         },
         "name": "economy",
         "type": "scatter",
         "visible": "legendonly",
         "x": [
          2008,
          2009,
          2010,
          2011,
          2012,
          2013,
          2014,
          2015,
          2016,
          2017,
          2018,
          2019,
          2020
         ],
         "y": [
          null,
          null,
          null,
          null,
          null,
          null,
          null,
          0.005600005059103,
          0.0164285417832635,
          null,
          null,
          null,
          null
         ]
        },
        {
         "marker": {
          "color": "rgb(217, 175, 107)"
         },
         "name": "covid-19",
         "type": "scatter",
         "visible": "legendonly",
         "x": [
          2008,
          2009,
          2010,
          2011,
          2012,
          2013,
          2014,
          2015,
          2016,
          2017,
          2018,
          2019,
          2020
         ],
         "y": [
          null,
          null,
          null,
          null,
          null,
          null,
          null,
          null,
          null,
          null,
          null,
          null,
          -0.145353986385386
         ]
        },
        {
         "marker": {
          "color": "rgb(175, 100, 88)"
         },
         "name": "trade_relations",
         "type": "scatter",
         "visible": "legendonly",
         "x": [
          2008,
          2009,
          2010,
          2011,
          2012,
          2013,
          2014,
          2015,
          2016,
          2017,
          2018,
          2019,
          2020
         ],
         "y": [
          null,
          null,
          null,
          -0.0268445044292201,
          0.0101871233917538,
          0.1288755810716009,
          0.1836523648909947,
          0.016093760950531,
          0.0219272472403469,
          -0.0214822137053999,
          -0.0944872349872071,
          -0.0583602381448113,
          0.0647289676128992
         ]
        },
        {
         "marker": {
          "color": "rgb(115, 111, 76)"
         },
         "name": "others",
         "type": "scatter",
         "visible": "legendonly",
         "x": [
          2008,
          2009,
          2010,
          2011,
          2012,
          2013,
          2014,
          2015,
          2016,
          2017,
          2018,
          2019,
          2020
         ],
         "y": [
          0.0708520485917361,
          0.0552078895327033,
          0.0518401283653247,
          0.069391967961383,
          0.055412956508404,
          0.0832573406142355,
          0.0933179540079265,
          0.0859133128917817,
          0.0669594248544219,
          0.0872198118886997,
          0.0007571082027038,
          -0.0363496609300468,
          -0.0533932874227739
         ]
        },
        {
         "marker": {
          "color": "rgb(82, 106, 131)"
         },
         "name": "average",
         "type": "scatter",
         "x": [
          2008,
          2009,
          2010,
          2011,
          2012,
          2013,
          2014,
          2015,
          2016,
          2017,
          2018,
          2019,
          2020
         ],
         "y": [
          0.0794245934761175,
          0.0492449930780533,
          0.0319331228895771,
          0.0576386719534225,
          0.0653671691648634,
          0.0728050143072203,
          0.0829207820083035,
          0.0686427618985991,
          0.0620934193351396,
          -0.0094653618082372,
          -0.0397377400322641,
          -0.0560715998076403,
          -0.0976973109855021
         ]
        }
       ],
       "layout": {
        "height": 600,
        "template": {
         "data": {
          "bar": [
           {
            "error_x": {
             "color": "#2a3f5f"
            },
            "error_y": {
             "color": "#2a3f5f"
            },
            "marker": {
             "line": {
              "color": "#E5ECF6",
              "width": 0.5
             },
             "pattern": {
              "fillmode": "overlay",
              "size": 10,
              "solidity": 0.2
             }
            },
            "type": "bar"
           }
          ],
          "barpolar": [
           {
            "marker": {
             "line": {
              "color": "#E5ECF6",
              "width": 0.5
             },
             "pattern": {
              "fillmode": "overlay",
              "size": 10,
              "solidity": 0.2
             }
            },
            "type": "barpolar"
           }
          ],
          "carpet": [
           {
            "aaxis": {
             "endlinecolor": "#2a3f5f",
             "gridcolor": "white",
             "linecolor": "white",
             "minorgridcolor": "white",
             "startlinecolor": "#2a3f5f"
            },
            "baxis": {
             "endlinecolor": "#2a3f5f",
             "gridcolor": "white",
             "linecolor": "white",
             "minorgridcolor": "white",
             "startlinecolor": "#2a3f5f"
            },
            "type": "carpet"
           }
          ],
          "choropleth": [
           {
            "colorbar": {
             "outlinewidth": 0,
             "ticks": ""
            },
            "type": "choropleth"
           }
          ],
          "contour": [
           {
            "colorbar": {
             "outlinewidth": 0,
             "ticks": ""
            },
            "colorscale": [
             [
              0,
              "#0d0887"
             ],
             [
              0.1111111111111111,
              "#46039f"
             ],
             [
              0.2222222222222222,
              "#7201a8"
             ],
             [
              0.3333333333333333,
              "#9c179e"
             ],
             [
              0.4444444444444444,
              "#bd3786"
             ],
             [
              0.5555555555555556,
              "#d8576b"
             ],
             [
              0.6666666666666666,
              "#ed7953"
             ],
             [
              0.7777777777777778,
              "#fb9f3a"
             ],
             [
              0.8888888888888888,
              "#fdca26"
             ],
             [
              1,
              "#f0f921"
             ]
            ],
            "type": "contour"
           }
          ],
          "contourcarpet": [
           {
            "colorbar": {
             "outlinewidth": 0,
             "ticks": ""
            },
            "type": "contourcarpet"
           }
          ],
          "heatmap": [
           {
            "colorbar": {
             "outlinewidth": 0,
             "ticks": ""
            },
            "colorscale": [
             [
              0,
              "#0d0887"
             ],
             [
              0.1111111111111111,
              "#46039f"
             ],
             [
              0.2222222222222222,
              "#7201a8"
             ],
             [
              0.3333333333333333,
              "#9c179e"
             ],
             [
              0.4444444444444444,
              "#bd3786"
             ],
             [
              0.5555555555555556,
              "#d8576b"
             ],
             [
              0.6666666666666666,
              "#ed7953"
             ],
             [
              0.7777777777777778,
              "#fb9f3a"
             ],
             [
              0.8888888888888888,
              "#fdca26"
             ],
             [
              1,
              "#f0f921"
             ]
            ],
            "type": "heatmap"
           }
          ],
          "heatmapgl": [
           {
            "colorbar": {
             "outlinewidth": 0,
             "ticks": ""
            },
            "colorscale": [
             [
              0,
              "#0d0887"
             ],
             [
              0.1111111111111111,
              "#46039f"
             ],
             [
              0.2222222222222222,
              "#7201a8"
             ],
             [
              0.3333333333333333,
              "#9c179e"
             ],
             [
              0.4444444444444444,
              "#bd3786"
             ],
             [
              0.5555555555555556,
              "#d8576b"
             ],
             [
              0.6666666666666666,
              "#ed7953"
             ],
             [
              0.7777777777777778,
              "#fb9f3a"
             ],
             [
              0.8888888888888888,
              "#fdca26"
             ],
             [
              1,
              "#f0f921"
             ]
            ],
            "type": "heatmapgl"
           }
          ],
          "histogram": [
           {
            "marker": {
             "pattern": {
              "fillmode": "overlay",
              "size": 10,
              "solidity": 0.2
             }
            },
            "type": "histogram"
           }
          ],
          "histogram2d": [
           {
            "colorbar": {
             "outlinewidth": 0,
             "ticks": ""
            },
            "colorscale": [
             [
              0,
              "#0d0887"
             ],
             [
              0.1111111111111111,
              "#46039f"
             ],
             [
              0.2222222222222222,
              "#7201a8"
             ],
             [
              0.3333333333333333,
              "#9c179e"
             ],
             [
              0.4444444444444444,
              "#bd3786"
             ],
             [
              0.5555555555555556,
              "#d8576b"
             ],
             [
              0.6666666666666666,
              "#ed7953"
             ],
             [
              0.7777777777777778,
              "#fb9f3a"
             ],
             [
              0.8888888888888888,
              "#fdca26"
             ],
             [
              1,
              "#f0f921"
             ]
            ],
            "type": "histogram2d"
           }
          ],
          "histogram2dcontour": [
           {
            "colorbar": {
             "outlinewidth": 0,
             "ticks": ""
            },
            "colorscale": [
             [
              0,
              "#0d0887"
             ],
             [
              0.1111111111111111,
              "#46039f"
             ],
             [
              0.2222222222222222,
              "#7201a8"
             ],
             [
              0.3333333333333333,
              "#9c179e"
             ],
             [
              0.4444444444444444,
              "#bd3786"
             ],
             [
              0.5555555555555556,
              "#d8576b"
             ],
             [
              0.6666666666666666,
              "#ed7953"
             ],
             [
              0.7777777777777778,
              "#fb9f3a"
             ],
             [
              0.8888888888888888,
              "#fdca26"
             ],
             [
              1,
              "#f0f921"
             ]
            ],
            "type": "histogram2dcontour"
           }
          ],
          "mesh3d": [
           {
            "colorbar": {
             "outlinewidth": 0,
             "ticks": ""
            },
            "type": "mesh3d"
           }
          ],
          "parcoords": [
           {
            "line": {
             "colorbar": {
              "outlinewidth": 0,
              "ticks": ""
             }
            },
            "type": "parcoords"
           }
          ],
          "pie": [
           {
            "automargin": true,
            "type": "pie"
           }
          ],
          "scatter": [
           {
            "marker": {
             "colorbar": {
              "outlinewidth": 0,
              "ticks": ""
             }
            },
            "type": "scatter"
           }
          ],
          "scatter3d": [
           {
            "line": {
             "colorbar": {
              "outlinewidth": 0,
              "ticks": ""
             }
            },
            "marker": {
             "colorbar": {
              "outlinewidth": 0,
              "ticks": ""
             }
            },
            "type": "scatter3d"
           }
          ],
          "scattercarpet": [
           {
            "marker": {
             "colorbar": {
              "outlinewidth": 0,
              "ticks": ""
             }
            },
            "type": "scattercarpet"
           }
          ],
          "scattergeo": [
           {
            "marker": {
             "colorbar": {
              "outlinewidth": 0,
              "ticks": ""
             }
            },
            "type": "scattergeo"
           }
          ],
          "scattergl": [
           {
            "marker": {
             "colorbar": {
              "outlinewidth": 0,
              "ticks": ""
             }
            },
            "type": "scattergl"
           }
          ],
          "scattermapbox": [
           {
            "marker": {
             "colorbar": {
              "outlinewidth": 0,
              "ticks": ""
             }
            },
            "type": "scattermapbox"
           }
          ],
          "scatterpolar": [
           {
            "marker": {
             "colorbar": {
              "outlinewidth": 0,
              "ticks": ""
             }
            },
            "type": "scatterpolar"
           }
          ],
          "scatterpolargl": [
           {
            "marker": {
             "colorbar": {
              "outlinewidth": 0,
              "ticks": ""
             }
            },
            "type": "scatterpolargl"
           }
          ],
          "scatterternary": [
           {
            "marker": {
             "colorbar": {
              "outlinewidth": 0,
              "ticks": ""
             }
            },
            "type": "scatterternary"
           }
          ],
          "surface": [
           {
            "colorbar": {
             "outlinewidth": 0,
             "ticks": ""
            },
            "colorscale": [
             [
              0,
              "#0d0887"
             ],
             [
              0.1111111111111111,
              "#46039f"
             ],
             [
              0.2222222222222222,
              "#7201a8"
             ],
             [
              0.3333333333333333,
              "#9c179e"
             ],
             [
              0.4444444444444444,
              "#bd3786"
             ],
             [
              0.5555555555555556,
              "#d8576b"
             ],
             [
              0.6666666666666666,
              "#ed7953"
             ],
             [
              0.7777777777777778,
              "#fb9f3a"
             ],
             [
              0.8888888888888888,
              "#fdca26"
             ],
             [
              1,
              "#f0f921"
             ]
            ],
            "type": "surface"
           }
          ],
          "table": [
           {
            "cells": {
             "fill": {
              "color": "#EBF0F8"
             },
             "line": {
              "color": "white"
             }
            },
            "header": {
             "fill": {
              "color": "#C8D4E3"
             },
             "line": {
              "color": "white"
             }
            },
            "type": "table"
           }
          ]
         },
         "layout": {
          "annotationdefaults": {
           "arrowcolor": "#2a3f5f",
           "arrowhead": 0,
           "arrowwidth": 1
          },
          "autotypenumbers": "strict",
          "coloraxis": {
           "colorbar": {
            "outlinewidth": 0,
            "ticks": ""
           }
          },
          "colorscale": {
           "diverging": [
            [
             0,
             "#8e0152"
            ],
            [
             0.1,
             "#c51b7d"
            ],
            [
             0.2,
             "#de77ae"
            ],
            [
             0.3,
             "#f1b6da"
            ],
            [
             0.4,
             "#fde0ef"
            ],
            [
             0.5,
             "#f7f7f7"
            ],
            [
             0.6,
             "#e6f5d0"
            ],
            [
             0.7,
             "#b8e186"
            ],
            [
             0.8,
             "#7fbc41"
            ],
            [
             0.9,
             "#4d9221"
            ],
            [
             1,
             "#276419"
            ]
           ],
           "sequential": [
            [
             0,
             "#0d0887"
            ],
            [
             0.1111111111111111,
             "#46039f"
            ],
            [
             0.2222222222222222,
             "#7201a8"
            ],
            [
             0.3333333333333333,
             "#9c179e"
            ],
            [
             0.4444444444444444,
             "#bd3786"
            ],
            [
             0.5555555555555556,
             "#d8576b"
            ],
            [
             0.6666666666666666,
             "#ed7953"
            ],
            [
             0.7777777777777778,
             "#fb9f3a"
            ],
            [
             0.8888888888888888,
             "#fdca26"
            ],
            [
             1,
             "#f0f921"
            ]
           ],
           "sequentialminus": [
            [
             0,
             "#0d0887"
            ],
            [
             0.1111111111111111,
             "#46039f"
            ],
            [
             0.2222222222222222,
             "#7201a8"
            ],
            [
             0.3333333333333333,
             "#9c179e"
            ],
            [
             0.4444444444444444,
             "#bd3786"
            ],
            [
             0.5555555555555556,
             "#d8576b"
            ],
            [
             0.6666666666666666,
             "#ed7953"
            ],
            [
             0.7777777777777778,
             "#fb9f3a"
            ],
            [
             0.8888888888888888,
             "#fdca26"
            ],
            [
             1,
             "#f0f921"
            ]
           ]
          },
          "colorway": [
           "#636efa",
           "#EF553B",
           "#00cc96",
           "#ab63fa",
           "#FFA15A",
           "#19d3f3",
           "#FF6692",
           "#B6E880",
           "#FF97FF",
           "#FECB52"
          ],
          "font": {
           "color": "#2a3f5f"
          },
          "geo": {
           "bgcolor": "white",
           "lakecolor": "white",
           "landcolor": "#E5ECF6",
           "showlakes": true,
           "showland": true,
           "subunitcolor": "white"
          },
          "hoverlabel": {
           "align": "left"
          },
          "hovermode": "closest",
          "mapbox": {
           "style": "light"
          },
          "paper_bgcolor": "white",
          "plot_bgcolor": "#E5ECF6",
          "polar": {
           "angularaxis": {
            "gridcolor": "white",
            "linecolor": "white",
            "ticks": ""
           },
           "bgcolor": "#E5ECF6",
           "radialaxis": {
            "gridcolor": "white",
            "linecolor": "white",
            "ticks": ""
           }
          },
          "scene": {
           "xaxis": {
            "backgroundcolor": "#E5ECF6",
            "gridcolor": "white",
            "gridwidth": 2,
            "linecolor": "white",
            "showbackground": true,
            "ticks": "",
            "zerolinecolor": "white"
           },
           "yaxis": {
            "backgroundcolor": "#E5ECF6",
            "gridcolor": "white",
            "gridwidth": 2,
            "linecolor": "white",
            "showbackground": true,
            "ticks": "",
            "zerolinecolor": "white"
           },
           "zaxis": {
            "backgroundcolor": "#E5ECF6",
            "gridcolor": "white",
            "gridwidth": 2,
            "linecolor": "white",
            "showbackground": true,
            "ticks": "",
            "zerolinecolor": "white"
           }
          },
          "shapedefaults": {
           "line": {
            "color": "#2a3f5f"
           }
          },
          "ternary": {
           "aaxis": {
            "gridcolor": "white",
            "linecolor": "white",
            "ticks": ""
           },
           "baxis": {
            "gridcolor": "white",
            "linecolor": "white",
            "ticks": ""
           },
           "bgcolor": "#E5ECF6",
           "caxis": {
            "gridcolor": "white",
            "linecolor": "white",
            "ticks": ""
           }
          },
          "title": {
           "x": 0.05
          },
          "xaxis": {
           "automargin": true,
           "gridcolor": "white",
           "linecolor": "white",
           "ticks": "",
           "title": {
            "standoff": 15
           },
           "zerolinecolor": "white",
           "zerolinewidth": 2
          },
          "yaxis": {
           "automargin": true,
           "gridcolor": "white",
           "linecolor": "white",
           "ticks": "",
           "title": {
            "standoff": 15
           },
           "zerolinecolor": "white",
           "zerolinewidth": 2
          }
         }
        },
        "title": {
         "text": "Topic sentiments over time"
        },
        "xaxis": {
         "range": [
          2007,
          2021
         ],
         "title": {
          "text": "Year"
         }
        },
        "yaxis": {
         "title": {
          "text": "Sentiment index"
         }
        }
       }
      },
      "text/html": [
       "<div>                            <div id=\"e79d5853-4b10-4059-8a5b-32f7eb360f91\" class=\"plotly-graph-div\" style=\"height:600px; width:100%;\"></div>            <script type=\"text/javascript\">                require([\"plotly\"], function(Plotly) {                    window.PLOTLYENV=window.PLOTLYENV || {};                                    if (document.getElementById(\"e79d5853-4b10-4059-8a5b-32f7eb360f91\")) {                    Plotly.newPlot(                        \"e79d5853-4b10-4059-8a5b-32f7eb360f91\",                        [{\"marker\":{\"color\":\"#3366CC\"},\"name\":\"human_rights\",\"type\":\"scatter\",\"visible\":\"legendonly\",\"x\":[2008.0,2009.0,2010.0,2011.0,2012.0,2013.0,2014.0,2015.0,2016.0,2017.0,2018.0,2019.0,2020.0],\"y\":[null,-0.0238633292885518,null,-0.03917805843761,-0.0567439775325812,null,0.0456626720945281,-0.173339988700477,-0.0773251017654173,-0.2640473574553599,null,-0.2278806152724416,null]},{\"marker\":{\"color\":\"#DC3912\"},\"name\":\"dalai_lama\",\"type\":\"scatter\",\"visible\":\"legendonly\",\"x\":[2008.0,2009.0,2010.0,2011.0,2012.0,2013.0,2014.0,2015.0,2016.0,2017.0,2018.0,2019.0,2020.0],\"y\":[-0.0956971820580269,0.0127298331539486,0.0028079930048326,-0.0120035436338541,null,null,null,null,null,null,null,null,null]},{\"marker\":{\"color\":\"#FF9900\"},\"name\":\"chinese_currency\",\"type\":\"scatter\",\"visible\":\"legendonly\",\"x\":[2008.0,2009.0,2010.0,2011.0,2012.0,2013.0,2014.0,2015.0,2016.0,2017.0,2018.0,2019.0,2020.0],\"y\":[null,null,-0.0866802314475935,-0.1271563335217245,-0.2931686258868051,null,null,null,null,null,null,null,-0.359840349041442]},{\"marker\":{\"color\":\"#109618\"},\"name\":\"iran\",\"type\":\"scatter\",\"visible\":\"legendonly\",\"x\":[2008.0,2009.0,2010.0,2011.0,2012.0,2013.0,2014.0,2015.0,2016.0,2017.0,2018.0,2019.0,2020.0],\"y\":[null,null,-0.0509242948015352,null,-0.1389910597768028,null,null,-0.1427157328946438,null,null,null,null,null]},{\"marker\":{\"color\":\"#990099\"},\"name\":\"olympics\",\"type\":\"scatter\",\"visible\":\"legendonly\",\"x\":[2008.0,2009.0,2010.0,2011.0,2012.0,2013.0,2014.0,2015.0,2016.0,2017.0,2018.0,2019.0,2020.0],\"y\":[0.2614257651778678,0.186417999525302,null,null,0.3336389566115357,null,null,0.3074719754770073,0.3036404322085462,null,null,null,null]},{\"marker\":{\"color\":\"#0099C6\"},\"name\":\"north_korea\",\"type\":\"scatter\",\"visible\":\"legendonly\",\"x\":[2008.0,2009.0,2010.0,2011.0,2012.0,2013.0,2014.0,2015.0,2016.0,2017.0,2018.0,2019.0,2020.0],\"y\":[null,-0.0878752297893507,-0.0805623878216801,-0.1424765367663255,-0.096466798108079,-0.0604154562913539,-0.14926224279894,-0.1430202188427673,-0.1106995693370773,-0.1512584178614014,-0.013048503062272,-0.0497857133076749,null]},{\"marker\":{\"color\":\"#DD4477\"},\"name\":\"south_china_sea\",\"type\":\"scatter\",\"visible\":\"legendonly\",\"x\":[2008.0,2009.0,2010.0,2011.0,2012.0,2013.0,2014.0,2015.0,2016.0,2017.0,2018.0,2019.0,2020.0],\"y\":[null,null,-0.0228386447515177,-0.058131784991339,-0.0007685525882806,-0.1189947235281016,-0.0237517346756189,-0.052633248001298,-0.0674670313087085,-0.0622660395148981,-0.0882241661844574,-0.1998367696717569,null]},{\"marker\":{\"color\":\"#66AA00\"},\"name\":\"climate\",\"type\":\"scatter\",\"visible\":\"legendonly\",\"x\":[2008.0,2009.0,2010.0,2011.0,2012.0,2013.0,2014.0,2015.0,2016.0,2017.0,2018.0,2019.0,2020.0],\"y\":[null,0.0140641919532954,null,null,null,null,0.0790654362307669,0.1437522463004947,0.0838911785959563,-0.0814640545174077,-0.2000088801842415,-0.0383453598680355,null]},{\"marker\":{\"color\":\"#B82E2E\"},\"name\":\"hong_kong\",\"type\":\"scatter\",\"visible\":\"legendonly\",\"x\":[2008.0,2009.0,2010.0,2011.0,2012.0,2013.0,2014.0,2015.0,2016.0,2017.0,2018.0,2019.0,2020.0],\"y\":[null,null,null,null,null,-0.1810431727737547,-0.0724469739528269,0.0513151178394106,-0.0343758161091195,-0.0331872975686919,null,-0.1135192279615164,null]},{\"marker\":{\"color\":\"#316395\"},\"name\":\"huawei\",\"type\":\"scatter\",\"visible\":\"legendonly\",\"x\":[2008.0,2009.0,2010.0,2011.0,2012.0,2013.0,2014.0,2015.0,2016.0,2017.0,2018.0,2019.0,2020.0],\"y\":[null,null,null,null,null,null,null,null,null,null,-0.1230012075619001,null,-0.2173610792082918]},{\"marker\":{\"color\":\"rgb(133, 92, 117)\"},\"name\":\"economy\",\"type\":\"scatter\",\"visible\":\"legendonly\",\"x\":[2008.0,2009.0,2010.0,2011.0,2012.0,2013.0,2014.0,2015.0,2016.0,2017.0,2018.0,2019.0,2020.0],\"y\":[null,null,null,null,null,null,null,0.005600005059103,0.0164285417832635,null,null,null,null]},{\"marker\":{\"color\":\"rgb(217, 175, 107)\"},\"name\":\"covid-19\",\"type\":\"scatter\",\"visible\":\"legendonly\",\"x\":[2008.0,2009.0,2010.0,2011.0,2012.0,2013.0,2014.0,2015.0,2016.0,2017.0,2018.0,2019.0,2020.0],\"y\":[null,null,null,null,null,null,null,null,null,null,null,null,-0.145353986385386]},{\"marker\":{\"color\":\"rgb(175, 100, 88)\"},\"name\":\"trade_relations\",\"type\":\"scatter\",\"visible\":\"legendonly\",\"x\":[2008.0,2009.0,2010.0,2011.0,2012.0,2013.0,2014.0,2015.0,2016.0,2017.0,2018.0,2019.0,2020.0],\"y\":[null,null,null,-0.0268445044292201,0.0101871233917538,0.1288755810716009,0.1836523648909947,0.016093760950531,0.0219272472403469,-0.0214822137053999,-0.0944872349872071,-0.0583602381448113,0.0647289676128992]},{\"marker\":{\"color\":\"rgb(115, 111, 76)\"},\"name\":\"others\",\"type\":\"scatter\",\"visible\":\"legendonly\",\"x\":[2008.0,2009.0,2010.0,2011.0,2012.0,2013.0,2014.0,2015.0,2016.0,2017.0,2018.0,2019.0,2020.0],\"y\":[0.0708520485917361,0.0552078895327033,0.0518401283653247,0.069391967961383,0.055412956508404,0.0832573406142355,0.0933179540079265,0.0859133128917817,0.0669594248544219,0.0872198118886997,0.0007571082027038,-0.0363496609300468,-0.0533932874227739]},{\"marker\":{\"color\":\"rgb(82, 106, 131)\"},\"name\":\"average\",\"type\":\"scatter\",\"x\":[2008.0,2009.0,2010.0,2011.0,2012.0,2013.0,2014.0,2015.0,2016.0,2017.0,2018.0,2019.0,2020.0],\"y\":[0.0794245934761175,0.0492449930780533,0.0319331228895771,0.0576386719534225,0.0653671691648634,0.0728050143072203,0.0829207820083035,0.0686427618985991,0.0620934193351396,-0.0094653618082372,-0.0397377400322641,-0.0560715998076403,-0.0976973109855021]}],                        {\"height\":600,\"template\":{\"data\":{\"bar\":[{\"error_x\":{\"color\":\"#2a3f5f\"},\"error_y\":{\"color\":\"#2a3f5f\"},\"marker\":{\"line\":{\"color\":\"#E5ECF6\",\"width\":0.5},\"pattern\":{\"fillmode\":\"overlay\",\"size\":10,\"solidity\":0.2}},\"type\":\"bar\"}],\"barpolar\":[{\"marker\":{\"line\":{\"color\":\"#E5ECF6\",\"width\":0.5},\"pattern\":{\"fillmode\":\"overlay\",\"size\":10,\"solidity\":0.2}},\"type\":\"barpolar\"}],\"carpet\":[{\"aaxis\":{\"endlinecolor\":\"#2a3f5f\",\"gridcolor\":\"white\",\"linecolor\":\"white\",\"minorgridcolor\":\"white\",\"startlinecolor\":\"#2a3f5f\"},\"baxis\":{\"endlinecolor\":\"#2a3f5f\",\"gridcolor\":\"white\",\"linecolor\":\"white\",\"minorgridcolor\":\"white\",\"startlinecolor\":\"#2a3f5f\"},\"type\":\"carpet\"}],\"choropleth\":[{\"colorbar\":{\"outlinewidth\":0,\"ticks\":\"\"},\"type\":\"choropleth\"}],\"contour\":[{\"colorbar\":{\"outlinewidth\":0,\"ticks\":\"\"},\"colorscale\":[[0.0,\"#0d0887\"],[0.1111111111111111,\"#46039f\"],[0.2222222222222222,\"#7201a8\"],[0.3333333333333333,\"#9c179e\"],[0.4444444444444444,\"#bd3786\"],[0.5555555555555556,\"#d8576b\"],[0.6666666666666666,\"#ed7953\"],[0.7777777777777778,\"#fb9f3a\"],[0.8888888888888888,\"#fdca26\"],[1.0,\"#f0f921\"]],\"type\":\"contour\"}],\"contourcarpet\":[{\"colorbar\":{\"outlinewidth\":0,\"ticks\":\"\"},\"type\":\"contourcarpet\"}],\"heatmap\":[{\"colorbar\":{\"outlinewidth\":0,\"ticks\":\"\"},\"colorscale\":[[0.0,\"#0d0887\"],[0.1111111111111111,\"#46039f\"],[0.2222222222222222,\"#7201a8\"],[0.3333333333333333,\"#9c179e\"],[0.4444444444444444,\"#bd3786\"],[0.5555555555555556,\"#d8576b\"],[0.6666666666666666,\"#ed7953\"],[0.7777777777777778,\"#fb9f3a\"],[0.8888888888888888,\"#fdca26\"],[1.0,\"#f0f921\"]],\"type\":\"heatmap\"}],\"heatmapgl\":[{\"colorbar\":{\"outlinewidth\":0,\"ticks\":\"\"},\"colorscale\":[[0.0,\"#0d0887\"],[0.1111111111111111,\"#46039f\"],[0.2222222222222222,\"#7201a8\"],[0.3333333333333333,\"#9c179e\"],[0.4444444444444444,\"#bd3786\"],[0.5555555555555556,\"#d8576b\"],[0.6666666666666666,\"#ed7953\"],[0.7777777777777778,\"#fb9f3a\"],[0.8888888888888888,\"#fdca26\"],[1.0,\"#f0f921\"]],\"type\":\"heatmapgl\"}],\"histogram\":[{\"marker\":{\"pattern\":{\"fillmode\":\"overlay\",\"size\":10,\"solidity\":0.2}},\"type\":\"histogram\"}],\"histogram2d\":[{\"colorbar\":{\"outlinewidth\":0,\"ticks\":\"\"},\"colorscale\":[[0.0,\"#0d0887\"],[0.1111111111111111,\"#46039f\"],[0.2222222222222222,\"#7201a8\"],[0.3333333333333333,\"#9c179e\"],[0.4444444444444444,\"#bd3786\"],[0.5555555555555556,\"#d8576b\"],[0.6666666666666666,\"#ed7953\"],[0.7777777777777778,\"#fb9f3a\"],[0.8888888888888888,\"#fdca26\"],[1.0,\"#f0f921\"]],\"type\":\"histogram2d\"}],\"histogram2dcontour\":[{\"colorbar\":{\"outlinewidth\":0,\"ticks\":\"\"},\"colorscale\":[[0.0,\"#0d0887\"],[0.1111111111111111,\"#46039f\"],[0.2222222222222222,\"#7201a8\"],[0.3333333333333333,\"#9c179e\"],[0.4444444444444444,\"#bd3786\"],[0.5555555555555556,\"#d8576b\"],[0.6666666666666666,\"#ed7953\"],[0.7777777777777778,\"#fb9f3a\"],[0.8888888888888888,\"#fdca26\"],[1.0,\"#f0f921\"]],\"type\":\"histogram2dcontour\"}],\"mesh3d\":[{\"colorbar\":{\"outlinewidth\":0,\"ticks\":\"\"},\"type\":\"mesh3d\"}],\"parcoords\":[{\"line\":{\"colorbar\":{\"outlinewidth\":0,\"ticks\":\"\"}},\"type\":\"parcoords\"}],\"pie\":[{\"automargin\":true,\"type\":\"pie\"}],\"scatter\":[{\"marker\":{\"colorbar\":{\"outlinewidth\":0,\"ticks\":\"\"}},\"type\":\"scatter\"}],\"scatter3d\":[{\"line\":{\"colorbar\":{\"outlinewidth\":0,\"ticks\":\"\"}},\"marker\":{\"colorbar\":{\"outlinewidth\":0,\"ticks\":\"\"}},\"type\":\"scatter3d\"}],\"scattercarpet\":[{\"marker\":{\"colorbar\":{\"outlinewidth\":0,\"ticks\":\"\"}},\"type\":\"scattercarpet\"}],\"scattergeo\":[{\"marker\":{\"colorbar\":{\"outlinewidth\":0,\"ticks\":\"\"}},\"type\":\"scattergeo\"}],\"scattergl\":[{\"marker\":{\"colorbar\":{\"outlinewidth\":0,\"ticks\":\"\"}},\"type\":\"scattergl\"}],\"scattermapbox\":[{\"marker\":{\"colorbar\":{\"outlinewidth\":0,\"ticks\":\"\"}},\"type\":\"scattermapbox\"}],\"scatterpolar\":[{\"marker\":{\"colorbar\":{\"outlinewidth\":0,\"ticks\":\"\"}},\"type\":\"scatterpolar\"}],\"scatterpolargl\":[{\"marker\":{\"colorbar\":{\"outlinewidth\":0,\"ticks\":\"\"}},\"type\":\"scatterpolargl\"}],\"scatterternary\":[{\"marker\":{\"colorbar\":{\"outlinewidth\":0,\"ticks\":\"\"}},\"type\":\"scatterternary\"}],\"surface\":[{\"colorbar\":{\"outlinewidth\":0,\"ticks\":\"\"},\"colorscale\":[[0.0,\"#0d0887\"],[0.1111111111111111,\"#46039f\"],[0.2222222222222222,\"#7201a8\"],[0.3333333333333333,\"#9c179e\"],[0.4444444444444444,\"#bd3786\"],[0.5555555555555556,\"#d8576b\"],[0.6666666666666666,\"#ed7953\"],[0.7777777777777778,\"#fb9f3a\"],[0.8888888888888888,\"#fdca26\"],[1.0,\"#f0f921\"]],\"type\":\"surface\"}],\"table\":[{\"cells\":{\"fill\":{\"color\":\"#EBF0F8\"},\"line\":{\"color\":\"white\"}},\"header\":{\"fill\":{\"color\":\"#C8D4E3\"},\"line\":{\"color\":\"white\"}},\"type\":\"table\"}]},\"layout\":{\"annotationdefaults\":{\"arrowcolor\":\"#2a3f5f\",\"arrowhead\":0,\"arrowwidth\":1},\"autotypenumbers\":\"strict\",\"coloraxis\":{\"colorbar\":{\"outlinewidth\":0,\"ticks\":\"\"}},\"colorscale\":{\"diverging\":[[0,\"#8e0152\"],[0.1,\"#c51b7d\"],[0.2,\"#de77ae\"],[0.3,\"#f1b6da\"],[0.4,\"#fde0ef\"],[0.5,\"#f7f7f7\"],[0.6,\"#e6f5d0\"],[0.7,\"#b8e186\"],[0.8,\"#7fbc41\"],[0.9,\"#4d9221\"],[1,\"#276419\"]],\"sequential\":[[0.0,\"#0d0887\"],[0.1111111111111111,\"#46039f\"],[0.2222222222222222,\"#7201a8\"],[0.3333333333333333,\"#9c179e\"],[0.4444444444444444,\"#bd3786\"],[0.5555555555555556,\"#d8576b\"],[0.6666666666666666,\"#ed7953\"],[0.7777777777777778,\"#fb9f3a\"],[0.8888888888888888,\"#fdca26\"],[1.0,\"#f0f921\"]],\"sequentialminus\":[[0.0,\"#0d0887\"],[0.1111111111111111,\"#46039f\"],[0.2222222222222222,\"#7201a8\"],[0.3333333333333333,\"#9c179e\"],[0.4444444444444444,\"#bd3786\"],[0.5555555555555556,\"#d8576b\"],[0.6666666666666666,\"#ed7953\"],[0.7777777777777778,\"#fb9f3a\"],[0.8888888888888888,\"#fdca26\"],[1.0,\"#f0f921\"]]},\"colorway\":[\"#636efa\",\"#EF553B\",\"#00cc96\",\"#ab63fa\",\"#FFA15A\",\"#19d3f3\",\"#FF6692\",\"#B6E880\",\"#FF97FF\",\"#FECB52\"],\"font\":{\"color\":\"#2a3f5f\"},\"geo\":{\"bgcolor\":\"white\",\"lakecolor\":\"white\",\"landcolor\":\"#E5ECF6\",\"showlakes\":true,\"showland\":true,\"subunitcolor\":\"white\"},\"hoverlabel\":{\"align\":\"left\"},\"hovermode\":\"closest\",\"mapbox\":{\"style\":\"light\"},\"paper_bgcolor\":\"white\",\"plot_bgcolor\":\"#E5ECF6\",\"polar\":{\"angularaxis\":{\"gridcolor\":\"white\",\"linecolor\":\"white\",\"ticks\":\"\"},\"bgcolor\":\"#E5ECF6\",\"radialaxis\":{\"gridcolor\":\"white\",\"linecolor\":\"white\",\"ticks\":\"\"}},\"scene\":{\"xaxis\":{\"backgroundcolor\":\"#E5ECF6\",\"gridcolor\":\"white\",\"gridwidth\":2,\"linecolor\":\"white\",\"showbackground\":true,\"ticks\":\"\",\"zerolinecolor\":\"white\"},\"yaxis\":{\"backgroundcolor\":\"#E5ECF6\",\"gridcolor\":\"white\",\"gridwidth\":2,\"linecolor\":\"white\",\"showbackground\":true,\"ticks\":\"\",\"zerolinecolor\":\"white\"},\"zaxis\":{\"backgroundcolor\":\"#E5ECF6\",\"gridcolor\":\"white\",\"gridwidth\":2,\"linecolor\":\"white\",\"showbackground\":true,\"ticks\":\"\",\"zerolinecolor\":\"white\"}},\"shapedefaults\":{\"line\":{\"color\":\"#2a3f5f\"}},\"ternary\":{\"aaxis\":{\"gridcolor\":\"white\",\"linecolor\":\"white\",\"ticks\":\"\"},\"baxis\":{\"gridcolor\":\"white\",\"linecolor\":\"white\",\"ticks\":\"\"},\"bgcolor\":\"#E5ECF6\",\"caxis\":{\"gridcolor\":\"white\",\"linecolor\":\"white\",\"ticks\":\"\"}},\"title\":{\"x\":0.05},\"xaxis\":{\"automargin\":true,\"gridcolor\":\"white\",\"linecolor\":\"white\",\"ticks\":\"\",\"title\":{\"standoff\":15},\"zerolinecolor\":\"white\",\"zerolinewidth\":2},\"yaxis\":{\"automargin\":true,\"gridcolor\":\"white\",\"linecolor\":\"white\",\"ticks\":\"\",\"title\":{\"standoff\":15},\"zerolinecolor\":\"white\",\"zerolinewidth\":2}}},\"title\":{\"text\":\"Topic sentiments over time\"},\"xaxis\":{\"range\":[2007,2021],\"title\":{\"text\":\"Year\"}},\"yaxis\":{\"title\":{\"text\":\"Sentiment index\"}}},                        {\"responsive\": true}                    ).then(function(){\n",
       "                            \n",
       "var gd = document.getElementById('e79d5853-4b10-4059-8a5b-32f7eb360f91');\n",
       "var x = new MutationObserver(function (mutations, observer) {{\n",
       "        var display = window.getComputedStyle(gd).display;\n",
       "        if (!display || display === 'none') {{\n",
       "            console.log([gd, 'removed!']);\n",
       "            Plotly.purge(gd);\n",
       "            observer.disconnect();\n",
       "        }}\n",
       "}});\n",
       "\n",
       "// Listen for the removal of the full notebook cells\n",
       "var notebookContainer = gd.closest('#notebook-container');\n",
       "if (notebookContainer) {{\n",
       "    x.observe(notebookContainer, {childList: true});\n",
       "}}\n",
       "\n",
       "// Listen for the clearing of the current output cell\n",
       "var outputEl = gd.closest('.output');\n",
       "if (outputEl) {{\n",
       "    x.observe(outputEl, {childList: true});\n",
       "}}\n",
       "\n",
       "                        })                };                });            </script>        </div>"
      ]
     },
     "metadata": {},
     "output_type": "display_data"
    }
   ],
   "source": [
    "# Code to generate topic sentiment trends\n",
    "fig = go.Figure(layout_xaxis_range=[2007,2021])\n",
    "colors = px.colors.qualitative.G10 + px.colors.qualitative.Antique\n",
    "\n",
    "for i, name in enumerate(sentiment_df.drop(['year', sentiment_df.columns[0]], axis=1).columns):  \n",
    "    if name == 'average':\n",
    "        fig.add_traces(go.Scatter(x=sentiment_df['year'], y = sentiment_df[name], name=name, marker=dict(\n",
    "        color=colors[i])\n",
    "        ))\n",
    "    else:\n",
    "        fig.add_traces(go.Scatter(x=sentiment_df['year'], y = sentiment_df[name], name=name, marker=dict(\n",
    "        color=colors[i]), visible='legendonly'\n",
    "        ))\n",
    "fig.update_layout(height=int(600))\n",
    "fig.update_layout(title='Topic sentiments over time',\n",
    "                    xaxis_title=\"Year\",\n",
    "                    yaxis_title=\"Sentiment index\",)\n",
    "fig.show()"
   ]
  },
  {
   "cell_type": "code",
   "execution_count": 16,
   "id": "9e1b7580",
   "metadata": {},
   "outputs": [],
   "source": [
    "fig.write_html(f\"C:/Users/jozef/Desktop/quotebank/topic_sentiment.html\")"
   ]
  },
  {
   "cell_type": "code",
   "execution_count": 54,
   "id": "b6d9bdc5",
   "metadata": {},
   "outputs": [
    {
     "data": {
      "text/plain": [
       "This has the potential for being an historic agreement,                                                                                                                                                                          22\n",
       "no bilateral relationship is more important than the U.S. and China's.                                                                                                                                                           21\n",
       "China's decision to promote its own industry and discriminate against U.S. companies has caused U.S. manufacturers to pay as much as three times more than what their Chinese competitors pay for the exact same rare earths,    16\n",
       "China's decision to promote its own industry and discriminate against US companies has caused US manufacturers to pay as much as three times more than what their Chinese competitors pay for the exact same rare earths,        10\n",
       "My view is we've got a lot of room to move yet before we would get anywhere near feeling uncomfortable,                                                                                                                          10\n",
       "Name: quotation, dtype: int64"
      ]
     },
     "execution_count": 54,
     "metadata": {},
     "output_type": "execute_result"
    }
   ],
   "source": [
    "# Most quoted quotations related to trade in 2014\n",
    "df[(df.year == 2014) & ~(df.trade_relations.isna())].quotation.value_counts()[:5]"
   ]
  },
  {
   "cell_type": "code",
   "execution_count": 62,
   "id": "2e51e7cf",
   "metadata": {},
   "outputs": [
    {
     "name": "stderr",
     "output_type": "stream",
     "text": [
      "C:\\Users\\jozef\\AppData\\Local\\Temp/ipykernel_18928/665858495.py:2: SettingWithCopyWarning:\n",
      "\n",
      "\n",
      "A value is trying to be set on a copy of a slice from a DataFrame.\n",
      "Try using .loc[row_indexer,col_indexer] = value instead\n",
      "\n",
      "See the caveats in the documentation: https://pandas.pydata.org/pandas-docs/stable/user_guide/indexing.html#returning-a-view-versus-a-copy\n",
      "\n"
     ]
    }
   ],
   "source": [
    "# Gather data to show significance of Phase one trade agreement\n",
    "df_2020 = df[df.year == 2020]\n",
    "before_15 = df_2020[df_2020.date.apply(lambda x: x.timetuple().tm_yday < 15)]\n",
    "after_15 = df_2020[df_2020.date.apply(lambda x: x.timetuple().tm_yday >= 15)]\n"
   ]
  },
  {
   "cell_type": "code",
   "execution_count": 60,
   "id": "7fbb54f2",
   "metadata": {},
   "outputs": [
    {
     "data": {
      "text/plain": [
       "-0.08052104151437996"
      ]
     },
     "execution_count": 60,
     "metadata": {},
     "output_type": "execute_result"
    }
   ],
   "source": [
    "before_15.trade_relations.mean()"
   ]
  },
  {
   "cell_type": "code",
   "execution_count": 61,
   "id": "9131c02a",
   "metadata": {},
   "outputs": [
    {
     "data": {
      "text/plain": [
       "0.09554796904099915"
      ]
     },
     "execution_count": 61,
     "metadata": {},
     "output_type": "execute_result"
    }
   ],
   "source": [
    "after_15.trade_relations.mean()"
   ]
  },
  {
   "cell_type": "code",
   "execution_count": 74,
   "id": "8ff96e8b",
   "metadata": {},
   "outputs": [
    {
     "data": {
      "text/plain": [
       "Ttest_indResult(statistic=-11.696654879296402, pvalue=2.171262033116424e-31)"
      ]
     },
     "execution_count": 74,
     "metadata": {},
     "output_type": "execute_result"
    }
   ],
   "source": [
    "# Test whether there is a significant difference in sentiment before and after jan 15th \n",
    "from scipy.stats import ttest_ind\n",
    "ttest_ind(before_15[before_15.trade_relations.notnull()].trade_relations, \n",
    "          after_15[after_15.trade_relations.notnull()].trade_relations)"
   ]
  }
 ],
 "metadata": {
  "kernelspec": {
   "display_name": "Python 3 (ipykernel)",
   "language": "python",
   "name": "python3"
  },
  "language_info": {
   "codemirror_mode": {
    "name": "ipython",
    "version": 3
   },
   "file_extension": ".py",
   "mimetype": "text/x-python",
   "name": "python",
   "nbconvert_exporter": "python",
   "pygments_lexer": "ipython3",
   "version": "3.9.7"
  }
 },
 "nbformat": 4,
 "nbformat_minor": 5
}
