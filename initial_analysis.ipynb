{
 "cells": [
  {
   "cell_type": "markdown",
   "metadata": {},
   "source": [
    "# Initial analysis\n",
    "\n",
    "In this notebook, we will do some initial analysis over the datasets `quotebank-china.json` and `speaker-attributes.parquet`, exploring them to get a feel of data.\n"
   ]
  },
  {
   "cell_type": "code",
   "execution_count": 159,
   "metadata": {},
   "outputs": [],
   "source": [
    "import numpy as np\n",
    "import pandas as pd\n",
    "import seaborn as sns\n",
    "import matplotlib.pyplot as plt\n",
    "from IPython.display import display, HTML"
   ]
  },
  {
   "cell_type": "markdown",
   "metadata": {},
   "source": [
    "---"
   ]
  },
  {
   "cell_type": "markdown",
   "metadata": {},
   "source": [
    "## quotebank-china\n",
    "\n",
    "`quotebank-china.json` is a derived dataset we extract from the article-centric datasets from 2008 to 2020. It contains all the articles discussing about China, each pairing with a list of quotations. The extraction process can be found in `data_extraction.py`."
   ]
  },
  {
   "cell_type": "code",
   "execution_count": 180,
   "metadata": {},
   "outputs": [],
   "source": [
    "path_china_2020 = \"data/quotebank-china-2020.json.bz2\"\n",
    "china_2020 = pd.read_json(path_china_2020, lines=True)"
   ]
  },
  {
   "cell_type": "code",
   "execution_count": 181,
   "metadata": {},
   "outputs": [
    {
     "data": {
      "text/plain": [
       "(477619, 14)"
      ]
     },
     "execution_count": 181,
     "metadata": {},
     "output_type": "execute_result"
    }
   ],
   "source": [
    "china_2020.shape"
   ]
  },
  {
   "cell_type": "code",
   "execution_count": 182,
   "metadata": {},
   "outputs": [
    {
     "data": {
      "text/html": [
       "<div>\n",
       "<style scoped>\n",
       "    .dataframe tbody tr th:only-of-type {\n",
       "        vertical-align: middle;\n",
       "    }\n",
       "\n",
       "    .dataframe tbody tr th {\n",
       "        vertical-align: top;\n",
       "    }\n",
       "\n",
       "    .dataframe thead th {\n",
       "        text-align: right;\n",
       "    }\n",
       "</style>\n",
       "<table border=\"1\" class=\"dataframe\">\n",
       "  <thead>\n",
       "    <tr style=\"text-align: right;\">\n",
       "      <th></th>\n",
       "      <th>quotationOffset</th>\n",
       "      <th>quoteID</th>\n",
       "      <th>numOccurrences</th>\n",
       "      <th>quotation</th>\n",
       "      <th>leftContext</th>\n",
       "      <th>rightContext</th>\n",
       "      <th>globalTopSpeaker</th>\n",
       "      <th>globalProbas</th>\n",
       "      <th>localTopSpeaker</th>\n",
       "      <th>localProbas</th>\n",
       "      <th>title</th>\n",
       "      <th>date</th>\n",
       "      <th>articleID</th>\n",
       "      <th>localTopSpeakerID</th>\n",
       "    </tr>\n",
       "  </thead>\n",
       "  <tbody>\n",
       "    <tr>\n",
       "      <th>0</th>\n",
       "      <td>254</td>\n",
       "      <td>2020-02-17-002719</td>\n",
       "      <td>25</td>\n",
       "      <td>All of our stores in China and many of our par...</td>\n",
       "      <td>. IMF chief Kristalina Georgieva said there co...</td>\n",
       "      <td>it added. [QUOTE] New cases outside the epicen...</td>\n",
       "      <td>Kristalina Georgieva</td>\n",
       "      <td>[[Kristalina Georgieva, 0.8555], [None, 0.1445]]</td>\n",
       "      <td>Kristalina Georgieva</td>\n",
       "      <td>[[Kristalina Georgieva, 0.8576], [None, 0.1424]]</td>\n",
       "      <td>Apple says will not meet revenue forecasts due...</td>\n",
       "      <td>2020-02-17 22:39:03</td>\n",
       "      <td>2020021722_00241699_W</td>\n",
       "      <td>[Q265277]</td>\n",
       "    </tr>\n",
       "    <tr>\n",
       "      <th>1</th>\n",
       "      <td>223</td>\n",
       "      <td>2020-01-02-060856</td>\n",
       "      <td>1</td>\n",
       "      <td>Three years into his presidency, Donald Trump ...</td>\n",
       "      <td>[QUOTE] Sherman went on to fault Trump for [QU...</td>\n",
       "      <td>she wrote. Protesters at the U.S. Embassy in B...</td>\n",
       "      <td>Wendy Sherman</td>\n",
       "      <td>[[Wendy Sherman, 0.8968], [None, 0.0674], [Pre...</td>\n",
       "      <td>Wendy Sherman</td>\n",
       "      <td>[[Wendy Sherman, 0.8968], [None, 0.0674], [Pre...</td>\n",
       "      <td>Top Obama official : Trump to blame for attack...</td>\n",
       "      <td>2020-01-02 14:33:10</td>\n",
       "      <td>2020010215_00036243_W</td>\n",
       "      <td>[Q4169153]</td>\n",
       "    </tr>\n",
       "    <tr>\n",
       "      <th>2</th>\n",
       "      <td>140</td>\n",
       "      <td>2020-02-18-006228</td>\n",
       "      <td>44</td>\n",
       "      <td>appears to show a decline in new cases</td>\n",
       "      <td>. However, the death toll crossed 2,000 in mai...</td>\n",
       "      <td>but any apparent trend [QUOTE]</td>\n",
       "      <td>Tedros Adhanom Ghebreyesus</td>\n",
       "      <td>[[Tedros Adhanom Ghebreyesus, 0.9334], [None, ...</td>\n",
       "      <td>Antonio Guterres</td>\n",
       "      <td>[[Antonio Guterres, 0.6763], [None, 0.3237]]</td>\n",
       "      <td>Coronavirus LIVE updates : Death toll in China...</td>\n",
       "      <td>2020-02-19 02:56:43</td>\n",
       "      <td>2020021902_00173921_W</td>\n",
       "      <td>[Q311440]</td>\n",
       "    </tr>\n",
       "    <tr>\n",
       "      <th>3</th>\n",
       "      <td>113</td>\n",
       "      <td>2020-02-18-043485</td>\n",
       "      <td>527</td>\n",
       "      <td>is not out of control but it is a very dangero...</td>\n",
       "      <td>new cases of coronavirus in China's Hubei prov...</td>\n",
       "      <td>Meanwhile, the World Health Organization (WHO)...</td>\n",
       "      <td>Antonio Guterres</td>\n",
       "      <td>[[Antonio Guterres, 0.6463], [None, 0.2758], [...</td>\n",
       "      <td>Antonio Guterres</td>\n",
       "      <td>[[Antonio Guterres, 0.9649], [None, 0.0351]]</td>\n",
       "      <td>Coronavirus LIVE updates : Death toll in China...</td>\n",
       "      <td>2020-02-19 02:56:43</td>\n",
       "      <td>2020021902_00173921_W</td>\n",
       "      <td>[Q311440]</td>\n",
       "    </tr>\n",
       "    <tr>\n",
       "      <th>4</th>\n",
       "      <td>128</td>\n",
       "      <td>2020-01-03-060037</td>\n",
       "      <td>1</td>\n",
       "      <td>The President will not interfere with that pre...</td>\n",
       "      <td>. Presidential spokesperson Salvador Panelo is...</td>\n",
       "      <td>he added. FEATURED STORIES NEWSINFO De Lima dr...</td>\n",
       "      <td>Leila de Lima</td>\n",
       "      <td>[[Leila de Lima, 0.5106], [Salvador Panelo, 0....</td>\n",
       "      <td>Leila de Lima</td>\n",
       "      <td>[[Leila de Lima, 0.5106], [Salvador Panelo, 0....</td>\n",
       "      <td>Duterte to let Congress handle ABS-CBN license...</td>\n",
       "      <td>2020-01-03 07:48:49</td>\n",
       "      <td>2020010308_00094284_W</td>\n",
       "      <td>[Q520173]</td>\n",
       "    </tr>\n",
       "  </tbody>\n",
       "</table>\n",
       "</div>"
      ],
      "text/plain": [
       "   quotationOffset            quoteID  numOccurrences  \\\n",
       "0              254  2020-02-17-002719              25   \n",
       "1              223  2020-01-02-060856               1   \n",
       "2              140  2020-02-18-006228              44   \n",
       "3              113  2020-02-18-043485             527   \n",
       "4              128  2020-01-03-060037               1   \n",
       "\n",
       "                                           quotation  \\\n",
       "0  All of our stores in China and many of our par...   \n",
       "1  Three years into his presidency, Donald Trump ...   \n",
       "2             appears to show a decline in new cases   \n",
       "3  is not out of control but it is a very dangero...   \n",
       "4  The President will not interfere with that pre...   \n",
       "\n",
       "                                         leftContext  \\\n",
       "0  . IMF chief Kristalina Georgieva said there co...   \n",
       "1  [QUOTE] Sherman went on to fault Trump for [QU...   \n",
       "2  . However, the death toll crossed 2,000 in mai...   \n",
       "3  new cases of coronavirus in China's Hubei prov...   \n",
       "4  . Presidential spokesperson Salvador Panelo is...   \n",
       "\n",
       "                                        rightContext  \\\n",
       "0  it added. [QUOTE] New cases outside the epicen...   \n",
       "1  she wrote. Protesters at the U.S. Embassy in B...   \n",
       "2                     but any apparent trend [QUOTE]   \n",
       "3  Meanwhile, the World Health Organization (WHO)...   \n",
       "4  he added. FEATURED STORIES NEWSINFO De Lima dr...   \n",
       "\n",
       "             globalTopSpeaker  \\\n",
       "0        Kristalina Georgieva   \n",
       "1               Wendy Sherman   \n",
       "2  Tedros Adhanom Ghebreyesus   \n",
       "3            Antonio Guterres   \n",
       "4               Leila de Lima   \n",
       "\n",
       "                                        globalProbas       localTopSpeaker  \\\n",
       "0   [[Kristalina Georgieva, 0.8555], [None, 0.1445]]  Kristalina Georgieva   \n",
       "1  [[Wendy Sherman, 0.8968], [None, 0.0674], [Pre...         Wendy Sherman   \n",
       "2  [[Tedros Adhanom Ghebreyesus, 0.9334], [None, ...      Antonio Guterres   \n",
       "3  [[Antonio Guterres, 0.6463], [None, 0.2758], [...      Antonio Guterres   \n",
       "4  [[Leila de Lima, 0.5106], [Salvador Panelo, 0....         Leila de Lima   \n",
       "\n",
       "                                         localProbas  \\\n",
       "0   [[Kristalina Georgieva, 0.8576], [None, 0.1424]]   \n",
       "1  [[Wendy Sherman, 0.8968], [None, 0.0674], [Pre...   \n",
       "2       [[Antonio Guterres, 0.6763], [None, 0.3237]]   \n",
       "3       [[Antonio Guterres, 0.9649], [None, 0.0351]]   \n",
       "4  [[Leila de Lima, 0.5106], [Salvador Panelo, 0....   \n",
       "\n",
       "                                               title                date  \\\n",
       "0  Apple says will not meet revenue forecasts due... 2020-02-17 22:39:03   \n",
       "1  Top Obama official : Trump to blame for attack... 2020-01-02 14:33:10   \n",
       "2  Coronavirus LIVE updates : Death toll in China... 2020-02-19 02:56:43   \n",
       "3  Coronavirus LIVE updates : Death toll in China... 2020-02-19 02:56:43   \n",
       "4  Duterte to let Congress handle ABS-CBN license... 2020-01-03 07:48:49   \n",
       "\n",
       "               articleID localTopSpeakerID  \n",
       "0  2020021722_00241699_W         [Q265277]  \n",
       "1  2020010215_00036243_W        [Q4169153]  \n",
       "2  2020021902_00173921_W         [Q311440]  \n",
       "3  2020021902_00173921_W         [Q311440]  \n",
       "4  2020010308_00094284_W         [Q520173]  "
      ]
     },
     "execution_count": 182,
     "metadata": {},
     "output_type": "execute_result"
    }
   ],
   "source": [
    "china_2020.head(5)"
   ]
  },
  {
   "cell_type": "code",
   "execution_count": 185,
   "metadata": {},
   "outputs": [
    {
     "data": {
      "text/plain": [
       "<AxesSubplot:xlabel='localTopSpeakerID', ylabel='count'>"
      ]
     },
     "execution_count": 185,
     "metadata": {},
     "output_type": "execute_result"
    },
    {
     "data": {
      "image/png": "[encoded data removed]",
      "text/plain": [
       "<Figure size 1296x576 with 1 Axes>"
      ]
     },
     "metadata": {},
     "output_type": "display_data"
    }
   ],
   "source": [
    "sns.set(rc={'figure.figsize':(18,8)})\n",
    "sns.countplot(x=china_2020.localTopSpeakerID.apply(len))"
   ]
  },
  {
   "cell_type": "markdown",
   "metadata": {},
   "source": [
    "- As we can see from above, most rows have unique speakerIDs while the rest have multiple ones. This is because some speakers may have identical names, which makes it difficult for us to associate these names with real speakers.\n",
    "- For convenience, we decide to drop those lines with multiple localTopSpeakerIDs."
   ]
  },
  {
   "cell_type": "code",
   "execution_count": 186,
   "metadata": {},
   "outputs": [],
   "source": [
    "print(\"Before removing multiple localTopSpeakerIDs, we have %d rows\" % len(china_2020))\n",
    "china_2020 = china_2020[china_2020.localTopSpeakerID.apply(len)==1]\n",
    "print(\"After removing multiple localTopSpeakerIDs, we have %d rows\" % len(china_2020))"
   ]
  },
  {
   "cell_type": "markdown",
   "metadata": {},
   "source": [
    "Many titles seem to be used by several sources. A plausible reason could be that these articles are reprinted multiple times."
   ]
  },
  {
   "cell_type": "code",
   "execution_count": 90,
   "metadata": {},
   "outputs": [
    {
     "name": "stdout",
     "output_type": "stream",
     "text": [
      "Checking missing values...\n"
     ]
    },
    {
     "data": {
      "text/plain": [
       "quotationOffset           0\n",
       "quoteID                   0\n",
       "numOccurrences            0\n",
       "quotation                 0\n",
       "leftContext               0\n",
       "rightContext              0\n",
       "globalTopSpeaker          0\n",
       "globalProbas              0\n",
       "localTopSpeaker           0\n",
       "localProbas               0\n",
       "title                     0\n",
       "date                      0\n",
       "articleID                 0\n",
       "localTopSpeakerID    187467\n",
       "dtype: int64"
      ]
     },
     "execution_count": 90,
     "metadata": {},
     "output_type": "execute_result"
    }
   ],
   "source": [
    "print(\"Checking missing values...\")\n",
    "china_2020.isna().sum(axis=0)"
   ]
  },
  {
   "cell_type": "markdown",
   "metadata": {},
   "source": [
    "As we can see, there is no column with missing values."
   ]
  },
  {
   "cell_type": "code",
   "execution_count": 145,
   "metadata": {},
   "outputs": [
    {
     "name": "stdout",
     "output_type": "stream",
     "text": [
      "count    474172.000000\n",
      "mean         71.868259\n",
      "std          21.695412\n",
      "min           1.000000\n",
      "25%          58.000000\n",
      "50%          69.000000\n",
      "75%          82.000000\n",
      "max         485.000000\n",
      "Name: title, dtype: float64\n"
     ]
    },
    {
     "data": {
      "text/plain": [
       "<AxesSubplot:>"
      ]
     },
     "execution_count": 145,
     "metadata": {},
     "output_type": "execute_result"
    },
    {
     "data": {
      "image/png": "[encoded data removed]",
      "text/plain": [
       "<Figure size 576x576 with 1 Axes>"
      ]
     },
     "metadata": {},
     "output_type": "display_data"
    }
   ],
   "source": [
    "# compute the length of title\n",
    "titleLength = china_2020.title.apply(lambda x : len(x))\n",
    "\n",
    "# statistics of `titleLength`\n",
    "print(titleLength.describe())\n",
    "\n",
    "sns.set(rc={'figure.figsize':(8,8)})\n",
    "sns.boxplot(data=titleLength)"
   ]
  },
  {
   "cell_type": "markdown",
   "metadata": {},
   "source": [
    "Obviously, most titles have fewer than 100 letters, while some are extremely long. \n",
    "\n",
    "- By checking the longest title, we find out that it is due to data collection issues. \n",
    "- For convenience, we treat these data as outliers and drop them.\n",
    "- A significant dividing line for removing outliers is around 207, so we can drop all rows with the title length larger than 207."
   ]
  },
  {
   "cell_type": "code",
   "execution_count": 147,
   "metadata": {},
   "outputs": [
    {
     "name": "stdout",
     "output_type": "stream",
     "text": [
      "quotationOffset                                                    594\n",
      "quoteID                                              2020-02-01-039806\n",
      "numOccurrences                                                       1\n",
      "quotation            So far, we know 361 Bangladeshis of Wuhan have...\n",
      "leftContext          [QUOTE] January 31, 2020 Leave a comment busin...\n",
      "rightContext         35 Chinese workers on Padma Bridge project und...\n",
      "globalTopSpeaker                                        Obaidul Quader\n",
      "globalProbas                [[Obaidul Quader, 0.7155], [None, 0.2845]]\n",
      "localTopSpeaker                                         Obaidul Quader\n",
      "localProbas                 [[Obaidul Quader, 0.7155], [None, 0.2845]]\n",
      "title                Four persons arrested on charge of gang - rape...\n",
      "date                                               2020-02-01 00:00:52\n",
      "articleID                                        2020020100_00011337_W\n",
      "localTopSpeakerID                                          [Q14325293]\n",
      "Name: 5397, dtype: object\n",
      "TitleLength at 0.95: 144\n",
      "TitleLenght at 0.94: 142\n"
     ]
    }
   ],
   "source": [
    "# find the one with the longest title\n",
    "print(china_2020.iloc[titleLength.argmax()])\n",
    "\n",
    "# find the dividing line for removing outliers\n",
    "print(\"TitleLength at 0.95: %d\" % titleLength.quantile(0.993))\n",
    "print(\"TitleLenght at 0.94: %d\" % titleLength.quantile(0.992))\n",
    "\n",
    "# drop outliers\n",
    "china_2020 = china_2020.loc[titleLength < 207]"
   ]
  },
  {
   "cell_type": "markdown",
   "metadata": {},
   "source": [
    "We check urls given in the dataset, and realize that they are unreliable. \n",
    "- Some urls point to online articles that don't match those given in the dataset. It could be that websites updated these page after they were crawled. \n",
    "- Since our project doesn't rely on the information of urls and press media, we decide to drop `url`."
   ]
  },
  {
   "cell_type": "code",
   "execution_count": 14,
   "metadata": {},
   "outputs": [],
   "source": [
    "# drop url\n",
    "china = china.drop(columns=[\"url\"])"
   ]
  },
  {
   "cell_type": "code",
   "execution_count": 20,
   "metadata": {},
   "outputs": [
    {
     "data": {
      "text/plain": [
       "1     19034\n",
       "2     16321\n",
       "3     12971\n",
       "4      8202\n",
       "5      5622\n",
       "6      3721\n",
       "7      2069\n",
       "8      1157\n",
       "9       723\n",
       "11      555\n",
       "10      522\n",
       "12      267\n",
       "13      189\n",
       "14      128\n",
       "16      128\n",
       "15      116\n",
       "18       78\n",
       "17       66\n",
       "20       63\n",
       "19       54\n",
       "22       39\n",
       "23       39\n",
       "25       39\n",
       "21       39\n",
       "28       32\n",
       "27       29\n",
       "24       21\n",
       "33       19\n",
       "30       18\n",
       "26       17\n",
       "29       17\n",
       "31       11\n",
       "32       10\n",
       "34        8\n",
       "43        6\n",
       "36        5\n",
       "39        5\n",
       "35        4\n",
       "40        3\n",
       "61        3\n",
       "46        2\n",
       "45        2\n",
       "42        2\n",
       "38        2\n",
       "62        2\n",
       "37        2\n",
       "72        2\n",
       "67        2\n",
       "65        2\n",
       "78        1\n",
       "70        1\n",
       "68        1\n",
       "52        1\n",
       "64        1\n",
       "Name: names, dtype: int64"
      ]
     },
     "execution_count": 20,
     "metadata": {},
     "output_type": "execute_result"
    }
   ],
   "source": [
    "# check numbers of names (possible speakers) mentioned\n",
    "numOfNames = china.names.apply(lambda x: len(x))\n",
    "numOfNames.value_counts()"
   ]
  },
  {
   "cell_type": "code",
   "execution_count": 26,
   "metadata": {},
   "outputs": [
    {
     "data": {
      "text/plain": [
       "[Text(0.5, 0, 'date of first four months in 2020'),\n",
       " Text(0, 0.5, 'num of articles mentioning china')]"
      ]
     },
     "execution_count": 26,
     "metadata": {},
     "output_type": "execute_result"
    },
    {
     "data": {
      "image/png": "[encoded data removed]",
      "text/plain": [
       "<Figure size 432x288 with 1 Axes>"
      ]
     },
     "metadata": {
      "needs_background": "light"
     },
     "output_type": "display_data"
    }
   ],
   "source": [
    "# check the number of articles discussing china over time for the first four months in 2020\n",
    "sns.histplot(data=china.date.dt.date).set(xlabel=\"date of first four months in 2020\", ylabel=\"num of articles mentioning china\")"
   ]
  },
  {
   "cell_type": "markdown",
   "metadata": {},
   "source": [
    "We can see a peak around Feburaray, when Covid-19 outbreak in China caught attention."
   ]
  },
  {
   "cell_type": "markdown",
   "metadata": {},
   "source": [
    "---\n",
    "\n",
    "## speaker-attributes\n"
   ]
  },
  {
   "cell_type": "code",
   "execution_count": 29,
   "metadata": {},
   "outputs": [],
   "source": [
    "speaker_path = \"data/speaker_attributes.parquet\"\n",
    "speaker = pd.read_parquet(speaker_path)"
   ]
  },
  {
   "cell_type": "code",
   "execution_count": 28,
   "metadata": {},
   "outputs": [
    {
     "data": {
      "text/plain": [
       "(9055981, 15)"
      ]
     },
     "execution_count": 28,
     "metadata": {},
     "output_type": "execute_result"
    }
   ],
   "source": [
    "speaker.shape"
   ]
  },
  {
   "cell_type": "code",
   "execution_count": 30,
   "metadata": {},
   "outputs": [
    {
     "data": {
      "text/html": [
       "<div>\n",
       "<style scoped>\n",
       "    .dataframe tbody tr th:only-of-type {\n",
       "        vertical-align: middle;\n",
       "    }\n",
       "\n",
       "    .dataframe tbody tr th {\n",
       "        vertical-align: top;\n",
       "    }\n",
       "\n",
       "    .dataframe thead th {\n",
       "        text-align: right;\n",
       "    }\n",
       "</style>\n",
       "<table border=\"1\" class=\"dataframe\">\n",
       "  <thead>\n",
       "    <tr style=\"text-align: right;\">\n",
       "      <th></th>\n",
       "      <th>aliases</th>\n",
       "      <th>date_of_birth</th>\n",
       "      <th>nationality</th>\n",
       "      <th>gender</th>\n",
       "      <th>lastrevid</th>\n",
       "      <th>ethnic_group</th>\n",
       "      <th>US_congress_bio_ID</th>\n",
       "      <th>occupation</th>\n",
       "      <th>party</th>\n",
       "      <th>academic_degree</th>\n",
       "      <th>id</th>\n",
       "      <th>label</th>\n",
       "      <th>candidacy</th>\n",
       "      <th>type</th>\n",
       "      <th>religion</th>\n",
       "    </tr>\n",
       "  </thead>\n",
       "  <tbody>\n",
       "    <tr>\n",
       "      <th>0</th>\n",
       "      <td>[Washington, President Washington, G. Washingt...</td>\n",
       "      <td>[+1732-02-22T00:00:00Z]</td>\n",
       "      <td>[Q161885, Q30]</td>\n",
       "      <td>[Q6581097]</td>\n",
       "      <td>1395141751</td>\n",
       "      <td>None</td>\n",
       "      <td>W000178</td>\n",
       "      <td>[Q82955, Q189290, Q131512, Q1734662, Q294126, ...</td>\n",
       "      <td>[Q327591]</td>\n",
       "      <td>None</td>\n",
       "      <td>Q23</td>\n",
       "      <td>George Washington</td>\n",
       "      <td>[Q698073, Q697949]</td>\n",
       "      <td>item</td>\n",
       "      <td>[Q682443]</td>\n",
       "    </tr>\n",
       "    <tr>\n",
       "      <th>1</th>\n",
       "      <td>[Douglas Noel Adams, Douglas Noël Adams, Dougl...</td>\n",
       "      <td>[+1952-03-11T00:00:00Z]</td>\n",
       "      <td>[Q145]</td>\n",
       "      <td>[Q6581097]</td>\n",
       "      <td>1395737157</td>\n",
       "      <td>[Q7994501]</td>\n",
       "      <td>None</td>\n",
       "      <td>[Q214917, Q28389, Q6625963, Q4853732, Q1884422...</td>\n",
       "      <td>None</td>\n",
       "      <td>None</td>\n",
       "      <td>Q42</td>\n",
       "      <td>Douglas Adams</td>\n",
       "      <td>None</td>\n",
       "      <td>item</td>\n",
       "      <td>None</td>\n",
       "    </tr>\n",
       "    <tr>\n",
       "      <th>2</th>\n",
       "      <td>[Paul Marie Ghislain Otlet, Paul Marie Otlet]</td>\n",
       "      <td>[+1868-08-23T00:00:00Z]</td>\n",
       "      <td>[Q31]</td>\n",
       "      <td>[Q6581097]</td>\n",
       "      <td>1380367296</td>\n",
       "      <td>None</td>\n",
       "      <td>None</td>\n",
       "      <td>[Q36180, Q40348, Q182436, Q1265807, Q205375, Q...</td>\n",
       "      <td>None</td>\n",
       "      <td>None</td>\n",
       "      <td>Q1868</td>\n",
       "      <td>Paul Otlet</td>\n",
       "      <td>None</td>\n",
       "      <td>item</td>\n",
       "      <td>None</td>\n",
       "    </tr>\n",
       "    <tr>\n",
       "      <th>3</th>\n",
       "      <td>[George Walker Bush, Bush Jr., Dubya, GWB, Bus...</td>\n",
       "      <td>[+1946-07-06T00:00:00Z]</td>\n",
       "      <td>[Q30]</td>\n",
       "      <td>[Q6581097]</td>\n",
       "      <td>1395142029</td>\n",
       "      <td>None</td>\n",
       "      <td>None</td>\n",
       "      <td>[Q82955, Q15982858, Q18814623, Q1028181, Q1408...</td>\n",
       "      <td>[Q29468]</td>\n",
       "      <td>None</td>\n",
       "      <td>Q207</td>\n",
       "      <td>George W. Bush</td>\n",
       "      <td>[Q327959, Q464075, Q3586276, Q4450587]</td>\n",
       "      <td>item</td>\n",
       "      <td>[Q329646, Q682443, Q33203]</td>\n",
       "    </tr>\n",
       "    <tr>\n",
       "      <th>4</th>\n",
       "      <td>[Velázquez, Diego Rodríguez de Silva y Velázqu...</td>\n",
       "      <td>[+1599-06-06T00:00:00Z]</td>\n",
       "      <td>[Q29]</td>\n",
       "      <td>[Q6581097]</td>\n",
       "      <td>1391704596</td>\n",
       "      <td>None</td>\n",
       "      <td>None</td>\n",
       "      <td>[Q1028181]</td>\n",
       "      <td>None</td>\n",
       "      <td>None</td>\n",
       "      <td>Q297</td>\n",
       "      <td>Diego Velázquez</td>\n",
       "      <td>None</td>\n",
       "      <td>item</td>\n",
       "      <td>None</td>\n",
       "    </tr>\n",
       "  </tbody>\n",
       "</table>\n",
       "</div>"
      ],
      "text/plain": [
       "                                             aliases            date_of_birth  \\\n",
       "0  [Washington, President Washington, G. Washingt...  [+1732-02-22T00:00:00Z]   \n",
       "1  [Douglas Noel Adams, Douglas Noël Adams, Dougl...  [+1952-03-11T00:00:00Z]   \n",
       "2      [Paul Marie Ghislain Otlet, Paul Marie Otlet]  [+1868-08-23T00:00:00Z]   \n",
       "3  [George Walker Bush, Bush Jr., Dubya, GWB, Bus...  [+1946-07-06T00:00:00Z]   \n",
       "4  [Velázquez, Diego Rodríguez de Silva y Velázqu...  [+1599-06-06T00:00:00Z]   \n",
       "\n",
       "      nationality      gender   lastrevid ethnic_group US_congress_bio_ID  \\\n",
       "0  [Q161885, Q30]  [Q6581097]  1395141751         None            W000178   \n",
       "1          [Q145]  [Q6581097]  1395737157   [Q7994501]               None   \n",
       "2           [Q31]  [Q6581097]  1380367296         None               None   \n",
       "3           [Q30]  [Q6581097]  1395142029         None               None   \n",
       "4           [Q29]  [Q6581097]  1391704596         None               None   \n",
       "\n",
       "                                          occupation      party  \\\n",
       "0  [Q82955, Q189290, Q131512, Q1734662, Q294126, ...  [Q327591]   \n",
       "1  [Q214917, Q28389, Q6625963, Q4853732, Q1884422...       None   \n",
       "2  [Q36180, Q40348, Q182436, Q1265807, Q205375, Q...       None   \n",
       "3  [Q82955, Q15982858, Q18814623, Q1028181, Q1408...   [Q29468]   \n",
       "4                                         [Q1028181]       None   \n",
       "\n",
       "  academic_degree     id              label  \\\n",
       "0            None    Q23  George Washington   \n",
       "1            None    Q42      Douglas Adams   \n",
       "2            None  Q1868         Paul Otlet   \n",
       "3            None   Q207     George W. Bush   \n",
       "4            None   Q297    Diego Velázquez   \n",
       "\n",
       "                                candidacy  type                    religion  \n",
       "0                      [Q698073, Q697949]  item                   [Q682443]  \n",
       "1                                    None  item                        None  \n",
       "2                                    None  item                        None  \n",
       "3  [Q327959, Q464075, Q3586276, Q4450587]  item  [Q329646, Q682443, Q33203]  \n",
       "4                                    None  item                        None  "
      ]
     },
     "execution_count": 30,
     "metadata": {},
     "output_type": "execute_result"
    }
   ],
   "source": [
    "speaker.head(5)"
   ]
  },
  {
   "cell_type": "code",
   "execution_count": 32,
   "metadata": {},
   "outputs": [
    {
     "data": {
      "text/html": [
       "<div>\n",
       "<style scoped>\n",
       "    .dataframe tbody tr th:only-of-type {\n",
       "        vertical-align: middle;\n",
       "    }\n",
       "\n",
       "    .dataframe tbody tr th {\n",
       "        vertical-align: top;\n",
       "    }\n",
       "\n",
       "    .dataframe thead th {\n",
       "        text-align: right;\n",
       "    }\n",
       "</style>\n",
       "<table border=\"1\" class=\"dataframe\">\n",
       "  <thead>\n",
       "    <tr style=\"text-align: right;\">\n",
       "      <th></th>\n",
       "      <th>aliases</th>\n",
       "      <th>date_of_birth</th>\n",
       "      <th>nationality</th>\n",
       "      <th>gender</th>\n",
       "      <th>lastrevid</th>\n",
       "      <th>ethnic_group</th>\n",
       "      <th>US_congress_bio_ID</th>\n",
       "      <th>occupation</th>\n",
       "      <th>party</th>\n",
       "      <th>academic_degree</th>\n",
       "      <th>id</th>\n",
       "      <th>label</th>\n",
       "      <th>candidacy</th>\n",
       "      <th>type</th>\n",
       "      <th>religion</th>\n",
       "    </tr>\n",
       "  </thead>\n",
       "  <tbody>\n",
       "    <tr>\n",
       "      <th>0</th>\n",
       "      <td>[Washington, President Washington, G. Washingt...</td>\n",
       "      <td>[+1732-02-22T00:00:00Z]</td>\n",
       "      <td>[Q161885, Q30]</td>\n",
       "      <td>[Q6581097]</td>\n",
       "      <td>1395141751</td>\n",
       "      <td>None</td>\n",
       "      <td>W000178</td>\n",
       "      <td>[Q82955, Q189290, Q131512, Q1734662, Q294126, ...</td>\n",
       "      <td>[Q327591]</td>\n",
       "      <td>None</td>\n",
       "      <td>Q23</td>\n",
       "      <td>George Washington</td>\n",
       "      <td>[Q698073, Q697949]</td>\n",
       "      <td>item</td>\n",
       "      <td>[Q682443]</td>\n",
       "    </tr>\n",
       "    <tr>\n",
       "      <th>1</th>\n",
       "      <td>[Douglas Noel Adams, Douglas Noël Adams, Dougl...</td>\n",
       "      <td>[+1952-03-11T00:00:00Z]</td>\n",
       "      <td>[Q145]</td>\n",
       "      <td>[Q6581097]</td>\n",
       "      <td>1395737157</td>\n",
       "      <td>[Q7994501]</td>\n",
       "      <td>None</td>\n",
       "      <td>[Q214917, Q28389, Q6625963, Q4853732, Q1884422...</td>\n",
       "      <td>None</td>\n",
       "      <td>None</td>\n",
       "      <td>Q42</td>\n",
       "      <td>Douglas Adams</td>\n",
       "      <td>None</td>\n",
       "      <td>item</td>\n",
       "      <td>None</td>\n",
       "    </tr>\n",
       "    <tr>\n",
       "      <th>2</th>\n",
       "      <td>[Paul Marie Ghislain Otlet, Paul Marie Otlet]</td>\n",
       "      <td>[+1868-08-23T00:00:00Z]</td>\n",
       "      <td>[Q31]</td>\n",
       "      <td>[Q6581097]</td>\n",
       "      <td>1380367296</td>\n",
       "      <td>None</td>\n",
       "      <td>None</td>\n",
       "      <td>[Q36180, Q40348, Q182436, Q1265807, Q205375, Q...</td>\n",
       "      <td>None</td>\n",
       "      <td>None</td>\n",
       "      <td>Q1868</td>\n",
       "      <td>Paul Otlet</td>\n",
       "      <td>None</td>\n",
       "      <td>item</td>\n",
       "      <td>None</td>\n",
       "    </tr>\n",
       "    <tr>\n",
       "      <th>3</th>\n",
       "      <td>[George Walker Bush, Bush Jr., Dubya, GWB, Bus...</td>\n",
       "      <td>[+1946-07-06T00:00:00Z]</td>\n",
       "      <td>[Q30]</td>\n",
       "      <td>[Q6581097]</td>\n",
       "      <td>1395142029</td>\n",
       "      <td>None</td>\n",
       "      <td>None</td>\n",
       "      <td>[Q82955, Q15982858, Q18814623, Q1028181, Q1408...</td>\n",
       "      <td>[Q29468]</td>\n",
       "      <td>None</td>\n",
       "      <td>Q207</td>\n",
       "      <td>George W. Bush</td>\n",
       "      <td>[Q327959, Q464075, Q3586276, Q4450587]</td>\n",
       "      <td>item</td>\n",
       "      <td>[Q329646, Q682443, Q33203]</td>\n",
       "    </tr>\n",
       "    <tr>\n",
       "      <th>4</th>\n",
       "      <td>[Velázquez, Diego Rodríguez de Silva y Velázqu...</td>\n",
       "      <td>[+1599-06-06T00:00:00Z]</td>\n",
       "      <td>[Q29]</td>\n",
       "      <td>[Q6581097]</td>\n",
       "      <td>1391704596</td>\n",
       "      <td>None</td>\n",
       "      <td>None</td>\n",
       "      <td>[Q1028181]</td>\n",
       "      <td>None</td>\n",
       "      <td>None</td>\n",
       "      <td>Q297</td>\n",
       "      <td>Diego Velázquez</td>\n",
       "      <td>None</td>\n",
       "      <td>item</td>\n",
       "      <td>None</td>\n",
       "    </tr>\n",
       "    <tr>\n",
       "      <th>...</th>\n",
       "      <td>...</td>\n",
       "      <td>...</td>\n",
       "      <td>...</td>\n",
       "      <td>...</td>\n",
       "      <td>...</td>\n",
       "      <td>...</td>\n",
       "      <td>...</td>\n",
       "      <td>...</td>\n",
       "      <td>...</td>\n",
       "      <td>...</td>\n",
       "      <td>...</td>\n",
       "      <td>...</td>\n",
       "      <td>...</td>\n",
       "      <td>...</td>\n",
       "      <td>...</td>\n",
       "    </tr>\n",
       "    <tr>\n",
       "      <th>9055976</th>\n",
       "      <td>[Barker Howard]</td>\n",
       "      <td>None</td>\n",
       "      <td>[Q30]</td>\n",
       "      <td>[Q6581097]</td>\n",
       "      <td>1397399351</td>\n",
       "      <td>None</td>\n",
       "      <td>None</td>\n",
       "      <td>[Q82955]</td>\n",
       "      <td>None</td>\n",
       "      <td>None</td>\n",
       "      <td>Q106406560</td>\n",
       "      <td>Barker B. Howard</td>\n",
       "      <td>None</td>\n",
       "      <td>item</td>\n",
       "      <td>None</td>\n",
       "    </tr>\n",
       "    <tr>\n",
       "      <th>9055977</th>\n",
       "      <td>[Charles Macomber]</td>\n",
       "      <td>None</td>\n",
       "      <td>[Q30]</td>\n",
       "      <td>[Q6581097]</td>\n",
       "      <td>1397399471</td>\n",
       "      <td>None</td>\n",
       "      <td>None</td>\n",
       "      <td>[Q82955]</td>\n",
       "      <td>None</td>\n",
       "      <td>None</td>\n",
       "      <td>Q106406571</td>\n",
       "      <td>Charles H. Macomber</td>\n",
       "      <td>None</td>\n",
       "      <td>item</td>\n",
       "      <td>None</td>\n",
       "    </tr>\n",
       "    <tr>\n",
       "      <th>9055978</th>\n",
       "      <td>None</td>\n",
       "      <td>[+1848-04-01T00:00:00Z]</td>\n",
       "      <td>None</td>\n",
       "      <td>[Q6581072]</td>\n",
       "      <td>1397399751</td>\n",
       "      <td>None</td>\n",
       "      <td>None</td>\n",
       "      <td>None</td>\n",
       "      <td>None</td>\n",
       "      <td>None</td>\n",
       "      <td>Q106406588</td>\n",
       "      <td>Dina David</td>\n",
       "      <td>None</td>\n",
       "      <td>item</td>\n",
       "      <td>None</td>\n",
       "    </tr>\n",
       "    <tr>\n",
       "      <th>9055979</th>\n",
       "      <td>None</td>\n",
       "      <td>[+1899-03-18T00:00:00Z]</td>\n",
       "      <td>None</td>\n",
       "      <td>[Q6581072]</td>\n",
       "      <td>1397399799</td>\n",
       "      <td>None</td>\n",
       "      <td>None</td>\n",
       "      <td>None</td>\n",
       "      <td>None</td>\n",
       "      <td>None</td>\n",
       "      <td>Q106406593</td>\n",
       "      <td>Irma Dexinger</td>\n",
       "      <td>None</td>\n",
       "      <td>item</td>\n",
       "      <td>None</td>\n",
       "    </tr>\n",
       "    <tr>\n",
       "      <th>9055980</th>\n",
       "      <td>[Fred Trull]</td>\n",
       "      <td>None</td>\n",
       "      <td>[Q30]</td>\n",
       "      <td>[Q6581097]</td>\n",
       "      <td>1397400809</td>\n",
       "      <td>None</td>\n",
       "      <td>None</td>\n",
       "      <td>[Q82955]</td>\n",
       "      <td>None</td>\n",
       "      <td>None</td>\n",
       "      <td>Q106406643</td>\n",
       "      <td>Fred F. Trull</td>\n",
       "      <td>None</td>\n",
       "      <td>item</td>\n",
       "      <td>None</td>\n",
       "    </tr>\n",
       "  </tbody>\n",
       "</table>\n",
       "<p>9055981 rows × 15 columns</p>\n",
       "</div>"
      ],
      "text/plain": [
       "                                                   aliases  \\\n",
       "0        [Washington, President Washington, G. Washingt...   \n",
       "1        [Douglas Noel Adams, Douglas Noël Adams, Dougl...   \n",
       "2            [Paul Marie Ghislain Otlet, Paul Marie Otlet]   \n",
       "3        [George Walker Bush, Bush Jr., Dubya, GWB, Bus...   \n",
       "4        [Velázquez, Diego Rodríguez de Silva y Velázqu...   \n",
       "...                                                    ...   \n",
       "9055976                                    [Barker Howard]   \n",
       "9055977                                 [Charles Macomber]   \n",
       "9055978                                               None   \n",
       "9055979                                               None   \n",
       "9055980                                       [Fred Trull]   \n",
       "\n",
       "                   date_of_birth     nationality      gender   lastrevid  \\\n",
       "0        [+1732-02-22T00:00:00Z]  [Q161885, Q30]  [Q6581097]  1395141751   \n",
       "1        [+1952-03-11T00:00:00Z]          [Q145]  [Q6581097]  1395737157   \n",
       "2        [+1868-08-23T00:00:00Z]           [Q31]  [Q6581097]  1380367296   \n",
       "3        [+1946-07-06T00:00:00Z]           [Q30]  [Q6581097]  1395142029   \n",
       "4        [+1599-06-06T00:00:00Z]           [Q29]  [Q6581097]  1391704596   \n",
       "...                          ...             ...         ...         ...   \n",
       "9055976                     None           [Q30]  [Q6581097]  1397399351   \n",
       "9055977                     None           [Q30]  [Q6581097]  1397399471   \n",
       "9055978  [+1848-04-01T00:00:00Z]            None  [Q6581072]  1397399751   \n",
       "9055979  [+1899-03-18T00:00:00Z]            None  [Q6581072]  1397399799   \n",
       "9055980                     None           [Q30]  [Q6581097]  1397400809   \n",
       "\n",
       "        ethnic_group US_congress_bio_ID  \\\n",
       "0               None            W000178   \n",
       "1         [Q7994501]               None   \n",
       "2               None               None   \n",
       "3               None               None   \n",
       "4               None               None   \n",
       "...              ...                ...   \n",
       "9055976         None               None   \n",
       "9055977         None               None   \n",
       "9055978         None               None   \n",
       "9055979         None               None   \n",
       "9055980         None               None   \n",
       "\n",
       "                                                occupation      party  \\\n",
       "0        [Q82955, Q189290, Q131512, Q1734662, Q294126, ...  [Q327591]   \n",
       "1        [Q214917, Q28389, Q6625963, Q4853732, Q1884422...       None   \n",
       "2        [Q36180, Q40348, Q182436, Q1265807, Q205375, Q...       None   \n",
       "3        [Q82955, Q15982858, Q18814623, Q1028181, Q1408...   [Q29468]   \n",
       "4                                               [Q1028181]       None   \n",
       "...                                                    ...        ...   \n",
       "9055976                                           [Q82955]       None   \n",
       "9055977                                           [Q82955]       None   \n",
       "9055978                                               None       None   \n",
       "9055979                                               None       None   \n",
       "9055980                                           [Q82955]       None   \n",
       "\n",
       "        academic_degree          id                label  \\\n",
       "0                  None         Q23    George Washington   \n",
       "1                  None         Q42        Douglas Adams   \n",
       "2                  None       Q1868           Paul Otlet   \n",
       "3                  None        Q207       George W. Bush   \n",
       "4                  None        Q297      Diego Velázquez   \n",
       "...                 ...         ...                  ...   \n",
       "9055976            None  Q106406560     Barker B. Howard   \n",
       "9055977            None  Q106406571  Charles H. Macomber   \n",
       "9055978            None  Q106406588           Dina David   \n",
       "9055979            None  Q106406593        Irma Dexinger   \n",
       "9055980            None  Q106406643        Fred F. Trull   \n",
       "\n",
       "                                      candidacy  type  \\\n",
       "0                            [Q698073, Q697949]  item   \n",
       "1                                          None  item   \n",
       "2                                          None  item   \n",
       "3        [Q327959, Q464075, Q3586276, Q4450587]  item   \n",
       "4                                          None  item   \n",
       "...                                         ...   ...   \n",
       "9055976                                    None  item   \n",
       "9055977                                    None  item   \n",
       "9055978                                    None  item   \n",
       "9055979                                    None  item   \n",
       "9055980                                    None  item   \n",
       "\n",
       "                           religion  \n",
       "0                         [Q682443]  \n",
       "1                              None  \n",
       "2                              None  \n",
       "3        [Q329646, Q682443, Q33203]  \n",
       "4                              None  \n",
       "...                             ...  \n",
       "9055976                        None  \n",
       "9055977                        None  \n",
       "9055978                        None  \n",
       "9055979                        None  \n",
       "9055980                        None  \n",
       "\n",
       "[9055981 rows x 15 columns]"
      ]
     },
     "execution_count": 32,
     "metadata": {},
     "output_type": "execute_result"
    }
   ],
   "source": [
    "speaker = speaker.drop_duplicates(subset=\"id\")"
   ]
  },
  {
   "cell_type": "code",
   "execution_count": 36,
   "metadata": {},
   "outputs": [
    {
     "name": "stdout",
     "output_type": "stream",
     "text": [
      "item    9055981\n",
      "Name: type, dtype: int64\n"
     ]
    }
   ],
   "source": [
    "# check different values of `type``\n",
    "print(speaker.type.value_counts())\n",
    "\n",
    "# drop `item` since it is less informative\n",
    "speaker = speaker.drop(columns=\"type\")"
   ]
  },
  {
   "cell_type": "code",
   "execution_count": 41,
   "metadata": {},
   "outputs": [],
   "source": [
    "speaker.date_of_birth = speaker.date_of_birth.apply(lambda x: x[0] if x is not None else None)\n",
    "speaker.gender = speaker.gender.apply(lambda x: x[0] if x is not None else None)\n",
    "speaker.party = speaker.party.apply(lambda x: x[0] if x is not None else None)"
   ]
  },
  {
   "cell_type": "code",
   "execution_count": 79,
   "metadata": {},
   "outputs": [
    {
     "data": {
      "text/plain": [
       "[Text(0, 0, 'male'), Text(1, 0, 'female')]"
      ]
     },
     "execution_count": 79,
     "metadata": {},
     "output_type": "execute_result"
    },
    {
     "data": {
      "image/png": "[encoded data removed]",
      "text/plain": [
       "<Figure size 432x288 with 1 Axes>"
      ]
     },
     "metadata": {
      "needs_background": "light"
     },
     "output_type": "display_data"
    }
   ],
   "source": [
    "# compare male(Q6581097) and female(Q6581072) speakers\n",
    "gender_speaker = speaker[(speaker.gender == \"Q6581097\") | (speaker.gender == \"Q6581072\")]\n",
    "sns.countplot(data=gender_speaker, x=\"gender\").set_xticklabels([\"male\", \"female\"])\n",
    "\n"
   ]
  },
  {
   "cell_type": "code",
   "execution_count": 75,
   "metadata": {},
   "outputs": [],
   "source": [
    "# compare speakers from US(Q30), UK(Q145), AU(Q408), CA(Q16), NZ(Q664)\n",
    "\n",
    "nations=['Q30','Q145','Q408','Q16','Q664']\n",
    "speaker1=speaker.explode(column=\"nationality\")\n",
    "speaker1=speaker1[speaker1['nationality'].isin(nations)]"
   ]
  },
  {
   "cell_type": "code",
   "execution_count": 76,
   "metadata": {},
   "outputs": [
    {
     "data": {
      "text/plain": [
       "0           Q30\n",
       "1          Q145\n",
       "3           Q30\n",
       "8           Q16\n",
       "8           Q30\n",
       "           ... \n",
       "9055974     Q30\n",
       "9055975     Q30\n",
       "9055976     Q30\n",
       "9055977     Q30\n",
       "9055980     Q30\n",
       "Name: nationality, Length: 765734, dtype: object"
      ]
     },
     "execution_count": 76,
     "metadata": {},
     "output_type": "execute_result"
    }
   ],
   "source": [
    "speaker1.nationality"
   ]
  },
  {
   "cell_type": "code",
   "execution_count": 78,
   "metadata": {},
   "outputs": [
    {
     "data": {
      "text/plain": [
       "[Text(0, 0, 'US'),\n",
       " Text(1, 0, 'UK'),\n",
       " Text(2, 0, 'AU'),\n",
       " Text(3, 0, 'CA'),\n",
       " Text(4, 0, 'NZ')]"
      ]
     },
     "execution_count": 78,
     "metadata": {},
     "output_type": "execute_result"
    },
    {
     "data": {
      "image/png": "[encoded data removed]",
      "text/plain": [
       "<Figure size 432x288 with 1 Axes>"
      ]
     },
     "metadata": {
      "needs_background": "light"
     },
     "output_type": "display_data"
    }
   ],
   "source": [
    "sns.countplot(data=speaker1, x=\"nationality\").set_xticklabels([\"US\", \"UK\", \"AU\", \"CA\", \"NZ\"])"
   ]
  },
  {
   "cell_type": "code",
   "execution_count": 80,
   "metadata": {},
   "outputs": [],
   "source": [
    "# compare speakers who are politicians(Q82955)\n",
    "\n",
    "speaker2 = speaker.explode(column=\"occupation\")"
   ]
  }
 ],
 "metadata": {
  "interpreter": {
   "hash": "46b84689cb548f68f6a115366ab840119ae8da21663c7212500feac9cf27ea20"
  },
  "kernelspec": {
   "display_name": "Python 3.8.8 64-bit ('base': conda)",
   "language": "python",
   "name": "python3"
  },
  "language_info": {
   "codemirror_mode": {
    "name": "ipython",
    "version": 3
   },
   "file_extension": ".py",
   "mimetype": "text/x-python",
   "name": "python",
   "nbconvert_exporter": "python",
   "pygments_lexer": "ipython3",
   "version": "3.8.8"
  },
  "orig_nbformat": 4
 },
 "nbformat": 4,
 "nbformat_minor": 2
}
