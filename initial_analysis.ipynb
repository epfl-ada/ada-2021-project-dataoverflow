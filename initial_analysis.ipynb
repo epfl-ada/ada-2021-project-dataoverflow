{
 "cells": [
  {
   "cell_type": "markdown",
   "metadata": {},
   "source": [
    "# Initial analysis\n",
    "\n",
    "In this notebook, we will do some initial analysis over the datasets `quotebank-china.json` and `speaker-attributes.parquet`, exploring them to get a feel of data.\n"
   ]
  },
  {
   "cell_type": "code",
   "execution_count": 3,
   "metadata": {},
   "outputs": [],
   "source": [
    "import numpy as np\n",
    "import pandas as pd\n",
    "import seaborn as sns\n",
    "import matplotlib.pyplot as plt\n",
    "from IPython.display import display, HTML"
   ]
  },
  {
   "cell_type": "markdown",
   "metadata": {},
   "source": [
    "---"
   ]
  },
  {
   "cell_type": "markdown",
   "metadata": {},
   "source": [
    "## quotebank-china\n",
    "\n",
    "`quotebank-china.json` is a derived dataset we extract from the article-centric datasets from 2008 to 2020. It contains all the articles discussing about China, each pairing with a list of quotations. The extraction process can be found in `data_extraction.py`."
   ]
  },
  {
   "cell_type": "code",
   "execution_count": 4,
   "metadata": {},
   "outputs": [
    {
     "data": {
      "text/html": [
       "<div>\n",
       "<style scoped>\n",
       "    .dataframe tbody tr th:only-of-type {\n",
       "        vertical-align: middle;\n",
       "    }\n",
       "\n",
       "    .dataframe tbody tr th {\n",
       "        vertical-align: top;\n",
       "    }\n",
       "\n",
       "    .dataframe thead th {\n",
       "        text-align: right;\n",
       "    }\n",
       "</style>\n",
       "<table border=\"1\" class=\"dataframe\">\n",
       "  <thead>\n",
       "    <tr style=\"text-align: right;\">\n",
       "      <th></th>\n",
       "      <th>articleID</th>\n",
       "      <th>quotations</th>\n",
       "      <th>date</th>\n",
       "      <th>phase</th>\n",
       "      <th>title</th>\n",
       "      <th>url</th>\n",
       "      <th>articleLength</th>\n",
       "      <th>names</th>\n",
       "    </tr>\n",
       "  </thead>\n",
       "  <tbody>\n",
       "    <tr>\n",
       "      <th>0</th>\n",
       "      <td>2020021902_00173921_W</td>\n",
       "      <td>[{'quotationOffset': 140, 'quoteID': '2020-02-...</td>\n",
       "      <td>2020-02-19 02:56:43</td>\n",
       "      <td>E</td>\n",
       "      <td>Coronavirus LIVE updates : Death toll in China...</td>\n",
       "      <td>http://indiatoday.intoday.in/world/story/coron...</td>\n",
       "      <td>162</td>\n",
       "      <td>[{'name': 'Antonio Guterres', 'ids': '[Q311440...</td>\n",
       "    </tr>\n",
       "    <tr>\n",
       "      <th>1</th>\n",
       "      <td>2020022222_00009094_W</td>\n",
       "      <td>[{'quotationOffset': 377, 'quoteID': '2020-02-...</td>\n",
       "      <td>2020-02-22 21:48:25</td>\n",
       "      <td>E</td>\n",
       "      <td>Serbia offers support to China in ` battle ' w...</td>\n",
       "      <td>http://www.expressnews.com/news/world/article/...</td>\n",
       "      <td>521</td>\n",
       "      <td>[{'name': 'Chen Bo', 'ids': '[Q16727971, Q4545...</td>\n",
       "    </tr>\n",
       "    <tr>\n",
       "      <th>2</th>\n",
       "      <td>2020022305_00042101_W</td>\n",
       "      <td>[{'quotationOffset': 155, 'quoteID': '2020-02-...</td>\n",
       "      <td>2020-02-23 05:28:44</td>\n",
       "      <td>E</td>\n",
       "      <td>Home News Rajasthan News Congress leader Kodik...</td>\n",
       "      <td>https://www.newkerala.com/news/2020/28896.htm</td>\n",
       "      <td>300</td>\n",
       "      <td>[{'name': 'Kodikunnil Suresh', 'ids': '[Q64253...</td>\n",
       "    </tr>\n",
       "    <tr>\n",
       "      <th>3</th>\n",
       "      <td>2020022406_00063331_W</td>\n",
       "      <td>[{'quotationOffset': 1128, 'quoteID': '2020-02...</td>\n",
       "      <td>2020-02-24 01:28:17</td>\n",
       "      <td>E</td>\n",
       "      <td>South Korean Cases Jump , China Counts 150 Mor...</td>\n",
       "      <td>https://www.nbcwashington.com/news/national-in...</td>\n",
       "      <td>1427</td>\n",
       "      <td>[{'name': 'Tedros Adhanom Ghebreyesus', 'ids':...</td>\n",
       "    </tr>\n",
       "    <tr>\n",
       "      <th>4</th>\n",
       "      <td>2020022513_00009502_W</td>\n",
       "      <td>[{'quotationOffset': 120, 'quoteID': '2020-02-...</td>\n",
       "      <td>2020-02-25 13:00:00</td>\n",
       "      <td>E</td>\n",
       "      <td>` The stakes are high ' : Australia urged to d...</td>\n",
       "      <td>http://watoday.com.au/politics/federal/the-sta...</td>\n",
       "      <td>373</td>\n",
       "      <td>[{'name': 'Tsai Ing-wen', 'ids': '[Q233984]', ...</td>\n",
       "    </tr>\n",
       "  </tbody>\n",
       "</table>\n",
       "</div>"
      ],
      "text/plain": [
       "               articleID                                         quotations  \\\n",
       "0  2020021902_00173921_W  [{'quotationOffset': 140, 'quoteID': '2020-02-...   \n",
       "1  2020022222_00009094_W  [{'quotationOffset': 377, 'quoteID': '2020-02-...   \n",
       "2  2020022305_00042101_W  [{'quotationOffset': 155, 'quoteID': '2020-02-...   \n",
       "3  2020022406_00063331_W  [{'quotationOffset': 1128, 'quoteID': '2020-02...   \n",
       "4  2020022513_00009502_W  [{'quotationOffset': 120, 'quoteID': '2020-02-...   \n",
       "\n",
       "                 date phase  \\\n",
       "0 2020-02-19 02:56:43     E   \n",
       "1 2020-02-22 21:48:25     E   \n",
       "2 2020-02-23 05:28:44     E   \n",
       "3 2020-02-24 01:28:17     E   \n",
       "4 2020-02-25 13:00:00     E   \n",
       "\n",
       "                                               title  \\\n",
       "0  Coronavirus LIVE updates : Death toll in China...   \n",
       "1  Serbia offers support to China in ` battle ' w...   \n",
       "2  Home News Rajasthan News Congress leader Kodik...   \n",
       "3  South Korean Cases Jump , China Counts 150 Mor...   \n",
       "4  ` The stakes are high ' : Australia urged to d...   \n",
       "\n",
       "                                                 url  articleLength  \\\n",
       "0  http://indiatoday.intoday.in/world/story/coron...            162   \n",
       "1  http://www.expressnews.com/news/world/article/...            521   \n",
       "2      https://www.newkerala.com/news/2020/28896.htm            300   \n",
       "3  https://www.nbcwashington.com/news/national-in...           1427   \n",
       "4  http://watoday.com.au/politics/federal/the-sta...            373   \n",
       "\n",
       "                                               names  \n",
       "0  [{'name': 'Antonio Guterres', 'ids': '[Q311440...  \n",
       "1  [{'name': 'Chen Bo', 'ids': '[Q16727971, Q4545...  \n",
       "2  [{'name': 'Kodikunnil Suresh', 'ids': '[Q64253...  \n",
       "3  [{'name': 'Tedros Adhanom Ghebreyesus', 'ids':...  \n",
       "4  [{'name': 'Tsai Ing-wen', 'ids': '[Q233984]', ...  "
      ]
     },
     "execution_count": 4,
     "metadata": {},
     "output_type": "execute_result"
    }
   ],
   "source": [
    "path_china_2020 = \"data/quotebank-china-2020.json.bz2\"\n",
    "china = pd.read_json(path_china_2020, lines=True)"
   ]
  },
  {
   "cell_type": "code",
   "execution_count": 18,
   "metadata": {},
   "outputs": [
    {
     "data": {
      "text/plain": [
       "(72373, 6)"
      ]
     },
     "execution_count": 18,
     "metadata": {},
     "output_type": "execute_result"
    }
   ],
   "source": [
    "china.shape"
   ]
  },
  {
   "cell_type": "code",
   "execution_count": 19,
   "metadata": {},
   "outputs": [
    {
     "data": {
      "text/html": [
       "<div>\n",
       "<style scoped>\n",
       "    .dataframe tbody tr th:only-of-type {\n",
       "        vertical-align: middle;\n",
       "    }\n",
       "\n",
       "    .dataframe tbody tr th {\n",
       "        vertical-align: top;\n",
       "    }\n",
       "\n",
       "    .dataframe thead th {\n",
       "        text-align: right;\n",
       "    }\n",
       "</style>\n",
       "<table border=\"1\" class=\"dataframe\">\n",
       "  <thead>\n",
       "    <tr style=\"text-align: right;\">\n",
       "      <th></th>\n",
       "      <th>articleID</th>\n",
       "      <th>quotations</th>\n",
       "      <th>date</th>\n",
       "      <th>title</th>\n",
       "      <th>articleLength</th>\n",
       "      <th>names</th>\n",
       "    </tr>\n",
       "  </thead>\n",
       "  <tbody>\n",
       "    <tr>\n",
       "      <th>0</th>\n",
       "      <td>2020021902_00173921_W</td>\n",
       "      <td>[{'quotationOffset': 140, 'quoteID': '2020-02-...</td>\n",
       "      <td>2020-02-19 02:56:43</td>\n",
       "      <td>Coronavirus LIVE updates : Death toll in China...</td>\n",
       "      <td>162</td>\n",
       "      <td>[{'name': 'Antonio Guterres', 'ids': '[Q311440...</td>\n",
       "    </tr>\n",
       "    <tr>\n",
       "      <th>1</th>\n",
       "      <td>2020022222_00009094_W</td>\n",
       "      <td>[{'quotationOffset': 377, 'quoteID': '2020-02-...</td>\n",
       "      <td>2020-02-22 21:48:25</td>\n",
       "      <td>Serbia offers support to China in ` battle ' w...</td>\n",
       "      <td>521</td>\n",
       "      <td>[{'name': 'Chen Bo', 'ids': '[Q16727971, Q4545...</td>\n",
       "    </tr>\n",
       "    <tr>\n",
       "      <th>3</th>\n",
       "      <td>2020022406_00063331_W</td>\n",
       "      <td>[{'quotationOffset': 1128, 'quoteID': '2020-02...</td>\n",
       "      <td>2020-02-24 01:28:17</td>\n",
       "      <td>South Korean Cases Jump , China Counts 150 Mor...</td>\n",
       "      <td>1427</td>\n",
       "      <td>[{'name': 'Tedros Adhanom Ghebreyesus', 'ids':...</td>\n",
       "    </tr>\n",
       "    <tr>\n",
       "      <th>4</th>\n",
       "      <td>2020022513_00009502_W</td>\n",
       "      <td>[{'quotationOffset': 120, 'quoteID': '2020-02-...</td>\n",
       "      <td>2020-02-25 13:00:00</td>\n",
       "      <td>` The stakes are high ' : Australia urged to d...</td>\n",
       "      <td>373</td>\n",
       "      <td>[{'name': 'Tsai Ing-wen', 'ids': '[Q233984]', ...</td>\n",
       "    </tr>\n",
       "    <tr>\n",
       "      <th>5</th>\n",
       "      <td>2020022706_00050254_W</td>\n",
       "      <td>[{'quotationOffset': 183, 'quoteID': '2020-02-...</td>\n",
       "      <td>2020-02-27 06:31:00</td>\n",
       "      <td>China , South Korea count 767 new virus cases ...</td>\n",
       "      <td>1017</td>\n",
       "      <td>[{'name': 'President Donald Trump', 'ids': '[Q...</td>\n",
       "    </tr>\n",
       "  </tbody>\n",
       "</table>\n",
       "</div>"
      ],
      "text/plain": [
       "               articleID                                         quotations  \\\n",
       "0  2020021902_00173921_W  [{'quotationOffset': 140, 'quoteID': '2020-02-...   \n",
       "1  2020022222_00009094_W  [{'quotationOffset': 377, 'quoteID': '2020-02-...   \n",
       "3  2020022406_00063331_W  [{'quotationOffset': 1128, 'quoteID': '2020-02...   \n",
       "4  2020022513_00009502_W  [{'quotationOffset': 120, 'quoteID': '2020-02-...   \n",
       "5  2020022706_00050254_W  [{'quotationOffset': 183, 'quoteID': '2020-02-...   \n",
       "\n",
       "                 date                                              title  \\\n",
       "0 2020-02-19 02:56:43  Coronavirus LIVE updates : Death toll in China...   \n",
       "1 2020-02-22 21:48:25  Serbia offers support to China in ` battle ' w...   \n",
       "3 2020-02-24 01:28:17  South Korean Cases Jump , China Counts 150 Mor...   \n",
       "4 2020-02-25 13:00:00  ` The stakes are high ' : Australia urged to d...   \n",
       "5 2020-02-27 06:31:00  China , South Korea count 767 new virus cases ...   \n",
       "\n",
       "   articleLength                                              names  \n",
       "0            162  [{'name': 'Antonio Guterres', 'ids': '[Q311440...  \n",
       "1            521  [{'name': 'Chen Bo', 'ids': '[Q16727971, Q4545...  \n",
       "3           1427  [{'name': 'Tedros Adhanom Ghebreyesus', 'ids':...  \n",
       "4            373  [{'name': 'Tsai Ing-wen', 'ids': '[Q233984]', ...  \n",
       "5           1017  [{'name': 'President Donald Trump', 'ids': '[Q...  "
      ]
     },
     "execution_count": 19,
     "metadata": {},
     "output_type": "execute_result"
    }
   ],
   "source": [
    "china.head(5)"
   ]
  },
  {
   "cell_type": "code",
   "execution_count": 5,
   "metadata": {},
   "outputs": [
    {
     "name": "stdout",
     "output_type": "stream",
     "text": [
      "Before checking duplicates, we have 76696 rows\n",
      "Checking dupliate...\n",
      "We have duplicated 0 rows\n"
     ]
    }
   ],
   "source": [
    "print(\"Before checking duplicates, we have %d rows\" % len(china))\n",
    "print(\"Checking dupliate...\\nWe have duplicated %d rows\"% china.articleID.duplicated().sum())"
   ]
  },
  {
   "cell_type": "code",
   "execution_count": 6,
   "metadata": {},
   "outputs": [
    {
     "name": "stdout",
     "output_type": "stream",
     "text": [
      "Checking different values of phase...\n"
     ]
    },
    {
     "data": {
      "text/plain": [
       "E    76696\n",
       "Name: phase, dtype: int64"
      ]
     },
     "execution_count": 6,
     "metadata": {},
     "output_type": "execute_result"
    }
   ],
   "source": [
    "print(\"Checking different values of phase...\")\n",
    "china.phase.value_counts()"
   ]
  },
  {
   "cell_type": "markdown",
   "metadata": {},
   "source": [
    "As we can see, all values of `phase` are `E`. Therefore, it's safe to drop this column considering its non-informativeness."
   ]
  },
  {
   "cell_type": "code",
   "execution_count": 7,
   "metadata": {},
   "outputs": [],
   "source": [
    "china = china.drop(columns=\"phase\")"
   ]
  },
  {
   "cell_type": "code",
   "execution_count": 8,
   "metadata": {},
   "outputs": [
    {
     "name": "stdout",
     "output_type": "stream",
     "text": [
      "Checking different values of title...\n"
     ]
    },
    {
     "data": {
      "text/plain": [
       "U.S. Says China Is No Longer a Currency Manipulator                                     238\n",
       "Government arranges to fly Britons back from China amid coronavirus fears               198\n",
       "China reports new cases , deaths as virus declared emergency                            120\n",
       "Cases of new viral respiratory illness rise sharply in China                            118\n",
       "US brings new charges against Chinese tech giant Huawei                                 117\n",
       "                                                                                       ... \n",
       "Chinese citizens barred from US-based cruise company as coronavirus rise continues        1\n",
       "GMB hit with 841 complaints after Piers Morgan mocks Chinese language                     1\n",
       "U.S. to review new curbs on Huawei , China in Feb meeting : sources                       1\n",
       "China Coronavirus Cases Increase As More Preventive Measures Taken CBS San Francisco      1\n",
       "Joanne Peh remains in China despite growing Wuhan concern                                 1\n",
       "Name: title, Length: 45444, dtype: int64"
      ]
     },
     "execution_count": 8,
     "metadata": {},
     "output_type": "execute_result"
    }
   ],
   "source": [
    "print(\"Checking different values of title...\")\n",
    "china.title.value_counts()"
   ]
  },
  {
   "cell_type": "markdown",
   "metadata": {},
   "source": [
    "Many titles seem to be used by several sources. A plausible reason could be that these articles are reprinted multiple times."
   ]
  },
  {
   "cell_type": "code",
   "execution_count": 9,
   "metadata": {},
   "outputs": [
    {
     "name": "stdout",
     "output_type": "stream",
     "text": [
      "Checking missing values...\n"
     ]
    },
    {
     "data": {
      "text/plain": [
       "articleID        0\n",
       "quotations       0\n",
       "date             0\n",
       "title            0\n",
       "url              0\n",
       "articleLength    0\n",
       "names            0\n",
       "dtype: int64"
      ]
     },
     "execution_count": 9,
     "metadata": {},
     "output_type": "execute_result"
    }
   ],
   "source": [
    "print(\"Checking missing values...\")\n",
    "china.isna().sum(axis=0)"
   ]
  },
  {
   "cell_type": "markdown",
   "metadata": {},
   "source": [
    "As we can see, there is no column with missing values."
   ]
  },
  {
   "cell_type": "code",
   "execution_count": 11,
   "metadata": {},
   "outputs": [
    {
     "name": "stdout",
     "output_type": "stream",
     "text": [
      "count    76696.000000\n",
      "mean         3.974940\n",
      "std          3.505573\n",
      "min          1.000000\n",
      "25%          2.000000\n",
      "50%          3.000000\n",
      "75%          5.000000\n",
      "max         73.000000\n",
      "Name: quotations, dtype: float64\n"
     ]
    },
    {
     "data": {
      "text/plain": [
       "<AxesSubplot:xlabel='quotations', ylabel='Count'>"
      ]
     },
     "execution_count": 11,
     "metadata": {},
     "output_type": "execute_result"
    },
    {
     "data": {
      "image/png": "[encoded data removed]",
      "text/plain": [
       "<Figure size 432x288 with 1 Axes>"
      ]
     },
     "metadata": {
      "needs_background": "light"
     },
     "output_type": "display_data"
    }
   ],
   "source": [
    "# count the number of quotations for each article\n",
    "numOfQuotations = china.quotations.apply(lambda x: len(x))\n",
    "\n",
    "# statistics of `numOfQuotations`\n",
    "print(numOfQuotations.describe())\n",
    "\n",
    "sns.histplot(data=numOfQuotations)"
   ]
  },
  {
   "cell_type": "code",
   "execution_count": 12,
   "metadata": {},
   "outputs": [
    {
     "name": "stdout",
     "output_type": "stream",
     "text": [
      "count     76696.000000\n",
      "mean        330.378533\n",
      "std        1562.650182\n",
      "min           5.000000\n",
      "25%          60.000000\n",
      "50%          73.000000\n",
      "75%          88.000000\n",
      "max      147418.000000\n",
      "Name: title, dtype: float64\n"
     ]
    },
    {
     "data": {
      "text/plain": [
       "<AxesSubplot:>"
      ]
     },
     "execution_count": 12,
     "metadata": {},
     "output_type": "execute_result"
    },
    {
     "data": {
      "image/png": "[encoded data removed]",
      "text/plain": [
       "<Figure size 432x288 with 1 Axes>"
      ]
     },
     "metadata": {
      "needs_background": "light"
     },
     "output_type": "display_data"
    }
   ],
   "source": [
    "# compute the length of title for each article\n",
    "titleLength = china.title.apply(lambda x : len(x))\n",
    "\n",
    "# statistics of `titleLength`\n",
    "print(titleLength.describe())\n",
    "\n",
    "sns.boxplot(data=titleLength)"
   ]
  },
  {
   "cell_type": "markdown",
   "metadata": {},
   "source": [
    "Obviously, most titles have fewer than 100 letters, while some are extremely long. \n",
    "\n",
    "- By checking the longest title, we find out that it is due to data collection issues. \n",
    "- For convenience, we treat these data as outliers and drop them.\n",
    "- A significant dividing line for removing outliers is around 160, but we use 200."
   ]
  },
  {
   "cell_type": "code",
   "execution_count": 13,
   "metadata": {},
   "outputs": [
    {
     "name": "stdout",
     "output_type": "stream",
     "text": [
      "articleID                                    2020020913_00008796_W\n",
      "quotations       [{'quotationOffset': 3002, 'quoteID': '2013-11...\n",
      "date                                           2020-02-09 13:01:25\n",
      "title            By illconsidered on November 11 , 2013 . This ...\n",
      "url              http://scienceblogs.com/illconsidered/2013/11/...\n",
      "articleLength                                                 6325\n",
      "names            [{'name': 'E. Taylor', 'ids': '[Q58348465]', '...\n",
      "Name: 34025, dtype: object\n",
      "TitleLength at 0.95: 1952\n",
      "TitleLenght at 0.94: 159\n"
     ]
    }
   ],
   "source": [
    "# find the article with the longest title\n",
    "print(china.loc[titleLength.argmax()])\n",
    "\n",
    "# find the dividing line for removing outliers\n",
    "print(\"TitleLength at 0.95: %d\" % titleLength.quantile(0.95))\n",
    "print(\"TitleLenght at 0.94: %d\" % titleLength.quantile(0.94))\n",
    "\n",
    "# drop outliers\n",
    "china = china.loc[titleLength < 200]"
   ]
  },
  {
   "cell_type": "markdown",
   "metadata": {},
   "source": [
    "We check urls given in the dataset, and realize that they are unreliable. \n",
    "- Some urls point to online articles that don't match those given in the dataset. It could be that websites updated these page after they were crawled. \n",
    "- Since our project doesn't rely on the information of urls and press media, we decide to drop `url`."
   ]
  },
  {
   "cell_type": "code",
   "execution_count": 14,
   "metadata": {},
   "outputs": [],
   "source": [
    "# drop url\n",
    "china = china.drop(columns=[\"url\"])"
   ]
  },
  {
   "cell_type": "code",
   "execution_count": 20,
   "metadata": {},
   "outputs": [
    {
     "data": {
      "text/plain": [
       "1     19034\n",
       "2     16321\n",
       "3     12971\n",
       "4      8202\n",
       "5      5622\n",
       "6      3721\n",
       "7      2069\n",
       "8      1157\n",
       "9       723\n",
       "11      555\n",
       "10      522\n",
       "12      267\n",
       "13      189\n",
       "14      128\n",
       "16      128\n",
       "15      116\n",
       "18       78\n",
       "17       66\n",
       "20       63\n",
       "19       54\n",
       "22       39\n",
       "23       39\n",
       "25       39\n",
       "21       39\n",
       "28       32\n",
       "27       29\n",
       "24       21\n",
       "33       19\n",
       "30       18\n",
       "26       17\n",
       "29       17\n",
       "31       11\n",
       "32       10\n",
       "34        8\n",
       "43        6\n",
       "36        5\n",
       "39        5\n",
       "35        4\n",
       "40        3\n",
       "61        3\n",
       "46        2\n",
       "45        2\n",
       "42        2\n",
       "38        2\n",
       "62        2\n",
       "37        2\n",
       "72        2\n",
       "67        2\n",
       "65        2\n",
       "78        1\n",
       "70        1\n",
       "68        1\n",
       "52        1\n",
       "64        1\n",
       "Name: names, dtype: int64"
      ]
     },
     "execution_count": 20,
     "metadata": {},
     "output_type": "execute_result"
    }
   ],
   "source": [
    "# check numbers of names (possible speakers) mentioned\n",
    "numOfNames = china.names.apply(lambda x: len(x))\n",
    "numOfNames.value_counts()"
   ]
  },
  {
   "cell_type": "code",
   "execution_count": 26,
   "metadata": {},
   "outputs": [
    {
     "data": {
      "text/plain": [
       "[Text(0.5, 0, 'date of first four months in 2020'),\n",
       " Text(0, 0.5, 'num of articles mentioning china')]"
      ]
     },
     "execution_count": 26,
     "metadata": {},
     "output_type": "execute_result"
    },
    {
     "data": {
      "image/png": "[encoded data removed]",
      "text/plain": [
       "<Figure size 432x288 with 1 Axes>"
      ]
     },
     "metadata": {
      "needs_background": "light"
     },
     "output_type": "display_data"
    }
   ],
   "source": [
    "# check the number of articles discussing china over time for the first four months in 2020\n",
    "sns.histplot(data=china.date.dt.date).set(xlabel=\"date of first four months in 2020\", ylabel=\"num of articles mentioning china\")"
   ]
  },
  {
   "cell_type": "markdown",
   "metadata": {},
   "source": [
    "We can see a peak around Feburaray, when Covid-19 outbreak in China caught attention."
   ]
  },
  {
   "cell_type": "markdown",
   "metadata": {},
   "source": [
    "---\n",
    "\n",
    "## speaker-attributes\n"
   ]
  },
  {
   "cell_type": "code",
   "execution_count": 29,
   "metadata": {},
   "outputs": [],
   "source": [
    "speaker_path = \"data/speaker_attributes.parquet\"\n",
    "speaker = pd.read_parquet(speaker_path)"
   ]
  },
  {
   "cell_type": "code",
   "execution_count": 28,
   "metadata": {},
   "outputs": [
    {
     "data": {
      "text/plain": [
       "(9055981, 15)"
      ]
     },
     "execution_count": 28,
     "metadata": {},
     "output_type": "execute_result"
    }
   ],
   "source": [
    "speaker.shape"
   ]
  },
  {
   "cell_type": "code",
   "execution_count": 30,
   "metadata": {},
   "outputs": [
    {
     "data": {
      "text/html": [
       "<div>\n",
       "<style scoped>\n",
       "    .dataframe tbody tr th:only-of-type {\n",
       "        vertical-align: middle;\n",
       "    }\n",
       "\n",
       "    .dataframe tbody tr th {\n",
       "        vertical-align: top;\n",
       "    }\n",
       "\n",
       "    .dataframe thead th {\n",
       "        text-align: right;\n",
       "    }\n",
       "</style>\n",
       "<table border=\"1\" class=\"dataframe\">\n",
       "  <thead>\n",
       "    <tr style=\"text-align: right;\">\n",
       "      <th></th>\n",
       "      <th>aliases</th>\n",
       "      <th>date_of_birth</th>\n",
       "      <th>nationality</th>\n",
       "      <th>gender</th>\n",
       "      <th>lastrevid</th>\n",
       "      <th>ethnic_group</th>\n",
       "      <th>US_congress_bio_ID</th>\n",
       "      <th>occupation</th>\n",
       "      <th>party</th>\n",
       "      <th>academic_degree</th>\n",
       "      <th>id</th>\n",
       "      <th>label</th>\n",
       "      <th>candidacy</th>\n",
       "      <th>type</th>\n",
       "      <th>religion</th>\n",
       "    </tr>\n",
       "  </thead>\n",
       "  <tbody>\n",
       "    <tr>\n",
       "      <th>0</th>\n",
       "      <td>[Washington, President Washington, G. Washingt...</td>\n",
       "      <td>[+1732-02-22T00:00:00Z]</td>\n",
       "      <td>[Q161885, Q30]</td>\n",
       "      <td>[Q6581097]</td>\n",
       "      <td>1395141751</td>\n",
       "      <td>None</td>\n",
       "      <td>W000178</td>\n",
       "      <td>[Q82955, Q189290, Q131512, Q1734662, Q294126, ...</td>\n",
       "      <td>[Q327591]</td>\n",
       "      <td>None</td>\n",
       "      <td>Q23</td>\n",
       "      <td>George Washington</td>\n",
       "      <td>[Q698073, Q697949]</td>\n",
       "      <td>item</td>\n",
       "      <td>[Q682443]</td>\n",
       "    </tr>\n",
       "    <tr>\n",
       "      <th>1</th>\n",
       "      <td>[Douglas Noel Adams, Douglas Noël Adams, Dougl...</td>\n",
       "      <td>[+1952-03-11T00:00:00Z]</td>\n",
       "      <td>[Q145]</td>\n",
       "      <td>[Q6581097]</td>\n",
       "      <td>1395737157</td>\n",
       "      <td>[Q7994501]</td>\n",
       "      <td>None</td>\n",
       "      <td>[Q214917, Q28389, Q6625963, Q4853732, Q1884422...</td>\n",
       "      <td>None</td>\n",
       "      <td>None</td>\n",
       "      <td>Q42</td>\n",
       "      <td>Douglas Adams</td>\n",
       "      <td>None</td>\n",
       "      <td>item</td>\n",
       "      <td>None</td>\n",
       "    </tr>\n",
       "    <tr>\n",
       "      <th>2</th>\n",
       "      <td>[Paul Marie Ghislain Otlet, Paul Marie Otlet]</td>\n",
       "      <td>[+1868-08-23T00:00:00Z]</td>\n",
       "      <td>[Q31]</td>\n",
       "      <td>[Q6581097]</td>\n",
       "      <td>1380367296</td>\n",
       "      <td>None</td>\n",
       "      <td>None</td>\n",
       "      <td>[Q36180, Q40348, Q182436, Q1265807, Q205375, Q...</td>\n",
       "      <td>None</td>\n",
       "      <td>None</td>\n",
       "      <td>Q1868</td>\n",
       "      <td>Paul Otlet</td>\n",
       "      <td>None</td>\n",
       "      <td>item</td>\n",
       "      <td>None</td>\n",
       "    </tr>\n",
       "    <tr>\n",
       "      <th>3</th>\n",
       "      <td>[George Walker Bush, Bush Jr., Dubya, GWB, Bus...</td>\n",
       "      <td>[+1946-07-06T00:00:00Z]</td>\n",
       "      <td>[Q30]</td>\n",
       "      <td>[Q6581097]</td>\n",
       "      <td>1395142029</td>\n",
       "      <td>None</td>\n",
       "      <td>None</td>\n",
       "      <td>[Q82955, Q15982858, Q18814623, Q1028181, Q1408...</td>\n",
       "      <td>[Q29468]</td>\n",
       "      <td>None</td>\n",
       "      <td>Q207</td>\n",
       "      <td>George W. Bush</td>\n",
       "      <td>[Q327959, Q464075, Q3586276, Q4450587]</td>\n",
       "      <td>item</td>\n",
       "      <td>[Q329646, Q682443, Q33203]</td>\n",
       "    </tr>\n",
       "    <tr>\n",
       "      <th>4</th>\n",
       "      <td>[Velázquez, Diego Rodríguez de Silva y Velázqu...</td>\n",
       "      <td>[+1599-06-06T00:00:00Z]</td>\n",
       "      <td>[Q29]</td>\n",
       "      <td>[Q6581097]</td>\n",
       "      <td>1391704596</td>\n",
       "      <td>None</td>\n",
       "      <td>None</td>\n",
       "      <td>[Q1028181]</td>\n",
       "      <td>None</td>\n",
       "      <td>None</td>\n",
       "      <td>Q297</td>\n",
       "      <td>Diego Velázquez</td>\n",
       "      <td>None</td>\n",
       "      <td>item</td>\n",
       "      <td>None</td>\n",
       "    </tr>\n",
       "  </tbody>\n",
       "</table>\n",
       "</div>"
      ],
      "text/plain": [
       "                                             aliases            date_of_birth  \\\n",
       "0  [Washington, President Washington, G. Washingt...  [+1732-02-22T00:00:00Z]   \n",
       "1  [Douglas Noel Adams, Douglas Noël Adams, Dougl...  [+1952-03-11T00:00:00Z]   \n",
       "2      [Paul Marie Ghislain Otlet, Paul Marie Otlet]  [+1868-08-23T00:00:00Z]   \n",
       "3  [George Walker Bush, Bush Jr., Dubya, GWB, Bus...  [+1946-07-06T00:00:00Z]   \n",
       "4  [Velázquez, Diego Rodríguez de Silva y Velázqu...  [+1599-06-06T00:00:00Z]   \n",
       "\n",
       "      nationality      gender   lastrevid ethnic_group US_congress_bio_ID  \\\n",
       "0  [Q161885, Q30]  [Q6581097]  1395141751         None            W000178   \n",
       "1          [Q145]  [Q6581097]  1395737157   [Q7994501]               None   \n",
       "2           [Q31]  [Q6581097]  1380367296         None               None   \n",
       "3           [Q30]  [Q6581097]  1395142029         None               None   \n",
       "4           [Q29]  [Q6581097]  1391704596         None               None   \n",
       "\n",
       "                                          occupation      party  \\\n",
       "0  [Q82955, Q189290, Q131512, Q1734662, Q294126, ...  [Q327591]   \n",
       "1  [Q214917, Q28389, Q6625963, Q4853732, Q1884422...       None   \n",
       "2  [Q36180, Q40348, Q182436, Q1265807, Q205375, Q...       None   \n",
       "3  [Q82955, Q15982858, Q18814623, Q1028181, Q1408...   [Q29468]   \n",
       "4                                         [Q1028181]       None   \n",
       "\n",
       "  academic_degree     id              label  \\\n",
       "0            None    Q23  George Washington   \n",
       "1            None    Q42      Douglas Adams   \n",
       "2            None  Q1868         Paul Otlet   \n",
       "3            None   Q207     George W. Bush   \n",
       "4            None   Q297    Diego Velázquez   \n",
       "\n",
       "                                candidacy  type                    religion  \n",
       "0                      [Q698073, Q697949]  item                   [Q682443]  \n",
       "1                                    None  item                        None  \n",
       "2                                    None  item                        None  \n",
       "3  [Q327959, Q464075, Q3586276, Q4450587]  item  [Q329646, Q682443, Q33203]  \n",
       "4                                    None  item                        None  "
      ]
     },
     "execution_count": 30,
     "metadata": {},
     "output_type": "execute_result"
    }
   ],
   "source": [
    "speaker.head(5)"
   ]
  },
  {
   "cell_type": "code",
   "execution_count": 32,
   "metadata": {},
   "outputs": [
    {
     "data": {
      "text/html": [
       "<div>\n",
       "<style scoped>\n",
       "    .dataframe tbody tr th:only-of-type {\n",
       "        vertical-align: middle;\n",
       "    }\n",
       "\n",
       "    .dataframe tbody tr th {\n",
       "        vertical-align: top;\n",
       "    }\n",
       "\n",
       "    .dataframe thead th {\n",
       "        text-align: right;\n",
       "    }\n",
       "</style>\n",
       "<table border=\"1\" class=\"dataframe\">\n",
       "  <thead>\n",
       "    <tr style=\"text-align: right;\">\n",
       "      <th></th>\n",
       "      <th>aliases</th>\n",
       "      <th>date_of_birth</th>\n",
       "      <th>nationality</th>\n",
       "      <th>gender</th>\n",
       "      <th>lastrevid</th>\n",
       "      <th>ethnic_group</th>\n",
       "      <th>US_congress_bio_ID</th>\n",
       "      <th>occupation</th>\n",
       "      <th>party</th>\n",
       "      <th>academic_degree</th>\n",
       "      <th>id</th>\n",
       "      <th>label</th>\n",
       "      <th>candidacy</th>\n",
       "      <th>type</th>\n",
       "      <th>religion</th>\n",
       "    </tr>\n",
       "  </thead>\n",
       "  <tbody>\n",
       "    <tr>\n",
       "      <th>0</th>\n",
       "      <td>[Washington, President Washington, G. Washingt...</td>\n",
       "      <td>[+1732-02-22T00:00:00Z]</td>\n",
       "      <td>[Q161885, Q30]</td>\n",
       "      <td>[Q6581097]</td>\n",
       "      <td>1395141751</td>\n",
       "      <td>None</td>\n",
       "      <td>W000178</td>\n",
       "      <td>[Q82955, Q189290, Q131512, Q1734662, Q294126, ...</td>\n",
       "      <td>[Q327591]</td>\n",
       "      <td>None</td>\n",
       "      <td>Q23</td>\n",
       "      <td>George Washington</td>\n",
       "      <td>[Q698073, Q697949]</td>\n",
       "      <td>item</td>\n",
       "      <td>[Q682443]</td>\n",
       "    </tr>\n",
       "    <tr>\n",
       "      <th>1</th>\n",
       "      <td>[Douglas Noel Adams, Douglas Noël Adams, Dougl...</td>\n",
       "      <td>[+1952-03-11T00:00:00Z]</td>\n",
       "      <td>[Q145]</td>\n",
       "      <td>[Q6581097]</td>\n",
       "      <td>1395737157</td>\n",
       "      <td>[Q7994501]</td>\n",
       "      <td>None</td>\n",
       "      <td>[Q214917, Q28389, Q6625963, Q4853732, Q1884422...</td>\n",
       "      <td>None</td>\n",
       "      <td>None</td>\n",
       "      <td>Q42</td>\n",
       "      <td>Douglas Adams</td>\n",
       "      <td>None</td>\n",
       "      <td>item</td>\n",
       "      <td>None</td>\n",
       "    </tr>\n",
       "    <tr>\n",
       "      <th>2</th>\n",
       "      <td>[Paul Marie Ghislain Otlet, Paul Marie Otlet]</td>\n",
       "      <td>[+1868-08-23T00:00:00Z]</td>\n",
       "      <td>[Q31]</td>\n",
       "      <td>[Q6581097]</td>\n",
       "      <td>1380367296</td>\n",
       "      <td>None</td>\n",
       "      <td>None</td>\n",
       "      <td>[Q36180, Q40348, Q182436, Q1265807, Q205375, Q...</td>\n",
       "      <td>None</td>\n",
       "      <td>None</td>\n",
       "      <td>Q1868</td>\n",
       "      <td>Paul Otlet</td>\n",
       "      <td>None</td>\n",
       "      <td>item</td>\n",
       "      <td>None</td>\n",
       "    </tr>\n",
       "    <tr>\n",
       "      <th>3</th>\n",
       "      <td>[George Walker Bush, Bush Jr., Dubya, GWB, Bus...</td>\n",
       "      <td>[+1946-07-06T00:00:00Z]</td>\n",
       "      <td>[Q30]</td>\n",
       "      <td>[Q6581097]</td>\n",
       "      <td>1395142029</td>\n",
       "      <td>None</td>\n",
       "      <td>None</td>\n",
       "      <td>[Q82955, Q15982858, Q18814623, Q1028181, Q1408...</td>\n",
       "      <td>[Q29468]</td>\n",
       "      <td>None</td>\n",
       "      <td>Q207</td>\n",
       "      <td>George W. Bush</td>\n",
       "      <td>[Q327959, Q464075, Q3586276, Q4450587]</td>\n",
       "      <td>item</td>\n",
       "      <td>[Q329646, Q682443, Q33203]</td>\n",
       "    </tr>\n",
       "    <tr>\n",
       "      <th>4</th>\n",
       "      <td>[Velázquez, Diego Rodríguez de Silva y Velázqu...</td>\n",
       "      <td>[+1599-06-06T00:00:00Z]</td>\n",
       "      <td>[Q29]</td>\n",
       "      <td>[Q6581097]</td>\n",
       "      <td>1391704596</td>\n",
       "      <td>None</td>\n",
       "      <td>None</td>\n",
       "      <td>[Q1028181]</td>\n",
       "      <td>None</td>\n",
       "      <td>None</td>\n",
       "      <td>Q297</td>\n",
       "      <td>Diego Velázquez</td>\n",
       "      <td>None</td>\n",
       "      <td>item</td>\n",
       "      <td>None</td>\n",
       "    </tr>\n",
       "    <tr>\n",
       "      <th>...</th>\n",
       "      <td>...</td>\n",
       "      <td>...</td>\n",
       "      <td>...</td>\n",
       "      <td>...</td>\n",
       "      <td>...</td>\n",
       "      <td>...</td>\n",
       "      <td>...</td>\n",
       "      <td>...</td>\n",
       "      <td>...</td>\n",
       "      <td>...</td>\n",
       "      <td>...</td>\n",
       "      <td>...</td>\n",
       "      <td>...</td>\n",
       "      <td>...</td>\n",
       "      <td>...</td>\n",
       "    </tr>\n",
       "    <tr>\n",
       "      <th>9055976</th>\n",
       "      <td>[Barker Howard]</td>\n",
       "      <td>None</td>\n",
       "      <td>[Q30]</td>\n",
       "      <td>[Q6581097]</td>\n",
       "      <td>1397399351</td>\n",
       "      <td>None</td>\n",
       "      <td>None</td>\n",
       "      <td>[Q82955]</td>\n",
       "      <td>None</td>\n",
       "      <td>None</td>\n",
       "      <td>Q106406560</td>\n",
       "      <td>Barker B. Howard</td>\n",
       "      <td>None</td>\n",
       "      <td>item</td>\n",
       "      <td>None</td>\n",
       "    </tr>\n",
       "    <tr>\n",
       "      <th>9055977</th>\n",
       "      <td>[Charles Macomber]</td>\n",
       "      <td>None</td>\n",
       "      <td>[Q30]</td>\n",
       "      <td>[Q6581097]</td>\n",
       "      <td>1397399471</td>\n",
       "      <td>None</td>\n",
       "      <td>None</td>\n",
       "      <td>[Q82955]</td>\n",
       "      <td>None</td>\n",
       "      <td>None</td>\n",
       "      <td>Q106406571</td>\n",
       "      <td>Charles H. Macomber</td>\n",
       "      <td>None</td>\n",
       "      <td>item</td>\n",
       "      <td>None</td>\n",
       "    </tr>\n",
       "    <tr>\n",
       "      <th>9055978</th>\n",
       "      <td>None</td>\n",
       "      <td>[+1848-04-01T00:00:00Z]</td>\n",
       "      <td>None</td>\n",
       "      <td>[Q6581072]</td>\n",
       "      <td>1397399751</td>\n",
       "      <td>None</td>\n",
       "      <td>None</td>\n",
       "      <td>None</td>\n",
       "      <td>None</td>\n",
       "      <td>None</td>\n",
       "      <td>Q106406588</td>\n",
       "      <td>Dina David</td>\n",
       "      <td>None</td>\n",
       "      <td>item</td>\n",
       "      <td>None</td>\n",
       "    </tr>\n",
       "    <tr>\n",
       "      <th>9055979</th>\n",
       "      <td>None</td>\n",
       "      <td>[+1899-03-18T00:00:00Z]</td>\n",
       "      <td>None</td>\n",
       "      <td>[Q6581072]</td>\n",
       "      <td>1397399799</td>\n",
       "      <td>None</td>\n",
       "      <td>None</td>\n",
       "      <td>None</td>\n",
       "      <td>None</td>\n",
       "      <td>None</td>\n",
       "      <td>Q106406593</td>\n",
       "      <td>Irma Dexinger</td>\n",
       "      <td>None</td>\n",
       "      <td>item</td>\n",
       "      <td>None</td>\n",
       "    </tr>\n",
       "    <tr>\n",
       "      <th>9055980</th>\n",
       "      <td>[Fred Trull]</td>\n",
       "      <td>None</td>\n",
       "      <td>[Q30]</td>\n",
       "      <td>[Q6581097]</td>\n",
       "      <td>1397400809</td>\n",
       "      <td>None</td>\n",
       "      <td>None</td>\n",
       "      <td>[Q82955]</td>\n",
       "      <td>None</td>\n",
       "      <td>None</td>\n",
       "      <td>Q106406643</td>\n",
       "      <td>Fred F. Trull</td>\n",
       "      <td>None</td>\n",
       "      <td>item</td>\n",
       "      <td>None</td>\n",
       "    </tr>\n",
       "  </tbody>\n",
       "</table>\n",
       "<p>9055981 rows × 15 columns</p>\n",
       "</div>"
      ],
      "text/plain": [
       "                                                   aliases  \\\n",
       "0        [Washington, President Washington, G. Washingt...   \n",
       "1        [Douglas Noel Adams, Douglas Noël Adams, Dougl...   \n",
       "2            [Paul Marie Ghislain Otlet, Paul Marie Otlet]   \n",
       "3        [George Walker Bush, Bush Jr., Dubya, GWB, Bus...   \n",
       "4        [Velázquez, Diego Rodríguez de Silva y Velázqu...   \n",
       "...                                                    ...   \n",
       "9055976                                    [Barker Howard]   \n",
       "9055977                                 [Charles Macomber]   \n",
       "9055978                                               None   \n",
       "9055979                                               None   \n",
       "9055980                                       [Fred Trull]   \n",
       "\n",
       "                   date_of_birth     nationality      gender   lastrevid  \\\n",
       "0        [+1732-02-22T00:00:00Z]  [Q161885, Q30]  [Q6581097]  1395141751   \n",
       "1        [+1952-03-11T00:00:00Z]          [Q145]  [Q6581097]  1395737157   \n",
       "2        [+1868-08-23T00:00:00Z]           [Q31]  [Q6581097]  1380367296   \n",
       "3        [+1946-07-06T00:00:00Z]           [Q30]  [Q6581097]  1395142029   \n",
       "4        [+1599-06-06T00:00:00Z]           [Q29]  [Q6581097]  1391704596   \n",
       "...                          ...             ...         ...         ...   \n",
       "9055976                     None           [Q30]  [Q6581097]  1397399351   \n",
       "9055977                     None           [Q30]  [Q6581097]  1397399471   \n",
       "9055978  [+1848-04-01T00:00:00Z]            None  [Q6581072]  1397399751   \n",
       "9055979  [+1899-03-18T00:00:00Z]            None  [Q6581072]  1397399799   \n",
       "9055980                     None           [Q30]  [Q6581097]  1397400809   \n",
       "\n",
       "        ethnic_group US_congress_bio_ID  \\\n",
       "0               None            W000178   \n",
       "1         [Q7994501]               None   \n",
       "2               None               None   \n",
       "3               None               None   \n",
       "4               None               None   \n",
       "...              ...                ...   \n",
       "9055976         None               None   \n",
       "9055977         None               None   \n",
       "9055978         None               None   \n",
       "9055979         None               None   \n",
       "9055980         None               None   \n",
       "\n",
       "                                                occupation      party  \\\n",
       "0        [Q82955, Q189290, Q131512, Q1734662, Q294126, ...  [Q327591]   \n",
       "1        [Q214917, Q28389, Q6625963, Q4853732, Q1884422...       None   \n",
       "2        [Q36180, Q40348, Q182436, Q1265807, Q205375, Q...       None   \n",
       "3        [Q82955, Q15982858, Q18814623, Q1028181, Q1408...   [Q29468]   \n",
       "4                                               [Q1028181]       None   \n",
       "...                                                    ...        ...   \n",
       "9055976                                           [Q82955]       None   \n",
       "9055977                                           [Q82955]       None   \n",
       "9055978                                               None       None   \n",
       "9055979                                               None       None   \n",
       "9055980                                           [Q82955]       None   \n",
       "\n",
       "        academic_degree          id                label  \\\n",
       "0                  None         Q23    George Washington   \n",
       "1                  None         Q42        Douglas Adams   \n",
       "2                  None       Q1868           Paul Otlet   \n",
       "3                  None        Q207       George W. Bush   \n",
       "4                  None        Q297      Diego Velázquez   \n",
       "...                 ...         ...                  ...   \n",
       "9055976            None  Q106406560     Barker B. Howard   \n",
       "9055977            None  Q106406571  Charles H. Macomber   \n",
       "9055978            None  Q106406588           Dina David   \n",
       "9055979            None  Q106406593        Irma Dexinger   \n",
       "9055980            None  Q106406643        Fred F. Trull   \n",
       "\n",
       "                                      candidacy  type  \\\n",
       "0                            [Q698073, Q697949]  item   \n",
       "1                                          None  item   \n",
       "2                                          None  item   \n",
       "3        [Q327959, Q464075, Q3586276, Q4450587]  item   \n",
       "4                                          None  item   \n",
       "...                                         ...   ...   \n",
       "9055976                                    None  item   \n",
       "9055977                                    None  item   \n",
       "9055978                                    None  item   \n",
       "9055979                                    None  item   \n",
       "9055980                                    None  item   \n",
       "\n",
       "                           religion  \n",
       "0                         [Q682443]  \n",
       "1                              None  \n",
       "2                              None  \n",
       "3        [Q329646, Q682443, Q33203]  \n",
       "4                              None  \n",
       "...                             ...  \n",
       "9055976                        None  \n",
       "9055977                        None  \n",
       "9055978                        None  \n",
       "9055979                        None  \n",
       "9055980                        None  \n",
       "\n",
       "[9055981 rows x 15 columns]"
      ]
     },
     "execution_count": 32,
     "metadata": {},
     "output_type": "execute_result"
    }
   ],
   "source": [
    "speaker = speaker.drop_duplicates(subset=\"id\")"
   ]
  },
  {
   "cell_type": "code",
   "execution_count": 36,
   "metadata": {},
   "outputs": [
    {
     "name": "stdout",
     "output_type": "stream",
     "text": [
      "item    9055981\n",
      "Name: type, dtype: int64\n"
     ]
    }
   ],
   "source": [
    "# check different values of `type``\n",
    "print(speaker.type.value_counts())\n",
    "\n",
    "# drop `item` since it is less informative\n",
    "speaker = speaker.drop(columns=\"type\")"
   ]
  },
  {
   "cell_type": "code",
   "execution_count": 41,
   "metadata": {},
   "outputs": [],
   "source": [
    "speaker.date_of_birth = speaker.date_of_birth.apply(lambda x: x[0] if x is not None else None)\n",
    "speaker.gender = speaker.gender.apply(lambda x: x[0] if x is not None else None)\n",
    "speaker.party = speaker.party.apply(lambda x: x[0] if x is not None else None)"
   ]
  },
  {
   "cell_type": "code",
   "execution_count": 79,
   "metadata": {},
   "outputs": [
    {
     "data": {
      "text/plain": [
       "[Text(0, 0, 'male'), Text(1, 0, 'female')]"
      ]
     },
     "execution_count": 79,
     "metadata": {},
     "output_type": "execute_result"
    },
    {
     "data": {
      "image/png": "[encoded data removed]",
      "text/plain": [
       "<Figure size 432x288 with 1 Axes>"
      ]
     },
     "metadata": {
      "needs_background": "light"
     },
     "output_type": "display_data"
    }
   ],
   "source": [
    "# compare male(Q6581097) and female(Q6581072) speakers\n",
    "gender_speaker = speaker[(speaker.gender == \"Q6581097\") | (speaker.gender == \"Q6581072\")]\n",
    "sns.countplot(data=gender_speaker, x=\"gender\").set_xticklabels([\"male\", \"female\"])\n",
    "\n"
   ]
  },
  {
   "cell_type": "code",
   "execution_count": 75,
   "metadata": {},
   "outputs": [],
   "source": [
    "# compare speakers from US(Q30), UK(Q145), AU(Q408), CA(Q16), NZ(Q664)\n",
    "\n",
    "nations=['Q30','Q145','Q408','Q16','Q664']\n",
    "speaker1=speaker.explode(column=\"nationality\")\n",
    "speaker1=speaker1[speaker1['nationality'].isin(nations)]"
   ]
  },
  {
   "cell_type": "code",
   "execution_count": 76,
   "metadata": {},
   "outputs": [
    {
     "data": {
      "text/plain": [
       "0           Q30\n",
       "1          Q145\n",
       "3           Q30\n",
       "8           Q16\n",
       "8           Q30\n",
       "           ... \n",
       "9055974     Q30\n",
       "9055975     Q30\n",
       "9055976     Q30\n",
       "9055977     Q30\n",
       "9055980     Q30\n",
       "Name: nationality, Length: 765734, dtype: object"
      ]
     },
     "execution_count": 76,
     "metadata": {},
     "output_type": "execute_result"
    }
   ],
   "source": [
    "speaker1.nationality"
   ]
  },
  {
   "cell_type": "code",
   "execution_count": 78,
   "metadata": {},
   "outputs": [
    {
     "data": {
      "text/plain": [
       "[Text(0, 0, 'US'),\n",
       " Text(1, 0, 'UK'),\n",
       " Text(2, 0, 'AU'),\n",
       " Text(3, 0, 'CA'),\n",
       " Text(4, 0, 'NZ')]"
      ]
     },
     "execution_count": 78,
     "metadata": {},
     "output_type": "execute_result"
    },
    {
     "data": {
      "image/png": "[encoded data removed]",
      "text/plain": [
       "<Figure size 432x288 with 1 Axes>"
      ]
     },
     "metadata": {
      "needs_background": "light"
     },
     "output_type": "display_data"
    }
   ],
   "source": [
    "sns.countplot(data=speaker1, x=\"nationality\").set_xticklabels([\"US\", \"UK\", \"AU\", \"CA\", \"NZ\"])"
   ]
  },
  {
   "cell_type": "code",
   "execution_count": 80,
   "metadata": {},
   "outputs": [],
   "source": [
    "# compare speakers who are politicians(Q82955)\n",
    "\n",
    "speaker2 = speaker.explode(column=\"occupation\")"
   ]
  }
 ],
 "metadata": {
  "interpreter": {
   "hash": "46b84689cb548f68f6a115366ab840119ae8da21663c7212500feac9cf27ea20"
  },
  "kernelspec": {
   "display_name": "Python 3.8.8 64-bit ('base': conda)",
   "language": "python",
   "name": "python3"
  },
  "language_info": {
   "codemirror_mode": {
    "name": "ipython",
    "version": 3
   },
   "file_extension": ".py",
   "mimetype": "text/x-python",
   "name": "python",
   "nbconvert_exporter": "python",
   "pygments_lexer": "ipython3",
   "version": "3.8.8"
  },
  "orig_nbformat": 4
 },
 "nbformat": 4,
 "nbformat_minor": 2
}
